{
 "cells": [
  {
   "cell_type": "code",
   "execution_count": 2,
   "id": "e4a064d3",
   "metadata": {},
   "outputs": [],
   "source": [
    "import os\n",
    "from dotenv import load_dotenv\n",
    "\n",
    "from langchain_openai import ChatOpenAI\n",
    "from langgraph.prebuilt import create_react_agent\n",
    "from langchain_core.tools import tool\n",
    "\n",
    "from langchain_community.document_loaders.pdf import PyPDFLoader\n",
    "import requests\n",
    "import tempfile\n",
    "from langchain_openai import OpenAIEmbeddings\n",
    "from langchain_community.vectorstores import Chroma\n",
    "from langchain.text_splitter import RecursiveCharacterTextSplitter\n",
    "\n",
    "from pathlib import Path\n",
    "\n",
    "_ = load_dotenv() # Loads the .env file - e.g. the OPENAI_API_KEY"
   ]
  },
  {
   "cell_type": "code",
   "execution_count": null,
   "id": "f7ddad2e",
   "metadata": {},
   "outputs": [],
   "source": [
    "def load_pdf_from_url(url: str):\n",
    "    \"\"\"\n",
    "    Load a PDF from a URL and extract its text content.\n",
    "    \n",
    "    Args:\n",
    "        url: The URL of the PDF file\n",
    "    \n",
    "    Returns:\n",
    "        List of documents with page content\n",
    "    \"\"\"\n",
    "    try:\n",
    "        # Download the PDF content\n",
    "        response = requests.get(url)\n",
    "        response.raise_for_status()  # Raise an exception for bad status codes\n",
    "        \n",
    "        # Create a temporary file to store the PDF\n",
    "        with tempfile.NamedTemporaryFile(delete=False, suffix='.pdf') as temp_file:\n",
    "            temp_file.write(response.content)\n",
    "            temp_file_path = temp_file.name\n",
    "        \n",
    "        # Load the PDF using PyPDFLoader\n",
    "        loader = PyPDFLoader(temp_file_path)\n",
    "        documents = loader.load()\n",
    "        \n",
    "        # Clean up the temporary file\n",
    "        os.unlink(temp_file_path)\n",
    "        \n",
    "        return documents\n",
    "    \n",
    "    except Exception as e:\n",
    "        print(f\"Error loading PDF from URL: {str(e)}\")\n",
    "        return None\n",
    "\n",
    "\n",
    "def doc_loader_rules():\n",
    "    \"\"\"\n",
    "    Load the One Piece Card Game rules from the official website.\n",
    "    \n",
    "    Returns:\n",
    "        List of documents with page content\n",
    "    \"\"\"\n",
    "    #comp_rules = load_pdf_from_url(\"https://en.onepiece-cardgame.com/pdf/rule_comprehensive.pdf?20250221\")\n",
    "    #tourney_rules = load_pdf_from_url(\"https://en.onepiece-cardgame.com/pdf/tournament_rules_manual.pdf?20250613\")\n",
    "\n",
    "    docs = load_pdf_from_url(\"https://www.w3.org/WAI/ER/tests/xhtml/testfiles/resources/pdf/dummy.pdf\")\n",
    "    # if comp_rules is None or tourney_rules is None:\n",
    "    #     print(\"Failed to load One Piece Card Game rules.\")\n",
    "    #     print(\"Please check the URLs or your internet connection.\")\n",
    "    #     return None\n",
    "    #docs = comp_rules + tourney_rules\n",
    "    return None\n",
    "\n",
    "# Create a persistent directory for your vector store\n",
    "\n",
    "\n",
    "x = doc_loader_rules()"
   ]
  },
  {
   "cell_type": "code",
   "execution_count": null,
   "id": "89d31ee2",
   "metadata": {},
   "outputs": [],
   "source": []
  },
  {
   "cell_type": "code",
   "execution_count": null,
   "id": "2578d0a3",
   "metadata": {},
   "outputs": [
    {
     "name": "stdout",
     "output_type": "stream",
     "text": [
      "Creating new vector store...\n",
      "Split documents into 221 chunks\n",
      "Vector store created and saved to C:\\Users\\tyson\\.cache\\onepiece_vectorstore\\onepiece_vectorstore\n",
      "Vector store created and saved to C:\\Users\\tyson\\.cache\\onepiece_vectorstore\\onepiece_vectorstore\n"
     ]
    }
   ],
   "source": [
    "def create_or_load_vectorstore():\n",
    "    \"\"\"Create or load the persistent vector store\"\"\"\n",
    "    \n",
    "    # Define the cache directory and persistent directory\n",
    "    CACHE_DIRECTORY = Path.home() / \".cache\" / \"onepiece_vectorstore\"\n",
    "    CACHE_DIRECTORY.mkdir(parents=True, exist_ok=True)\n",
    "    PERSIST_DIRECTORY = CACHE_DIRECTORY / \"onepiece_vectorstore\"\n",
    "\n",
    "    # Define the embedding model\n",
    "    embeddings = OpenAIEmbeddings(\n",
    "        model=\"text-embedding-3-large\"\n",
    "        )\n",
    "\n",
    "    # Check if vector store already exists and load it\n",
    "    if os.path.exists(PERSIST_DIRECTORY) and os.listdir(PERSIST_DIRECTORY):\n",
    "        print(\"Loading existing vector store...\")\n",
    "        vectorstore = Chroma(\n",
    "            persist_directory=str(PERSIST_DIRECTORY),\n",
    "            embedding_function=embeddings\n",
    "        )\n",
    "        return vectorstore\n",
    "    \n",
    "    else: \n",
    "        print(\"Creating new vector store...\")\n",
    "        \n",
    "        # Define the text splitter for document chunking\n",
    "        text_splitter = RecursiveCharacterTextSplitter(\n",
    "            chunk_size=1000,\n",
    "            chunk_overlap=200,\n",
    "            separators=[\"\\n\\n\", \"\\n\", \". \",\" \", \"\"]\n",
    "        )\n",
    "        \n",
    "        # Load and split documents\n",
    "        docs = doc_loader_rules()\n",
    "        if not docs:\n",
    "            print(\"No documents loaded. Please check PDF URLs.\")\n",
    "            return None # Exit if no documents are loaded, Will not create a vector store\n",
    "            \n",
    "        doc_chunks = text_splitter.split_documents(all_docs)\n",
    "        print(f\"Split documents into {len(doc_chunks)} chunks\")\n",
    "        \n",
    "        # Create vector store with persistence\n",
    "        vectorstore = Chroma.from_documents(\n",
    "            documents=doc_chunks,\n",
    "            embedding=embeddings,\n",
    "            persist_directory=str(PERSIST_DIRECTORY)\n",
    "\n",
    "        )\n",
    "        \n",
    "        print(f\"Vector store created and saved to {PERSIST_DIRECTORY}\")\n",
    "        return vectorstore\n",
    "\n",
    "# Create or load the vector store\n",
    "vectorstore = create_or_load_vectorstore()"
   ]
  },
  {
   "cell_type": "code",
   "execution_count": 4,
   "id": "7d11ceb9",
   "metadata": {},
   "outputs": [
    {
     "data": {
      "text/plain": [
       "[Document(metadata={'producer': 'Microsoft® Word for Microsoft 365', 'creator': 'Microsoft® Word for Microsoft 365', 'creationdate': '2025-02-20T12:30:45+09:00', 'moddate': '2025-02-20T14:31:46+09:00', 'title': 'Comprehensive Rules', 'source': 'C:\\\\Users\\\\tyson\\\\AppData\\\\Local\\\\Temp\\\\tmp8lyx1_u3.pdf', 'total_pages': 26, 'page': 0, 'page_label': '1'}, page_content='1 \\n \\nONE PIECE CARD GAME Comprehensive Rules \\nVersion 1.1.8 \\n \\nLast updated: 2/21/2025 \\n \\nTable of Contents \\nContents of Comprehensive Rules ............................................................................................ \\n1. Game Overview .................................................................................................................. 1 \\n2. Card Information ................................................................................................................ 3 \\n3. Game Areas ........................................................................................................................ 6 \\n4. Basic Game Terminology ................................................................................................... 9 \\n5. Game Setup ...................................................................................................................... 11 \\n6. Game Progression ............................................................................................................ 12 \\n7. Card Attacks and Battles .................................................................................................. 14 \\n8. Activating and Resolving Effects ...................................................................................... 15 \\n9. Rule Processing ................................................................................................................ 19 \\n10. Keyword Effects and Keywords ...................................................................................... 19 \\n11. Other .............................................................................................................................. 22 \\n  \\nContents of Comprehensive Rules  \\n1. Game Overview  \\n1-1. Number of Players \\n1-1-1. Fundamentally, this game is intended to be played by two players , head-to-head. \\nThese rules do not currently support play by three or more players. \\n1-2. Ending the Game \\n1-2-1. The game ends when either player loses the game. When a player’s opponent loses \\nthe game, the player who has not lost wins the game. \\n1-2-1-1. The two defeat conditions are as follows: \\n1-2-1-1-1. When you have 0 Life cards and your Leader takes damage. \\n1-2-1-1-2. When you have 0 cards in your deck. \\n1-2-2. When either player meets a defeat condition, they will lose the game according to \\nthe rule processing at the next time of rule processing. (See 9. Rule Processing) \\n1-2-2-1. If either player ’s Leader takes damage when that player has 0 Life  cards \\nremaining during the game, that player has met a defeat condition. \\n1-2-2-2. If either player has 0 cards in their deck during the game, that player has met \\na defeat condition.'),\n",
       " Document(metadata={'producer': 'Microsoft® Word for Microsoft 365', 'creator': 'Microsoft® Word for Microsoft 365', 'creationdate': '2025-02-20T12:30:45+09:00', 'moddate': '2025-02-20T14:31:46+09:00', 'title': 'Comprehensive Rules', 'source': 'C:\\\\Users\\\\tyson\\\\AppData\\\\Local\\\\Temp\\\\tmp8lyx1_u3.pdf', 'total_pages': 26, 'page': 1, 'page_label': '2'}, page_content='2 \\n \\n1-2-3. Either player may concede at any point during a game. When a player concedes, \\nthey lose immediately and the game ends. \\n1-2-4. A  concession is not affected by any card. Furthermore, concession cannot be \\nforced by any card effect,  and defeat by concession cannot be replaced by any \\nreplacement effect. \\n1-2-5. The effects of some cards may cause a player to win or lose the game.  In such a \\ncase, the player wins or loses during the processing of that effect , and the game \\nends. \\n1-3. Fundamental Principles \\n1-3-1. When card text contradicts the Comprehensive Rules, the  card text takes \\nprecedence over the Comprehensive Rules. \\n1-3-2. If a player is required to perform an impossible action for any reason, that action \\nis not carried out. Likewise, if an effect requires the player to carry out multiple \\nactions, some of which are impossible, the player performs as many of the actions \\nas possible. \\n1-3-2-1. If an object is required to change to a given state, and the object is already in \\nthat state, the object’s state remains the same, and the action is not performed. \\n1-3-2-2. If a player is required to perform an action 0 or a negative number of times \\nfor any reason, that action is not carried out. A request to perform a certain \\naction negative times does not imply performing its opposite action. \\n1-3-3. If a card ’s effect requires a player to carry out an action while a currently active \\neffect prohibits that action, the prohibiting effect always takes precedence. \\n1-3-4. If both players are required to make choice s simultaneously for any reason, the \\nplayer whose turn it is  makes the choice s first. After that player has made their \\nchoices, the other player makes their choices. \\n1-3-5. If a card or rule requires a player to choose a number, unless otherwise specified, \\nthe player must choose a whole number of 0 or greater. Players cannot choose \\nnumbers containing fractions less than 1, or negative numbers. \\n1-3-5-1. If a card or rule specifies a maximum value for a number, such as “up to ...”, \\nas long as no minimum number is specified, the player can choose 0. \\n1-3-6. If a card effect changes information on a card, unless otherwise specified or defined \\nby the rules, numbers on a card cannot contain fractions less than 1. If non-power \\nnumbers would become negative, they are treated as 0, except in cases where the \\ninformation is added to or subtracted from. \\n1-3-7. Power can become a negative value. \\n1-3-7-1. Even if a card’s power becomes a negative value, unless otherwise specified,'),\n",
       " Document(metadata={'producer': 'Microsoft® Word for Microsoft 365', 'creator': 'Microsoft® Word for Microsoft 365', 'creationdate': '2025-02-20T12:30:45+09:00', 'moddate': '2025-02-20T14:31:46+09:00', 'title': 'Comprehensive Rules', 'source': 'C:\\\\Users\\\\tyson\\\\AppData\\\\Local\\\\Temp\\\\tmp8lyx1_u3.pdf', 'total_pages': 26, 'page': 2, 'page_label': '3'}, page_content='3 \\n \\nthat card will not be trashed or otherwise moved to an area. \\n1-3-8. Unless otherwise specified, card effects are  carried out in the order described on \\nthe card. \\n1-3-9. If card effects require a player to rest a card and set it as active simultaneously, the \\neffect requiring the player to rest the card always takes precedence. \\n1-3-10. Cost and Activation Cost \\n1-3-10-1. Cost refers to a payment that must be made to play a card. A card’s cost is \\nthe number written in its upper left corner. (See 6-5-3-1.) \\n1-3-10-2. Activation cost refers to a payment required to activate a card’s effect. (See \\n8-3.) \\n1-3-11. If both players are instructed to perform some action at the same time according \\nto a card ’s effect, the turn player is to perform the action first, followed by the \\nnon-turn player. \\n \\n2. Card Information \\n2-1. Card Name \\n2-1-1. This is the card’s fixed name. \\n2-1-2. Some text will include text in [  ] brackets without a clarifying noun afterwards. \\nThis refers to cards with the card name specified in the [ ] brackets. \\n2-1-2-1. Some text will include part of a card name in \" \" quotation marks. This text \\nrefers to cards with a card name containing the text in the quotation marks. \\n2-1-3. As an exception, some cards get card names from their text. Treat these cards as \\nif they have this name by default, including during deck construction and when in \\nsecret areas. \\n2-2. Card Category \\n2-2-1. This specifies the card’s category. \\n2-2-2. There are five card categories: Leader card, Character card, Event card, Stage card, \\nand DON!! card. \\n2-2-3. Cards in the Leader card category are placed in the Leader area. \\n2-2-3-1. When a card’s text refers to “Leader” or “Leader card”, this means a card in \\nthe Leader card category placed in the Leader area. \\n2-2-4. Cards in the Character card category are placed in the Character area. \\n2-2-4-1. When a card’s text refers to “Character”, this means a card in the Character \\ncard category placed in the Character area. \\n2-2-4-2. When a card’s text refers to “Character card”, this means a card in the \\nCharacter card category that is located outside of the Character area.'),\n",
       " Document(metadata={'producer': 'Microsoft® Word for Microsoft 365', 'creator': 'Microsoft® Word for Microsoft 365', 'creationdate': '2025-02-20T12:30:45+09:00', 'moddate': '2025-02-20T14:31:46+09:00', 'title': 'Comprehensive Rules', 'source': 'C:\\\\Users\\\\tyson\\\\AppData\\\\Local\\\\Temp\\\\tmp8lyx1_u3.pdf', 'total_pages': 26, 'page': 3, 'page_label': '4'}, page_content='4 \\n \\n2-2-4-3. When a card’s text refers to “Leader and/or Character cards”, the latter means \\na card in the Character card category placed in the Character area. \\n2-2-5. Cards in the Event card category can have their effects activated by the card being \\nmoved from the player’s hand to the trash. \\n2-2-5-1. When a card’s text refers to “Event” or “Event card”, this means a card in the \\nEvent card category. \\n2-2-6. Cards in the Stage card category are placed in the Stage area. \\n2-2-6-1. When a card ’s text  refers to “Stage”, this means a card in the Stage card \\ncategory. \\n2-2-6-2. When a card’s text refers to “Stage card”, this means a card in the Stage card \\ncategory that is located outside of the Stage area. \\n2-3. Color \\n2-3-1. This specifies the card’s colors. It may be referenced in card text. \\n2-3-2. All cards have colors which are indicated by the colors of sections of the hexagon \\nin the lower left corner of the card. \\n2-3-3. There are six colors: red, green, blue, purple, black, and yellow. \\n2-3-3-1. In the hexagon, the upper right  is red, the right is green,  the lower right is \\nblue, the lower left is purple, the left is black, and the upper left is yellow. \\n2-3-4. Some cards have multiple colors, such as red and blue, or green and purple. \\n2-3-5. Cards with multiple colors, such as red and green,  are treated as a card of every \\ncolor they possess. \\n2-3-6. Cards with multiple colors are sometimes referred to as “multicolor” in card text. \\n2-4. Type \\n2-4-1. This specifies the card’s types. It may be referenced in card text. \\n2-4-2. Some cards may have multiple types. Where a card has multiple types, each type \\nwill be separated by a slash (/). \\n2-4-3. Some text will include text in {  } brackets. This refers to cards with the type \\nspecified in the { } brackets. \\n2-4-3-1. Some text will include part of a type in \" \" quotation marks. This text refers to \\ncards with a type containing the text in the quotation marks. \\n2-4-4. As an exception, some cards get types from their text. Treat these cards as if they \\nhave this type by default, including during deck construction and when in secret \\nareas. \\n2-5. Attribute \\n2-5-1. This specifies the card’s attribute. It may be referenced in card text. \\n2-5-2. There are five attributes: Slash, Strike, Ranged, Special, and Wisdom.'),\n",
       " Document(metadata={'producer': 'Microsoft® Word for Microsoft 365', 'creator': 'Microsoft® Word for Microsoft 365', 'creationdate': '2025-02-20T12:30:45+09:00', 'moddate': '2025-02-20T14:31:46+09:00', 'title': 'Comprehensive Rules', 'source': 'C:\\\\Users\\\\tyson\\\\AppData\\\\Local\\\\Temp\\\\tmp8lyx1_u3.pdf', 'total_pages': 26, 'page': 4, 'page_label': '5'}, page_content='5 \\n \\n2-5-3. Some cards have multiple attributes, such as Slash and Strike, or Ranged and \\nSpecial. \\n2-5-4. If a card has multiple attributes, such as Slash and Strike, it is treated as a card \\nwith all the attributes it possesses. \\n2-5-5. Only Leader cards and Character cards have attributes. \\n2-5-6. Some text will include text in < > brackets. This refers to cards with the attribute \\nspecified in the < > brackets. \\n2-5-7. As an exception, some cards get attributes from their text. Treat these cards as if \\nthey have this attribute by default, including during deck construction and when \\nin secret areas. \\n2-6. Power \\n2-6-1. This specifies the card’s strength in battles. (See 7. Card Attacks and Battles) \\n2-6-2. Only Leader cards and Character cards have power. \\n2-6-3. An effect may make a power value greater or less than the written value. \\n2-7. Cost \\n2-7-1. This specifies the cost needed to play the card from your hand. (See 6-5-3-1.) \\n2-7-2. When playing a Character card from your hand, you should first reveal the card \\nyou wish to play, select a number of active DON!! cards in your cost area equal to \\nthe card’s cost, rest those DON!! cards, and then play the revealed card. \\n2-7-3. When activating an Event card from your hand, you should first reveal the card \\nyou wish to activate, select a number of active DON!! cards in your cost area equal \\nto the card’s cost, rest those DON!! cards, and then trash the revealed card to \\nactivate it. \\n2-7-4. When playing a Stage card from your hand, you should first reveal the card you \\nwish to play, select a number of active DON!! cards in your cost area equal to the \\ncard’s cost, rest those DON!! cards, and then play the revealed card. \\n2-7-5. Only Character cards, Event cards and Stage cards have costs. \\n2-7-6. An effect may make a cost greater or less than the written value. \\n2-8. Card Text \\n2-8-1. This describes the card’s effects. \\n2-8-2. Unless otherwise specified, card text on Leader cards, Character cards, and Stage \\ncards is valid only in the Leader area, Character area, and Stage area, respectively. \\n2-8-3. Text is resolved in order starting from the text closest to the top. \\n2-8-4. Some text has detailed explanations of keyword effects or other card effects inside \\n( ) parentheses. These are called explanatory notes and their purpose is to provide \\nfurther explanation of effects.'),\n",
       " Document(metadata={'producer': 'Microsoft® Word for Microsoft 365', 'creator': 'Microsoft® Word for Microsoft 365', 'creationdate': '2025-02-20T12:30:45+09:00', 'moddate': '2025-02-20T14:31:46+09:00', 'title': 'Comprehensive Rules', 'source': 'C:\\\\Users\\\\tyson\\\\AppData\\\\Local\\\\Temp\\\\tmp8lyx1_u3.pdf', 'total_pages': 26, 'page': 5, 'page_label': '6'}, page_content='6 \\n \\n2-8-4-1. Explanatory notes do not influence gameplay. \\n2-8-4-2. As an exception, some effect text may be included in parentheses to make the \\neffect easier to understand. \\n2-8-5. A card without card text may be described in text as having “no base effect”. \\n2-9. Life \\n2-9-1. This specifies the Life value of a Leader card. \\n2-9-2. At the start of the game, each player draw s a number of cards equal to the Life \\nvalue indicated on their Leader card from the top of their deck and place s them \\nface-down in their Life area without looking at their contents. \\n 2-9-2-1. At this time, the cards are to be placed in order such that the card at the top \\nof the deck is at the bottom in the Life area. \\n2-9-3. Only Leader cards have Life. \\n2-9-4. An effect may make a Life value greater than the written value. \\n2-10. (Symbol) Counter \\n2-10-1. Th is specifies the power increase  to a Character card’s power  that can be \\nactivated during the Counter Step. \\n2-10-2. Only Character cards have (Symbol) Counter. \\n2-11. [Trigger] \\n2-11-1. This is an effect that can be activated instead of the player adding the card from \\ntheir Life area to their hand on taking damage. \\n2-11-2. [Trigger] is part of the card text. \\n2-12. Copyright Notice \\n2-12-1. This is the card’s copyright inscription. It does not affect gameplay. \\n2-13 Rarity \\n2-13-1. This specifies the card’s rarity. It does not affect gameplay. \\n2-14. Card Number \\n2-14-1. This is referenced during game preparation. \\n2-14-2. When preparing for a game, there should be no more than 4 cards with the same \\ncard number in your deck. \\n2-14-3. This is the card number of this card. It may be referenced in card text. \\n2-15. Block Symbol \\n2-15-1. This specifies the block this card is part of. It does not affect gameplay. \\n2-16. Illustration \\n2-16-1. This is the card’s illustration inspired by its contents. It does not affect gameplay.  \\n2-17. Illustrator’s Name \\n2-17-1. This is the name of the illustrator who created the card’s illustration. It does not'),\n",
       " Document(metadata={'producer': 'Microsoft® Word for Microsoft 365', 'creator': 'Microsoft® Word for Microsoft 365', 'creationdate': '2025-02-20T12:30:45+09:00', 'moddate': '2025-02-20T14:31:46+09:00', 'title': 'Comprehensive Rules', 'source': 'C:\\\\Users\\\\tyson\\\\AppData\\\\Local\\\\Temp\\\\tmp8lyx1_u3.pdf', 'total_pages': 26, 'page': 6, 'page_label': '7'}, page_content='7 \\n \\naffect gameplay. \\n \\n3. Game Areas \\n3-1. Areas \\n3-1-1. The area s are the deck, DON!! deck, hand, trash, Leader area, Character area, \\nStage area, cost area, and Life area. \\n3-1-2. The  Leader area, Character area, Stage area, and cost area are  sometimes \\ncollectively referred to as “the field”. \\n3-1-3. Unless otherwise specified, each player possesses one of every area. \\n3-1-4. The number of cards in each area is  open information that can be confirmed by \\nboth players at any time. \\n3-1-5. Cards in some areas are revealed to both players while others are not. Areas with \\nrevealed cards are called open areas, while areas with hidden cards are called secret \\nareas. \\n3-1-6. When a card is moved from the Character area or Stage area to another area, unless \\notherwise specified, the card is treated as a new card in a new area. Effects that \\nwere applied to the card in the original area are not carried over to the new area. \\n3-1-7. When multiple car ds are placed in an area simultaneously, unless otherwise \\nspecified, the owner of the cards decides the order in which they are placed in the \\nnew area. \\n3-1-8. When multiple cards are placed from an open area in a secret area simultaneously, \\nif the owner of the cards can determine the order the cards are placed in, the other \\nplayer cannot confirm the order in which the cards are placed. \\n3-2. Deck \\n3-2-1. Each player places their deck here at the start of the game. \\n3-2-2. The deck is a secret area. Cards in this area are placed face -down in a stack and, \\nunless otherwise specified, neither player can check the contents or order of those \\ncards, nor can they change their order. \\n3-2-3. When multiple cards in a deck are moved simultaneously, they should be moved \\none by one. \\n3-2-4. When a player is instructed to shuffle a deck, the player will randomly change the \\norder of cards in that deck. \\n3-3. DON!! Deck \\n3-3-1. Each player places their DON!! deck here at the start of the game. \\n3-3-2. The DON!! deck is an open area. Cards in this area are placed face-down in a stack, \\nand both players can freely view the contents and order of these cards, and change'),\n",
       " Document(metadata={'producer': 'Microsoft® Word for Microsoft 365', 'creator': 'Microsoft® Word for Microsoft 365', 'creationdate': '2025-02-20T12:30:45+09:00', 'moddate': '2025-02-20T14:31:46+09:00', 'title': 'Comprehensive Rules', 'source': 'C:\\\\Users\\\\tyson\\\\AppData\\\\Local\\\\Temp\\\\tmp8lyx1_u3.pdf', 'total_pages': 26, 'page': 7, 'page_label': '8'}, page_content='8 \\n \\ntheir order.  \\n3-3-3. When multiple DON!! cards in a DON!! deck are moved simultaneously, they \\nshould be moved one by one. \\n3-4. Hand \\n3-4-1. This is where each player places the cards they draw from their deck. \\n3-4-2. The hand is a secret area, but a player can freely view the contents and change the \\norder of cards in their hand. \\n3-4-3. Players cannot view the contents of cards in the other player’s hand unless \\notherwise specified. \\n3-5. Trash \\n3-5-1. Character cards that have been K.O. ’d and Event cards that have been activated \\nare placed in this area. \\n3-5-2. The trash is a n open area. Cards in this area are placed face -up in a stack,  and \\neither player can freely view the contents and order of these cards . Players may \\nfreely change the order of cards in their own trash. When placing new cards in \\nthis area, they are normally placed on top of the cards that are already there.  \\n3-6. Leader Area \\n3-6-1. Each player places their Leader card face-up in this area at the start of the game. \\n3-6-2. The Leader area is an open area. \\n3-6-3. A card placed in the Leader area which is treated as a Leader card cannot be moved \\nfrom the Leader area by card effects or rules and will remain in the Leader area. \\n3-7. Character Area \\n3-7-1. This is where each player places their Character cards. \\n3-7-2. The Character area is an open area. Cards in this area are placed face-up. \\n3-7-3. Placing a Character card in the Character area is called “play[ing]” that card. \\n3-7-4. Played cards cannot attack on the turn in which they are played unless otherwise \\nspecified. \\n3-7-5. When placing cards in the Character area,  they should be set as active unless \\notherwise specified. \\n3-7-6. Up to 5 Character cards can be placed in the Character area. \\n3-7-6-1. If there are 5 Character cards in the Character area and a player wants to play \\na new Character card, that player should reveal the card they want to play, trash \\n1 of the Character cards already in their Character area, and then play the new \\nCharacter card in the Character area. \\n3-8. Stage Area \\n3-8-1. This is where each player places their Stage cards.'),\n",
       " Document(metadata={'producer': 'Microsoft® Word for Microsoft 365', 'creator': 'Microsoft® Word for Microsoft 365', 'creationdate': '2025-02-20T12:30:45+09:00', 'moddate': '2025-02-20T14:31:46+09:00', 'title': 'Comprehensive Rules', 'source': 'C:\\\\Users\\\\tyson\\\\AppData\\\\Local\\\\Temp\\\\tmp8lyx1_u3.pdf', 'total_pages': 26, 'page': 8, 'page_label': '9'}, page_content='9 \\n \\n3-8-2. The Stage area is an open area. Cards in this area are placed face-up. \\n3-8-3. Placing a Stage card in the Stage area is called “play[ing]” that card. \\n3-8-4. When placing cards in the Stage area, they should be set as active unless otherwise \\nspecified. \\n3-8-5. Up to 1 Stage card can be placed in the Stage area. \\n3-8-5-1. If there is 1 Stage card in the Stage area and a player wants to play a new Stage \\ncard, that player should reveal the card they want to play, trash the 1 Stage \\ncard already in their Stage area, and then play the new Stage card in the Stage \\narea. \\n3-9. Cost Area \\n3-9-1. DON!! cards are placed in this area. \\n3-9-2. The cost area is an open area. Either player can freely view the contents of these \\ncards. Players may freely change the order of cards in their own cost area. When \\npaying a cost, players may freely choose which cards to use. \\n3-9-3. When placing DON!! card s in the cost area,  they should be set as active unless \\notherwise specified. \\n3-10. Life Area \\n3-10-1. The Life cards for a player’s Leader are placed in this area. \\n3-10-2. The Life area is a secret area. Cards in this area are , unless otherwise specified, \\nplaced face-down in a stack and  neither player can check the contents of those \\ncards, nor can they change their order. When moving a card from their Life area \\nto another area, a player must select the card at the top of their Life cards unless \\notherwise specified. \\n3-10-2-1. An effect may cause a card to be added to the Life area  face-up. In such a \\ncase, the face-up card is treated as a card in an open area as an exception. \\n3-10-3. Effects that refer to looking at Life cards can be processed regardless of whether \\nthe Life cards are face-up or face-down. After such an effect is processed, the Life \\ncards should be placed as they were before the effect was processed (i.e., face-up \\nor face-down). \\n \\n4. Basic Game Terminology  \\n4-1. Effects \\n4-1-1. Effects are specified in card text. \\n4-1-2. Keyword effects, such as [Activate: Main], [Blocker], [Counter], and [Trigger] , \\nare found in effects. (See 10-1.) \\n4-2. Player'),\n",
       " Document(metadata={'producer': 'Microsoft® Word for Microsoft 365', 'creator': 'Microsoft® Word for Microsoft 365', 'creationdate': '2025-02-20T12:30:45+09:00', 'moddate': '2025-02-20T14:31:46+09:00', 'title': 'Comprehensive Rules', 'source': 'C:\\\\Users\\\\tyson\\\\AppData\\\\Local\\\\Temp\\\\tmp8lyx1_u3.pdf', 'total_pages': 26, 'page': 9, 'page_label': '10'}, page_content='10 \\n \\n4-2-1. “Player” refers to the person who possesses a card. \\n4-2-1-1. When a card’s text refers to “owner” , this means the original holder of the \\ncard. \\n4-2-2. At the end of the game, each player has all cards they own returned to them. \\n4-3. Turn Player and Non-Turn Player \\n4-3-1. The “turn player” is the player whose turn is currently in progress. \\n4-3-2. The “non-turn player” is the player whose turn is currently not in progress. \\n4-4. Card States \\n4-4-1. Cards in the Leader area, Character area, and Stage area  should be in one of the \\nfollowing two states: \\n4-4-1-1. Active: A card positioned vertically from the player’s point of view. \\n4-4-1-2. Rested: A card positioned horizontally from the player’s point of view. \\n4-5. Draw a Card \\n4-5-1. “Draw a card ” is the act of adding the top card of a deck to your hand without \\nrevealing it to the other player. \\n4-5-2. When directed to “draw 1 card”, add 1 card from the top of your deck to your hand \\nwithout revealing it to the other player.  \\n4-5-3. When directed to “draw X cards” , nothing happens if X is 0. If X is 1 or higher, \\nrepeat the “draw a card” process that many times. \\n4-5-4. When directed to “draw up to X card (s)”, nothing happens if X is 0. If X is 1 or \\nhigher, carry out the following actions: \\n4-5-4-1. You can end this action. \\n4-5-4-2. Draw 1 card. \\n4-5-4-3. If you have carried out 4-5-4-2 X times, end this action. If not, return to 4-5-\\n4-1. \\n4-6. Damage Processing \\n4-6-1. The act of dealing damage is referred to as “damage processing”. \\n4-6-2. If any action deals damage to a Leader, the player whose Leader has taken damage \\nwill perform the following procedure: \\n4-6-2-1. If the damage taken is 1, the player whose Leader has taken damage moves 1 \\ncard from the top of their Life cards to their hand. \\n4-6-2-2. If the damage received is X, nothing happens if X is 0. If X is 1 or higher, the \\nplayer repeats the “ If the damage taken is 1 ” process (4-6-2-1) that many \\ntimes. \\n4-6-3. If a card with [Trigger] is added to the  player’s hand from their Life area during \\nthis procedure, the player can choose to activate that [Trigger]. (See 10-1-5.)'),\n",
       " Document(metadata={'producer': 'Microsoft® Word for Microsoft 365', 'creator': 'Microsoft® Word for Microsoft 365', 'creationdate': '2025-02-20T12:30:45+09:00', 'moddate': '2025-02-20T14:31:46+09:00', 'title': 'Comprehensive Rules', 'source': 'C:\\\\Users\\\\tyson\\\\AppData\\\\Local\\\\Temp\\\\tmp8lyx1_u3.pdf', 'total_pages': 26, 'page': 10, 'page_label': '11'}, page_content='11 \\n \\n4-6-3-1. If a Life card cannot be added to the hand due to an effect or replacement \\neffect, the [Trigger] cannot be activated. \\n4-7. Play a Card \\n4-7-1. Playing a card refers to a player paying its cost and activating it or playing it from \\ntheir hand. \\n4-8. Up to X Card(s) \\n4-8-1. If a direction states “up to X card(s)”, when the effect is activated, choose between \\n0 and X cards immediately before the effect is processed. Then, resolve the effect. \\n4-8-2. “Draw up to X card(s)” is an exception processed according to 4-5-4. \\n4-9. “Base” \\n4-9-1. The term “base” appears in some card text. \\n4-9-2. “Base” refers to the number or card text as it appears on that card. \\n4-10. “If” and “Then” \\n4-10-1. If a preceding “if” clause in the text cannot be resolved, the following clause in \\nthat text also cannot be resolved. \\n4-10-2. If a preceding “then” clause in the text cannot be resolved, the following clause \\nin that text can still be resolved. \\n4-11. “Remove” \\n4-11-1. The term “remove” appears in some card text. \\n4-11-2. “Remove” refers to moving a card from the area it is placed in to another area. \\n \\n5. Game Setup \\n5-1. Preparing Leader Cards, Decks, and DON!! Decks \\n5-1-1. Each player prepares a Leader card, deck, and DON!! deck from their cards before \\nthe game begins. \\n5-1-2. Each player needs  exactly 1 Leader card, a 50 -card deck, and a 10-card DON!! \\ndeck to play. \\n5-1-2-1. A deck is a bundle of cards made up of Character cards, Event cards, and Stage \\ncards. \\n5-1-2-2. Only cards of a color included on the Leader card can be included in a deck. \\nCards of a color not included on the Leader card cannot be added to the deck.  \\n5-1-2-3. A deck can contain no more than 4 cards with the same card number. \\n5-1-2-4. Effects related to deck construction rules are treated as permanent effects (see \\n8-1-3-4-3.) which replace the deck construction rules above. \\n5-1-2-4-1. Effects related to deck construction are those specifying that the deck can \\ncontain a specified number of cards of a certain category, or that the deck'),\n",
       " Document(metadata={'producer': 'Microsoft® Word for Microsoft 365', 'creator': 'Microsoft® Word for Microsoft 365', 'creationdate': '2025-02-20T12:30:45+09:00', 'moddate': '2025-02-20T14:31:46+09:00', 'title': 'Comprehensive Rules', 'source': 'C:\\\\Users\\\\tyson\\\\AppData\\\\Local\\\\Temp\\\\tmp8lyx1_u3.pdf', 'total_pages': 26, 'page': 11, 'page_label': '12'}, page_content='12 \\n \\ncannot contain a specified number of cards of a certain category. \\n5-1-2-4-2. Effects related to deck construction are valid during deck construction. \\n5-2. Pre-Game Preparations \\n5-2-1. Before playing the game, each player must follow the procedure below: \\n5-2-1-1. Each player presents the deck they’re going to use in this game. This deck (at \\nthis time) must meet the deck construction rules specified in 5-1-2. \\n5-2-1-2. Each player thoroughly shuffles their deck. Then, each player places their deck \\nface-down in their deck area. \\n5-2-1-3. Each player places their Leader card face-up in their Leader area. \\n5-2-1-4. The players decide, by Rock -Paper-Scissors or some other means,  which \\nplayer will decide whether they want to go first or second.  \\n5-2-1-4-1. No intervention of any kind is allowed in the player’s decision whether to \\ngo first or second. \\n5-2-1-5. Once it is determined which player will decide whether to go first or second, \\nthat player declares whether they will go first or second. \\n5-2-1-5-1. If a Leader has an effect that reads  “At the start of the game”, that effect \\nis processed at this time. If there are multiple effects that read  “At the \\nstart of the game”, the player who chose to go first or second processes \\ntheir effects first, in any order, followed by the player who did not choose \\nto go first or second, who then processes their effects in any order. \\n5-2-1-5-2. If changes are made to a deck as the result of an effect that reads “At the \\nstart of the game”, it is then shuffled by the owner of that deck. \\n5-2-1-6. Each player draws 5 cards from their deck  as their opening hand. Then, \\nbeginning with the player going first, each player may redraw their hand once \\naccording to the procedure below.  \\n5-2-1-6-1. The player returns all of the cards in their hand to their deck, reshuffles, \\nand then redraws 5 cards. \\n5-2-1-7. Each player places a number of cards from the top of their deck equal to the \\nLife value of their Leader face-down in their Life area such that the card at the \\ntop of their deck is at the bottom in their Life area. \\n5-2-1-8. The first player begins the game and starts their turn. \\n \\n6. Game Progression  \\n6-1. Turn Flow \\n6-1-1. A “turn” refers to a sequence consisting of a Refresh Phase, Draw Phase, DON!! \\nPhase, Main Phase, and End Phase.'),\n",
       " Document(metadata={'producer': 'Microsoft® Word for Microsoft 365', 'creator': 'Microsoft® Word for Microsoft 365', 'creationdate': '2025-02-20T12:30:45+09:00', 'moddate': '2025-02-20T14:31:46+09:00', 'title': 'Comprehensive Rules', 'source': 'C:\\\\Users\\\\tyson\\\\AppData\\\\Local\\\\Temp\\\\tmp8lyx1_u3.pdf', 'total_pages': 26, 'page': 12, 'page_label': '13'}, page_content='13 \\n \\n6-1-2. The game is progressed by one of the players serving as the turn player. The turn \\nplayer performs the phases following the procedures below. \\n6-2. Refresh Phase \\n6-2-1. Currently applied effects that last “until the start of your next turn” end. \\n6-2-2. Your own and your opponent’s e ffects that read  “at the start of your/your \\nopponent’s turn” activate. \\n6-2-3. Return all DON!! cards given to cards in your Leader area and Character area (see \\n6-5-5-1.) to your cost area. \\n6-2-4. Set all rested cards placed in your Leader area, Character area, Stage area, and cost \\narea as active. \\n6-3. Draw Phase \\n6-3-1. The turn player draws 1 card from their deck. Note that the player going first does \\nnot draw a card on their first turn. \\n6-4. DON!! Phase \\n6-4-1. Place 2 DON!! cards from the DON!! deck face-up in the cost area. Note that the \\nplayer going first places only 1 DON!! card face-up in their cost area on their first \\nturn. \\n6-4-2. If there is only 1 card in the DON!! deck, place 1 DON!! card face-up in the cost \\narea. \\n6-4-3. If there are 0 cards in the DON!! deck, do not place a DON!! card in the cost area. \\n6-5. Main Phase \\n6-5-1. Your own and your opponent’s effects that read “at the start of the Main Phase ” \\nactivate. \\n6-5-2. In the Main Phase, you may perform the following Main Phase actions : “6-5-3. \\nPlay a Card ”, “6-5-4. Activate a Card ’s Effect”, “6-5-5. Give DON!! Cards”, and \\n“6-5-6. Battle”. You can perform these actions in any order and as many times as \\nyou wish. \\n6-5-2-1. On declaring the end of the Main Phase, proceed to “6-6. End Phase”. \\n6-5-3. Play a Card \\n6-5-3-1. You can pay the cost and play a Character card or Stage card , or activate an \\nEvent card marked with [Main] from your hand. You can perform th ese \\nactions in any order and as many times as you wish. \\n6-5-4. Activate a Card’s Effect \\n6-5-4-1. The turn player can activate effects marked with [Main] or [Activate: Main]. \\n6-5-5. Give DON!! Cards \\n6-5-5-1. Place 1 active DON!! card from your cost area underneath your Leader or a'),\n",
       " Document(metadata={'producer': 'Microsoft® Word for Microsoft 365', 'creator': 'Microsoft® Word for Microsoft 365', 'creationdate': '2025-02-20T12:30:45+09:00', 'moddate': '2025-02-20T14:31:46+09:00', 'title': 'Comprehensive Rules', 'source': 'C:\\\\Users\\\\tyson\\\\AppData\\\\Local\\\\Temp\\\\tmp8lyx1_u3.pdf', 'total_pages': 26, 'page': 13, 'page_label': '14'}, page_content='14 \\n \\nCharacter card in the cost area such that it remains visible . This is called \\n“giving”.  \\n6-5-5-2. Leader cards and Character cards gain 1000 power during your turn for each \\nDON!! card given to them. \\n6-5-5-3. Giving can be performed as many times as you wish to the extent possible. \\n6-5-5-4. When a card that has been given a DON!! card is moved to another area, all \\nDON!! cards given to that card are placed in the cost area and rested. \\n6-5-6. Battle \\n6-5-6-1. Neither player can battle on their first turn. \\n6-5-6-2. For more information on battles, please refer to “7. Card Attacks and Battles” \\nbelow. \\n6-6. End Phase \\n6-6-1. This is the phase in which various end-of-turn processes are carried out. \\n6-6-1-1. Auto effects that read “[End of Your Turn]” (Keyword) and “[End of Your \\nOpponent’s Turn]” (Keyword) are activated. \\n6-6-1-1-1. Auto effects that read “[End of Your Turn]” (Keyword) and “[End of \\nYour Opponent’s Turn]” (Keyword) can only be activated and resolved once. \\n6-6-1-1-2. After all “[End of Your Turn]” (Keyword) effects have been activated \\nand resolved, all “[End of Your Opponent’s Turn]”  (Keyword) effects are \\nactivated and resolved. \\n6-6-1-1-3. If there are multiple “[End of Your Turn]” (Keyword) effects to be \\nresolved, the turn player may activate and resolve them in any order. \\n6-6-1-1-4. If there are multiple “[End of Your Opponent’s Turn]”  (Keyword) \\neffects to be resolved, the non-turn player may activate and resolve them in \\nany order.  \\n6-6-1-2. After all processing that is to be carried out at this time has been \\ncompleted, any remaining effects are processed in the following order: \\n(1) Process any continuous effects of the turn player that have been activated \\nand resolved, but are only due to be processed “at the end of this turn” or \\n“at the end of your turn”. The turn player’s effects that last “until the end \\nof the turn” and “until the end of the End Phase” become invalid. If there \\nare multiple such processes, the turn player may process them in any \\norder. \\n(2) Process any continuous effects of the non-turn player that have been \\nactivated and resolved, but are only due to be processed “at the end of \\nthis turn” or “at the end of your opponent’s turn”. The non-turn player’s'),\n",
       " Document(metadata={'producer': 'Microsoft® Word for Microsoft 365', 'creator': 'Microsoft® Word for Microsoft 365', 'creationdate': '2025-02-20T12:30:45+09:00', 'moddate': '2025-02-20T14:31:46+09:00', 'title': 'Comprehensive Rules', 'source': 'C:\\\\Users\\\\tyson\\\\AppData\\\\Local\\\\Temp\\\\tmp8lyx1_u3.pdf', 'total_pages': 26, 'page': 14, 'page_label': '15'}, page_content=\"15 \\n \\neffects that last “until the end of the turn” and “until the end of the End \\nPhase” become invalid. If there are multiple such processes, the non-turn \\nplayer may process them in any order. \\n6-6-1-3. After all processing in 6-6-1-2 has been completed, the turn player’s effects \\nthat last “during this turn” become invalid. If there are multiple such processes, the \\nturn player may process them in any order. Then, any of the non-turn player’s effects \\nthat last “during this turn” become invalid. If there are multiple such processes, the \\nnon-turn player may process them in any order.  \\n6-6-1-4. The turn ends, the non -turn player becomes the new turn player, and the \\ngame proceeds to the Refresh Phase of the next turn.   \\n \\n7. Card Attacks and Battles  \\n7-1. During the Main Phase, the turn player can rest an active Leader card in their Leader \\narea, or an active Character card in their Character area, to attack an opponent’s Leader \\ncard in their Leader area, or rested Character card in their Character area. When an \\nattack is made, the game proceeds to Battle (see 6-5-6.) and is processed in order from \\nthe Attack Step (see 7-1-1.) to the Damage Step (see 7-1-4.). \\n7-1-1. Attack Step \\n7-1-1-1. Attacks are carried out by the Leader card, or a Character card in the \\nCharacter area. First,  the turn player  declares their attack by resting their  \\nactive Leader card or 1 active Character card. \\n7-1-1-2. The turn player then selects the target of their attack. The target can be either \\nthe opponent’s Leader card or 1 of their rested Character cards in their \\nCharacter area. \\n7-1-1-3. Effects that read [When Attacking] , “when you attack ”, or [On Your \\nOpponent's Attack] activate. \\n7-1-1-4. If, at the end of the Attack Step, the attacking card or the target card for the \\nattack has moved areas due to some method, proceed not to the Block Step \\n(see 7-1-2.), but to the End of the Battle (see 7-1-5.). \\n7-1-2. Block Step \\n7-1-2-1. The player being attacked can activate the [Blocker] effect of their card only \\nonce during that battle. \\n7-1-2-2. When a [Blocker] is activated, effects that read [On Block] or “when you block” \\nactivate. \\n7-1-2-3. If, at the end of the Block Step , the attacking card or the target card for the \\nattack has moved areas due to some method, proceed not the Counter Step\"),\n",
       " Document(metadata={'producer': 'Microsoft® Word for Microsoft 365', 'creator': 'Microsoft® Word for Microsoft 365', 'creationdate': '2025-02-20T12:30:45+09:00', 'moddate': '2025-02-20T14:31:46+09:00', 'title': 'Comprehensive Rules', 'source': 'C:\\\\Users\\\\tyson\\\\AppData\\\\Local\\\\Temp\\\\tmp8lyx1_u3.pdf', 'total_pages': 26, 'page': 15, 'page_label': '16'}, page_content='16 \\n \\n(see 7-1-3.), but to the End of the Battle (see 7-1-5.). \\n7-1-3. Counter Step \\n7-1-3-1. Effects of the player being attacked that read “when attacked” activate. \\n7-1-3-2. The player being attacked may perform the following actions in any order and \\nas many times as they wish: \\n7-1-3-2-1. Activate [(Symbol) Counter ]: The player being attacked may trash a \\nCharacter card with  [(Symbol) Counter] from their hand to activate an \\neffect that increases the power of their Leader or 1 Character card by the \\nvalue of the [(Symbol) Counter] during that battle. \\n7-1-3-2-2. Activate an Event card: The player being attacked may pay the cost of an \\nEvent card with [Counter] in their hand, and then trash it to activate the \\n[Counter] effect. \\n7-1-2-3. If, at the end of the Counter Step, the attacking card or the target card for \\nthe attack has moved areas due to some method, proceed not to the Damage \\nStep (see 7-1-4.), but to the End of the Battle (see 7-1-5.).  \\n7-1-4. Damage Step \\n7-1-4-1. Compare the power of the attacking card and the card being attacked. If the \\npower of the attacking card is greater than or equal to the power of the card \\nbeing attacked, the battle is won, and the result is either 7-1-4-1-1. or 7-1-4-\\n1-2., depending on the category of the card being attacked. \\n7-1-4-1-1. If a Leader card: 1 damage is dealt to that Leader. \\n7-1-4-1-1-1. If the opponent has 0 Life at the point when it is determined that \\ndamage will be dealt, the attacking player wins the game. \\n7-1-4-1-1-2. If the opponent has 1 or more Life at the point when it is determined \\nthat damage will be dealt, the opponent adds the card at the top of \\ntheir Life cards to their hand. At this time, if a card with [Trigger] is \\nadded to the opponent’s hand from their Life area, the opponent may \\nchoose to reveal the card and activate its [Trigger] instead of adding \\nit to their hand (see 10-1-5.). \\n7-1-4-1-1-3. If the damage taken is 2 or more due to an effect such as [Double \\nAttack], repeat 7-1-4-1-1-2. a number of times equal to the amount \\nof damage.  \\n7-1-4-1-2. If a Character card : That Character card is K.O.’d (see 10-2-1.). Then, \\nproceed to End of the Battle (see 7-1-5.). \\n7-1-4-2. If the power of the attacking card is less than the power of the card being \\nattacked, the attacking card will lose the battle, and nothing will happen during'),\n",
       " Document(metadata={'producer': 'Microsoft® Word for Microsoft 365', 'creator': 'Microsoft® Word for Microsoft 365', 'creationdate': '2025-02-20T12:30:45+09:00', 'moddate': '2025-02-20T14:31:46+09:00', 'title': 'Comprehensive Rules', 'source': 'C:\\\\Users\\\\tyson\\\\AppData\\\\Local\\\\Temp\\\\tmp8lyx1_u3.pdf', 'total_pages': 26, 'page': 16, 'page_label': '17'}, page_content='17 \\n \\nthat battle. Then, proceed to the End of the Battle (see 7-1-5.). \\n7-1-5. End of the Battle \\n7-1-5-1. The battle ends. \\n7-1-5-2. Your own and your opponent’s effects that read “at the end of the/this battle” \\nor “if this ... battles” activate. \\n7-1-5-3. The turn player’s effects that last “during this battle” become invalid. \\n7-1-5-4. The non-turn player’s effects that last “during this battle” become invalid. \\n7-1-5-5. The battle ends and the game returns to 6-5-2. \\n \\n8. Activating and Resolving Effects \\n8-1. Effects \\n8-1-1. “Effect” refers to a command issued by the text of a card and its cost. \\n8-1-2. Effects may include words indicating choice, such as “can” and “may”. Where such \\na word is included, players may choose not to activate the relevant effect. Where \\nno such word is included, the effect must always be activated and processed to the \\nextent possible. \\n8-1-3. Effects generally fall into one of four categories: “auto effects”, “activate effects”, \\n“permanent effects”, and “replacement effects”. \\n8-1-3-1. “Auto effects” always activate once automatically when the activation event \\ndescribed in the text occurs during the game. If the same event occurs again, \\nthe effect automatically activates again as many times as the event occurs, \\nunless otherwise specified. \\n8-1-3-1-1. Auto effects may be described in card text as [On Play], [When \\nAttacking], [On Block], [On K.O.], [End of Your Turn], and [End of Your \\nOpponent’s Turn]. In the case of other descriptions such as “when ...” and \\n“on ...”, these effects are still categorized as auto effects. \\n8-1-3-1-2. Some a uto effects require an activation cost and/or the fulfillment of \\nconditions. \\n8-1-3-1-3. An auto effect will not activate and cannot be resolved even if the \\nactivation timing is fulfilled if the card that fulfilled the activation timing of \\nthat auto effect moves to another area before that effect is activated. \\n8-1-3-2. “Activate effects” can be declared and activated by the turn player during their \\nMain Phase (see 6-5-4.). \\n8-1-3-2-1. Activate effects may be described in card text as [Activate: Main] or \\n[Main]. \\n8-1-3-2-2. Some activate effects require an activation cost and/or the fulfillment of'),\n",
       " Document(metadata={'producer': 'Microsoft® Word for Microsoft 365', 'creator': 'Microsoft® Word for Microsoft 365', 'creationdate': '2025-02-20T12:30:45+09:00', 'moddate': '2025-02-20T14:31:46+09:00', 'title': 'Comprehensive Rules', 'source': 'C:\\\\Users\\\\tyson\\\\AppData\\\\Local\\\\Temp\\\\tmp8lyx1_u3.pdf', 'total_pages': 26, 'page': 17, 'page_label': '18'}, page_content=\"18 \\n \\nconditions. \\n8-1-3-3. “Permanent effects” constantly affect gameplay in some way while they are \\nvalid. \\n8-1-3-3-1. Permanent effects may be those effects that, based on the card text, \\ncannot be classified as auto , activate, or replacement effects, but can be \\nclassified as permanent effects. \\n8-1-3-3-2. Some permanent effects require the fulfillment of conditions for their \\neffect to be valid. \\n8-1-3-3-3. Some permanent effects read “according to/under the rules”. In this case, \\nthe effect is valid and continues to affect gameplay even when the card is in \\na secret area. \\n8-1-3-3-4. “Permanent effects” constantly affect gameplay in some way while they \\nare valid. \\n8-1-3-3-5. If a permanent effect changes its own impact on the game or that of \\nanother permanent effect, the following order is used to process the changes, \\ntaking into account any continuous effects that have already been resolved: \\nI. The turn player processes their permanent effects in any order.  \\nII. The non-turn player processes their permanent effects in any order. \\nIII. If steps I and II change the game's state further, repeat the process until no \\nfurther changes occur. \\n8-1-3-4. “Replacement effects” are those effects that are denoted by the word “instead”. \\n8-1-3-4-1. If a replacement is available but you choose not to apply the replacement,  \\nthe replacement effect will not be resolved. \\n8-1-3-4-2. If more than one replacement effect could apply to replace a situation, \\nthe replacement effect of the card that generated that replacement effect \\ntakes precedence, followed by the replacement effects of the turn player \\nin the order chosen by that player. Then, the non-turn player may apply \\ntheir replacement effects in the order they choose. \\n8-1-3-4-3. Once a situation has been replaced, it cannot be further replaced by other \\nreplacement effects. \\n8-1-3-4-4. A replacement effect applies to replace the entire part of the processing \\nof an effect indicated by the replacement effect, even if the processing of \\nthat effect is still in progress. \\n8-1-3-4-4-1. If an effect is applied in order starting from the text closest to the top \\nand a replacement effect is applied in the middle of that text, the \\nremaining text is carried out in order after the replacement effect is\"),\n",
       " Document(metadata={'producer': 'Microsoft® Word for Microsoft 365', 'creator': 'Microsoft® Word for Microsoft 365', 'creationdate': '2025-02-20T12:30:45+09:00', 'moddate': '2025-02-20T14:31:46+09:00', 'title': 'Comprehensive Rules', 'source': 'C:\\\\Users\\\\tyson\\\\AppData\\\\Local\\\\Temp\\\\tmp8lyx1_u3.pdf', 'total_pages': 26, 'page': 18, 'page_label': '19'}, page_content='19 \\n \\napplied. \\n8-1-3-4-5. If it is not possible to carry out the replacement effect specified by \\n“instead”, that replacement effect cannot be applied. \\n8-1-4. Effects can be one-shot effects or continuous effects. \\n8-1-4-1. One-shot effects refer to effects that affect the game at the moment they are \\nresolved and complete their processing immediately.  \\n8-1-4-2. Continuous effects refer to effects that continue to affect the game for a \\nspecified duration.  \\n8-2. Valid and Invalid Effects \\n8-2-1. Some effects may render specific effects valid or invalid. In this case, process the \\neffect according to the rules below: \\n8-2-1-1. If it is specified  that an effect is partially or totally invalid under specific \\nconditions, the invalid effect will not occur. If that effect requires a choice, the \\nchoice will not be made. If that effect has an activation cost, that cost cannot \\nbe paid. \\n8-2-1-2. If it is specified that an effect is partially or totally valid only under specific \\nconditions, that part is invalid if those conditions are not fulfilled. \\n8-2-2. Cards with invalid effects are not treated as cards with “no base effect”. \\n8-2-3. Auto effects or activate effects that have already been activated and resolved are \\nnot invalidated by other effects. \\n8-2-4. If a card with an effect that has been invalidated gains a new effect, that effect is \\nnot invalidated unless otherwise indicated. \\n8-3. Activation Cost and Conditions \\n8-3-1. An effect may specify that the action before the :  colon must be taken. This is \\nreferred to as the effect’s activation cost. \\n8-3-1-1. If there are multiple actions in one activation cost, they are to be carried out \\nin order starting from the text closest to the top. \\n8-3-1-2. Then, if activation costs are added by other effects, these are to be carried out \\nin the order for resolving those effects. \\n8-3-1-3. If it is not possible to pay some or all of the activation cost, the activation cost \\nto activate the effect cannot be paid at all. \\n8-3-1-4. Activation costs may be specified using “can” or “may”. The player can choose \\nnot to pay the activation cost; however, this will mean the effect cannot be \\nactivated. \\n8-3-1-5. Activation costs may be specified using a symbol such as ① . That symbol \\nmeans that the player must select a number of active DON!! cards equal to the'),\n",
       " Document(metadata={'producer': 'Microsoft® Word for Microsoft 365', 'creator': 'Microsoft® Word for Microsoft 365', 'creationdate': '2025-02-20T12:30:45+09:00', 'moddate': '2025-02-20T14:31:46+09:00', 'title': 'Comprehensive Rules', 'source': 'C:\\\\Users\\\\tyson\\\\AppData\\\\Local\\\\Temp\\\\tmp8lyx1_u3.pdf', 'total_pages': 26, 'page': 19, 'page_label': '20'}, page_content='20 \\n \\nnumber in the symbol from their cost area and rest them. \\n8-3-1-6. Activation costs may be specified using a symbol such as “DON!! −X”. This \\nmeans that the player must select a total number of DON!! cards equal to the \\nvalue of X from their Leader area, Character area, and cost area, and return \\nthem to their DON!! deck. \\n8-3-1-7. Where an activation cost is replaced according to an effect, it is possible to \\ncarry out the replacement processing instead of paying the activation cost. If \\nthe activation cost is not paid as described in the text, the effect following the : \\ncolon will not be processed. \\n8-3-1-8. Effect text may  include text such as “when...”. This is referred to as the \\nactivation timing of that effect. Some keywords also have activation timing. \\n8-3-2. Effect text may include text such as [DON!! xX], [Your Turn], and [Opponent’s \\nTurn]. This is referred to as the effect’s condition.  \\n8-3-2-1. If there are multiple conditions in one effect, all of the conditions must be \\nfulfilled. \\n8-3-2-2. If other conditions are added by another effect, all of those conditions must \\nalso be fulfilled. \\n8-3-2-3. Conditions may be specified using [DON!! xX]. This condition is met when \\nthe number of DON!! cards given to this card is equal to or greater than the \\nvalue of X. \\n8-3-2-4. Conditions may be specified using [Your Turn]. This condition is met during \\nyour turn. \\n8-3-2-5. Conditions may be specified using [Opponent’s Turn]. This condition is met \\nduring your opponent’s turn. \\n8-3-3. Effect text may include “if...”. So long as that clause is not fulfilled, effects after \\nthe “if” clause will not be resolved. \\n8.4. Activation and Resolution \\n8-4-1. To activate an effect, follow the procedure below: \\n8-4-1-1. If there are conditions for activation, those conditions must be met. The effect \\ncannot be activated if the conditions are not met. \\n8-4-1-2. Specify the effect to be activated. If it is an effect of a card in your hand, reveal \\nthat card. \\n8-4-1-3. If there are activation costs required to activate that effect, determine the \\nactivation costs and pay all activation costs. \\n8-4-1-4. Activate the effect. \\n8-4-1-5. Resolve the effect.'),\n",
       " Document(metadata={'producer': 'Microsoft® Word for Microsoft 365', 'creator': 'Microsoft® Word for Microsoft 365', 'creationdate': '2025-02-20T12:30:45+09:00', 'moddate': '2025-02-20T14:31:46+09:00', 'title': 'Comprehensive Rules', 'source': 'C:\\\\Users\\\\tyson\\\\AppData\\\\Local\\\\Temp\\\\tmp8lyx1_u3.pdf', 'total_pages': 26, 'page': 20, 'page_label': '21'}, page_content='21 \\n \\n8-4-2. When activating the effect of an  Event card, trash that Event card and carry out \\nthe specified effect. \\n8-4-3. When the effect of a card in the Leader area, Character area, or Stage area is \\nactivated, carry out that effect. \\n8-4-4. When “choose”, “select”, “up to” or another phrase indicating choice is included \\nin the effect, the indicated cards, players, or other item s are to be chosen when \\nrequired to do so during the resolution of the skill. \\n8-4-4-1. When the number to be chosen is specified, the player must choose as many \\ncards, players, or other items  as they can, up to the number specified. \\nHowever, if “up to” is specified, the player may also choose 0. \\n8-4-4-2. When the items to be chosen are unrevealed cards in a secret area, and the \\nchoice requires information from the card, players cannot guarantee that the \\nchosen card meets the required conditions. Thus, a player can decide not to \\nchoose a card from a secret area, even if it may fulfill the conditions. \\n8-4-4-3. When there are no specific instructions in the text for choosing a card, player, \\nor other item, if the effect applies to a card, it indicates the card from which \\nthe effect originates. If the effect applies to a player, it indicates the player of \\nthat effect. \\n8-4-4-4. When choosing cards from the deck, check the cards’ faces and choose the \\nspecified cards. \\n8-4-5. Auto effects that activate when a card is moved from one area to another will only \\nactivate if the area the card is moved to is an open area. For example, this applies \\nto cards with an [On K.O.] effect. \\n8-4-6. When an effect is activated, it is activated and resolved taking into account any \\ncontinuous effects that were resolved before it, as well as any valid permanent \\neffects. \\n8-5. Card Activation and Effect Activation \\n8-5-1. Card activation and effect activation are different. \\n8-5-2. Card activation refers to using an Event card from your hand. \\n8-5-3. Effect activation refers to activating the effect of a card. \\n8-5-4. For example, when a card reads “when you activate an Event”, it is referring to \\ncard activation. \\n8-6. Order of Effect Resolution \\n8-6-1. When the activation timing of card effects of both the turn player and non -turn \\nplayer is fulfilled at the same time, the turn player will resolve their effect first. If, \\nin so doing, the activation timing of another card effect of the turn player is'),\n",
       " Document(metadata={'producer': 'Microsoft® Word for Microsoft 365', 'creator': 'Microsoft® Word for Microsoft 365', 'creationdate': '2025-02-20T12:30:45+09:00', 'moddate': '2025-02-20T14:31:46+09:00', 'title': 'Comprehensive Rules', 'source': 'C:\\\\Users\\\\tyson\\\\AppData\\\\Local\\\\Temp\\\\tmp8lyx1_u3.pdf', 'total_pages': 26, 'page': 21, 'page_label': '22'}, page_content='22 \\n \\nfulfilled, the non -turn player will first resolve their card effect for which the \\nactivation timing has been fulfilled. After that, the turn player will resolve their \\ncard effect. \\n8-6-1-1. If the activation timing of effects A and B of the turn player are fulfilled at \\nthe same time, and effect A is resolved first, thereby fulfilling the activation \\ntiming of effect C, effect C can be resolved following the resolution of effect \\nB. \\n8-6-2. If the activation timing of an effect is fulfilled during damage processing, the effect \\ncan be activated after all damage processing has been resolved. \\n8-6-2-1. If a Life card that is checked during damage processing has [Trigger], you \\ncan temporarily suspend the damaging processing, reveal the card with \\n[Trigger] and activate that [Trigger] effect instead of adding it to your \\nhand. \\n8.6.3. If the activation timing of an effect is fulfilled by activating a card or activating \\nan effect, the effect can be activated after the resolution of the effect of the \\npreviously activated card. \\n \\n9. Rule Processing  \\n9-1. Fundamental Rule Processing \\n9-1-1. Rule processing refers to processing that is automatically carried out according to \\nthe rules when specific events have occurred or are occurring during the game. \\n9-1-2. Rule processing is immediately resolved when the corresponding event occurs , \\neven if other actions are in the process of being carried out. \\n9-2. Defeat Judgment Processing \\n9-2-1. At the point when rule processing begins, if any player fulfil ls any of the defeat \\nconditions below, all of those players lose the game. \\n9-2-1-1. If either player’s Leader takes damage when that player has 0 Life cards, that \\nplayer has fulfilled the defeat conditions for the game. \\n9-2-1-2. If either player has 0 cards in their deck, that player  has fulfilled the defeat \\nconditions for the game. \\n \\n10. Keyword Effects and Keywords  \\n10-1. Keyword Effects \\n10-1-1. [Rush] \\n10-1-1-1. [Rush] is a keyword effect that allows a Character card to attack during the \\nsame turn in which it is played.'),\n",
       " Document(metadata={'producer': 'Microsoft® Word for Microsoft 365', 'creator': 'Microsoft® Word for Microsoft 365', 'creationdate': '2025-02-20T12:30:45+09:00', 'moddate': '2025-02-20T14:31:46+09:00', 'title': 'Comprehensive Rules', 'source': 'C:\\\\Users\\\\tyson\\\\AppData\\\\Local\\\\Temp\\\\tmp8lyx1_u3.pdf', 'total_pages': 26, 'page': 22, 'page_label': '23'}, page_content='23 \\n \\n10-1-2. [Double Attack] \\n10-1-2-1. [Double Attack] is a keyword effect that causes 2 damage to be dealt to the \\nLeader’s Life instead of 1. \\n10-1-3. [Banish] \\n10-1-3-1. [Banish] is a keyword effect that , when damage is dealt to the opponent \\nLeader’s Life, causes a card in the opponent’s Life area to be trashed instead \\nof being added to their hand. At this time, the [Trigger] is not activated. \\n10-1-4. [Blocker] \\n10-1-4-1. [Blocker] is a keyword effect with an activation timing that is fulfilled when \\none of your other cards is being attacked , allowing you to  activate it by \\nresting this card during the Block Step . The [Blocker] card takes the place \\nof the card being attacked. \\n10-1-5. [Trigger] \\n10-1-5-1. [Trigger] is a keyword effect that, on taking damage when there is a card in \\nyour Life area with [Trigger], allows you to reveal that card and activate its \\n[Trigger], instead of adding the card to your hand. \\n10-1-5-2. You can also choose not to activate the [Trigger]. In such a case, add the \\ncard to your hand without revealing it. \\n10-2. Keywords \\n10-2-1. K.O. \\n10-2-1-1. “K.O.” is a keyword that refers to a Character card being trashed on losing \\na battle, or a Character card being trashed due to a card’s effect. \\n10-2-1-2. As an instruction , “K.O.” means to place a Character card from the \\nCharacter area into the owner of that card’s trash. \\n10-2-1-3. [On K.O.] and  effects that read  “cannot be K.O. ’d” or similar are only \\nvalid when the card is K.O.’d by an effect or due to the result of a battle. If \\na Character card is trashed due to some other method, it is not treated as \\n“K.O.’d”.  \\n10-2-2. [Activate: Main] \\n10-2-2-1. [Activate: Main] is a keyword indicating an effect can be activated during \\nthe Main Phase, except when in battle. \\n10-2-3. [Main]  \\n10-2-3-1. [Main] is a keyword exclusively found on Event cards that can only be used \\nduring the Main Phase, except in battle. It indicates that an effect can be \\nactivated by using an Event card during the Main Phase, except in battle. \\n10-2-4. [Counter]'),\n",
       " Document(metadata={'producer': 'Microsoft® Word for Microsoft 365', 'creator': 'Microsoft® Word for Microsoft 365', 'creationdate': '2025-02-20T12:30:45+09:00', 'moddate': '2025-02-20T14:31:46+09:00', 'title': 'Comprehensive Rules', 'source': 'C:\\\\Users\\\\tyson\\\\AppData\\\\Local\\\\Temp\\\\tmp8lyx1_u3.pdf', 'total_pages': 26, 'page': 23, 'page_label': '24'}, page_content='24 \\n \\n10-2-4-1. [Counter] is a keyword exclusively found on Event cards that can only be \\nused during your opponent’s Counter Step. It indicates that an effect can \\nbe activated by using an Event card during the Counter Step.   \\n10-2-5. [When Attacking] \\n10-2-5-1. [When Attacking] is a keyword indicating that the activation timing is \\nfulfilled and an effect activates  when you declare an attack during your \\nAttack Step (see 7-1-1.). \\n10-2-6. [On Play] \\n10-2-6-1. [On Play] is a keyword indicating that the activation timing is fulfilled and \\nan effect activates when the card is played. \\n10-2-7. [End of Your Turn] \\n10-2-7-1. [End of Your Turn] is a keyword indicating that the activation timing is \\nfulfilled and an effect activates at the End Phase of your turn (see 6 -6-1-\\n1.). \\n10-2-8. [End of Your Opponent’s Turn] \\n10-2-8-1. [End of Your Opponent’s Turn] is a keyword indicating that the activation \\ntiming is fulfilled and an effect activates at the End Phase of your \\nopponent’s turn. \\n10-2-9. [DON!! xX] \\n10-2-9-1. [DON!! xX] is a keyword indicating a condition that is satisfied when this \\ncard originally has no or less than X number of DON!! cards and is given \\nDON!! cards such that the number of DON!! cards given to it is X or higher. \\n10-2-10. DON!! −X \\n10-2-10-1. “DON!! −X” is a keyword indicating a condition requiring you to select \\na total number of DON!! cards equal to the value of X from your Leader \\narea, Character area, and cost area, and return them to your DON!! deck. \\n10-2-11. [Your Turn] \\n10-2-11-1. [Your Turn] is a keyword  indicating a condition that is satisfied during \\nyour turn.  \\n10-2-12. [Opponent’s Turn] \\n10-2-12-1. [Opponent’s Turn] is a keyword indicating a condition that is satisfied \\nduring your opponent’s turn. \\n10-2-13. [Once Per Turn] \\n10-2-13-1. [Once Per Turn] is a keyword indicating an effect can only be activated \\nand resolved once during that turn. \\n10-2-13-2. Where there are multiple cards with the same effect, [Once Per Turn]'),\n",
       " Document(metadata={'producer': 'Microsoft® Word for Microsoft 365', 'creator': 'Microsoft® Word for Microsoft 365', 'creationdate': '2025-02-20T12:30:45+09:00', 'moddate': '2025-02-20T14:31:46+09:00', 'title': 'Comprehensive Rules', 'source': 'C:\\\\Users\\\\tyson\\\\AppData\\\\Local\\\\Temp\\\\tmp8lyx1_u3.pdf', 'total_pages': 26, 'page': 24, 'page_label': '25'}, page_content='25 \\n \\neffects can be activated and resolved once for each card. \\n10-2-13-3. After a [Once Per Turn] effect has been resolved once, it cannot be \\nactivated again, even if the conditions can be  met during that turn.  In \\naddition, that card’s activation cost cannot be paid again during that turn. \\n10-2-13-4. If a card is moved to another area after its [Once Per Turn] effect has been \\nresolved once, if the card once again appears on the field,  the [Once Per \\nTurn] effect can be activated again because it is treated as a different card. \\n(See 3-1-6.) \\n10-2-14. Trash \\n10-2-14-1. “Trash” is a keyword indicating that a card is to be selected from the hand \\nand placed in the trash. \\n10-2-15. [On Block] \\n10-2-15-1. [On Block] is a keyword indicating that the activation timing is fulfilled and \\nan effect activates during the Block Step when you  have activated your  \\n[Blocker] (see 7-1-2-2.). \\n10-2-16. [On Your Opponent’s Attack] \\n10-2-16-1. [On Your Opponent’s Attack] is a keyword indicating that the activation \\ntiming is fulfilled when your opponent has declared an attack during their \\nAttack Step (see 7 -1-1.), and  an effect activates after your opponent’s \\n[When Attacking] and other Attack Step effects, if any, have been activated \\n(see 7-1-1-3.). \\n10-2-17. [On K.O.] \\n10-2-17-1. [On K.O.] is a keyword indicating that when the card is K.O.’d on the field, \\nthe activation timing is fulfilled and you should check whether the \\nactivation conditions have been met. If all the conditions have been met, \\nthe effect is activated on the field. After that, the Character card with the \\nactivated [On K.O.] effect is trashed, and the [On K.O.] effect is resolved \\nwhile the card is in the trash. \\n10-2-17-2. [On K.O.] is different from other auto effects because the Character card \\nmoves areas between the effect is activated and resolved. \\n \\n11. Other  \\n11-1. Infinite Loops \\n11-1-1. When carrying out some processing, there may be occasions where an action can \\nbe or must be carried out infinitely. This is called an infinite loop, and one cycle \\nof action from the start to the end of the loop is called a loop action. If such an'),\n",
       " Document(metadata={'producer': 'Microsoft® Word for Microsoft 365', 'creator': 'Microsoft® Word for Microsoft 365', 'creationdate': '2025-02-20T12:30:45+09:00', 'moddate': '2025-02-20T14:31:46+09:00', 'title': 'Comprehensive Rules', 'source': 'C:\\\\Users\\\\tyson\\\\AppData\\\\Local\\\\Temp\\\\tmp8lyx1_u3.pdf', 'total_pages': 26, 'page': 25, 'page_label': '26'}, page_content='26 \\n \\nevent occurs, follow the procedure below. \\n11-1-1-1. If neither player can stop an infinite loop, the game ends in a draw. \\n11-1-1-2. If only one player has the choice to stop the infinite loop during the loop \\naction, that player declares how many times they wish to carry out the loop \\naction. Carry out the loop action that many times and finish it at a timing \\nwhen that player can choose to stop the infinite loop. The player cannot \\nchoose to restart the loop even if the game is in exactly the same state (all \\ncards in all areas are the same) as before the loop unless they are forced to \\ndo so. \\n11-1-1-3. If both players have the choice to stop the infinite loop during the loop action, \\nthe turn player first decides how many times they wish to carry out the loop \\naction. Next, the non-turn player decides how many times they wish to carry \\nout the loop action. Carry out the loop action the fewer of these two times \\nand finish it at a timing when the player  who chose the fewer of these two \\ntimes can choose to stop the infinite loop. The player s cannot  choose to \\nrestart the loop even if the game is in exa ctly the same state (all cards in all \\nareas are the same) as before the loop unless they are forced to do so. \\n11-2. Revealing Cards \\n11-2-1. When a card is required to be moved from one secret area to another secret area, \\nsuch as “Add Monkey.D.Luffy from your deck to your hand”, the card being \\nmoved must always be revealed, even if there are no instructions to reveal it. \\n11-2-2. When a card in a secret area is revealed by a card’s effect or cost, the card is set \\nas unrevealed after that card’s effect or cost is resolved. \\n11-3. Viewing Secret Areas \\n11-3-1. Some effects enable players to look at secret areas. Unless otherwise specified by \\nthe card, such effects apply only to the player of that effect. \\n11-3-2. Cards remain in their original areas while being looked at. \\n11-3-3. After looking at cards in secret areas, if there is nothing in the card text regarding \\nactions to be taken in reference to the cards that were looked at, those cards must \\nbe returned to their original area in their original state.')]"
      ]
     },
     "execution_count": 4,
     "metadata": {},
     "output_type": "execute_result"
    }
   ],
   "source": [
    "# RAG For Docs\n",
    "comp_rules"
   ]
  },
  {
   "cell_type": "code",
   "execution_count": 5,
   "id": "e29a071d",
   "metadata": {},
   "outputs": [],
   "source": [
    "@tool\n",
    "def rulebook_lookup(query: str) -> str:\n",
    "    \"\"\"Looks up a rule in the One Piece TCG rulebook.\"\"\"\n",
    "    # In a real implementation, this would query a database or API.\n",
    "    rules = {\n",
    "        \"What happens if two characters with the same name are played on the same team?\": \"Characters with the same name cannot be played on the same team. If you already have a character in play, you cannot play another character with the same name.\",\n",
    "        \"How does the Don!! system work?\": \"Don!! cards are used to pay costs and activate abilities. You can attach Don!! cards to characters to increase their power or use them to pay for events and character abilities.\",\n",
    "        \"What is the difference between active and rest positions?\": \"Active position means the card is upright and can attack or use abilities. Rest position means the card is turned sideways and cannot attack until it becomes active again during your next turn.\",\n",
    "        \"How do you win the game?\": \"You win by reducing your opponent's life to 0. Life is reduced when your opponent takes damage and has no cards left in their life area to trash.\",\n",
    "        \"What is a counter ability?\": \"Counter abilities can be activated during your opponent's turn when specific conditions are met, usually when one of your characters is being attacked.\"\n",
    "    }\n",
    "    return rules.get(query, \"Rule not found.\")"
   ]
  },
  {
   "cell_type": "code",
   "execution_count": 6,
   "id": "8185c179",
   "metadata": {},
   "outputs": [],
   "source": [
    "tools = [rulebook_lookup]\n",
    "agent = create_react_agent(\n",
    "    model=ChatOpenAI(model=\"gpt-4.1-mini\", temperature=0),\n",
    "    name=\"RulebookAgent\",\n",
    "    tools=tools, \n",
    "    prompt=\"You are a helpful assistant that helps people find information in the Rulebook for One Piece TCG. You have access to the following tools: {tools}. Use them to find the information the user is looking for. If you don't know the answer, just say you don't know. Do not try to make up an answer.\",\n",
    ")"
   ]
  },
  {
   "cell_type": "code",
   "execution_count": 7,
   "id": "ec603309",
   "metadata": {},
   "outputs": [
    {
     "name": "stdout",
     "output_type": "stream",
     "text": [
      "================================\u001b[1m Human Message \u001b[0m=================================\n",
      "\n",
      "What happens if two characters with the same name are played on the same team?\n",
      "==================================\u001b[1m Ai Message \u001b[0m==================================\n",
      "Name: RulebookAgent\n",
      "Tool Calls:\n",
      "  rulebook_lookup (call_PKkircNK3uQSxN1NV6lDwEsx)\n",
      " Call ID: call_PKkircNK3uQSxN1NV6lDwEsx\n",
      "  Args:\n",
      "    query: two characters with the same name on the same team\n",
      "=================================\u001b[1m Tool Message \u001b[0m=================================\n",
      "Name: rulebook_lookup\n",
      "\n",
      "Rule not found.\n",
      "==================================\u001b[1m Ai Message \u001b[0m==================================\n",
      "Name: RulebookAgent\n",
      "\n",
      "I couldn't find a specific rule in the One Piece TCG rulebook about what happens if two characters with the same name are played on the same team. If you have any other questions or need information on a related topic, feel free to ask!\n"
     ]
    }
   ],
   "source": [
    "response = agent.invoke(\n",
    "    {\"messages\": [{\n",
    "        \"role\": \"user\", \n",
    "        \"content\": \"What happens if two characters with the same name are played on the same team?\"\n",
    "    }]}\n",
    ")\n",
    "for m in response[\"messages\"]:\n",
    "    m.pretty_print()"
   ]
  },
  {
   "cell_type": "code",
   "execution_count": 8,
   "id": "31060168",
   "metadata": {},
   "outputs": [
    {
     "data": {
      "text/plain": [
       "'Characters with the same name cannot be played on the same team. If you already have a character in play, you cannot play another character with the same name.'"
      ]
     },
     "execution_count": 8,
     "metadata": {},
     "output_type": "execute_result"
    }
   ],
   "source": [
    "rules = {\n",
    "        \"What happens if two characters with the same name are played on the same team?\": \"Characters with the same name cannot be played on the same team. If you already have a character in play, you cannot play another character with the same name.\"}\n",
    "rules.get(\"What happens if two characters with the same name are played on the same team?\", \"Rule not found.\")"
   ]
  },
  {
   "cell_type": "code",
   "execution_count": null,
   "id": "4d8f3724",
   "metadata": {},
   "outputs": [],
   "source": []
  },
  {
   "cell_type": "code",
   "execution_count": 9,
   "id": "e765492d",
   "metadata": {},
   "outputs": [],
   "source": [
    "# Example: Load a PDF from a URL\n",
    "# Replace this with your actual PDF URL\n",
    "pdf_url = \"https://example.com/your-pdf-file.pdf\"\n",
    "\n",
    "# Uncomment the lines below to test with a real PDF URL\n",
    "# documents = load_pdf_from_url(pdf_url)\n",
    "# if documents:\n",
    "#     print(f\"Successfully loaded {len(documents)} pages from the PDF\")\n",
    "#     \n",
    "#     # Show first page content (first 500 characters)\n",
    "#     if len(documents) > 0:\n",
    "#         print(f\"\\nFirst page content preview:\")\n",
    "#         print(documents[0].page_content[:500] + \"...\")\n",
    "#         \n",
    "#         # Show metadata\n",
    "#         print(f\"\\nPage metadata:\")\n",
    "#         print(documents[0].metadata)\n",
    "# else:\n",
    "#     print(\"Failed to load PDF\")"
   ]
  },
  {
   "cell_type": "code",
   "execution_count": 10,
   "id": "32393173",
   "metadata": {},
   "outputs": [
    {
     "name": "stdout",
     "output_type": "stream",
     "text": [
      "Path type: <class 'type'>\n",
      "Path.home() type: <class 'pathlib._local.WindowsPath'>\n",
      "Path.home() value: C:\\Users\\tyson\n",
      "home: C:\\Users\\tyson, type: <class 'pathlib._local.WindowsPath'>\n",
      "cache: C:\\Users\\tyson\\.cache, type: <class 'pathlib._local.WindowsPath'>\n",
      "final_path: C:\\Users\\tyson\\.cache\\onepiece_vectorstore, type: <class 'pathlib._local.WindowsPath'>\n"
     ]
    }
   ],
   "source": [
    "# Debug cell - check Path object\n",
    "print(f\"Path type: {type(Path)}\")\n",
    "print(f\"Path.home() type: {type(Path.home())}\")\n",
    "print(f\"Path.home() value: {Path.home()}\")\n",
    "\n",
    "# Test the problematic line step by step\n",
    "home = Path.home()\n",
    "print(f\"home: {home}, type: {type(home)}\")\n",
    "\n",
    "cache = home / \".cache\"\n",
    "print(f\"cache: {cache}, type: {type(cache)}\")\n",
    "\n",
    "final_path = cache / \"onepiece_vectorstore\"\n",
    "print(f\"final_path: {final_path}, type: {type(final_path)}\")"
   ]
  },
  {
   "cell_type": "code",
   "execution_count": null,
   "id": "8ed445d2",
   "metadata": {},
   "outputs": [],
   "source": []
  }
 ],
 "metadata": {
  "kernelspec": {
   "display_name": ".venv",
   "language": "python",
   "name": "python3"
  },
  "language_info": {
   "codemirror_mode": {
    "name": "ipython",
    "version": 3
   },
   "file_extension": ".py",
   "mimetype": "text/x-python",
   "name": "python",
   "nbconvert_exporter": "python",
   "pygments_lexer": "ipython3",
   "version": "3.13.1"
  }
 },
 "nbformat": 4,
 "nbformat_minor": 5
}
