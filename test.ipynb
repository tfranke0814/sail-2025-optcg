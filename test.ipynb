{
 "cells": [
  {
   "cell_type": "code",
   "execution_count": null,
   "id": "e4a064d3",
   "metadata": {},
   "outputs": [],
   "source": [
    "from dotenv import load_dotenv\n",
    "from IPython.display import display, Image\n",
    "\n",
    "from langchain_openai import ChatOpenAI\n",
    "from langgraph.prebuilt import create_react_agent\n",
    "from langchain_core.tools import tool\n",
    "from langchain_core.tools.retriever import create_retriever_tool\n",
    "\n",
    "# For QA-Retriever\n",
    "from langchain_core.prompts import PromptTemplate\n",
    "from langchain.chains.combine_documents import create_stuff_documents_chain\n",
    "from langchain.chains import create_retrieval_chain\n",
    "\n",
    "# Custom Import\n",
    "from optcg.vectorstore_logic import check_for_updates_to_rules, create_or_load_vectorstore_optcg_rulebooks\n",
    "\n",
    "from langsmith import traceable\n",
    "from langsmith.wrappers import wrap_openai\n",
    "from openai import OpenAI\n",
    "openai_client = wrap_openai(OpenAI())\n",
    "\n",
    "_ = load_dotenv() # Loads the .env file - e.g. the OPENAI_API_KEY"
   ]
  },
  {
   "cell_type": "code",
   "execution_count": 12,
   "id": "f7ddad2e",
   "metadata": {},
   "outputs": [
    {
     "name": "stdout",
     "output_type": "stream",
     "text": [
      "Loading existing vector store...\n"
     ]
    }
   ],
   "source": [
    "vectorstore = create_or_load_vectorstore_optcg_rulebooks()"
   ]
  },
  {
   "cell_type": "code",
   "execution_count": 8,
   "id": "2096dfdc",
   "metadata": {},
   "outputs": [
    {
     "data": {
      "text/plain": [
       "Tool(name='rulebooks_retriever', description='Retrieves relevant information from the One Piece TCG rulebooks. This tool is useful for answering questions about the rules of the game, such as how to play, what cards do, and how to resolve specific situations. This is a retrieval tool that will return relevant document chunks from the vectorstore, which contains the rulebooks of the One Piece TCG.', args_schema=<class 'langchain_core.tools.retriever.RetrieverInput'>, func=functools.partial(<function _get_relevant_documents at 0x000001DB9CBC2B60>, retriever=VectorStoreRetriever(tags=['Chroma', 'OpenAIEmbeddings'], vectorstore=<langchain_chroma.vectorstores.Chroma object at 0x000001DB9CDBEC10>, search_kwargs={}), document_prompt=PromptTemplate(input_variables=['page_content'], input_types={}, partial_variables={}, template='{page_content}'), document_separator='\\n\\n', response_format='content'), coroutine=functools.partial(<function _aget_relevant_documents at 0x000001DB9CC00180>, retriever=VectorStoreRetriever(tags=['Chroma', 'OpenAIEmbeddings'], vectorstore=<langchain_chroma.vectorstores.Chroma object at 0x000001DB9CDBEC10>, search_kwargs={}), document_prompt=PromptTemplate(input_variables=['page_content'], input_types={}, partial_variables={}, template='{page_content}'), document_separator='\\n\\n', response_format='content'))"
      ]
     },
     "execution_count": 8,
     "metadata": {},
     "output_type": "execute_result"
    }
   ],
   "source": [
    "# Create the retriever tool directly\n",
    "rulebook_retriever_tool = create_retriever_tool(\n",
    "    retriever=vectorstore.as_retriever(), \n",
    "    name=\"rulebooks_retriever\",\n",
    "    description=\"\"\"Retrieves relevant information from the One Piece TCG rulebooks. This tool is useful for answering questions about the rules of the game, such as how to play, what cards do, and how to resolve specific situations. This is a retrieval tool that will return relevant document chunks from the vectorstore, which contains the rulebooks of the One Piece TCG.\"\"\"\n",
    ")\n",
    "\n",
    "rulebook_retriever_tool"
   ]
  },
  {
   "cell_type": "code",
   "execution_count": 13,
   "id": "8185c179",
   "metadata": {},
   "outputs": [
    {
     "data": {
      "image/png": "[encoded data removed]",
      "text/plain": [
       "<IPython.core.display.Image object>"
      ]
     },
     "metadata": {},
     "output_type": "display_data"
    }
   ],
   "source": [
    "tools = [rulebook_retriever_tool]\n",
    "\n",
    "@traceable\n",
    "def build_agent():\n",
    "    \"\"\"Builds the agent with the tools and prompt.\"\"\"\n",
    "    return create_react_agent(\n",
    "        model=ChatOpenAI(model=\"gpt-4.1\", temperature=0),\n",
    "        name=\"RulebookAgent\",\n",
    "        tools=tools, \n",
    "        prompt=\"You are a helpful assistant that helps people find information in the Rulebook for One Piece TCG, otherwise abbreviated as optcg. You have access to the following tools: {tools}. Use them to find the information the user is looking for. If you don't know the answer, just say you don't know. Do not try to make up an answer. If you cannot find the answer in the rulebooks, tell the user that you cannot find the answer in the rulebooks.\",\n",
    "    )\n",
    "\n",
    "agent = build_agent()\n",
    "display(Image(agent.get_graph().draw_mermaid_png()))  # Display the agent's graph structure in Mermaid format"
   ]
  },
  {
   "cell_type": "code",
   "execution_count": 14,
   "id": "ec603309",
   "metadata": {},
   "outputs": [
    {
     "name": "stdout",
     "output_type": "stream",
     "text": [
      "================================\u001b[1m Human Message \u001b[0m=================================\n",
      "\n",
      "What happens if two characters with the same name are played on the same team?\n",
      "==================================\u001b[1m Ai Message \u001b[0m==================================\n",
      "Name: RulebookAgent\n",
      "Tool Calls:\n",
      "  rulebooks_retriever (call_MYtqFvcTgVEVTX3XdWwyEzjL)\n",
      " Call ID: call_MYtqFvcTgVEVTX3XdWwyEzjL\n",
      "  Args:\n",
      "    query: Can two characters with the same name be played on the same team?\n",
      "=================================\u001b[1m Tool Message \u001b[0m=================================\n",
      "Name: rulebooks_retriever\n",
      "\n",
      "distinguished from one another, a player may be instructed to change sleeves or remove \n",
      "them. \n",
      "• Players are not allowed to use sleeves that obstruct the front of the card. \n",
      "• Sleeves with reflective backs or holographic fronts are not allowed. \n",
      "• Sleeves with artwork on the backs, provided all sleeves are identical and are of a non- \n",
      "offensive nature, are allowed. \n",
      "Players are responsible for ensuring that cards and sleeves are indistinguishable from each other for \n",
      "the duration of the tournament. Cards that can be identified without looking at their face, via \n",
      "damage, discoloration, wear, or other elements, are considered distinguishable.\n",
      "\n",
      "against other players, or to misrepresent the game state. \n",
      "1.2 Ineligible Participants \n",
      "Any tournament official associated with or working an event cannot play in that specific event. \n",
      "This includes, but is not limited to: Tournament Organizers; Store Owners; Judges on staff and \n",
      "Scorekeepers. \n",
      "Players who have been suspended from Bandai Organized Play may not play, judge or act as event \n",
      "staff in official events.\n",
      "\n",
      "11  \n",
      "• Only cards of a color included on the Leader card can be included in a deck. Cards of a color \n",
      "not included on the Leader card cannot be added to a deck. A deck can contain no more \n",
      "than 4 cards with the same card number. \n",
      "• DON!! deck: A total of 10 DON!! cards. \n",
      "No more than four copies of the same card can be included in a deck. No side decks are permitted. \n",
      "Ensure you bring extra card sleeves, a pen to complete match result slips, and any additional dice, \n",
      "counters or tokens your deck or gameplay may require. \n",
      "In addition to tournament materials, you must bring appropriate entry fees (if any) or proof of pre- \n",
      "registration, your Bandai TCG+ account and personal identification. You may also be required to \n",
      "provide a legible, completed deck list. Players are expected to abide by all health and safety \n",
      "requirements set by the tournament organizer, which may include wearing a mask for the duration \n",
      "of the event. \n",
      "2.4.1 Cards \n",
      "Only appropriate cards created by Bandai Co., Ltd., or those recognized by Bandai Co., Ltd. may be \n",
      "used at events. Cards that have been marked, signed, painted, stamped, graded/“slabbed”, or \n",
      "otherwise altered in any way are forbidden and cannot be used in official events. \n",
      "Cards should be sleeved in opaque sleeves. Cards that are damaged (creased or bent) may not be \n",
      "used if this difference can be felt through a sleeve. \n",
      "Gameplay information printed on cards cannot be obstructed in any way. Cards must always be\n",
      "\n",
      "3-7. Character Area \n",
      "3-7-1. This is where each player places their Character cards. \n",
      "3-7-2. The Character area is an open area. Cards in this area are placed face-up. \n",
      "3-7-3. Placing a Character card in the Character area is called “play[ing]” that card. \n",
      "3-7-4. Played cards cannot attack on the turn in which they are played unless otherwise \n",
      "specified. \n",
      "3-7-5. When placing cards in the Character area,  they should be set as active unless \n",
      "otherwise specified. \n",
      "3-7-6. Up to 5 Character cards can be placed in the Character area. \n",
      "3-7-6-1. If there are 5 Character cards in the Character area and a player wants to play \n",
      "a new Character card, that player should reveal the card they want to play, trash \n",
      "1 of the Character cards already in their Character area, and then play the new \n",
      "Character card in the Character area. \n",
      "3-8. Stage Area \n",
      "3-8-1. This is where each player places their Stage cards.\n",
      "==================================\u001b[1m Ai Message \u001b[0m==================================\n",
      "Name: RulebookAgent\n",
      "\n",
      "According to the One Piece TCG rulebook, there is no restriction against having two or more Characters with the same name on the same team (your Character area). The only limitation is that you can have a maximum of 5 Character cards in your Character area at any time. If you want to play a new Character when you already have 5, you must trash one to make space.\n",
      "\n",
      "So, you can play multiple Characters with the same name as long as you do not exceed the 5-character limit in your Character area. There is also a deck-building restriction: you cannot have more than 4 copies of the same card number in your deck, but this does not affect how many can be in play at once.\n",
      "\n",
      "If you need more details or have a specific scenario in mind, let me know!\n"
     ]
    }
   ],
   "source": [
    "response = agent.invoke(\n",
    "    {\"messages\": [{\n",
    "        \"role\": \"user\", \n",
    "        \"content\": \"What happens if two characters with the same name are played on the same team?\"\n",
    "    }]}\n",
    ")\n",
    "for m in response[\"messages\"]:\n",
    "    m.pretty_print()"
   ]
  },
  {
   "cell_type": "code",
   "execution_count": null,
   "id": "6914f402",
   "metadata": {},
   "outputs": [],
   "source": []
  }
 ],
 "metadata": {
  "kernelspec": {
   "display_name": ".venv",
   "language": "python",
   "name": "python3"
  },
  "language_info": {
   "codemirror_mode": {
    "name": "ipython",
    "version": 3
   },
   "file_extension": ".py",
   "mimetype": "text/x-python",
   "name": "python",
   "nbconvert_exporter": "python",
   "pygments_lexer": "ipython3",
   "version": "3.13.5"
  }
 },
 "nbformat": 4,
 "nbformat_minor": 5
}
