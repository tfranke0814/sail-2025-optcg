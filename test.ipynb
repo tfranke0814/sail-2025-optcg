{
 "cells": [
  {
   "cell_type": "code",
   "execution_count": null,
   "id": "e4a064d3",
   "metadata": {},
   "outputs": [],
   "source": [
    "from dotenv import load_dotenv\n",
    "\n",
    "from langchain_openai import ChatOpenAI\n",
    "from langgraph.prebuilt import create_react_agent\n",
    "from langchain_core.tools import tool\n",
    "\n",
    "# Custom Import\n",
    "from vectorstore_logic import check_for_updates_to_rules, create_or_load_vectorstore_optcg_rulebooks\n",
    "\n",
    "_ = load_dotenv() # Loads the .env file - e.g. the OPENAI_API_KEY"
   ]
  },
  {
   "cell_type": "code",
   "execution_count": null,
   "id": "f7ddad2e",
   "metadata": {},
   "outputs": [
    {
     "name": "stdout",
     "output_type": "stream",
     "text": [
      "Documents have not changed since last vector store creation.\n",
      "Existing hash found: True, Document changes detected: False\n",
      "No updates needed.\n"
     ]
    },
    {
     "data": {
      "text/plain": [
       "False"
      ]
     },
     "execution_count": 6,
     "metadata": {},
     "output_type": "execute_result"
    }
   ],
   "source": [
    "vectorstore = create_or_load_vectorstore_optcg_rulebooks()\n",
    "check_for_updates_to_rules()"
   ]
  },
  {
   "cell_type": "code",
   "execution_count": 25,
   "id": "89aaa36b",
   "metadata": {},
   "outputs": [
    {
     "name": "stdout",
     "output_type": "stream",
     "text": [
      "Testing vector store with a sample query...\n"
     ]
    },
    {
     "data": {
      "text/plain": [
       "['comprehensive_rules12: their effects first, in any order, followed by the player who did not choose \\nto go first or second, who then processes their effects in any order. \\n5-2-1-5-2. If changes are made to a deck as the result of an effect that reads “At the \\nstart of the game”, it is then shuffled by the owner of that deck. \\n5-2-1-6. Each player draws 5 cards from their deck  as their opening hand. Then, \\nbeginning with the player going first, each player may redraw their hand once \\naccording to the procedure below.  \\n5-2-1-6-1. The player returns all of the cards in their hand to their deck, reshuffles, \\nand then redraws 5 cards. \\n5-2-1-7. Each player places a number of cards from the top of their deck equal to the \\nLife value of their Leader face-down in their Life area such that the card at the \\ntop of their deck is at the bottom in their Life area. \\n5-2-1-8. The first player begins the game and starts their turn.',\n",
       " 'comprehensive_rules12: cannot contain a specified number of cards of a certain category. \\n5-1-2-4-2. Effects related to deck construction are valid during deck construction. \\n5-2. Pre-Game Preparations \\n5-2-1. Before playing the game, each player must follow the procedure below: \\n5-2-1-1. Each player presents the deck they’re going to use in this game. This deck (at \\nthis time) must meet the deck construction rules specified in 5-1-2. \\n5-2-1-2. Each player thoroughly shuffles their deck. Then, each player places their deck \\nface-down in their deck area. \\n5-2-1-3. Each player places their Leader card face-up in their Leader area. \\n5-2-1-4. The players decide, by Rock -Paper-Scissors or some other means,  which \\nplayer will decide whether they want to go first or second.  \\n5-2-1-4-1. No intervention of any kind is allowed in the player’s decision whether to \\ngo first or second. \\n5-2-1-5. Once it is determined which player will decide whether to go first or second, \\nthat player declares whether they will go first or second. \\n5-2-1-5-1. If a Leader has an effect that reads  “At the start of the game”, that effect \\nis processed at this time. If there are multiple effects that read  “At the \\nstart of the game”, the player who chose to go first or second processes \\ntheir effects first, in any order, followed by the player who did not choose \\nto go first or second, who then processes their effects in any order. \\n5-2-1-5-2. If changes are made to a deck as the result of an effect that reads “At the',\n",
       " 'comprehensive_rules10: 4-2-1. “Player” refers to the person who possesses a card. \\n4-2-1-1. When a card’s text refers to “owner” , this means the original holder of the \\ncard. \\n4-2-2. At the end of the game, each player has all cards they own returned to them. \\n4-3. Turn Player and Non-Turn Player \\n4-3-1. The “turn player” is the player whose turn is currently in progress. \\n4-3-2. The “non-turn player” is the player whose turn is currently not in progress. \\n4-4. Card States \\n4-4-1. Cards in the Leader area, Character area, and Stage area  should be in one of the \\nfollowing two states: \\n4-4-1-1. Active: A card positioned vertically from the player’s point of view. \\n4-4-1-2. Rested: A card positioned horizontally from the player’s point of view. \\n4-5. Draw a Card \\n4-5-1. “Draw a card ” is the act of adding the top card of a deck to your hand without \\nrevealing it to the other player. \\n4-5-2. When directed to “draw 1 card”, add 1 card from the top of your deck to your hand \\nwithout revealing it to the other player.  \\n4-5-3. When directed to “draw X cards” , nothing happens if X is 0. If X is 1 or higher, \\nrepeat the “draw a card” process that many times. \\n4-5-4. When directed to “draw up to X card (s)”, nothing happens if X is 0. If X is 1 or \\nhigher, carry out the following actions: \\n4-5-4-1. You can end this action. \\n4-5-4-2. Draw 1 card. \\n4-5-4-3. If you have carried out 4-5-4-2 X times, end this action. If not, return to 4-5-\\n4-1. \\n4-6. Damage Processing']"
      ]
     },
     "execution_count": 25,
     "metadata": {},
     "output_type": "execute_result"
    }
   ],
   "source": [
    "## Test the vector store\n",
    "print(\"Testing vector store with a sample query...\")\n",
    "sample_query = \"How many cards can I draw on my first turn?\"\n",
    "results = vectorstore.similarity_search(sample_query, k=3)\n",
    "\n",
    "[result.metadata[\"source\"] + str(result.metadata[\"page_label\"]) + \": \" + result.page_content for result in results]"
   ]
  },
  {
   "cell_type": "code",
   "execution_count": null,
   "id": "e16ee280",
   "metadata": {},
   "outputs": [
    {
     "data": {
      "text/plain": [
       "['tournament_rules21: opponent should receive a Warning. \\n• Irreparable game states should not result in restarting a game or match. \\n• If a player has damaged the game state due to an illegal action or missed auto, and \\ngameplay can be rewound to the point of that illegal action, it will be rewound even if the \\nopponent would gain an advantage from information that was previously Private \\nKnowledge. \\n4.11 Public Knowledge \\nThe following information is considered to be public knowledge, unless a card effect states \\notherwise: \\n• The number of cards in a player’s hand; \\n• The number of cards in a player’s deck (this includes main and DON!! deck); \\n• The number and names of cards in a player’s trash area; \\n• The number of Life cards remaining; \\n• Information printed on a specific card mentioned by name or otherwise clearly described; \\n• Which cards have been played during the current turn. \\nPlayers must answer questions involving the above topics truthfully. Players may not refuse to \\nanswer questions about information that is public. Lying about or refusing to answer questions \\nabout public knowledge may result in disqualification. \\n4.12 Private Knowledge \\nThe following information is considered private information, unless a card effect states otherwise: \\n• The cards in the main deck; \\n• What cards are in the Life area; \\n• Which cards are in a player’s hand; \\n• Which cards are in an opponent’s hand; \\n• Which cards were played or activated during the previous turn, unless there is an active',\n",
       " 'tournament_rules26: • Some severe infractions may also be explained in private to the person committing the \\ninfraction. \\n• Not every situation that occurs is appropriate for public knowledge. A judge’s decision to \\naddress a situation in private must be respected by other players, spectators, uninvolved \\njudges and tournament officials. \\n• The Head Judge’s decision is final.',\n",
       " 'tournament_rules22: 23  \\nPlayers may not answer questions about any game state information considered private knowledge. \\nGiving false or misleading information about private knowledge, or intentionally revealing \\ninformation considered private knowledge, may result in a disqualification penalty. \\n4.13 Life Area / Hand / Deck Verification \\nWith the exception of areas targeted by a search effect, you may not search any of your opponent’s \\nprivate knowledge areas, such as hand, deck, or life area, unless you are directed to do so by a card \\neffect. \\nJudges may not be asked to search or verify your opponent’s hand, deck or life area unless there is \\nevidence your opponent may be cheating or that there may be a valid deck-related issue. \\n4.14 Appeals \\nPlayers have the right to appeal rulings to the Head Judge of the tournament if they disagree with a \\nfloor judge’s ruling. \\nPlayers may not appeal a floor judge’s ruling until after the floor judge has issued the ruling. \\nPlayers must respectfully inform the floor judge that they wish to appeal the ruling issued. If you \\naccept the floor judge’s ruling, you cannot ask to appeal that ruling later. \\nThe Head Judge’s ruling is final, and cannot be appealed. \\n4.15 Conceding a Game or Match \\nPlayers may concede a game or match at any time up until the point that the game or match has \\nconcluded. Once a game or match has concluded, you may not concede or ‘give the win’ to an']"
      ]
     },
     "execution_count": 20,
     "metadata": {},
     "output_type": "execute_result"
    }
   ],
   "source": [
    "sample_query = \"What is considered private knowledge?\"\n",
    "results = vectorstore.similarity_search(sample_query, k=3)\n",
    "\n",
    "[result.metadata[\"source\"] + str(result.metadata[\"page_label\"]) + \": \" + result.page_content for result in results]"
   ]
  },
  {
   "cell_type": "code",
   "execution_count": null,
   "id": "f1a5bd90",
   "metadata": {},
   "outputs": [
    {
     "data": {
      "text/plain": [
       "['tournament_rules21: opponent should receive a Warning. \\n• Irreparable game states should not result in restarting a game or match. \\n• If a player has damaged the game state due to an illegal action or missed auto, and \\ngameplay can be rewound to the point of that illegal action, it will be rewound even if the \\nopponent would gain an advantage from information that was previously Private \\nKnowledge. \\n4.11 Public Knowledge \\nThe following information is considered to be public knowledge, unless a card effect states \\notherwise: \\n• The number of cards in a player’s hand; \\n• The number of cards in a player’s deck (this includes main and DON!! deck); \\n• The number and names of cards in a player’s trash area; \\n• The number of Life cards remaining; \\n• Information printed on a specific card mentioned by name or otherwise clearly described; \\n• Which cards have been played during the current turn. \\nPlayers must answer questions involving the above topics truthfully. Players may not refuse to \\nanswer questions about information that is public. Lying about or refusing to answer questions \\nabout public knowledge may result in disqualification. \\n4.12 Private Knowledge \\nThe following information is considered private information, unless a card effect states otherwise: \\n• The cards in the main deck; \\n• What cards are in the Life area; \\n• Which cards are in a player’s hand; \\n• Which cards are in an opponent’s hand; \\n• Which cards were played or activated during the previous turn, unless there is an active',\n",
       " 'tournament_rules22: 23  \\nPlayers may not answer questions about any game state information considered private knowledge. \\nGiving false or misleading information about private knowledge, or intentionally revealing \\ninformation considered private knowledge, may result in a disqualification penalty. \\n4.13 Life Area / Hand / Deck Verification \\nWith the exception of areas targeted by a search effect, you may not search any of your opponent’s \\nprivate knowledge areas, such as hand, deck, or life area, unless you are directed to do so by a card \\neffect. \\nJudges may not be asked to search or verify your opponent’s hand, deck or life area unless there is \\nevidence your opponent may be cheating or that there may be a valid deck-related issue. \\n4.14 Appeals \\nPlayers have the right to appeal rulings to the Head Judge of the tournament if they disagree with a \\nfloor judge’s ruling. \\nPlayers may not appeal a floor judge’s ruling until after the floor judge has issued the ruling. \\nPlayers must respectfully inform the floor judge that they wish to appeal the ruling issued. If you \\naccept the floor judge’s ruling, you cannot ask to appeal that ruling later. \\nThe Head Judge’s ruling is final, and cannot be appealed. \\n4.15 Conceding a Game or Match \\nPlayers may concede a game or match at any time up until the point that the game or match has \\nconcluded. Once a game or match has concluded, you may not concede or ‘give the win’ to an',\n",
       " 'tournament_rules17: 18  \\nPlayer deck lists may be published by the Tournament Organizer at any time once the event has \\nbegun, provided that this information is publicly accessible, that all player data is published at the \\nsame time, and that publication of this data provides additional value to those attending or watching \\nthe event. Otherwise, this information should be kept confidential throughout the duration of the \\ntournament. \\nTournament Organizers must provide deck lists to the Bandai global organized play team as part of \\ntheir event reporting. \\nBandai reserves the right to publish tournament information, including but not limited to deck lists, \\nplayer reports, transcripts, audio and / or video recordings, awards, penalties or any other \\ninformation related to the tournament. \\nAttending a Bandai organized play event may lead to an attendee’s image and likeness being \\nphotographed or recorded by or on behalf of Bandai. By entering or remaining at Bandai organized \\nplay events, attendees grant Bandai, its premier tournament organizers, and approved media bodies \\nto publish their name, image, likeness, deck list, methods of play, and written or oral statements in \\nconnection with any still photograph, live or recorded video display, or other transmission or \\nreproduction of the event, in whole or in any part. \\n3.8 Stream Broadcasts of Match Play \\nWhile attending Bandai organized play events, players may be instructed to play a feature match']"
      ]
     },
     "execution_count": 21,
     "metadata": {},
     "output_type": "execute_result"
    }
   ],
   "source": [
    "sample_query = \"What is considered public knowledge?\"\n",
    "results = vectorstore.similarity_search(sample_query, k=3)\n",
    "\n",
    "[result.metadata[\"source\"] + str(result.metadata[\"page_label\"]) + \": \" + result.page_content for result in results]"
   ]
  },
  {
   "cell_type": "code",
   "execution_count": 3,
   "id": "d7ffb213",
   "metadata": {},
   "outputs": [
    {
     "name": "stdout",
     "output_type": "stream",
     "text": [
      "Deleted vector store at C:\\Users\\tyson\\.cache\\optcg_rulebooks_vectorstore\n"
     ]
    }
   ],
   "source": [
    "delete_vectorstore_optcg_rulebooks()"
   ]
  },
  {
   "cell_type": "code",
   "execution_count": null,
   "id": "e29a071d",
   "metadata": {},
   "outputs": [],
   "source": [
    "@tool\n",
    "def rulebook_lookup(query: str) -> str:\n",
    "    \"\"\"Looks up a rule in the One Piece TCG rulebook.\"\"\"\n",
    "    # In a real implementation, this would query a database or API.\n",
    "    rules = {\n",
    "        \"What happens if two characters with the same name are played on the same team?\": \"Characters with the same name cannot be played on the same team. If you already have a character in play, you cannot play another character with the same name.\",\n",
    "        \"How does the Don!! system work?\": \"Don!! cards are used to pay costs and activate abilities. You can attach Don!! cards to characters to increase their power or use them to pay for events and character abilities.\",\n",
    "        \"What is the difference between active and rest positions?\": \"Active position means the card is upright and can attack or use abilities. Rest position means the card is turned sideways and cannot attack until it becomes active again during your next turn.\",\n",
    "        \"How do you win the game?\": \"You win by reducing your opponent's life to 0. Life is reduced when your opponent takes damage and has no cards left in their life area to trash.\",\n",
    "        \"What is a counter ability?\": \"Counter abilities can be activated during your opponent's turn when specific conditions are met, usually when one of your characters is being attacked.\"\n",
    "    }\n",
    "    return rules.get(query, \"Rule not found.\")"
   ]
  },
  {
   "cell_type": "code",
   "execution_count": null,
   "id": "8185c179",
   "metadata": {},
   "outputs": [],
   "source": [
    "tools = [rulebook_lookup]\n",
    "agent = create_react_agent(\n",
    "    model=ChatOpenAI(model=\"gpt-4.1-mini\", temperature=0),\n",
    "    name=\"RulebookAgent\",\n",
    "    tools=tools, \n",
    "    prompt=\"You are a helpful assistant that helps people find information in the Rulebook for One Piece TCG. You have access to the following tools: {tools}. Use them to find the information the user is looking for. If you don't know the answer, just say you don't know. Do not try to make up an answer.\",\n",
    ")"
   ]
  },
  {
   "cell_type": "code",
   "execution_count": null,
   "id": "ec603309",
   "metadata": {},
   "outputs": [
    {
     "name": "stdout",
     "output_type": "stream",
     "text": [
      "================================\u001b[1m Human Message \u001b[0m=================================\n",
      "\n",
      "What happens if two characters with the same name are played on the same team?\n",
      "==================================\u001b[1m Ai Message \u001b[0m==================================\n",
      "Name: RulebookAgent\n",
      "Tool Calls:\n",
      "  rulebook_lookup (call_PKkircNK3uQSxN1NV6lDwEsx)\n",
      " Call ID: call_PKkircNK3uQSxN1NV6lDwEsx\n",
      "  Args:\n",
      "    query: two characters with the same name on the same team\n",
      "=================================\u001b[1m Tool Message \u001b[0m=================================\n",
      "Name: rulebook_lookup\n",
      "\n",
      "Rule not found.\n",
      "==================================\u001b[1m Ai Message \u001b[0m==================================\n",
      "Name: RulebookAgent\n",
      "\n",
      "I couldn't find a specific rule in the One Piece TCG rulebook about what happens if two characters with the same name are played on the same team. If you have any other questions or need information on a related topic, feel free to ask!\n"
     ]
    }
   ],
   "source": [
    "response = agent.invoke(\n",
    "    {\"messages\": [{\n",
    "        \"role\": \"user\", \n",
    "        \"content\": \"What happens if two characters with the same name are played on the same team?\"\n",
    "    }]}\n",
    ")\n",
    "for m in response[\"messages\"]:\n",
    "    m.pretty_print()"
   ]
  },
  {
   "cell_type": "code",
   "execution_count": null,
   "id": "31060168",
   "metadata": {},
   "outputs": [
    {
     "data": {
      "text/plain": [
       "'Characters with the same name cannot be played on the same team. If you already have a character in play, you cannot play another character with the same name.'"
      ]
     },
     "execution_count": 8,
     "metadata": {},
     "output_type": "execute_result"
    }
   ],
   "source": [
    "rules = {\n",
    "        \"What happens if two characters with the same name are played on the same team?\": \"Characters with the same name cannot be played on the same team. If you already have a character in play, you cannot play another character with the same name.\"}\n",
    "rules.get(\"What happens if two characters with the same name are played on the same team?\", \"Rule not found.\")"
   ]
  },
  {
   "cell_type": "code",
   "execution_count": null,
   "id": "4d8f3724",
   "metadata": {},
   "outputs": [],
   "source": []
  },
  {
   "cell_type": "code",
   "execution_count": null,
   "id": "e765492d",
   "metadata": {},
   "outputs": [],
   "source": [
    "# Example: Load a PDF from a URL\n",
    "# Replace this with your actual PDF URL\n",
    "pdf_url = \"https://example.com/your-pdf-file.pdf\"\n",
    "\n",
    "# Uncomment the lines below to test with a real PDF URL\n",
    "# documents = load_pdf_from_url(pdf_url)\n",
    "# if documents:\n",
    "#     print(f\"Successfully loaded {len(documents)} pages from the PDF\")\n",
    "#     \n",
    "#     # Show first page content (first 500 characters)\n",
    "#     if len(documents) > 0:\n",
    "#         print(f\"\\nFirst page content preview:\")\n",
    "#         print(documents[0].page_content[:500] + \"...\")\n",
    "#         \n",
    "#         # Show metadata\n",
    "#         print(f\"\\nPage metadata:\")\n",
    "#         print(documents[0].metadata)\n",
    "# else:\n",
    "#     print(\"Failed to load PDF\")"
   ]
  },
  {
   "cell_type": "code",
   "execution_count": null,
   "id": "32393173",
   "metadata": {},
   "outputs": [
    {
     "name": "stdout",
     "output_type": "stream",
     "text": [
      "Path type: <class 'type'>\n",
      "Path.home() type: <class 'pathlib._local.WindowsPath'>\n",
      "Path.home() value: C:\\Users\\tyson\n",
      "home: C:\\Users\\tyson, type: <class 'pathlib._local.WindowsPath'>\n",
      "cache: C:\\Users\\tyson\\.cache, type: <class 'pathlib._local.WindowsPath'>\n",
      "final_path: C:\\Users\\tyson\\.cache\\onepiece_vectorstore, type: <class 'pathlib._local.WindowsPath'>\n"
     ]
    }
   ],
   "source": [
    "# Debug cell - check Path object\n",
    "print(f\"Path type: {type(Path)}\")\n",
    "print(f\"Path.home() type: {type(Path.home())}\")\n",
    "print(f\"Path.home() value: {Path.home()}\")\n",
    "\n",
    "# Test the problematic line step by step\n",
    "home = Path.home()\n",
    "print(f\"home: {home}, type: {type(home)}\")\n",
    "\n",
    "cache = home / \".cache\"\n",
    "print(f\"cache: {cache}, type: {type(cache)}\")\n",
    "\n",
    "final_path = cache / \"onepiece_vectorstore\"\n",
    "print(f\"final_path: {final_path}, type: {type(final_path)}\")"
   ]
  },
  {
   "cell_type": "code",
   "execution_count": null,
   "id": "8ed445d2",
   "metadata": {},
   "outputs": [],
   "source": []
  }
 ],
 "metadata": {
  "kernelspec": {
   "display_name": ".venv",
   "language": "python",
   "name": "python3"
  },
  "language_info": {
   "codemirror_mode": {
    "name": "ipython",
    "version": 3
   },
   "file_extension": ".py",
   "mimetype": "text/x-python",
   "name": "python",
   "nbconvert_exporter": "python",
   "pygments_lexer": "ipython3",
   "version": "3.13.1"
  }
 },
 "nbformat": 4,
 "nbformat_minor": 5
}
