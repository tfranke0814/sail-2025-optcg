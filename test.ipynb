{
 "cells": [
  {
   "cell_type": "code",
   "execution_count": 1,
   "id": "e4a064d3",
   "metadata": {},
   "outputs": [],
   "source": [
    "import os\n",
    "from dotenv import load_dotenv\n",
    "\n",
    "from langchain_openai import ChatOpenAI\n",
    "from langgraph.prebuilt import create_react_agent\n",
    "from langchain_core.tools import tool\n",
    "\n",
    "from langchain_community.document_loaders.pdf import PyPDFLoader\n",
    "import requests\n",
    "import tempfile\n",
    "from langchain_openai import OpenAIEmbeddings\n",
    "from langchain_chroma import Chroma\n",
    "from langchain.text_splitter import RecursiveCharacterTextSplitter\n",
    "import re\n",
    "import json\n",
    "import hashlib\n",
    "\n",
    "from pathlib import Path\n",
    "import shutil \n",
    "\n",
    "_ = load_dotenv() # Loads the .env file - e.g. the OPENAI_API_KEY"
   ]
  },
  {
   "cell_type": "code",
   "execution_count": 8,
   "id": "f7ddad2e",
   "metadata": {},
   "outputs": [
    {
     "name": "stdout",
     "output_type": "stream",
     "text": [
      "First 5 pages of the loaded documents:\n"
     ]
    },
    {
     "data": {
      "text/plain": [
       "([Document(metadata={'producer': 'Microsoft® Word for Microsoft 365', 'creator': 'Microsoft® Word for Microsoft 365', 'creationdate': '2025-02-20T12:30:45+09:00', 'moddate': '2025-02-20T14:31:46+09:00', 'title': 'Comprehensive Rules', 'source': 'comprehensive_rules', 'total_pages': 26, 'page': 0, 'page_label': '1'}, page_content='1 \\n \\nONE PIECE CARD GAME Comprehensive Rules \\nVersion 1.1.8 \\n \\nLast updated: 2/21/2025 \\n \\nTable of Contents \\nContents of Comprehensive Rules ............................................................................................ \\n1. Game Overview .................................................................................................................. 1 \\n2. Card Information ................................................................................................................ 3 \\n3. Game Areas ........................................................................................................................ 6 \\n4. Basic Game Terminology ................................................................................................... 9 \\n5. Game Setup ...................................................................................................................... 11 \\n6. Game Progression ............................................................................................................ 12 \\n7. Card Attacks and Battles .................................................................................................. 14 \\n8. Activating and Resolving Effects ...................................................................................... 15 \\n9. Rule Processing ................................................................................................................ 19 \\n10. Keyword Effects and Keywords ...................................................................................... 19 \\n11. Other .............................................................................................................................. 22 \\n  \\nContents of Comprehensive Rules  \\n1. Game Overview  \\n1-1. Number of Players \\n1-1-1. Fundamentally, this game is intended to be played by two players , head-to-head. \\nThese rules do not currently support play by three or more players. \\n1-2. Ending the Game \\n1-2-1. The game ends when either player loses the game. When a player’s opponent loses \\nthe game, the player who has not lost wins the game. \\n1-2-1-1. The two defeat conditions are as follows: \\n1-2-1-1-1. When you have 0 Life cards and your Leader takes damage. \\n1-2-1-1-2. When you have 0 cards in your deck. \\n1-2-2. When either player meets a defeat condition, they will lose the game according to \\nthe rule processing at the next time of rule processing. (See 9. Rule Processing) \\n1-2-2-1. If either player ’s Leader takes damage when that player has 0 Life  cards \\nremaining during the game, that player has met a defeat condition. \\n1-2-2-2. If either player has 0 cards in their deck during the game, that player has met \\na defeat condition.'),\n",
       "  Document(metadata={'producer': 'Microsoft® Word for Microsoft 365', 'creator': 'Microsoft® Word for Microsoft 365', 'creationdate': '2025-02-20T12:30:45+09:00', 'moddate': '2025-02-20T14:31:46+09:00', 'title': 'Comprehensive Rules', 'source': 'comprehensive_rules', 'total_pages': 26, 'page': 1, 'page_label': '2'}, page_content='2 \\n \\n1-2-3. Either player may concede at any point during a game. When a player concedes, \\nthey lose immediately and the game ends. \\n1-2-4. A  concession is not affected by any card. Furthermore, concession cannot be \\nforced by any card effect,  and defeat by concession cannot be replaced by any \\nreplacement effect. \\n1-2-5. The effects of some cards may cause a player to win or lose the game.  In such a \\ncase, the player wins or loses during the processing of that effect , and the game \\nends. \\n1-3. Fundamental Principles \\n1-3-1. When card text contradicts the Comprehensive Rules, the  card text takes \\nprecedence over the Comprehensive Rules. \\n1-3-2. If a player is required to perform an impossible action for any reason, that action \\nis not carried out. Likewise, if an effect requires the player to carry out multiple \\nactions, some of which are impossible, the player performs as many of the actions \\nas possible. \\n1-3-2-1. If an object is required to change to a given state, and the object is already in \\nthat state, the object’s state remains the same, and the action is not performed. \\n1-3-2-2. If a player is required to perform an action 0 or a negative number of times \\nfor any reason, that action is not carried out. A request to perform a certain \\naction negative times does not imply performing its opposite action. \\n1-3-3. If a card ’s effect requires a player to carry out an action while a currently active \\neffect prohibits that action, the prohibiting effect always takes precedence. \\n1-3-4. If both players are required to make choice s simultaneously for any reason, the \\nplayer whose turn it is  makes the choice s first. After that player has made their \\nchoices, the other player makes their choices. \\n1-3-5. If a card or rule requires a player to choose a number, unless otherwise specified, \\nthe player must choose a whole number of 0 or greater. Players cannot choose \\nnumbers containing fractions less than 1, or negative numbers. \\n1-3-5-1. If a card or rule specifies a maximum value for a number, such as “up to ...”, \\nas long as no minimum number is specified, the player can choose 0. \\n1-3-6. If a card effect changes information on a card, unless otherwise specified or defined \\nby the rules, numbers on a card cannot contain fractions less than 1. If non-power \\nnumbers would become negative, they are treated as 0, except in cases where the \\ninformation is added to or subtracted from. \\n1-3-7. Power can become a negative value. \\n1-3-7-1. Even if a card’s power becomes a negative value, unless otherwise specified,'),\n",
       "  Document(metadata={'producer': 'Microsoft® Word for Microsoft 365', 'creator': 'Microsoft® Word for Microsoft 365', 'creationdate': '2025-02-20T12:30:45+09:00', 'moddate': '2025-02-20T14:31:46+09:00', 'title': 'Comprehensive Rules', 'source': 'comprehensive_rules', 'total_pages': 26, 'page': 2, 'page_label': '3'}, page_content='3 \\n \\nthat card will not be trashed or otherwise moved to an area. \\n1-3-8. Unless otherwise specified, card effects are  carried out in the order described on \\nthe card. \\n1-3-9. If card effects require a player to rest a card and set it as active simultaneously, the \\neffect requiring the player to rest the card always takes precedence. \\n1-3-10. Cost and Activation Cost \\n1-3-10-1. Cost refers to a payment that must be made to play a card. A card’s cost is \\nthe number written in its upper left corner. (See 6-5-3-1.) \\n1-3-10-2. Activation cost refers to a payment required to activate a card’s effect. (See \\n8-3.) \\n1-3-11. If both players are instructed to perform some action at the same time according \\nto a card ’s effect, the turn player is to perform the action first, followed by the \\nnon-turn player. \\n \\n2. Card Information \\n2-1. Card Name \\n2-1-1. This is the card’s fixed name. \\n2-1-2. Some text will include text in [  ] brackets without a clarifying noun afterwards. \\nThis refers to cards with the card name specified in the [ ] brackets. \\n2-1-2-1. Some text will include part of a card name in \" \" quotation marks. This text \\nrefers to cards with a card name containing the text in the quotation marks. \\n2-1-3. As an exception, some cards get card names from their text. Treat these cards as \\nif they have this name by default, including during deck construction and when in \\nsecret areas. \\n2-2. Card Category \\n2-2-1. This specifies the card’s category. \\n2-2-2. There are five card categories: Leader card, Character card, Event card, Stage card, \\nand DON!! card. \\n2-2-3. Cards in the Leader card category are placed in the Leader area. \\n2-2-3-1. When a card’s text refers to “Leader” or “Leader card”, this means a card in \\nthe Leader card category placed in the Leader area. \\n2-2-4. Cards in the Character card category are placed in the Character area. \\n2-2-4-1. When a card’s text refers to “Character”, this means a card in the Character \\ncard category placed in the Character area. \\n2-2-4-2. When a card’s text refers to “Character card”, this means a card in the \\nCharacter card category that is located outside of the Character area.'),\n",
       "  Document(metadata={'producer': 'Microsoft® Word for Microsoft 365', 'creator': 'Microsoft® Word for Microsoft 365', 'creationdate': '2025-02-20T12:30:45+09:00', 'moddate': '2025-02-20T14:31:46+09:00', 'title': 'Comprehensive Rules', 'source': 'comprehensive_rules', 'total_pages': 26, 'page': 3, 'page_label': '4'}, page_content='4 \\n \\n2-2-4-3. When a card’s text refers to “Leader and/or Character cards”, the latter means \\na card in the Character card category placed in the Character area. \\n2-2-5. Cards in the Event card category can have their effects activated by the card being \\nmoved from the player’s hand to the trash. \\n2-2-5-1. When a card’s text refers to “Event” or “Event card”, this means a card in the \\nEvent card category. \\n2-2-6. Cards in the Stage card category are placed in the Stage area. \\n2-2-6-1. When a card ’s text  refers to “Stage”, this means a card in the Stage card \\ncategory. \\n2-2-6-2. When a card’s text refers to “Stage card”, this means a card in the Stage card \\ncategory that is located outside of the Stage area. \\n2-3. Color \\n2-3-1. This specifies the card’s colors. It may be referenced in card text. \\n2-3-2. All cards have colors which are indicated by the colors of sections of the hexagon \\nin the lower left corner of the card. \\n2-3-3. There are six colors: red, green, blue, purple, black, and yellow. \\n2-3-3-1. In the hexagon, the upper right  is red, the right is green,  the lower right is \\nblue, the lower left is purple, the left is black, and the upper left is yellow. \\n2-3-4. Some cards have multiple colors, such as red and blue, or green and purple. \\n2-3-5. Cards with multiple colors, such as red and green,  are treated as a card of every \\ncolor they possess. \\n2-3-6. Cards with multiple colors are sometimes referred to as “multicolor” in card text. \\n2-4. Type \\n2-4-1. This specifies the card’s types. It may be referenced in card text. \\n2-4-2. Some cards may have multiple types. Where a card has multiple types, each type \\nwill be separated by a slash (/). \\n2-4-3. Some text will include text in {  } brackets. This refers to cards with the type \\nspecified in the { } brackets. \\n2-4-3-1. Some text will include part of a type in \" \" quotation marks. This text refers to \\ncards with a type containing the text in the quotation marks. \\n2-4-4. As an exception, some cards get types from their text. Treat these cards as if they \\nhave this type by default, including during deck construction and when in secret \\nareas. \\n2-5. Attribute \\n2-5-1. This specifies the card’s attribute. It may be referenced in card text. \\n2-5-2. There are five attributes: Slash, Strike, Ranged, Special, and Wisdom.'),\n",
       "  Document(metadata={'producer': 'Microsoft® Word for Microsoft 365', 'creator': 'Microsoft® Word for Microsoft 365', 'creationdate': '2025-02-20T12:30:45+09:00', 'moddate': '2025-02-20T14:31:46+09:00', 'title': 'Comprehensive Rules', 'source': 'comprehensive_rules', 'total_pages': 26, 'page': 4, 'page_label': '5'}, page_content='5 \\n \\n2-5-3. Some cards have multiple attributes, such as Slash and Strike, or Ranged and \\nSpecial. \\n2-5-4. If a card has multiple attributes, such as Slash and Strike, it is treated as a card \\nwith all the attributes it possesses. \\n2-5-5. Only Leader cards and Character cards have attributes. \\n2-5-6. Some text will include text in < > brackets. This refers to cards with the attribute \\nspecified in the < > brackets. \\n2-5-7. As an exception, some cards get attributes from their text. Treat these cards as if \\nthey have this attribute by default, including during deck construction and when \\nin secret areas. \\n2-6. Power \\n2-6-1. This specifies the card’s strength in battles. (See 7. Card Attacks and Battles) \\n2-6-2. Only Leader cards and Character cards have power. \\n2-6-3. An effect may make a power value greater or less than the written value. \\n2-7. Cost \\n2-7-1. This specifies the cost needed to play the card from your hand. (See 6-5-3-1.) \\n2-7-2. When playing a Character card from your hand, you should first reveal the card \\nyou wish to play, select a number of active DON!! cards in your cost area equal to \\nthe card’s cost, rest those DON!! cards, and then play the revealed card. \\n2-7-3. When activating an Event card from your hand, you should first reveal the card \\nyou wish to activate, select a number of active DON!! cards in your cost area equal \\nto the card’s cost, rest those DON!! cards, and then trash the revealed card to \\nactivate it. \\n2-7-4. When playing a Stage card from your hand, you should first reveal the card you \\nwish to play, select a number of active DON!! cards in your cost area equal to the \\ncard’s cost, rest those DON!! cards, and then play the revealed card. \\n2-7-5. Only Character cards, Event cards and Stage cards have costs. \\n2-7-6. An effect may make a cost greater or less than the written value. \\n2-8. Card Text \\n2-8-1. This describes the card’s effects. \\n2-8-2. Unless otherwise specified, card text on Leader cards, Character cards, and Stage \\ncards is valid only in the Leader area, Character area, and Stage area, respectively. \\n2-8-3. Text is resolved in order starting from the text closest to the top. \\n2-8-4. Some text has detailed explanations of keyword effects or other card effects inside \\n( ) parentheses. These are called explanatory notes and their purpose is to provide \\nfurther explanation of effects.')],\n",
       " [Document(metadata={'producer': 'Microsoft® Word 2021', 'creator': 'Microsoft® Word 2021', 'creationdate': '2025-02-22T22:45:09-05:00', 'moddate': '2025-06-11T20:02:39+09:00', 'title': 'Tournament Rules Manual', 'source': 'tournament_rules', 'total_pages': 41, 'page': 0, 'page_label': '1'}, page_content='1  \\nLast Updated: February 21, 2025 \\nBANDAI ORGANIZED PLAY \\nOne Piece Card Game \\nTournament Rules Manual \\nThe Bandai Organized Play Tournament Rules Manual outlines the requirements of all \\nparticipants – players, judges, spectators, tournament organizers, etc., at any Bandai \\nOrganized Play event for the One Piece Card Game. \\nAll participants are expected to read, understand, and obey the rules contained within this \\ndocument to the best of their ability and ask questions of a tournament official if anything is \\nunclear. This ensures smooth operation of events and a satisfying experience for all \\nparticipants, regardless of playing experience. \\nThe Tournament Rules Manual and other associated organized play documents help to \\nmaintain fairness and integrity at events, ensuring that Bandai events are consistently run to \\nthe same high standards. Participants will always know what to expect at any Bandai \\nOrganized Play event. \\nParticipants who behave in a way that damages the fairness and integrity of an event may \\nreceive penalties from judges or tournament officials, or face consequences from Bandai. \\nIf you have any questions regarding the Tournament Rules Manual, contact us at \\nBANDAI_globalop@carddass.com.'),\n",
       "  Document(metadata={'producer': 'Microsoft® Word 2021', 'creator': 'Microsoft® Word 2021', 'creationdate': '2025-02-22T22:45:09-05:00', 'moddate': '2025-06-11T20:02:39+09:00', 'title': 'Tournament Rules Manual', 'source': 'tournament_rules', 'total_pages': 41, 'page': 1, 'page_label': '2'}, page_content='2  \\nTable of Contents \\n1.0 Event Participants .............................................................................................................................. 5 \\n1.1 Players ..................................................................................................................................... 5 \\n1.2 Ineligible Participants .............................................................................................................. 5 \\n1.3 Head Judge .............................................................................................................................. 6 \\n1.4 Floor Judge .............................................................................................................................. 6 \\n1.5 Tournament Organizer ............................................................................................................ 8 \\n1.6 Scorekeeper ............................................................................................................................. 8 \\n1.7 Spectators ................................................................................................................................ 9 \\n1.8 Media ...................................................................................................................................... 9 \\n2.0 Player Requirements ......................................................................................................................... 9 \\n2.1 Bandai TCG+ .................................................................................................................................. 9 \\n2.2 Convention Events ....................................................................................................................... 10 \\n2.3 Government Identification .......................................................................................................... 10 \\n2.4 Tournament Materials ................................................................................................................. 10 \\n2.4.1 Cards ......................................................................................................................................... 11 \\n2.4.2 Sleeves ...................................................................................................................................... 11 \\n2.4.3 Pen ............................................................................................................................................ 12 \\n2.4.4 Supplementary Objects ............................................................................................................ 12 \\n2.4.5 Playmats ................................................................................................................................... 12 \\n2.5 Player Knowledge ........................................................................................................................ 12 \\n2.6 Player Behavior ............................................................................................................................ 12 \\n2.7 Player Communication ................................................................................................................ 13 \\n3.0 Tournament Information ................................................................................................................. 13 \\n3.1 Health and Safety Considerations ................................................................................................ 13 \\n3.2 Tournament Levels ...................................................................................................................... 14 \\n3.3 Tournament Formats ................................................................................................................... 14 \\n3.4 Tournament Structure ................................................................................................................. 14 \\n3.4.1 Single-Elimination ..................................................................................................................... 15 \\n3.4.2 Swiss ......................................................................................................................................... 15 \\n3.4.3 Swiss + Single Elimination Top Cut Finals .................................................................................. 16 \\n3.5 Match Structure ........................................................................................................................... 16 \\n3.6 Number of Rounds ...................................................................................................................... 17 \\n3.7 Publishing Tournament Information............................................................................................ 17 \\n3.8 Stream Broadcasts of Match Play ................................................................................................ 18 \\n3.9 Reporting Tournament Results .................................................................................................... 18'),\n",
       "  Document(metadata={'producer': 'Microsoft® Word 2021', 'creator': 'Microsoft® Word 2021', 'creationdate': '2025-02-22T22:45:09-05:00', 'moddate': '2025-06-11T20:02:39+09:00', 'title': 'Tournament Rules Manual', 'source': 'tournament_rules', 'total_pages': 41, 'page': 2, 'page_label': '3'}, page_content='3  \\n4.0 Tournament Play ............................................................................................................................. 18 \\n4.1 Gamesmanship ............................................................................................................................ 18 \\n4.2 Tournament Registration ............................................................................................................. 18 \\n4.3 Special Assistance ........................................................................................................................ 19 \\n4.4 Deck List Submission.................................................................................................................... 19 \\n4.5 Shuffling ....................................................................................................................................... 19 \\n4.6 Determining Starting Player ......................................................................................................... 20 \\n4.7 Game Area Layout ....................................................................................................................... 20 \\n4.8 Note Taking ................................................................................................................................. 21 \\n4.9 Official Errata Document ............................................................................................................. 21 \\n4.10 Game State ................................................................................................................................ 21 \\n4.11 Public Knowledge ...................................................................................................................... 22 \\n4.12 Private Knowledge ..................................................................................................................... 22 \\n4.13 Life Area / Hand / Deck Verification .......................................................................................... 23 \\n4.14 Appeals ...................................................................................................................................... 23 \\n4.15 Conceding a Game or Match...................................................................................................... 23 \\n4.17 Random Outcome...................................................................................................................... 23 \\n4.18 Intentional Draws ...................................................................................................................... 23 \\n5.0 Reporting Match Results ................................................................................................................. 24 \\n5.1 Reporting the Match Result ......................................................................................................... 24 \\n5.2 End of Round Procedures ............................................................................................................ 24 \\n5.3 Match Pairings ............................................................................................................................. 25 \\n5.4 Tie Breakers and Calculating Final Placement ............................................................................. 26 \\n5.5 Earning Invitations or Byes .......................................................................................................... 27 \\n6.0 Dropping Out ................................................................................................................................... 27 \\n7.0 Tournament Penalties ..................................................................................................................... 27 \\n7.1 Determining an Infraction ............................................................................................................ 27 \\n7.2 Types of Penalties ........................................................................................................................ 28 \\n7.3 Assigning Penalties ...................................................................................................................... 29 \\n7.4 Examples of Infractions ............................................................................................................... 30 \\n7.4.1 Game Play Error ........................................................................................................................ 30 \\n7.4.2 Event Errors .............................................................................................................................. 31 \\n7.4.3 Unsportsmanlike Conduct ........................................................................................................ 34 \\n8.0 Online Event Supplement ................................................................................................................ 38 \\n8.1 Online Software ........................................................................................................................... 38 \\n8.2 Tournament Guidelines ............................................................................................................... 38'),\n",
       "  Document(metadata={'producer': 'Microsoft® Word 2021', 'creator': 'Microsoft® Word 2021', 'creationdate': '2025-02-22T22:45:09-05:00', 'moddate': '2025-06-11T20:02:39+09:00', 'title': 'Tournament Rules Manual', 'source': 'tournament_rules', 'total_pages': 41, 'page': 3, 'page_label': '4'}, page_content='4  \\n8.3 Deck Registration ......................................................................................................................... 38 \\n8.4 Player Setup................................................................................................................................. 38'),\n",
       "  Document(metadata={'producer': 'Microsoft® Word 2021', 'creator': 'Microsoft® Word 2021', 'creationdate': '2025-02-22T22:45:09-05:00', 'moddate': '2025-06-11T20:02:39+09:00', 'title': 'Tournament Rules Manual', 'source': 'tournament_rules', 'total_pages': 41, 'page': 4, 'page_label': '5'}, page_content='5  \\n1.0 Event Participants \\nIn this Tournament Rules Manual, players, spectators, judges, organizers, media, etc., are collectively \\ndefined as event participants. All event participants must conduct themselves in a sensible manner \\nin the event area, venue, and outside the venue. All participants must act so the event can operate \\nfairly, and work to make the event a satisfying experience for all involved. All event participants \\nmust understand and honor these rules. \\nIn the event of a serious offense, the tournament organizer retains the right to eject offender(s) \\nfrom the venue. \\n1.1 Players \\nTo participate in official Bandai events, players are required to register for Bandai TCG+ account. If \\nyou do not have one, you can register here: https://www.bandai-tcg-plus.com/ \\nPlayers may not register for more than 1 Bandai TCG+ account. You should ensure the information \\nassociated with your Bandai TCG+ account remains up to date. \\nPlayers must remain in good standing in order to participate in Bandai Organized Play events. To \\nremain in good standing, you must adhere to all responsibilities outlined in this and all other official \\ndocuments. \\nPlayers have the following responsibilities: \\n• To understand the rules and standards of player behavior; \\n• To not engage in unsportsmanlike conduct; \\n• To have read and understood: \\no the latest version of the Comprehensive Rules, Official Rule Manual, and Q&A \\ndocuments located at https://en.onepiece-cardgame.com/rules/ \\no as well as carefully reading and understanding the cards contained within their deck; \\n• To legibly complete a deck list form and submit it when required; \\n• To communicate clearly with opponents, judges and tournament staff, announcing and \\nresponding to timing and effect activations and reporting their completed match results \\nimmediately after finishing; \\n• To follow the announced starting time and time limits; \\n• To not conduct illegal activity; \\n• To notify judges if they witness rule violations; \\n• To co-operate with judges so that events can be run smoothly; \\n• To call a judge if they are: concerned about a rule or game policy; offered a bribe; asked to \\nbet on a match; asked to forge match results or if they see a contradiction in match results. \\nPlayers should not call judges in an attempt to gain an unfair advantage, or to seek penalties \\nagainst other players, or to misrepresent the game state. \\n1.2 Ineligible Participants \\nAny tournament official associated with or working an event cannot play in that specific event. \\nThis includes, but is not limited to: Tournament Organizers; Store Owners; Judges on staff and \\nScorekeepers. \\nPlayers who have been suspended from Bandai Organized Play may not play, judge or act as event \\nstaff in official events.')])"
      ]
     },
     "execution_count": 8,
     "metadata": {},
     "output_type": "execute_result"
    }
   ],
   "source": [
    "# Document loader function to load PDF files from a URL\n",
    "\n",
    "def load_pdf_from_url(url: str):\n",
    "    \"\"\"\n",
    "    Load a PDF from a URL and extract its text content.\n",
    "    \n",
    "    Args:\n",
    "        url: The URL of the PDF file\n",
    "    \n",
    "    Returns:\n",
    "        List of documents with page content\n",
    "    \"\"\"\n",
    "    try:\n",
    "        # Download the PDF content\n",
    "        response = requests.get(url)\n",
    "        response.raise_for_status()  # Raise an exception for bad status codes\n",
    "        \n",
    "        # Create a temporary file to store the PDF\n",
    "        with tempfile.NamedTemporaryFile(delete=False, suffix='.pdf') as temp_file:\n",
    "            temp_file.write(response.content)\n",
    "            temp_file_path = temp_file.name\n",
    "        \n",
    "        # Load the PDF using PyPDFLoader\n",
    "        loader = PyPDFLoader(temp_file_path)\n",
    "        documents = loader.load()\n",
    "        \n",
    "        # Clean up the temporary file\n",
    "        os.unlink(temp_file_path)\n",
    "        \n",
    "        return documents\n",
    "    \n",
    "    except Exception as e:\n",
    "        print(f\"Error loading PDF from URL: {str(e)}\")\n",
    "        return None\n",
    "\n",
    "## Dummy PDF URL for testing purposes to reduce embedding costs with OpenAI\n",
    "# docs = load_pdf_from_url(\"https://www.w3.org/WAI/ER/tests/xhtml/testfiles/resources/pdf/dummy.pdf\")\n",
    "\n",
    "def loader_optcg_rulebooks():\n",
    "    \"\"\"\n",
    "    Load the One Piece Card Game rules from the official website.\n",
    "    \n",
    "    Returns:\n",
    "        List of documents with page content\n",
    "    \"\"\"\n",
    "    comp_rules = load_pdf_from_url(\"https://en.onepiece-cardgame.com/pdf/rule_comprehensive.pdf?20250221\")\n",
    "    tourney_rules = load_pdf_from_url(\"https://en.onepiece-cardgame.com/pdf/tournament_rules_manual.pdf?20250613\")\n",
    "    \n",
    "    # Verifies BOTH comprehensive and tournament rules are loaded\n",
    "    # If either is None, it means loading failed\n",
    "    # Ensures we have both sets of rules before proceeding\n",
    "    if comp_rules is None or tourney_rules is None:\n",
    "        print(\"Failed to load One Piece Card Game rules.\")\n",
    "        print(\"Please check the URLs or your internet connection.\")\n",
    "        return None, None# Exit early if loading fails\n",
    "    \n",
    "    # Tag each page/chunk with its source\n",
    "    for page in comp_rules:\n",
    "        page.metadata[\"source\"] = \"comprehensive_rules\"\n",
    "    for page in tourney_rules:\n",
    "        page.metadata[\"source\"] = \"tournament_rules\"\n",
    "\n",
    "    return comp_rules, tourney_rules\n",
    "\n",
    "\n",
    "\n",
    "# Test the loader function\n",
    "x, y = loader_optcg_rulebooks()\n",
    "print(\"First 5 pages of the loaded documents:\")\n",
    "x[:5], y[:5]"
   ]
  },
  {
   "cell_type": "code",
   "execution_count": 3,
   "id": "955ce247",
   "metadata": {},
   "outputs": [],
   "source": [
    "# docs = x + y\n",
    "# #docs = load_pdf_from_url(\"https://www.w3.org/WAI/ER/tests/xhtml/testfiles/resources/pdf/dummy.pdf\")\n",
    "# CACHE_DIRECTORY = Path.home() / \".cache\"\n",
    "# CACHE_DIRECTORY.mkdir(parents=True, exist_ok=True)\n",
    "# PERSIST_DIRECTORY = CACHE_DIRECTORY / \"optcg_rulebooks_vectorstore\"\n",
    "# HASH_PATH = PERSIST_DIRECTORY / \"doc_hash.json\"\n",
    "# docs_hash = hash_documents(docs)\n",
    "# save_hash(docs_hash, HASH_PATH)\n",
    "# print(f\"Document hash saved to {HASH_PATH}\")\n",
    "# load_hash(HASH_PATH)"
   ]
  },
  {
   "cell_type": "code",
   "execution_count": 2,
   "id": "6a7e61e7",
   "metadata": {},
   "outputs": [],
   "source": [
    "### NOTE: The following function is for deleting the vector store from disk.\n",
    "## This should only be used if you need to update the vector store with new documents or changes. Otherwise, only if you absoutely need to delete the vector store from the disk. \n",
    "\n",
    "## The implentation of storing the vector store on disk is to ensure that it persists across sessions and does not need to be recreated every time you run the code. Limiting the need to re-embed the documents every time you run the code. Thus, reducing costs and improving performance.\n",
    "\n",
    "\n",
    "def delete_vectorstore_optcg_rulebooks():\n",
    "    \"\"\"Delete the persistent vector store for One Piece Card Game rules\"\"\"\n",
    "    \n",
    "    # Rudimentary confirmation prompt\n",
    "    confirmation = input(\"Are you sure you want to delete the vector store? This action cannot be undone. Type 'yes' to confirm: \")\n",
    "    if confirmation.strip().lower() != 'yes':\n",
    "        print(\"Deletion cancelled.\")\n",
    "        return\n",
    "    \n",
    "    # Delete the vector store directory if it exists\n",
    "    PERSIST_DIRECTORY = Path.home() / \".cache\" / \"optcg_rulebooks_vectorstore\"\n",
    "    if PERSIST_DIRECTORY.exists():\n",
    "        try:\n",
    "            # Use shutil.rmtree to recursively delete the entire directory tree\n",
    "            shutil.rmtree(PERSIST_DIRECTORY)\n",
    "            print(f\"Deleted vector store at {PERSIST_DIRECTORY}\")\n",
    "        except PermissionError as e:\n",
    "            print(f\"Permission error: {e}\")\n",
    "            print(\"Please ensure no files are open in the vector store directory.\")\n",
    "            print(\"You may need to close any applications using the vector store before deleting it. Try restarting your Jupyter kernel and running delete again.\")\n",
    "        except Exception as e:\n",
    "            print(f\"Error deleting vector store: {e}\")\n",
    "    else:\n",
    "        print(\"No vector store found to delete.\")"
   ]
  },
  {
   "cell_type": "code",
   "execution_count": null,
   "id": "2578d0a3",
   "metadata": {},
   "outputs": [],
   "source": [
    "## NOTE: Hashing function to create a unique hash for the documents\n",
    "## This is used to check if the documents have changed since the last time the vector store was created\n",
    "## i.e. if the documents have been updated.\n",
    "\n",
    "def hash_documents(documents):\n",
    "    combined = \"\".join(doc.page_content for doc in documents)\n",
    "    return hashlib.md5(combined.encode(\"utf-8\")).hexdigest()\n",
    "\n",
    "def save_hash(doc_hash, HASH_PATH):\n",
    "    with open(HASH_PATH, \"w\") as f:\n",
    "        json.dump({\"hash\": doc_hash}, f)\n",
    "\n",
    "def load_hash(HASH_PATH):\n",
    "    if HASH_PATH.exists():\n",
    "        with open(HASH_PATH, \"r\") as f:\n",
    "            return json.load(f).get(\"hash\")\n",
    "    return None\n",
    "\n",
    "\n",
    "def check_document_changes(documents, HASH_PATH, PERSIST_DIR_IN_CACHE=\"optcg_rulebooks_vectorstore\"): \n",
    "    \"\"\"\n",
    "    Check if the documents have changed since the last time the vector store was created.\n",
    "    This should never return `False, False` as at document hash should always be created when the vector store is created.\n",
    "    \"\"\"\n",
    "    current_hash = hash_documents(documents)\n",
    "    saved_hash = load_hash(HASH_PATH)\n",
    "    \n",
    "    CACHE_DIRECTORY = Path.home() / \".cache\"\n",
    "    CACHE_DIRECTORY.mkdir(parents=True, exist_ok=True)\n",
    "    PERSIST_DIRECTORY = CACHE_DIRECTORY / PERSIST_DIR_IN_CACHE\n",
    "\n",
    "    if saved_hash is None:\n",
    "        if os.path.exists(PERSIST_DIRECTORY) and os.listdir(PERSIST_DIRECTORY):\n",
    "            print(\"WARNING: Previous hash not found, but vector store exists. This is unexpected!\")\n",
    "            print(\"Please delete the existing vector store and create a new one to ensure hash is created.\")\n",
    "            return False, False # This should not happen! Hash should always be created when the vector store is created.\n",
    "        print(\"No previous hash found. Create a new vector store.\")\n",
    "        return False, True  # No previous hash, so we need to create a new vector store\n",
    "    elif current_hash != saved_hash:\n",
    "        print(\"Documents have changed since last vector store creation.\")\n",
    "        return True, True  # Documents have changed, so we need to create a new vector store\n",
    "    elif current_hash == saved_hash:\n",
    "        print(\"Documents have not changed since last vector store creation.\")\n",
    "        return True, False  # No changes detected\n",
    "\n",
    "# TODO: This function only implements the check for updates to the rules. This function does not update the vector store.\n",
    "## Would need to call `create_or_load_vectorstore_optcg_rulebooks()` to create the vector store if updates are detected.\n",
    "## If there is an existing vector store, it should be deleted and a new one will be created.\n",
    "\n",
    "def check_for_updates_to_rules():\n",
    "    \"\"\"Check if the One Piece Card Game rules have been updated since the last vector store creation, using the hash of the documents\"\"\"\n",
    "    CACHE_DIRECTORY = Path.home() / \".cache\"\n",
    "    CACHE_DIRECTORY.mkdir(parents=True, exist_ok=True)\n",
    "    PERSIST_DIR_IN_CACHE=\"optcg_rulebooks_vectorstore\"\n",
    "    PERSIST_DIRECTORY = CACHE_DIRECTORY / PERSIST_DIR_IN_CACHE\n",
    "    HASH_PATH = PERSIST_DIRECTORY / \"doc_hash.json\"\n",
    "\n",
    "    comp_rules, tourney_rules = loader_optcg_rulebooks()\n",
    "    if comp_rules is not None and tourney_rules is not None: # Exit if no documents are loaded.\n",
    "        documents = comp_rules + tourney_rules\n",
    "        existing_hash_bool, doc_changes_bool = check_document_changes(documents, HASH_PATH, PERSIST_DIR_IN_CACHE)\n",
    "        print(f\"Existing hash found: {existing_hash_bool}, Document changes detected: {doc_changes_bool}\")\n",
    "        if not doc_changes_bool:\n",
    "            print(\"No updates needed.\")\n",
    "            return False\n",
    "        elif not existing_hash_bool and doc_changes_bool:\n",
    "            print(\"Documents have changed or no previous hash found. Create a new vector store.\")\n",
    "            return True       \n",
    "        elif existing_hash_bool and doc_changes_bool:\n",
    "            print(\"Update needed. Delete existing vector store and create a new one.\")\n",
    "            return True\n",
    "        else: # If check_document_changes returns as `False, False`, this is unexpected.\n",
    "            # This should not happen! Hash should always be created when the vector store is created.\n",
    "            print(\"Unexpected case. Please check the implementation.\")\n",
    "            return None\n",
    "    else:\n",
    "        print(\"Cannot check for updates. No documents loaded.\")\n",
    "        return None\n",
    "    \n",
    "    \n",
    "def preprocess_tournament_rules(documents):\n",
    "    \"\"\"Add custom separators for tournament rule numbering\"\"\"\n",
    "    processed_docs = []\n",
    "    \n",
    "    for doc in documents:\n",
    "        # Replace patterns like \"1.2 followed by 1.2.1\" with double newlines\n",
    "        content = doc.page_content\n",
    "        \n",
    "        # Add double newlines (`\\n\\n`) before numbered sections like \"1.2\" and \"1.2.1\"\n",
    "        content = re.sub(r'(\\d+\\.\\d+)', r' \\n\\n\\1', content)\n",
    "        #content = re.sub(r'(\\d+\\.\\d+\\.\\d+)', r' \\n\\n\\1', content)\n",
    "\n",
    "        # Create new document with processed content\n",
    "        new_doc = doc.model_copy()\n",
    "        new_doc.page_content = content\n",
    "        processed_docs.append(new_doc)\n",
    "    \n",
    "    return processed_docs\n",
    "\n",
    "def create_or_load_vectorstore_optcg_rulebooks():\n",
    "    \"\"\"Create or load the persistent vector store\"\"\"\n",
    "    \n",
    "    # Define the cache directory and persistent directory\n",
    "    CACHE_DIRECTORY = Path.home() / \".cache\"\n",
    "    CACHE_DIRECTORY.mkdir(parents=True, exist_ok=True)\n",
    "    PERSIST_DIRECTORY = CACHE_DIRECTORY / \"optcg_rulebooks_vectorstore\"\n",
    "\n",
    "    # Define the embedding model\n",
    "    embeddings = OpenAIEmbeddings(\n",
    "        model=\"text-embedding-3-large\"\n",
    "        )\n",
    "\n",
    "    # Check if vector store already exists and load it\n",
    "    if os.path.exists(PERSIST_DIRECTORY) and os.listdir(PERSIST_DIRECTORY):\n",
    "        print(\"Loading existing vector store...\")\n",
    "        vectorstore = Chroma(\n",
    "            persist_directory=str(PERSIST_DIRECTORY),\n",
    "            embedding_function=embeddings\n",
    "        )\n",
    "        return vectorstore\n",
    "    \n",
    "    # If vector store does not exist, create it\n",
    "    else: \n",
    "        print(\"Creating new vector store...\")\n",
    "        \n",
    "        text_splitter = RecursiveCharacterTextSplitter(\n",
    "            chunk_size=1500,\n",
    "            chunk_overlap=300,\n",
    "            separators=[\"\\n\\n\", \"\\n \\n\", \"\\n\", \". \", \" \", \"\"]\n",
    "        )\n",
    "        \n",
    "        # Load and split documents\n",
    "        comp_rules, tourney_rules = loader_optcg_rulebooks()\n",
    "        if not comp_rules or not tourney_rules:\n",
    "            print(\"No documents loaded. Please check PDF URLs.\")\n",
    "            return None # Exit if no documents are loaded. Will not create a vector store.\n",
    "        docs = comp_rules + tourney_rules\n",
    "        doc_chunks = text_splitter.split_documents(docs)\n",
    "        print(f\"Split documents into {len(doc_chunks)} chunks\")\n",
    "        \n",
    "        # Create vector store with persistence\n",
    "        vectorstore = Chroma.from_documents(\n",
    "            documents=doc_chunks,\n",
    "            embedding=embeddings,\n",
    "            persist_directory=str(PERSIST_DIRECTORY)\n",
    "        )\n",
    "        print(f\"Vector store created and saved to {PERSIST_DIRECTORY}\")\n",
    "\n",
    "\n",
    "        HASH_PATH = PERSIST_DIRECTORY / \"doc_hash.json\"\n",
    "        docs_hash = hash_documents(docs)\n",
    "        save_hash(docs_hash, HASH_PATH)\n",
    "        print(f\"Document hash saved to {HASH_PATH}\")\n",
    "\n",
    "        return vectorstore\n",
    "\n",
    "# Create or load the vector store\n",
    "#vectorstore = create_or_load_vectorstore_optcg_rulebooks()"
   ]
  },
  {
   "cell_type": "code",
   "execution_count": null,
   "id": "5cf8656f",
   "metadata": {},
   "outputs": [
    {
     "name": "stdout",
     "output_type": "stream",
     "text": [
      "Documents have not changed since last vector store creation.\n",
      "Existing hash found: True, Document changes detected: False\n",
      "Documents have not changed since last vector store creation. No updates needed.\n"
     ]
    },
    {
     "data": {
      "text/plain": [
       "False"
      ]
     },
     "execution_count": 11,
     "metadata": {},
     "output_type": "execute_result"
    }
   ],
   "source": [
    "# delete_vectorstore_optcg_rulebooks()\n",
    "vectorstore = create_or_load_vectorstore_optcg_rulebooks()\n",
    "check_for_updates_to_rules()"
   ]
  },
  {
   "cell_type": "code",
   "execution_count": 25,
   "id": "89aaa36b",
   "metadata": {},
   "outputs": [
    {
     "name": "stdout",
     "output_type": "stream",
     "text": [
      "Testing vector store with a sample query...\n"
     ]
    },
    {
     "data": {
      "text/plain": [
       "['comprehensive_rules12: their effects first, in any order, followed by the player who did not choose \\nto go first or second, who then processes their effects in any order. \\n5-2-1-5-2. If changes are made to a deck as the result of an effect that reads “At the \\nstart of the game”, it is then shuffled by the owner of that deck. \\n5-2-1-6. Each player draws 5 cards from their deck  as their opening hand. Then, \\nbeginning with the player going first, each player may redraw their hand once \\naccording to the procedure below.  \\n5-2-1-6-1. The player returns all of the cards in their hand to their deck, reshuffles, \\nand then redraws 5 cards. \\n5-2-1-7. Each player places a number of cards from the top of their deck equal to the \\nLife value of their Leader face-down in their Life area such that the card at the \\ntop of their deck is at the bottom in their Life area. \\n5-2-1-8. The first player begins the game and starts their turn.',\n",
       " 'comprehensive_rules12: cannot contain a specified number of cards of a certain category. \\n5-1-2-4-2. Effects related to deck construction are valid during deck construction. \\n5-2. Pre-Game Preparations \\n5-2-1. Before playing the game, each player must follow the procedure below: \\n5-2-1-1. Each player presents the deck they’re going to use in this game. This deck (at \\nthis time) must meet the deck construction rules specified in 5-1-2. \\n5-2-1-2. Each player thoroughly shuffles their deck. Then, each player places their deck \\nface-down in their deck area. \\n5-2-1-3. Each player places their Leader card face-up in their Leader area. \\n5-2-1-4. The players decide, by Rock -Paper-Scissors or some other means,  which \\nplayer will decide whether they want to go first or second.  \\n5-2-1-4-1. No intervention of any kind is allowed in the player’s decision whether to \\ngo first or second. \\n5-2-1-5. Once it is determined which player will decide whether to go first or second, \\nthat player declares whether they will go first or second. \\n5-2-1-5-1. If a Leader has an effect that reads  “At the start of the game”, that effect \\nis processed at this time. If there are multiple effects that read  “At the \\nstart of the game”, the player who chose to go first or second processes \\ntheir effects first, in any order, followed by the player who did not choose \\nto go first or second, who then processes their effects in any order. \\n5-2-1-5-2. If changes are made to a deck as the result of an effect that reads “At the',\n",
       " 'comprehensive_rules10: 4-2-1. “Player” refers to the person who possesses a card. \\n4-2-1-1. When a card’s text refers to “owner” , this means the original holder of the \\ncard. \\n4-2-2. At the end of the game, each player has all cards they own returned to them. \\n4-3. Turn Player and Non-Turn Player \\n4-3-1. The “turn player” is the player whose turn is currently in progress. \\n4-3-2. The “non-turn player” is the player whose turn is currently not in progress. \\n4-4. Card States \\n4-4-1. Cards in the Leader area, Character area, and Stage area  should be in one of the \\nfollowing two states: \\n4-4-1-1. Active: A card positioned vertically from the player’s point of view. \\n4-4-1-2. Rested: A card positioned horizontally from the player’s point of view. \\n4-5. Draw a Card \\n4-5-1. “Draw a card ” is the act of adding the top card of a deck to your hand without \\nrevealing it to the other player. \\n4-5-2. When directed to “draw 1 card”, add 1 card from the top of your deck to your hand \\nwithout revealing it to the other player.  \\n4-5-3. When directed to “draw X cards” , nothing happens if X is 0. If X is 1 or higher, \\nrepeat the “draw a card” process that many times. \\n4-5-4. When directed to “draw up to X card (s)”, nothing happens if X is 0. If X is 1 or \\nhigher, carry out the following actions: \\n4-5-4-1. You can end this action. \\n4-5-4-2. Draw 1 card. \\n4-5-4-3. If you have carried out 4-5-4-2 X times, end this action. If not, return to 4-5-\\n4-1. \\n4-6. Damage Processing']"
      ]
     },
     "execution_count": 25,
     "metadata": {},
     "output_type": "execute_result"
    }
   ],
   "source": [
    "## Test the vector store\n",
    "print(\"Testing vector store with a sample query...\")\n",
    "sample_query = \"How many cards can I draw on my first turn?\"\n",
    "results = vectorstore.similarity_search(sample_query, k=3)\n",
    "\n",
    "[result.metadata[\"source\"] + str(result.metadata[\"page_label\"]) + \": \" + result.page_content for result in results]"
   ]
  },
  {
   "cell_type": "code",
   "execution_count": null,
   "id": "e16ee280",
   "metadata": {},
   "outputs": [
    {
     "data": {
      "text/plain": [
       "['tournament_rules21: opponent should receive a Warning. \\n• Irreparable game states should not result in restarting a game or match. \\n• If a player has damaged the game state due to an illegal action or missed auto, and \\ngameplay can be rewound to the point of that illegal action, it will be rewound even if the \\nopponent would gain an advantage from information that was previously Private \\nKnowledge. \\n4.11 Public Knowledge \\nThe following information is considered to be public knowledge, unless a card effect states \\notherwise: \\n• The number of cards in a player’s hand; \\n• The number of cards in a player’s deck (this includes main and DON!! deck); \\n• The number and names of cards in a player’s trash area; \\n• The number of Life cards remaining; \\n• Information printed on a specific card mentioned by name or otherwise clearly described; \\n• Which cards have been played during the current turn. \\nPlayers must answer questions involving the above topics truthfully. Players may not refuse to \\nanswer questions about information that is public. Lying about or refusing to answer questions \\nabout public knowledge may result in disqualification. \\n4.12 Private Knowledge \\nThe following information is considered private information, unless a card effect states otherwise: \\n• The cards in the main deck; \\n• What cards are in the Life area; \\n• Which cards are in a player’s hand; \\n• Which cards are in an opponent’s hand; \\n• Which cards were played or activated during the previous turn, unless there is an active',\n",
       " 'tournament_rules26: • Some severe infractions may also be explained in private to the person committing the \\ninfraction. \\n• Not every situation that occurs is appropriate for public knowledge. A judge’s decision to \\naddress a situation in private must be respected by other players, spectators, uninvolved \\njudges and tournament officials. \\n• The Head Judge’s decision is final.',\n",
       " 'tournament_rules22: 23  \\nPlayers may not answer questions about any game state information considered private knowledge. \\nGiving false or misleading information about private knowledge, or intentionally revealing \\ninformation considered private knowledge, may result in a disqualification penalty. \\n4.13 Life Area / Hand / Deck Verification \\nWith the exception of areas targeted by a search effect, you may not search any of your opponent’s \\nprivate knowledge areas, such as hand, deck, or life area, unless you are directed to do so by a card \\neffect. \\nJudges may not be asked to search or verify your opponent’s hand, deck or life area unless there is \\nevidence your opponent may be cheating or that there may be a valid deck-related issue. \\n4.14 Appeals \\nPlayers have the right to appeal rulings to the Head Judge of the tournament if they disagree with a \\nfloor judge’s ruling. \\nPlayers may not appeal a floor judge’s ruling until after the floor judge has issued the ruling. \\nPlayers must respectfully inform the floor judge that they wish to appeal the ruling issued. If you \\naccept the floor judge’s ruling, you cannot ask to appeal that ruling later. \\nThe Head Judge’s ruling is final, and cannot be appealed. \\n4.15 Conceding a Game or Match \\nPlayers may concede a game or match at any time up until the point that the game or match has \\nconcluded. Once a game or match has concluded, you may not concede or ‘give the win’ to an']"
      ]
     },
     "execution_count": 20,
     "metadata": {},
     "output_type": "execute_result"
    }
   ],
   "source": [
    "sample_query = \"What is considered private knowledge?\"\n",
    "results = vectorstore.similarity_search(sample_query, k=3)\n",
    "\n",
    "[result.metadata[\"source\"] + str(result.metadata[\"page_label\"]) + \": \" + result.page_content for result in results]"
   ]
  },
  {
   "cell_type": "code",
   "execution_count": null,
   "id": "f1a5bd90",
   "metadata": {},
   "outputs": [
    {
     "data": {
      "text/plain": [
       "['tournament_rules21: opponent should receive a Warning. \\n• Irreparable game states should not result in restarting a game or match. \\n• If a player has damaged the game state due to an illegal action or missed auto, and \\ngameplay can be rewound to the point of that illegal action, it will be rewound even if the \\nopponent would gain an advantage from information that was previously Private \\nKnowledge. \\n4.11 Public Knowledge \\nThe following information is considered to be public knowledge, unless a card effect states \\notherwise: \\n• The number of cards in a player’s hand; \\n• The number of cards in a player’s deck (this includes main and DON!! deck); \\n• The number and names of cards in a player’s trash area; \\n• The number of Life cards remaining; \\n• Information printed on a specific card mentioned by name or otherwise clearly described; \\n• Which cards have been played during the current turn. \\nPlayers must answer questions involving the above topics truthfully. Players may not refuse to \\nanswer questions about information that is public. Lying about or refusing to answer questions \\nabout public knowledge may result in disqualification. \\n4.12 Private Knowledge \\nThe following information is considered private information, unless a card effect states otherwise: \\n• The cards in the main deck; \\n• What cards are in the Life area; \\n• Which cards are in a player’s hand; \\n• Which cards are in an opponent’s hand; \\n• Which cards were played or activated during the previous turn, unless there is an active',\n",
       " 'tournament_rules22: 23  \\nPlayers may not answer questions about any game state information considered private knowledge. \\nGiving false or misleading information about private knowledge, or intentionally revealing \\ninformation considered private knowledge, may result in a disqualification penalty. \\n4.13 Life Area / Hand / Deck Verification \\nWith the exception of areas targeted by a search effect, you may not search any of your opponent’s \\nprivate knowledge areas, such as hand, deck, or life area, unless you are directed to do so by a card \\neffect. \\nJudges may not be asked to search or verify your opponent’s hand, deck or life area unless there is \\nevidence your opponent may be cheating or that there may be a valid deck-related issue. \\n4.14 Appeals \\nPlayers have the right to appeal rulings to the Head Judge of the tournament if they disagree with a \\nfloor judge’s ruling. \\nPlayers may not appeal a floor judge’s ruling until after the floor judge has issued the ruling. \\nPlayers must respectfully inform the floor judge that they wish to appeal the ruling issued. If you \\naccept the floor judge’s ruling, you cannot ask to appeal that ruling later. \\nThe Head Judge’s ruling is final, and cannot be appealed. \\n4.15 Conceding a Game or Match \\nPlayers may concede a game or match at any time up until the point that the game or match has \\nconcluded. Once a game or match has concluded, you may not concede or ‘give the win’ to an',\n",
       " 'tournament_rules17: 18  \\nPlayer deck lists may be published by the Tournament Organizer at any time once the event has \\nbegun, provided that this information is publicly accessible, that all player data is published at the \\nsame time, and that publication of this data provides additional value to those attending or watching \\nthe event. Otherwise, this information should be kept confidential throughout the duration of the \\ntournament. \\nTournament Organizers must provide deck lists to the Bandai global organized play team as part of \\ntheir event reporting. \\nBandai reserves the right to publish tournament information, including but not limited to deck lists, \\nplayer reports, transcripts, audio and / or video recordings, awards, penalties or any other \\ninformation related to the tournament. \\nAttending a Bandai organized play event may lead to an attendee’s image and likeness being \\nphotographed or recorded by or on behalf of Bandai. By entering or remaining at Bandai organized \\nplay events, attendees grant Bandai, its premier tournament organizers, and approved media bodies \\nto publish their name, image, likeness, deck list, methods of play, and written or oral statements in \\nconnection with any still photograph, live or recorded video display, or other transmission or \\nreproduction of the event, in whole or in any part. \\n3.8 Stream Broadcasts of Match Play \\nWhile attending Bandai organized play events, players may be instructed to play a feature match']"
      ]
     },
     "execution_count": 21,
     "metadata": {},
     "output_type": "execute_result"
    }
   ],
   "source": [
    "sample_query = \"What is considered public knowledge?\"\n",
    "results = vectorstore.similarity_search(sample_query, k=3)\n",
    "\n",
    "[result.metadata[\"source\"] + str(result.metadata[\"page_label\"]) + \": \" + result.page_content for result in results]"
   ]
  },
  {
   "cell_type": "code",
   "execution_count": 3,
   "id": "d7ffb213",
   "metadata": {},
   "outputs": [
    {
     "name": "stdout",
     "output_type": "stream",
     "text": [
      "Deleted vector store at C:\\Users\\tyson\\.cache\\optcg_rulebooks_vectorstore\n"
     ]
    }
   ],
   "source": [
    "delete_vectorstore_optcg_rulebooks()"
   ]
  },
  {
   "cell_type": "code",
   "execution_count": null,
   "id": "e29a071d",
   "metadata": {},
   "outputs": [],
   "source": [
    "@tool\n",
    "def rulebook_lookup(query: str) -> str:\n",
    "    \"\"\"Looks up a rule in the One Piece TCG rulebook.\"\"\"\n",
    "    # In a real implementation, this would query a database or API.\n",
    "    rules = {\n",
    "        \"What happens if two characters with the same name are played on the same team?\": \"Characters with the same name cannot be played on the same team. If you already have a character in play, you cannot play another character with the same name.\",\n",
    "        \"How does the Don!! system work?\": \"Don!! cards are used to pay costs and activate abilities. You can attach Don!! cards to characters to increase their power or use them to pay for events and character abilities.\",\n",
    "        \"What is the difference between active and rest positions?\": \"Active position means the card is upright and can attack or use abilities. Rest position means the card is turned sideways and cannot attack until it becomes active again during your next turn.\",\n",
    "        \"How do you win the game?\": \"You win by reducing your opponent's life to 0. Life is reduced when your opponent takes damage and has no cards left in their life area to trash.\",\n",
    "        \"What is a counter ability?\": \"Counter abilities can be activated during your opponent's turn when specific conditions are met, usually when one of your characters is being attacked.\"\n",
    "    }\n",
    "    return rules.get(query, \"Rule not found.\")"
   ]
  },
  {
   "cell_type": "code",
   "execution_count": null,
   "id": "8185c179",
   "metadata": {},
   "outputs": [],
   "source": [
    "tools = [rulebook_lookup]\n",
    "agent = create_react_agent(\n",
    "    model=ChatOpenAI(model=\"gpt-4.1-mini\", temperature=0),\n",
    "    name=\"RulebookAgent\",\n",
    "    tools=tools, \n",
    "    prompt=\"You are a helpful assistant that helps people find information in the Rulebook for One Piece TCG. You have access to the following tools: {tools}. Use them to find the information the user is looking for. If you don't know the answer, just say you don't know. Do not try to make up an answer.\",\n",
    ")"
   ]
  },
  {
   "cell_type": "code",
   "execution_count": null,
   "id": "ec603309",
   "metadata": {},
   "outputs": [
    {
     "name": "stdout",
     "output_type": "stream",
     "text": [
      "================================\u001b[1m Human Message \u001b[0m=================================\n",
      "\n",
      "What happens if two characters with the same name are played on the same team?\n",
      "==================================\u001b[1m Ai Message \u001b[0m==================================\n",
      "Name: RulebookAgent\n",
      "Tool Calls:\n",
      "  rulebook_lookup (call_PKkircNK3uQSxN1NV6lDwEsx)\n",
      " Call ID: call_PKkircNK3uQSxN1NV6lDwEsx\n",
      "  Args:\n",
      "    query: two characters with the same name on the same team\n",
      "=================================\u001b[1m Tool Message \u001b[0m=================================\n",
      "Name: rulebook_lookup\n",
      "\n",
      "Rule not found.\n",
      "==================================\u001b[1m Ai Message \u001b[0m==================================\n",
      "Name: RulebookAgent\n",
      "\n",
      "I couldn't find a specific rule in the One Piece TCG rulebook about what happens if two characters with the same name are played on the same team. If you have any other questions or need information on a related topic, feel free to ask!\n"
     ]
    }
   ],
   "source": [
    "response = agent.invoke(\n",
    "    {\"messages\": [{\n",
    "        \"role\": \"user\", \n",
    "        \"content\": \"What happens if two characters with the same name are played on the same team?\"\n",
    "    }]}\n",
    ")\n",
    "for m in response[\"messages\"]:\n",
    "    m.pretty_print()"
   ]
  },
  {
   "cell_type": "code",
   "execution_count": null,
   "id": "31060168",
   "metadata": {},
   "outputs": [
    {
     "data": {
      "text/plain": [
       "'Characters with the same name cannot be played on the same team. If you already have a character in play, you cannot play another character with the same name.'"
      ]
     },
     "execution_count": 8,
     "metadata": {},
     "output_type": "execute_result"
    }
   ],
   "source": [
    "rules = {\n",
    "        \"What happens if two characters with the same name are played on the same team?\": \"Characters with the same name cannot be played on the same team. If you already have a character in play, you cannot play another character with the same name.\"}\n",
    "rules.get(\"What happens if two characters with the same name are played on the same team?\", \"Rule not found.\")"
   ]
  },
  {
   "cell_type": "code",
   "execution_count": null,
   "id": "4d8f3724",
   "metadata": {},
   "outputs": [],
   "source": []
  },
  {
   "cell_type": "code",
   "execution_count": null,
   "id": "e765492d",
   "metadata": {},
   "outputs": [],
   "source": [
    "# Example: Load a PDF from a URL\n",
    "# Replace this with your actual PDF URL\n",
    "pdf_url = \"https://example.com/your-pdf-file.pdf\"\n",
    "\n",
    "# Uncomment the lines below to test with a real PDF URL\n",
    "# documents = load_pdf_from_url(pdf_url)\n",
    "# if documents:\n",
    "#     print(f\"Successfully loaded {len(documents)} pages from the PDF\")\n",
    "#     \n",
    "#     # Show first page content (first 500 characters)\n",
    "#     if len(documents) > 0:\n",
    "#         print(f\"\\nFirst page content preview:\")\n",
    "#         print(documents[0].page_content[:500] + \"...\")\n",
    "#         \n",
    "#         # Show metadata\n",
    "#         print(f\"\\nPage metadata:\")\n",
    "#         print(documents[0].metadata)\n",
    "# else:\n",
    "#     print(\"Failed to load PDF\")"
   ]
  },
  {
   "cell_type": "code",
   "execution_count": null,
   "id": "32393173",
   "metadata": {},
   "outputs": [
    {
     "name": "stdout",
     "output_type": "stream",
     "text": [
      "Path type: <class 'type'>\n",
      "Path.home() type: <class 'pathlib._local.WindowsPath'>\n",
      "Path.home() value: C:\\Users\\tyson\n",
      "home: C:\\Users\\tyson, type: <class 'pathlib._local.WindowsPath'>\n",
      "cache: C:\\Users\\tyson\\.cache, type: <class 'pathlib._local.WindowsPath'>\n",
      "final_path: C:\\Users\\tyson\\.cache\\onepiece_vectorstore, type: <class 'pathlib._local.WindowsPath'>\n"
     ]
    }
   ],
   "source": [
    "# Debug cell - check Path object\n",
    "print(f\"Path type: {type(Path)}\")\n",
    "print(f\"Path.home() type: {type(Path.home())}\")\n",
    "print(f\"Path.home() value: {Path.home()}\")\n",
    "\n",
    "# Test the problematic line step by step\n",
    "home = Path.home()\n",
    "print(f\"home: {home}, type: {type(home)}\")\n",
    "\n",
    "cache = home / \".cache\"\n",
    "print(f\"cache: {cache}, type: {type(cache)}\")\n",
    "\n",
    "final_path = cache / \"onepiece_vectorstore\"\n",
    "print(f\"final_path: {final_path}, type: {type(final_path)}\")"
   ]
  },
  {
   "cell_type": "code",
   "execution_count": null,
   "id": "8ed445d2",
   "metadata": {},
   "outputs": [],
   "source": []
  }
 ],
 "metadata": {
  "kernelspec": {
   "display_name": ".venv",
   "language": "python",
   "name": "python3"
  },
  "language_info": {
   "codemirror_mode": {
    "name": "ipython",
    "version": 3
   },
   "file_extension": ".py",
   "mimetype": "text/x-python",
   "name": "python",
   "nbconvert_exporter": "python",
   "pygments_lexer": "ipython3",
   "version": "3.13.1"
  }
 },
 "nbformat": 4,
 "nbformat_minor": 5
}
