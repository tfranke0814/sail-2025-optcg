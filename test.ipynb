{
 "cells": [
  {
   "cell_type": "code",
   "execution_count": 1,
   "id": "e4a064d3",
   "metadata": {},
   "outputs": [],
   "source": [
    "import os\n",
    "from dotenv import load_dotenv\n",
    "\n",
    "from langchain_openai import ChatOpenAI\n",
    "from langgraph.prebuilt import create_react_agent\n",
    "from langchain_core.tools import tool\n",
    "\n",
    "from langchain_community.document_loaders.pdf import PyPDFLoader\n",
    "import requests\n",
    "import tempfile\n",
    "from langchain_openai import OpenAIEmbeddings\n",
    "from langchain_community.vectorstores import Chroma\n",
    "from langchain.text_splitter import RecursiveCharacterTextSplitter\n",
    "\n",
    "\n",
    "_ = load_dotenv() # Loads the .env file - e.g. the OPENAI_API_KEY"
   ]
  },
  {
   "cell_type": "code",
   "execution_count": 2,
   "id": "f7ddad2e",
   "metadata": {},
   "outputs": [],
   "source": [
    "def load_pdf_from_url(url: str):\n",
    "    \"\"\"\n",
    "    Load a PDF from a URL and extract its text content.\n",
    "    \n",
    "    Args:\n",
    "        url: The URL of the PDF file\n",
    "    \n",
    "    Returns:\n",
    "        List of documents with page content\n",
    "    \"\"\"\n",
    "    try:\n",
    "        # Download the PDF content\n",
    "        response = requests.get(url)\n",
    "        response.raise_for_status()  # Raise an exception for bad status codes\n",
    "        \n",
    "        # Create a temporary file to store the PDF\n",
    "        with tempfile.NamedTemporaryFile(delete=False, suffix='.pdf') as temp_file:\n",
    "            temp_file.write(response.content)\n",
    "            temp_file_path = temp_file.name\n",
    "        \n",
    "        # Load the PDF using PyPDFLoader\n",
    "        loader = PyPDFLoader(temp_file_path)\n",
    "        documents = loader.load()\n",
    "        \n",
    "        # Clean up the temporary file\n",
    "        os.unlink(temp_file_path)\n",
    "        \n",
    "        return documents\n",
    "    \n",
    "    except Exception as e:\n",
    "        print(f\"Error loading PDF from URL: {str(e)}\")\n",
    "        return None\n",
    "\n",
    "comp_rules = load_pdf_from_url(\"https://en.onepiece-cardgame.com/pdf/rule_comprehensive.pdf?20250221\")\n",
    "tourney_rules = load_pdf_from_url(\"https://en.onepiece-cardgame.com/pdf/tournament_rules_manual.pdf?20250613\")\n",
    "\n",
    "embeddings = OpenAIEmbeddings(\n",
    "    model=\"text-embedding-3-large\",\n",
    ")\n",
    "\n",
    "# Create a persistent directory for your vector store\n",
    "CACHE_DIRECTORY = os.path.join(os.path.expanduser(\"~\"), \".cache\", \"onepiece_vectorstore\")\n",
    "os.makedirs(CACHE_DIRECTORY, exist_ok=True)\n",
    "PERSIST_DIRECTORY = os.path.join(CACHE_DIRECTORY, \"onepiece_vectorstore\")\n"
   ]
  },
  {
   "cell_type": "code",
   "execution_count": 3,
   "id": "2578d0a3",
   "metadata": {},
   "outputs": [
    {
     "name": "stdout",
     "output_type": "stream",
     "text": [
      "Creating new vector store...\n",
      "Split documents into 221 chunks\n",
      "Vector store created and saved to C:\\Users\\tyson\\.cache\\onepiece_vectorstore\\onepiece_vectorstore\n",
      "Vector store created and saved to C:\\Users\\tyson\\.cache\\onepiece_vectorstore\\onepiece_vectorstore\n"
     ]
    }
   ],
   "source": [
    "def create_or_load_vectorstore():\n",
    "    \"\"\"Create or load the persistent vector store\"\"\"\n",
    "    \n",
    "    # Check if vector store already exists\n",
    "    if os.path.exists(PERSIST_DIRECTORY) and os.listdir(PERSIST_DIRECTORY):\n",
    "        print(\"Loading existing vector store...\")\n",
    "        vectorstore = Chroma(\n",
    "            persist_directory=PERSIST_DIRECTORY,\n",
    "            embedding_function=embeddings\n",
    "        )\n",
    "        return vectorstore\n",
    "    \n",
    "    else:\n",
    "        print(\"Creating new vector store...\")\n",
    "        \n",
    "        # Split documents into chunks\n",
    "        text_splitter = RecursiveCharacterTextSplitter(\n",
    "            chunk_size=1000,\n",
    "            chunk_overlap=200,\n",
    "            separators=[\"\\n\\n\", \"\\n\", \" \", \"\"]\n",
    "        )\n",
    "        \n",
    "        # Combine and split documents\n",
    "        all_docs = []\n",
    "        if comp_rules:\n",
    "            all_docs.extend(comp_rules)\n",
    "        if tourney_rules:\n",
    "            all_docs.extend(tourney_rules)\n",
    "        \n",
    "        if not all_docs:\n",
    "            print(\"No documents loaded. Please check PDF URLs.\")\n",
    "            return None\n",
    "            \n",
    "        doc_chunks = text_splitter.split_documents(all_docs)\n",
    "        print(f\"Split documents into {len(doc_chunks)} chunks\")\n",
    "        \n",
    "        # Create vector store with persistence\n",
    "        vectorstore = Chroma.from_documents(\n",
    "            documents=doc_chunks,\n",
    "            embedding=embeddings,\n",
    "            persist_directory=PERSIST_DIRECTORY\n",
    "        )\n",
    "        \n",
    "        print(f\"Vector store created and saved to {PERSIST_DIRECTORY}\")\n",
    "        return vectorstore\n",
    "\n",
    "# Create or load the vector store\n",
    "vectorstore = create_or_load_vectorstore()"
   ]
  },
  {
   "cell_type": "code",
   "execution_count": 15,
   "id": "7d11ceb9",
   "metadata": {},
   "outputs": [
    {
     "data": {
      "text/plain": [
       "[Document(metadata={'source': 'C:\\\\Users\\\\tyson\\\\AppData\\\\Local\\\\Temp\\\\tmpxyyd9j_g.pdf', 'moddate': '2025-06-11T20:02:39+09:00', 'page': 23, 'producer': 'Microsoft® Word 2021', 'total_pages': 41, 'page_label': '24', 'title': 'Tournament Rules Manual', 'creator': 'Microsoft® Word 2021', 'creationdate': '2025-02-22T22:45:09-05:00'}, page_content='reporting match results. \\nMatch results cannot be altered once they have been submitted. Players should verify the match \\nresult slip carefully before submitting it. \\n5.2 End of Round Procedures \\nSometimes a match may not finish prior to time being called for the round. Both players are \\nresponsible for noting who is the active player when time is called. \\nPlayers who need assistance with End of Round procedures should raise their hand and call for a \\njudge. The judge should be notified the game is ongoing and whose turn it is. The judge should \\nensure both players understand the End of Round procedures, and may stay to supervise. \\nIf time is called while players are in between games, compare the number of games won by each \\nplayer. If they have both won the same number of games, the match is declared a draw. If one \\nplayer has won more games than the other, that player is declared the winner of the match.'),\n",
       " Document(metadata={'title': 'Tournament Rules Manual', 'page_label': '15', 'source': 'C:\\\\Users\\\\tyson\\\\AppData\\\\Local\\\\Temp\\\\tmpxyyd9j_g.pdf', 'page': 14, 'producer': 'Microsoft® Word 2021', 'moddate': '2025-06-11T20:02:39+09:00', 'creationdate': '2025-02-22T22:45:09-05:00', 'creator': 'Microsoft® Word 2021', 'total_pages': 41}, page_content='qualifying rounds, their seeding is equal to their final placement in qualifying. The winner \\nmoves on to the next match, while the losing player is eliminated from the tournament. \\nIf the number of players enrolled in the event is not a power of 2, the highest-seeded players \\nwill receive byes. \\n• Subsequent Rounds: Players continue to be paired along brackets, with the winner of a \\nmatch moving on and the loser being eliminated. Ultimately, only two players will remain, \\nwith the winner of that Championship match becoming the winner of the tournament. \\n3.4.2 Swiss \\nThe objective of the Swiss pairing method is to determine a single winner by pairing players with \\nsimilar match records against each other until there is only one undefeated player. \\nSwiss Events run as follows: \\n• Round 1: Players are paired randomly for the first round of play. Players receive 3 match \\npoints for winning, 1 match point for a draw, and 0 match points for losing. If there is an odd'),\n",
       " Document(metadata={'total_pages': 41, 'title': 'Tournament Rules Manual', 'source': 'C:\\\\Users\\\\tyson\\\\AppData\\\\Local\\\\Temp\\\\tmpxyyd9j_g.pdf', 'page': 19, 'producer': 'Microsoft® Word 2021', 'creationdate': '2025-02-22T22:45:09-05:00', 'moddate': '2025-06-11T20:02:39+09:00', 'page_label': '20', 'creator': 'Microsoft® Word 2021'}, page_content='your opponent shuffling. The judge will determine the necessary course of action. \\nAll shuffles, searches and acts of adding specific cards from your deck to your hand must be carried \\nout in an expedient manner. Resolving card search and shuffle effects should take no longer than a \\nminute from the activation of a power to its full resolution. \\nA judge may penalize a player for the amount of time taken to resolve an action if deemed \\nnecessary. \\n4.6 Determining Starting Player \\nAfter players have shuffled both of their decks thoroughly, players should use a random method to \\ndecide which player is the starting player. \\nPlayers may roll a die, flip a coin, play Rock-Paper-Scissors, etc. \\nThe winner chooses who goes first. \\nIn all Top-Cut play-off and championship matches, the player with the higher standing after Swiss \\nrounds will choose who goes first for the first game. \\nIn a best-of-three game match, the player who loses the preceding game chooses whether to go first'),\n",
       " Document(metadata={'total_pages': 41, 'source': 'C:\\\\Users\\\\tyson\\\\AppData\\\\Local\\\\Temp\\\\tmpxyyd9j_g.pdf', 'moddate': '2025-06-11T20:02:39+09:00', 'producer': 'Microsoft® Word 2021', 'creator': 'Microsoft® Word 2021', 'creationdate': '2025-02-22T22:45:09-05:00', 'title': 'Tournament Rules Manual', 'page_label': '8', 'page': 7}, page_content='The Tournament Organizer is responsible for ensuring the tournament is run according to the rules \\nand policies provided by Bandai, and must be present at the tournament while it is taking place. \\nOfficial events are run online, at approved Carddass store venues or venues chosen by approved \\nPremier Tournament Organizers. \\nTournament Organizers are permitted to maintain a list of players from previous tournaments and \\nfrom Bandai TCG+, provided access to this information is restricted to the Tournament Organizer. \\nCertain criteria must be met in order to run official Bandai events. Those interested in becoming a \\nTournament Organizer should email BANDAI_globalop@carddass.com. \\n1.6 Scorekeeper \\nThe Scorekeeper is responsible for creating accurate pairings and providing accurate tournament \\ninformation throughout the event. \\nThe Scorekeeper is responsible for understanding the software utilized for organized play events, as \\nwell as all procedures relevant to scorekeeping an event.'),\n",
       " Document(metadata={'creationdate': '2025-02-22T22:45:09-05:00', 'page': 25, 'producer': 'Microsoft® Word 2021', 'title': 'Tournament Rules Manual', 'page_label': '26', 'moddate': '2025-06-11T20:02:39+09:00', 'creator': 'Microsoft® Word 2021', 'source': 'C:\\\\Users\\\\tyson\\\\AppData\\\\Local\\\\Temp\\\\tmpxyyd9j_g.pdf', 'total_pages': 41}, page_content='same number of match wins. \\nPlayers earn points based on how well they perform during a match. \\n \\nMatch Outcome Points Awarded \\nWin 3 \\nBye 3 \\nDraw 1 \\nLoss 0 \\n \\nPlayers are ranked first on how many points they have accumulated during the course of the event. \\nIn the event of a tie, placement is determined by the process below: \\n1. Comparing Average Match Win Rate – calculate the average match win rate of the 2 \\nplayers (excluding byes) and divide the value by the number of tournament rounds they \\nparticipated in. The player with the higher final value ranks above others. \\n2. Comparing Average Match Win Rates for the Players’ Opponents – calculate the average \\nmatch win rate for the opponents of each player. The player with the higher final value \\nranks above others. \\nIn extremely rare occasions, players may finish a tournament with identical tie-breakers, leaving \\nthem tied for final standing. If time permits, the players should play another match to determine a \\nwinner.')]"
      ]
     },
     "execution_count": 15,
     "metadata": {},
     "output_type": "execute_result"
    }
   ],
   "source": [
    "# RAG For Docs\n",
    "vectorstore_rag = vectorstore.as_retriever(\n",
    "    search_kwargs={\"k\": 5}  # Adjust k based on your needs\n",
    "    )\n",
    "vectorstore_rag.search_type = \"similarity\"\n",
    "vectorstore_rag.invoke(\"similarity_search\")"
   ]
  },
  {
   "cell_type": "code",
   "execution_count": 5,
   "id": "e29a071d",
   "metadata": {},
   "outputs": [],
   "source": [
    "@tool\n",
    "def rulebook_lookup(query: str) -> str:\n",
    "    \"\"\"Looks up a rule in the One Piece TCG rulebook.\"\"\"\n",
    "    # In a real implementation, this would query a database or API.\n",
    "    rules = {\n",
    "        \"What happens if two characters with the same name are played on the same team?\": \"Characters with the same name cannot be played on the same team. If you already have a character in play, you cannot play another character with the same name.\",\n",
    "        \"How does the Don!! system work?\": \"Don!! cards are used to pay costs and activate abilities. You can attach Don!! cards to characters to increase their power or use them to pay for events and character abilities.\",\n",
    "        \"What is the difference between active and rest positions?\": \"Active position means the card is upright and can attack or use abilities. Rest position means the card is turned sideways and cannot attack until it becomes active again during your next turn.\",\n",
    "        \"How do you win the game?\": \"You win by reducing your opponent's life to 0. Life is reduced when your opponent takes damage and has no cards left in their life area to trash.\",\n",
    "        \"What is a counter ability?\": \"Counter abilities can be activated during your opponent's turn when specific conditions are met, usually when one of your characters is being attacked.\"\n",
    "    }\n",
    "    return rules.get(query, \"Rule not found.\")"
   ]
  },
  {
   "cell_type": "code",
   "execution_count": 6,
   "id": "8185c179",
   "metadata": {},
   "outputs": [],
   "source": [
    "tools = [rulebook_lookup]\n",
    "agent = create_react_agent(\n",
    "    model=ChatOpenAI(model=\"gpt-4.1-mini\", temperature=0),\n",
    "    name=\"RulebookAgent\",\n",
    "    tools=tools, \n",
    "    prompt=\"You are a helpful assistant that helps people find information in the Rulebook for One Piece TCG. You have access to the following tools: {tools}. Use them to find the information the user is looking for. If you don't know the answer, just say you don't know. Do not try to make up an answer.\",\n",
    ")"
   ]
  },
  {
   "cell_type": "code",
   "execution_count": 7,
   "id": "ec603309",
   "metadata": {},
   "outputs": [
    {
     "name": "stdout",
     "output_type": "stream",
     "text": [
      "================================\u001b[1m Human Message \u001b[0m=================================\n",
      "\n",
      "What happens if two characters with the same name are played on the same team?\n",
      "==================================\u001b[1m Ai Message \u001b[0m==================================\n",
      "Name: RulebookAgent\n",
      "Tool Calls:\n",
      "  rulebook_lookup (call_MxGwQYFqGpHKF6jDwXiNbwL0)\n",
      " Call ID: call_MxGwQYFqGpHKF6jDwXiNbwL0\n",
      "  Args:\n",
      "    query: two characters with the same name on the same team\n",
      "=================================\u001b[1m Tool Message \u001b[0m=================================\n",
      "Name: rulebook_lookup\n",
      "\n",
      "Rule not found.\n",
      "==================================\u001b[1m Ai Message \u001b[0m==================================\n",
      "Name: RulebookAgent\n",
      "\n",
      "I couldn't find a specific rule in the One Piece TCG rulebook about what happens if two characters with the same name are played on the same team. If you have any other questions or need information on a related topic, feel free to ask!\n"
     ]
    }
   ],
   "source": [
    "response = agent.invoke(\n",
    "    {\"messages\": [{\n",
    "        \"role\": \"user\", \n",
    "        \"content\": \"What happens if two characters with the same name are played on the same team?\"\n",
    "    }]}\n",
    ")\n",
    "for m in response[\"messages\"]:\n",
    "    m.pretty_print()"
   ]
  },
  {
   "cell_type": "code",
   "execution_count": 8,
   "id": "31060168",
   "metadata": {},
   "outputs": [
    {
     "data": {
      "text/plain": [
       "'Characters with the same name cannot be played on the same team. If you already have a character in play, you cannot play another character with the same name.'"
      ]
     },
     "execution_count": 8,
     "metadata": {},
     "output_type": "execute_result"
    }
   ],
   "source": [
    "rules = {\n",
    "        \"What happens if two characters with the same name are played on the same team?\": \"Characters with the same name cannot be played on the same team. If you already have a character in play, you cannot play another character with the same name.\"}\n",
    "rules.get(\"What happens if two characters with the same name are played on the same team?\", \"Rule not found.\")"
   ]
  },
  {
   "cell_type": "code",
   "execution_count": null,
   "id": "4d8f3724",
   "metadata": {},
   "outputs": [],
   "source": []
  },
  {
   "cell_type": "code",
   "execution_count": 9,
   "id": "e765492d",
   "metadata": {},
   "outputs": [],
   "source": [
    "# Example: Load a PDF from a URL\n",
    "# Replace this with your actual PDF URL\n",
    "pdf_url = \"https://example.com/your-pdf-file.pdf\"\n",
    "\n",
    "# Uncomment the lines below to test with a real PDF URL\n",
    "# documents = load_pdf_from_url(pdf_url)\n",
    "# if documents:\n",
    "#     print(f\"Successfully loaded {len(documents)} pages from the PDF\")\n",
    "#     \n",
    "#     # Show first page content (first 500 characters)\n",
    "#     if len(documents) > 0:\n",
    "#         print(f\"\\nFirst page content preview:\")\n",
    "#         print(documents[0].page_content[:500] + \"...\")\n",
    "#         \n",
    "#         # Show metadata\n",
    "#         print(f\"\\nPage metadata:\")\n",
    "#         print(documents[0].metadata)\n",
    "# else:\n",
    "#     print(\"Failed to load PDF\")"
   ]
  },
  {
   "cell_type": "code",
   "execution_count": 10,
   "id": "32393173",
   "metadata": {},
   "outputs": [
    {
     "ename": "NameError",
     "evalue": "name 'Path' is not defined",
     "output_type": "error",
     "traceback": [
      "\u001b[31m---------------------------------------------------------------------------\u001b[39m",
      "\u001b[31mNameError\u001b[39m                                 Traceback (most recent call last)",
      "\u001b[36mCell\u001b[39m\u001b[36m \u001b[39m\u001b[32mIn[10]\u001b[39m\u001b[32m, line 2\u001b[39m\n\u001b[32m      1\u001b[39m \u001b[38;5;66;03m# Debug cell - check Path object\u001b[39;00m\n\u001b[32m----> \u001b[39m\u001b[32m2\u001b[39m \u001b[38;5;28mprint\u001b[39m(\u001b[33mf\u001b[39m\u001b[33m\"\u001b[39m\u001b[33mPath type: \u001b[39m\u001b[38;5;132;01m{\u001b[39;00m\u001b[38;5;28mtype\u001b[39m(\u001b[43mPath\u001b[49m)\u001b[38;5;132;01m}\u001b[39;00m\u001b[33m\"\u001b[39m)\n\u001b[32m      3\u001b[39m \u001b[38;5;28mprint\u001b[39m(\u001b[33mf\u001b[39m\u001b[33m\"\u001b[39m\u001b[33mPath.home() type: \u001b[39m\u001b[38;5;132;01m{\u001b[39;00m\u001b[38;5;28mtype\u001b[39m(Path.home())\u001b[38;5;132;01m}\u001b[39;00m\u001b[33m\"\u001b[39m)\n\u001b[32m      4\u001b[39m \u001b[38;5;28mprint\u001b[39m(\u001b[33mf\u001b[39m\u001b[33m\"\u001b[39m\u001b[33mPath.home() value: \u001b[39m\u001b[38;5;132;01m{\u001b[39;00mPath.home()\u001b[38;5;132;01m}\u001b[39;00m\u001b[33m\"\u001b[39m)\n",
      "\u001b[31mNameError\u001b[39m: name 'Path' is not defined"
     ]
    }
   ],
   "source": [
    "# Debug cell - check Path object\n",
    "print(f\"Path type: {type(Path)}\")\n",
    "print(f\"Path.home() type: {type(Path.home())}\")\n",
    "print(f\"Path.home() value: {Path.home()}\")\n",
    "\n",
    "# Test the problematic line step by step\n",
    "home = Path.home()\n",
    "print(f\"home: {home}, type: {type(home)}\")\n",
    "\n",
    "cache = home / \".cache\"\n",
    "print(f\"cache: {cache}, type: {type(cache)}\")\n",
    "\n",
    "final_path = cache / \"onepiece_vectorstore\"\n",
    "print(f\"final_path: {final_path}, type: {type(final_path)}\")"
   ]
  },
  {
   "cell_type": "code",
   "execution_count": null,
   "id": "8ed445d2",
   "metadata": {},
   "outputs": [],
   "source": []
  }
 ],
 "metadata": {
  "kernelspec": {
   "display_name": ".venv",
   "language": "python",
   "name": "python3"
  },
  "language_info": {
   "codemirror_mode": {
    "name": "ipython",
    "version": 3
   },
   "file_extension": ".py",
   "mimetype": "text/x-python",
   "name": "python",
   "nbconvert_exporter": "python",
   "pygments_lexer": "ipython3",
   "version": "3.13.1"
  }
 },
 "nbformat": 4,
 "nbformat_minor": 5
}
