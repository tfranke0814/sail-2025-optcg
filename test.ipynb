{
 "cells": [
  {
   "cell_type": "code",
   "execution_count": 8,
   "id": "e4a064d3",
   "metadata": {},
   "outputs": [],
   "source": [
    "import os\n",
    "from dotenv import load_dotenv\n",
    "\n",
    "from langchain_openai import ChatOpenAI\n",
    "from langgraph.prebuilt import create_react_agent\n",
    "from langchain_core.tools import tool\n",
    "\n",
    "from langchain_community.document_loaders.pdf import PyPDFLoader\n",
    "import requests\n",
    "import tempfile\n",
    "from langchain_openai import OpenAIEmbeddings\n",
    "from langchain_community.vectorstores import Chroma\n",
    "from langchain.text_splitter import RecursiveCharacterTextSplitter\n",
    "\n",
    "from pathlib import Path\n",
    "import shutil \n",
    "\n",
    "_ = load_dotenv() # Loads the .env file - e.g. the OPENAI_API_KEY"
   ]
  },
  {
   "cell_type": "code",
   "execution_count": null,
   "id": "f7ddad2e",
   "metadata": {},
   "outputs": [
    {
     "name": "stdout",
     "output_type": "stream",
     "text": [
      "First and last 5 pages of the loaded documents:\n"
     ]
    },
    {
     "data": {
      "text/plain": [
       "([Document(metadata={'producer': 'Microsoft® Word for Microsoft 365', 'creator': 'Microsoft® Word for Microsoft 365', 'creationdate': '2025-02-20T12:30:45+09:00', 'moddate': '2025-02-20T14:31:46+09:00', 'title': 'Comprehensive Rules', 'source': 'comprehensive_rules', 'total_pages': 26, 'page': 0, 'page_label': '1'}, page_content='1 \\n \\nONE PIECE CARD GAME Comprehensive Rules \\nVersion 1.1.8 \\n \\nLast updated: 2/21/2025 \\n \\nTable of Contents \\nContents of Comprehensive Rules ............................................................................................ \\n1. Game Overview .................................................................................................................. 1 \\n2. Card Information ................................................................................................................ 3 \\n3. Game Areas ........................................................................................................................ 6 \\n4. Basic Game Terminology ................................................................................................... 9 \\n5. Game Setup ...................................................................................................................... 11 \\n6. Game Progression ............................................................................................................ 12 \\n7. Card Attacks and Battles .................................................................................................. 14 \\n8. Activating and Resolving Effects ...................................................................................... 15 \\n9. Rule Processing ................................................................................................................ 19 \\n10. Keyword Effects and Keywords ...................................................................................... 19 \\n11. Other .............................................................................................................................. 22 \\n  \\nContents of Comprehensive Rules  \\n1. Game Overview  \\n1-1. Number of Players \\n1-1-1. Fundamentally, this game is intended to be played by two players , head-to-head. \\nThese rules do not currently support play by three or more players. \\n1-2. Ending the Game \\n1-2-1. The game ends when either player loses the game. When a player’s opponent loses \\nthe game, the player who has not lost wins the game. \\n1-2-1-1. The two defeat conditions are as follows: \\n1-2-1-1-1. When you have 0 Life cards and your Leader takes damage. \\n1-2-1-1-2. When you have 0 cards in your deck. \\n1-2-2. When either player meets a defeat condition, they will lose the game according to \\nthe rule processing at the next time of rule processing. (See 9. Rule Processing) \\n1-2-2-1. If either player ’s Leader takes damage when that player has 0 Life  cards \\nremaining during the game, that player has met a defeat condition. \\n1-2-2-2. If either player has 0 cards in their deck during the game, that player has met \\na defeat condition.'),\n",
       "  Document(metadata={'producer': 'Microsoft® Word for Microsoft 365', 'creator': 'Microsoft® Word for Microsoft 365', 'creationdate': '2025-02-20T12:30:45+09:00', 'moddate': '2025-02-20T14:31:46+09:00', 'title': 'Comprehensive Rules', 'source': 'comprehensive_rules', 'total_pages': 26, 'page': 1, 'page_label': '2'}, page_content='2 \\n \\n1-2-3. Either player may concede at any point during a game. When a player concedes, \\nthey lose immediately and the game ends. \\n1-2-4. A  concession is not affected by any card. Furthermore, concession cannot be \\nforced by any card effect,  and defeat by concession cannot be replaced by any \\nreplacement effect. \\n1-2-5. The effects of some cards may cause a player to win or lose the game.  In such a \\ncase, the player wins or loses during the processing of that effect , and the game \\nends. \\n1-3. Fundamental Principles \\n1-3-1. When card text contradicts the Comprehensive Rules, the  card text takes \\nprecedence over the Comprehensive Rules. \\n1-3-2. If a player is required to perform an impossible action for any reason, that action \\nis not carried out. Likewise, if an effect requires the player to carry out multiple \\nactions, some of which are impossible, the player performs as many of the actions \\nas possible. \\n1-3-2-1. If an object is required to change to a given state, and the object is already in \\nthat state, the object’s state remains the same, and the action is not performed. \\n1-3-2-2. If a player is required to perform an action 0 or a negative number of times \\nfor any reason, that action is not carried out. A request to perform a certain \\naction negative times does not imply performing its opposite action. \\n1-3-3. If a card ’s effect requires a player to carry out an action while a currently active \\neffect prohibits that action, the prohibiting effect always takes precedence. \\n1-3-4. If both players are required to make choice s simultaneously for any reason, the \\nplayer whose turn it is  makes the choice s first. After that player has made their \\nchoices, the other player makes their choices. \\n1-3-5. If a card or rule requires a player to choose a number, unless otherwise specified, \\nthe player must choose a whole number of 0 or greater. Players cannot choose \\nnumbers containing fractions less than 1, or negative numbers. \\n1-3-5-1. If a card or rule specifies a maximum value for a number, such as “up to ...”, \\nas long as no minimum number is specified, the player can choose 0. \\n1-3-6. If a card effect changes information on a card, unless otherwise specified or defined \\nby the rules, numbers on a card cannot contain fractions less than 1. If non-power \\nnumbers would become negative, they are treated as 0, except in cases where the \\ninformation is added to or subtracted from. \\n1-3-7. Power can become a negative value. \\n1-3-7-1. Even if a card’s power becomes a negative value, unless otherwise specified,'),\n",
       "  Document(metadata={'producer': 'Microsoft® Word for Microsoft 365', 'creator': 'Microsoft® Word for Microsoft 365', 'creationdate': '2025-02-20T12:30:45+09:00', 'moddate': '2025-02-20T14:31:46+09:00', 'title': 'Comprehensive Rules', 'source': 'comprehensive_rules', 'total_pages': 26, 'page': 2, 'page_label': '3'}, page_content='3 \\n \\nthat card will not be trashed or otherwise moved to an area. \\n1-3-8. Unless otherwise specified, card effects are  carried out in the order described on \\nthe card. \\n1-3-9. If card effects require a player to rest a card and set it as active simultaneously, the \\neffect requiring the player to rest the card always takes precedence. \\n1-3-10. Cost and Activation Cost \\n1-3-10-1. Cost refers to a payment that must be made to play a card. A card’s cost is \\nthe number written in its upper left corner. (See 6-5-3-1.) \\n1-3-10-2. Activation cost refers to a payment required to activate a card’s effect. (See \\n8-3.) \\n1-3-11. If both players are instructed to perform some action at the same time according \\nto a card ’s effect, the turn player is to perform the action first, followed by the \\nnon-turn player. \\n \\n2. Card Information \\n2-1. Card Name \\n2-1-1. This is the card’s fixed name. \\n2-1-2. Some text will include text in [  ] brackets without a clarifying noun afterwards. \\nThis refers to cards with the card name specified in the [ ] brackets. \\n2-1-2-1. Some text will include part of a card name in \" \" quotation marks. This text \\nrefers to cards with a card name containing the text in the quotation marks. \\n2-1-3. As an exception, some cards get card names from their text. Treat these cards as \\nif they have this name by default, including during deck construction and when in \\nsecret areas. \\n2-2. Card Category \\n2-2-1. This specifies the card’s category. \\n2-2-2. There are five card categories: Leader card, Character card, Event card, Stage card, \\nand DON!! card. \\n2-2-3. Cards in the Leader card category are placed in the Leader area. \\n2-2-3-1. When a card’s text refers to “Leader” or “Leader card”, this means a card in \\nthe Leader card category placed in the Leader area. \\n2-2-4. Cards in the Character card category are placed in the Character area. \\n2-2-4-1. When a card’s text refers to “Character”, this means a card in the Character \\ncard category placed in the Character area. \\n2-2-4-2. When a card’s text refers to “Character card”, this means a card in the \\nCharacter card category that is located outside of the Character area.'),\n",
       "  Document(metadata={'producer': 'Microsoft® Word for Microsoft 365', 'creator': 'Microsoft® Word for Microsoft 365', 'creationdate': '2025-02-20T12:30:45+09:00', 'moddate': '2025-02-20T14:31:46+09:00', 'title': 'Comprehensive Rules', 'source': 'comprehensive_rules', 'total_pages': 26, 'page': 3, 'page_label': '4'}, page_content='4 \\n \\n2-2-4-3. When a card’s text refers to “Leader and/or Character cards”, the latter means \\na card in the Character card category placed in the Character area. \\n2-2-5. Cards in the Event card category can have their effects activated by the card being \\nmoved from the player’s hand to the trash. \\n2-2-5-1. When a card’s text refers to “Event” or “Event card”, this means a card in the \\nEvent card category. \\n2-2-6. Cards in the Stage card category are placed in the Stage area. \\n2-2-6-1. When a card ’s text  refers to “Stage”, this means a card in the Stage card \\ncategory. \\n2-2-6-2. When a card’s text refers to “Stage card”, this means a card in the Stage card \\ncategory that is located outside of the Stage area. \\n2-3. Color \\n2-3-1. This specifies the card’s colors. It may be referenced in card text. \\n2-3-2. All cards have colors which are indicated by the colors of sections of the hexagon \\nin the lower left corner of the card. \\n2-3-3. There are six colors: red, green, blue, purple, black, and yellow. \\n2-3-3-1. In the hexagon, the upper right  is red, the right is green,  the lower right is \\nblue, the lower left is purple, the left is black, and the upper left is yellow. \\n2-3-4. Some cards have multiple colors, such as red and blue, or green and purple. \\n2-3-5. Cards with multiple colors, such as red and green,  are treated as a card of every \\ncolor they possess. \\n2-3-6. Cards with multiple colors are sometimes referred to as “multicolor” in card text. \\n2-4. Type \\n2-4-1. This specifies the card’s types. It may be referenced in card text. \\n2-4-2. Some cards may have multiple types. Where a card has multiple types, each type \\nwill be separated by a slash (/). \\n2-4-3. Some text will include text in {  } brackets. This refers to cards with the type \\nspecified in the { } brackets. \\n2-4-3-1. Some text will include part of a type in \" \" quotation marks. This text refers to \\ncards with a type containing the text in the quotation marks. \\n2-4-4. As an exception, some cards get types from their text. Treat these cards as if they \\nhave this type by default, including during deck construction and when in secret \\nareas. \\n2-5. Attribute \\n2-5-1. This specifies the card’s attribute. It may be referenced in card text. \\n2-5-2. There are five attributes: Slash, Strike, Ranged, Special, and Wisdom.'),\n",
       "  Document(metadata={'producer': 'Microsoft® Word for Microsoft 365', 'creator': 'Microsoft® Word for Microsoft 365', 'creationdate': '2025-02-20T12:30:45+09:00', 'moddate': '2025-02-20T14:31:46+09:00', 'title': 'Comprehensive Rules', 'source': 'comprehensive_rules', 'total_pages': 26, 'page': 4, 'page_label': '5'}, page_content='5 \\n \\n2-5-3. Some cards have multiple attributes, such as Slash and Strike, or Ranged and \\nSpecial. \\n2-5-4. If a card has multiple attributes, such as Slash and Strike, it is treated as a card \\nwith all the attributes it possesses. \\n2-5-5. Only Leader cards and Character cards have attributes. \\n2-5-6. Some text will include text in < > brackets. This refers to cards with the attribute \\nspecified in the < > brackets. \\n2-5-7. As an exception, some cards get attributes from their text. Treat these cards as if \\nthey have this attribute by default, including during deck construction and when \\nin secret areas. \\n2-6. Power \\n2-6-1. This specifies the card’s strength in battles. (See 7. Card Attacks and Battles) \\n2-6-2. Only Leader cards and Character cards have power. \\n2-6-3. An effect may make a power value greater or less than the written value. \\n2-7. Cost \\n2-7-1. This specifies the cost needed to play the card from your hand. (See 6-5-3-1.) \\n2-7-2. When playing a Character card from your hand, you should first reveal the card \\nyou wish to play, select a number of active DON!! cards in your cost area equal to \\nthe card’s cost, rest those DON!! cards, and then play the revealed card. \\n2-7-3. When activating an Event card from your hand, you should first reveal the card \\nyou wish to activate, select a number of active DON!! cards in your cost area equal \\nto the card’s cost, rest those DON!! cards, and then trash the revealed card to \\nactivate it. \\n2-7-4. When playing a Stage card from your hand, you should first reveal the card you \\nwish to play, select a number of active DON!! cards in your cost area equal to the \\ncard’s cost, rest those DON!! cards, and then play the revealed card. \\n2-7-5. Only Character cards, Event cards and Stage cards have costs. \\n2-7-6. An effect may make a cost greater or less than the written value. \\n2-8. Card Text \\n2-8-1. This describes the card’s effects. \\n2-8-2. Unless otherwise specified, card text on Leader cards, Character cards, and Stage \\ncards is valid only in the Leader area, Character area, and Stage area, respectively. \\n2-8-3. Text is resolved in order starting from the text closest to the top. \\n2-8-4. Some text has detailed explanations of keyword effects or other card effects inside \\n( ) parentheses. These are called explanatory notes and their purpose is to provide \\nfurther explanation of effects.')],\n",
       " [Document(metadata={'producer': 'Microsoft® Word 2021', 'creator': 'Microsoft® Word 2021', 'creationdate': '2025-02-22T22:45:09-05:00', 'moddate': '2025-06-11T20:02:39+09:00', 'title': 'Tournament Rules Manual', 'source': 'tournament_rules', 'total_pages': 41, 'page': 36, 'page_label': '37'}, page_content='37  \\nPenalty: Disqualification / Suspension \\nResolution: Issue a Disqualification to the player(s) who a Judge has determined to be under \\nthe influence of drugs, alcohol, or other substances. This may also be escalated to a \\nSuspension if the behavior associated is disturbing or threatening to other players or staff in \\nattendance. \\nExamples: \\n• A player is visibly drunk or smells of alcohol. \\n• A player appears to be under the effects of illegal drugs.'),\n",
       "  Document(metadata={'producer': 'Microsoft® Word 2021', 'creator': 'Microsoft® Word 2021', 'creationdate': '2025-02-22T22:45:09-05:00', 'moddate': '2025-06-11T20:02:39+09:00', 'title': 'Tournament Rules Manual', 'source': 'tournament_rules', 'total_pages': 41, 'page': 37, 'page_label': '38'}, page_content='38  \\n8.0 Online Event Supplement \\nThis policy document is intended to provide guidance to Tournament Organizers, Stores and players \\nand help facilitate competitive events online while Covid-19 restrictions make it difficult to host face- \\nto-face events. \\n8.1 Online Software \\nBandai recommend the usage of these tools to facilitate online events: \\n• Discord – to enable physical card play with webcams and communication with players and \\nevent officials \\n• Bandai TCG+ – to enable card text to be reviewed during online play  \\n8.2 Tournament Guidelines \\nThe Tournament Rules Manual should be observed for all online events. Given the online nature of \\nevents, and additional technical and communication challenges that may be experienced by players, \\nwe recommend extending standard best-of-3 match times to allow for additional time. \\nBest-of-one Game Match \\nNumber of game wins necessary: 1 \\nMatch Time: 35 minutes \\nExtra Time: 5 minutes (for extra turns, etc) \\n8.3 Deck Registration \\nPlayers must submit a photo of their physical deck to the Tournament Organizer, together with a \\nname and date stamp. The Tournament Organizer should also collect an electronic deck list link. \\nDuring the event, Judges should complete random deck checks to ensure the physical deck being \\nutilized matches the one registered. \\n8.4 Player Setup \\nPlayers must compete using a webcam and their real physical cards via the published Discord server. \\nTechnical Requirements \\n• Webcam (1080p recommended; 720p minimum) \\n• Computer \\n• Microphone \\n• Dedicated Playing Space (if using a playmat, please use one with darker colors to enable \\ncards to be more easily seen by your opponent). \\nSet Up \\n1. Set up your dedicated playing space where your cards will be displayed for your opponent. \\n2. Adjust your webcam’s position so your playing space is shown in full. You must capture the \\nentire game area, including your Deck, DON!! deck, Trash, Leader, Character, Stage, Cost, \\nand Life areas. Note: your face does not need to be captured on the webcam stream! \\n3. When pairings are posted, join the voice channel that correlates to your assigned table. \\n4. When you join the voice chat and meet your opponent, there is an option in Discord to begin \\nvideo chat. Press it, and your webcam will be enabled so your opponent can see your video \\nfeed.'),\n",
       "  Document(metadata={'producer': 'Microsoft® Word 2021', 'creator': 'Microsoft® Word 2021', 'creationdate': '2025-02-22T22:45:09-05:00', 'moddate': '2025-06-11T20:02:39+09:00', 'title': 'Tournament Rules Manual', 'source': 'tournament_rules', 'total_pages': 41, 'page': 38, 'page_label': '39'}, page_content='39  \\n5. You must have your microphone enabled so both players can easily communicate with each \\nother and with any judges that enter the table channel. \\n6. All relevant cards must be kept on the video feed at all times. This includes your hand. \\n7. Make sure to keep your hand over the table so that cards do not fall to the flop. \\n8. All shuffling must take place on camera, otherwise your deck will not be considered \\nrandomized. When your opponent would normally cut your deck, you must ask how they \\nwould like it to be cut. \\n \\n \\n8.4 Setup Examples \\n \\nExamples of poor setups \\n \\n \\nThis setup does not include \\nthe deck and trash clearly \\n \\n \\nThis setup shows the hand \\nin frame, but it is being held \\nin a way that shows private \\ninformation to the player’s \\nopponent. Players should \\ntake care to make sure the \\nangle they are holding their \\nhand at does not give away \\nsecret information.'),\n",
       "  Document(metadata={'producer': 'Microsoft® Word 2021', 'creator': 'Microsoft® Word 2021', 'creationdate': '2025-02-22T22:45:09-05:00', 'moddate': '2025-06-11T20:02:39+09:00', 'title': 'Tournament Rules Manual', 'source': 'tournament_rules', 'total_pages': 41, 'page': 39, 'page_label': '40'}, page_content='40  \\n \\n \\nThe hand is obscured, and \\ncurrent life totals aren’t \\nclear. \\n \\n \\nThis setup’s life area layout \\nis incorrect. It is set up in a \\nway in which there is no \\nclear top/bottom card and \\nno specific order. \\n \\n \\nThis setup does not follow \\nthe correct area layout \\ndescribed in the official rule \\nmanual. \\nEx. The DON!! area is above \\nand below the character \\nand area. The character \\narea and leader are in the \\nsame row. The life area is in \\nan incorrect layout \\naltogether.'),\n",
       "  Document(metadata={'producer': 'Microsoft® Word 2021', 'creator': 'Microsoft® Word 2021', 'creationdate': '2025-02-22T22:45:09-05:00', 'moddate': '2025-06-11T20:02:39+09:00', 'title': 'Tournament Rules Manual', 'source': 'tournament_rules', 'total_pages': 41, 'page': 40, 'page_label': '41'}, page_content='41  \\nExamples of correct setups \\n \\nThe layout matches the approved layout in the official rule manual. The hand is in the picture but \\nsecret to the opponent. \\n \\n \\n \\nThis is another example of a correct layout. This setup utilizes dice to keep track of hand and life \\ncount. This is not required but suggested for online play')])"
      ]
     },
     "execution_count": 9,
     "metadata": {},
     "output_type": "execute_result"
    }
   ],
   "source": [
    "# Document loader function to load PDF files from a URL\n",
    "\n",
    "def load_pdf_from_url(url: str):\n",
    "    \"\"\"\n",
    "    Load a PDF from a URL and extract its text content.\n",
    "    \n",
    "    Args:\n",
    "        url: The URL of the PDF file\n",
    "    \n",
    "    Returns:\n",
    "        List of documents with page content\n",
    "    \"\"\"\n",
    "    try:\n",
    "        # Download the PDF content\n",
    "        response = requests.get(url)\n",
    "        response.raise_for_status()  # Raise an exception for bad status codes\n",
    "        \n",
    "        # Create a temporary file to store the PDF\n",
    "        with tempfile.NamedTemporaryFile(delete=False, suffix='.pdf') as temp_file:\n",
    "            temp_file.write(response.content)\n",
    "            temp_file_path = temp_file.name\n",
    "        \n",
    "        # Load the PDF using PyPDFLoader\n",
    "        loader = PyPDFLoader(temp_file_path)\n",
    "        documents = loader.load()\n",
    "        \n",
    "        # Clean up the temporary file\n",
    "        os.unlink(temp_file_path)\n",
    "        \n",
    "        return documents\n",
    "    \n",
    "    except Exception as e:\n",
    "        print(f\"Error loading PDF from URL: {str(e)}\")\n",
    "        return None\n",
    "\n",
    "## Dummy PDF URL for testing purposes to reduce embedding costs with OpenAI\n",
    "# docs = load_pdf_from_url(\"https://www.w3.org/WAI/ER/tests/xhtml/testfiles/resources/pdf/dummy.pdf\")\n",
    "\n",
    "def loader_optcg_rulebooks():\n",
    "    \"\"\"\n",
    "    Load the One Piece Card Game rules from the official website.\n",
    "    \n",
    "    Returns:\n",
    "        List of documents with page content\n",
    "    \"\"\"\n",
    "    comp_rules = load_pdf_from_url(\"https://en.onepiece-cardgame.com/pdf/rule_comprehensive.pdf?20250221\")\n",
    "    tourney_rules = load_pdf_from_url(\"https://en.onepiece-cardgame.com/pdf/tournament_rules_manual.pdf?20250613\")\n",
    "    \n",
    "    # Verifies BOTH comprehensive and tournament rules are loaded\n",
    "    # If either is None, it means loading failed\n",
    "    # Ensures we have both sets of rules before proceeding\n",
    "    if comp_rules is None or tourney_rules is None:\n",
    "        print(\"Failed to load One Piece Card Game rules.\")\n",
    "        print(\"Please check the URLs or your internet connection.\")\n",
    "        return None # Exit early if loading fails\n",
    "    \n",
    "    # Tag each page/chunk with its source\n",
    "    for page in comp_rules:\n",
    "        page.metadata[\"source\"] = \"comprehensive_rules\"\n",
    "    for page in tourney_rules:\n",
    "        page.metadata[\"source\"] = \"tournament_rules\"\n",
    "\n",
    "    return comp_rules + tourney_rules\n",
    "\n",
    "\n",
    "\n",
    "# Test the loader function\n",
    "x = loader_optcg_rulebooks()\n",
    "print(\"First and last 5 pages of the loaded documents:\")\n",
    "x[:5], x[-5:]"
   ]
  },
  {
   "cell_type": "code",
   "execution_count": null,
   "id": "2578d0a3",
   "metadata": {},
   "outputs": [
    {
     "name": "stdout",
     "output_type": "stream",
     "text": [
      "Loading existing vector store...\n"
     ]
    },
    {
     "name": "stderr",
     "output_type": "stream",
     "text": [
      "C:\\Users\\tyson\\AppData\\Local\\Temp\\ipykernel_16152\\72939890.py:17: LangChainDeprecationWarning: The class `Chroma` was deprecated in LangChain 0.2.9 and will be removed in 1.0. An updated version of the class exists in the :class:`~langchain-chroma package and should be used instead. To use it run `pip install -U :class:`~langchain-chroma` and import as `from :class:`~langchain_chroma import Chroma``.\n",
      "  vectorstore = Chroma(\n"
     ]
    },
    {
     "name": "stdout",
     "output_type": "stream",
     "text": [
      "Testing vector store with a sample query...\n"
     ]
    },
    {
     "ename": "AttributeError",
     "evalue": "'list' object has no attribute 'page_content'",
     "output_type": "error",
     "traceback": [
      "\u001b[31m---------------------------------------------------------------------------\u001b[39m",
      "\u001b[31mAttributeError\u001b[39m                            Traceback (most recent call last)",
      "\u001b[36mCell\u001b[39m\u001b[36m \u001b[39m\u001b[32mIn[13]\u001b[39m\u001b[32m, line 62\u001b[39m\n\u001b[32m     60\u001b[39m sample_query = \u001b[33m\"\u001b[39m\u001b[33mWhat is the maximum number of cards in a player\u001b[39m\u001b[33m'\u001b[39m\u001b[33ms hand at the end of their turn?\u001b[39m\u001b[33m\"\u001b[39m\n\u001b[32m     61\u001b[39m results = vectorstore.similarity_search(sample_query, k=\u001b[32m3\u001b[39m)\n\u001b[32m---> \u001b[39m\u001b[32m62\u001b[39m results_text, results_source = [(\u001b[43mresults\u001b[49m\u001b[43m.\u001b[49m\u001b[43mpage_content\u001b[49m, results.metadata.source) \u001b[38;5;28;01mfor\u001b[39;00m result \u001b[38;5;129;01min\u001b[39;00m results]\n",
      "\u001b[31mAttributeError\u001b[39m: 'list' object has no attribute 'page_content'"
     ]
    }
   ],
   "source": [
    "def create_or_load_vectorstore_optcg_rulebooks():\n",
    "    \"\"\"Create or load the persistent vector store\"\"\"\n",
    "    \n",
    "    # Define the cache directory and persistent directory\n",
    "    CACHE_DIRECTORY = Path.home() / \".cache\"\n",
    "    CACHE_DIRECTORY.mkdir(parents=True, exist_ok=True)\n",
    "    PERSIST_DIRECTORY = CACHE_DIRECTORY / \"optcg_rulebooks_vectorstore\"\n",
    "\n",
    "    # Define the embedding model\n",
    "    embeddings = OpenAIEmbeddings(\n",
    "        model=\"text-embedding-3-large\"\n",
    "        )\n",
    "\n",
    "    # Check if vector store already exists and load it\n",
    "    if os.path.exists(PERSIST_DIRECTORY) and os.listdir(PERSIST_DIRECTORY):\n",
    "        print(\"Loading existing vector store...\")\n",
    "        vectorstore = Chroma(\n",
    "            persist_directory=str(PERSIST_DIRECTORY),\n",
    "            embedding_function=embeddings\n",
    "        )\n",
    "        return vectorstore\n",
    "    \n",
    "    # If vector store does not exist, create it\n",
    "    else: \n",
    "        print(\"Creating new vector store...\")\n",
    "        \n",
    "        # Define the text splitter for document chunking\n",
    "        text_splitter = RecursiveCharacterTextSplitter(\n",
    "            chunk_size=1000,\n",
    "            chunk_overlap=200,\n",
    "            separators=[\"\\n\\n\", \"\\n\", \". \",\" \", \"\"]\n",
    "        )\n",
    "        \n",
    "        # Load and split documents\n",
    "        docs = loader_optcg_rulebooks()\n",
    "        if not docs:\n",
    "            print(\"No documents loaded. Please check PDF URLs.\")\n",
    "            return None # Exit if no documents are loaded. Will not create a vector store.\n",
    "            \n",
    "        doc_chunks = text_splitter.split_documents(docs)\n",
    "        print(f\"Split documents into {len(doc_chunks)} chunks\")\n",
    "        \n",
    "        # Create vector store with persistence\n",
    "        vectorstore = Chroma.from_documents(\n",
    "            documents=doc_chunks,\n",
    "            embedding=embeddings,\n",
    "            persist_directory=str(PERSIST_DIRECTORY)\n",
    "\n",
    "        )\n",
    "        \n",
    "        print(f\"Vector store created and saved to {PERSIST_DIRECTORY}\")\n",
    "        return vectorstore\n",
    "\n",
    "# Create or load the vector store\n",
    "vectorstore = create_or_load_vectorstore_optcg_rulebooks()"
   ]
  },
  {
   "cell_type": "code",
   "execution_count": null,
   "id": "89aaa36b",
   "metadata": {},
   "outputs": [],
   "source": [
    "# ## Test the vector store\n",
    "# print(\"Testing vector store with a sample query...\")\n",
    "# sample_query = \"What is the maximum number of cards in a player's hand at the end of their turn?\"\n",
    "# results = vectorstore.similarity_search(sample_query, k=3)\n",
    "# results_text, results_source = [(results.page_content, results.metadata.source) for result in results]"
   ]
  },
  {
   "cell_type": "code",
   "execution_count": null,
   "id": "4cc21156",
   "metadata": {},
   "outputs": [
    {
     "data": {
      "text/plain": [
       "[Document(metadata={'page_label': '22', 'creator': 'Microsoft® Word 2021', 'total_pages': 41, 'page': 21, 'source': 'tournament_rules', 'creationdate': '2025-02-22T22:45:09-05:00', 'title': 'Tournament Rules Manual', 'moddate': '2025-06-11T20:02:39+09:00', 'producer': 'Microsoft® Word 2021'}, page_content='• Which cards are in a player’s hand; \\n• Which cards are in an opponent’s hand; \\n• Which cards were played or activated during the previous turn, unless there is an active \\ngameplay effect.'),\n",
       " Document(metadata={'title': 'Comprehensive Rules', 'page_label': '12', 'moddate': '2025-02-20T14:31:46+09:00', 'creationdate': '2025-02-20T12:30:45+09:00', 'creator': 'Microsoft® Word for Microsoft 365', 'producer': 'Microsoft® Word for Microsoft 365', 'total_pages': 26, 'page': 11, 'source': 'comprehensive_rules'}, page_content='5-2-1-6. Each player draws 5 cards from their deck  as their opening hand. Then, \\nbeginning with the player going first, each player may redraw their hand once \\naccording to the procedure below.  \\n5-2-1-6-1. The player returns all of the cards in their hand to their deck, reshuffles, \\nand then redraws 5 cards. \\n5-2-1-7. Each player places a number of cards from the top of their deck equal to the \\nLife value of their Leader face-down in their Life area such that the card at the \\ntop of their deck is at the bottom in their Life area. \\n5-2-1-8. The first player begins the game and starts their turn. \\n \\n6. Game Progression  \\n6-1. Turn Flow \\n6-1-1. A “turn” refers to a sequence consisting of a Refresh Phase, Draw Phase, DON!! \\nPhase, Main Phase, and End Phase.'),\n",
       " Document(metadata={'total_pages': 26, 'producer': 'Microsoft® Word for Microsoft 365', 'creationdate': '2025-02-20T12:30:45+09:00', 'moddate': '2025-02-20T14:31:46+09:00', 'source': 'comprehensive_rules', 'creator': 'Microsoft® Word for Microsoft 365', 'title': 'Comprehensive Rules', 'page_label': '11', 'page': 10}, page_content='Cards of a color not included on the Leader card cannot be added to the deck.  \\n5-1-2-3. A deck can contain no more than 4 cards with the same card number. \\n5-1-2-4. Effects related to deck construction rules are treated as permanent effects (see \\n8-1-3-4-3.) which replace the deck construction rules above. \\n5-1-2-4-1. Effects related to deck construction are those specifying that the deck can \\ncontain a specified number of cards of a certain category, or that the deck')]"
      ]
     },
     "execution_count": 11,
     "metadata": {},
     "output_type": "execute_result"
    }
   ],
   "source": [
    "[result.metadata for result in results]"
   ]
  },
  {
   "cell_type": "code",
   "execution_count": 5,
   "id": "6a7e61e7",
   "metadata": {},
   "outputs": [],
   "source": [
    "### NOTE: The following function is for deleting the vector store from disk.\n",
    "## This should only be used if you need to update the vector store with new documents or changes. Otherwise, only if you absoutely need to delete the vector store from the disk. \n",
    "\n",
    "## The implentation of storing the vector store on disk is to ensure that it persists across sessions and does not need to be recreated every time you run the code. Limiting the need to re-embed the documents every time you run the code. Thus, reducing costs and improving performance.\n",
    "\n",
    "\n",
    "def delete_vectorstore_optcg_rulebooks():\n",
    "    \"\"\"Delete the persistent vector store for One Piece Card Game rules\"\"\"\n",
    "    \n",
    "    # Rudimentary confirmation prompt\n",
    "    confirmation = input(\"Are you sure you want to delete the vector store? This action cannot be undone. Type 'yes' to confirm: \")\n",
    "    if confirmation.strip().lower() != 'yes':\n",
    "        print(\"Deletion cancelled.\")\n",
    "        return\n",
    "    \n",
    "    # Delete the vector store directory if it exists\n",
    "    PERSIST_DIRECTORY = Path.home() / \".cache\" / \"optcg_rulebooks_vectorstore\"\n",
    "    if PERSIST_DIRECTORY.exists():\n",
    "        try:\n",
    "            # Use shutil.rmtree to recursively delete the entire directory tree\n",
    "            shutil.rmtree(PERSIST_DIRECTORY)\n",
    "            print(f\"Deleted vector store at {PERSIST_DIRECTORY}\")\n",
    "        except PermissionError as e:\n",
    "            print(f\"Permission error: {e}\")\n",
    "            print(\"Please ensure no files are open in the vector store directory.\")\n",
    "            print(\"You may need to close any applications using the vector store before deleting it. Try restarting your Jupyter kernel and running delete again.\")\n",
    "        except Exception as e:\n",
    "            print(f\"Error deleting vector store: {e}\")\n",
    "    else:\n",
    "        print(\"No vector store found to delete.\")"
   ]
  },
  {
   "cell_type": "code",
   "execution_count": 5,
   "id": "e29a071d",
   "metadata": {},
   "outputs": [],
   "source": [
    "@tool\n",
    "def rulebook_lookup(query: str) -> str:\n",
    "    \"\"\"Looks up a rule in the One Piece TCG rulebook.\"\"\"\n",
    "    # In a real implementation, this would query a database or API.\n",
    "    rules = {\n",
    "        \"What happens if two characters with the same name are played on the same team?\": \"Characters with the same name cannot be played on the same team. If you already have a character in play, you cannot play another character with the same name.\",\n",
    "        \"How does the Don!! system work?\": \"Don!! cards are used to pay costs and activate abilities. You can attach Don!! cards to characters to increase their power or use them to pay for events and character abilities.\",\n",
    "        \"What is the difference between active and rest positions?\": \"Active position means the card is upright and can attack or use abilities. Rest position means the card is turned sideways and cannot attack until it becomes active again during your next turn.\",\n",
    "        \"How do you win the game?\": \"You win by reducing your opponent's life to 0. Life is reduced when your opponent takes damage and has no cards left in their life area to trash.\",\n",
    "        \"What is a counter ability?\": \"Counter abilities can be activated during your opponent's turn when specific conditions are met, usually when one of your characters is being attacked.\"\n",
    "    }\n",
    "    return rules.get(query, \"Rule not found.\")"
   ]
  },
  {
   "cell_type": "code",
   "execution_count": 6,
   "id": "8185c179",
   "metadata": {},
   "outputs": [],
   "source": [
    "tools = [rulebook_lookup]\n",
    "agent = create_react_agent(\n",
    "    model=ChatOpenAI(model=\"gpt-4.1-mini\", temperature=0),\n",
    "    name=\"RulebookAgent\",\n",
    "    tools=tools, \n",
    "    prompt=\"You are a helpful assistant that helps people find information in the Rulebook for One Piece TCG. You have access to the following tools: {tools}. Use them to find the information the user is looking for. If you don't know the answer, just say you don't know. Do not try to make up an answer.\",\n",
    ")"
   ]
  },
  {
   "cell_type": "code",
   "execution_count": 7,
   "id": "ec603309",
   "metadata": {},
   "outputs": [
    {
     "name": "stdout",
     "output_type": "stream",
     "text": [
      "================================\u001b[1m Human Message \u001b[0m=================================\n",
      "\n",
      "What happens if two characters with the same name are played on the same team?\n",
      "==================================\u001b[1m Ai Message \u001b[0m==================================\n",
      "Name: RulebookAgent\n",
      "Tool Calls:\n",
      "  rulebook_lookup (call_PKkircNK3uQSxN1NV6lDwEsx)\n",
      " Call ID: call_PKkircNK3uQSxN1NV6lDwEsx\n",
      "  Args:\n",
      "    query: two characters with the same name on the same team\n",
      "=================================\u001b[1m Tool Message \u001b[0m=================================\n",
      "Name: rulebook_lookup\n",
      "\n",
      "Rule not found.\n",
      "==================================\u001b[1m Ai Message \u001b[0m==================================\n",
      "Name: RulebookAgent\n",
      "\n",
      "I couldn't find a specific rule in the One Piece TCG rulebook about what happens if two characters with the same name are played on the same team. If you have any other questions or need information on a related topic, feel free to ask!\n"
     ]
    }
   ],
   "source": [
    "response = agent.invoke(\n",
    "    {\"messages\": [{\n",
    "        \"role\": \"user\", \n",
    "        \"content\": \"What happens if two characters with the same name are played on the same team?\"\n",
    "    }]}\n",
    ")\n",
    "for m in response[\"messages\"]:\n",
    "    m.pretty_print()"
   ]
  },
  {
   "cell_type": "code",
   "execution_count": 8,
   "id": "31060168",
   "metadata": {},
   "outputs": [
    {
     "data": {
      "text/plain": [
       "'Characters with the same name cannot be played on the same team. If you already have a character in play, you cannot play another character with the same name.'"
      ]
     },
     "execution_count": 8,
     "metadata": {},
     "output_type": "execute_result"
    }
   ],
   "source": [
    "rules = {\n",
    "        \"What happens if two characters with the same name are played on the same team?\": \"Characters with the same name cannot be played on the same team. If you already have a character in play, you cannot play another character with the same name.\"}\n",
    "rules.get(\"What happens if two characters with the same name are played on the same team?\", \"Rule not found.\")"
   ]
  },
  {
   "cell_type": "code",
   "execution_count": null,
   "id": "4d8f3724",
   "metadata": {},
   "outputs": [],
   "source": []
  },
  {
   "cell_type": "code",
   "execution_count": 9,
   "id": "e765492d",
   "metadata": {},
   "outputs": [],
   "source": [
    "# Example: Load a PDF from a URL\n",
    "# Replace this with your actual PDF URL\n",
    "pdf_url = \"https://example.com/your-pdf-file.pdf\"\n",
    "\n",
    "# Uncomment the lines below to test with a real PDF URL\n",
    "# documents = load_pdf_from_url(pdf_url)\n",
    "# if documents:\n",
    "#     print(f\"Successfully loaded {len(documents)} pages from the PDF\")\n",
    "#     \n",
    "#     # Show first page content (first 500 characters)\n",
    "#     if len(documents) > 0:\n",
    "#         print(f\"\\nFirst page content preview:\")\n",
    "#         print(documents[0].page_content[:500] + \"...\")\n",
    "#         \n",
    "#         # Show metadata\n",
    "#         print(f\"\\nPage metadata:\")\n",
    "#         print(documents[0].metadata)\n",
    "# else:\n",
    "#     print(\"Failed to load PDF\")"
   ]
  },
  {
   "cell_type": "code",
   "execution_count": 10,
   "id": "32393173",
   "metadata": {},
   "outputs": [
    {
     "name": "stdout",
     "output_type": "stream",
     "text": [
      "Path type: <class 'type'>\n",
      "Path.home() type: <class 'pathlib._local.WindowsPath'>\n",
      "Path.home() value: C:\\Users\\tyson\n",
      "home: C:\\Users\\tyson, type: <class 'pathlib._local.WindowsPath'>\n",
      "cache: C:\\Users\\tyson\\.cache, type: <class 'pathlib._local.WindowsPath'>\n",
      "final_path: C:\\Users\\tyson\\.cache\\onepiece_vectorstore, type: <class 'pathlib._local.WindowsPath'>\n"
     ]
    }
   ],
   "source": [
    "# Debug cell - check Path object\n",
    "print(f\"Path type: {type(Path)}\")\n",
    "print(f\"Path.home() type: {type(Path.home())}\")\n",
    "print(f\"Path.home() value: {Path.home()}\")\n",
    "\n",
    "# Test the problematic line step by step\n",
    "home = Path.home()\n",
    "print(f\"home: {home}, type: {type(home)}\")\n",
    "\n",
    "cache = home / \".cache\"\n",
    "print(f\"cache: {cache}, type: {type(cache)}\")\n",
    "\n",
    "final_path = cache / \"onepiece_vectorstore\"\n",
    "print(f\"final_path: {final_path}, type: {type(final_path)}\")"
   ]
  },
  {
   "cell_type": "code",
   "execution_count": null,
   "id": "8ed445d2",
   "metadata": {},
   "outputs": [],
   "source": []
  }
 ],
 "metadata": {
  "kernelspec": {
   "display_name": ".venv",
   "language": "python",
   "name": "python3"
  },
  "language_info": {
   "codemirror_mode": {
    "name": "ipython",
    "version": 3
   },
   "file_extension": ".py",
   "mimetype": "text/x-python",
   "name": "python",
   "nbconvert_exporter": "python",
   "pygments_lexer": "ipython3",
   "version": "3.13.1"
  }
 },
 "nbformat": 4,
 "nbformat_minor": 5
}
