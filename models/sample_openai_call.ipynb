{
 "cells": [
  {
   "cell_type": "markdown",
   "id": "4151c001",
   "metadata": {},
   "source": [
    "To call the api, you need an API Key. https://platform.openai.com/api-keys\n",
    "Create a `.env` file and put `OPENAI_API_KEY=YOUR_API_KEY_HERE`, i.e. `OPENAI_API_KEY=sk-.....`."
   ]
  },
  {
   "cell_type": "code",
   "execution_count": 1,
   "id": "75730efe",
   "metadata": {},
   "outputs": [],
   "source": [
    "import os\n",
    "from openai import OpenAI\n",
    "from dotenv import load_dotenv\n",
    "\n",
    "# Load environment variables from .env file\n",
    "load_dotenv()\n",
    "\n",
    "# Initialize OpenAI client\n",
    "client = OpenAI(api_key=os.getenv(\"OPENAI_API_KEY\"))\n",
    "model = \"gpt-4o-mini\" # See https://platform.openai.com/docs/models for available models"
   ]
  },
  {
   "cell_type": "markdown",
   "id": "434b420c",
   "metadata": {},
   "source": [
    "This is a simple chat call to the `OpenAI API`"
   ]
  },
  {
   "cell_type": "code",
   "execution_count": 2,
   "id": "dca4b07e",
   "metadata": {},
   "outputs": [
    {
     "name": "stdout",
     "output_type": "stream",
     "text": [
      "Response from gpt-4o-mini:\n",
      "The OpenAI API provides developers and businesses with access to advanced artificial intelligence models, enabling them to integrate AI capabilities into their applications and services. The primary purposes of the OpenAI API include:\n",
      "\n",
      "1. **Natural Language Processing**: It can understand and generate human-like text, making it useful for tasks such as conversation agents, content generation, summarization, translation, and more.\n",
      "\n",
      "2. **Task Automation**: The API can help automate various tasks, reducing the need for manual input and increasing efficiency in processes like customer support, data entry, and information retrieval.\n",
      "\n",
      "3. **Creative Assistance**: It can assist in creative tasks, such as writing stories, generating marketing copy, composing music, or even brainstorming ideas.\n",
      "\n",
      "4. **Personalization**: The API can analyze user preferences and tailor responses or recommendations to individual users, enhancing user experiences.\n",
      "\n",
      "5. **Research and Development**: It can be used as a tool for experimentation in AI and machine learning research, enabling developers to explore the potentials of language models.\n",
      "\n",
      "Overall, the OpenAI API aims to democratize access to powerful AI tools, allowing a wide range of applications across different industries and sectors.\n"
     ]
    }
   ],
   "source": [
    "# Sample request to the OpenAI API\n",
    "\n",
    "response = client.chat.completions.create(\n",
    "    model=model,\n",
    "    messages=[\n",
    "        {\n",
    "            \"role\": \"system\",\n",
    "            \"content\": \"You are a helpful assistant that provides information about the OpenAI API.\",\n",
    "        },\n",
    "        {\n",
    "            \"role\": \"user\",\n",
    "            \"content\": \"What is the purpose of the OpenAI API?\",\n",
    "        },\n",
    "    ],\n",
    ")\n",
    "response_text = response.choices[0].message.content\n",
    "print(f\"Response from {model}:\\n{response_text}\")"
   ]
  },
  {
   "cell_type": "code",
   "execution_count": 3,
   "id": "b69d9e80",
   "metadata": {},
   "outputs": [
    {
     "data": {
      "text/plain": [
       "ChatCompletion(id='chatcmpl-BjH6nue5ZqGaXK12eatPR9SmKEAfz', choices=[Choice(finish_reason='stop', index=0, logprobs=None, message=ChatCompletionMessage(content='The OpenAI API provides developers and businesses with access to advanced artificial intelligence models, enabling them to integrate AI capabilities into their applications and services. The primary purposes of the OpenAI API include:\\n\\n1. **Natural Language Processing**: It can understand and generate human-like text, making it useful for tasks such as conversation agents, content generation, summarization, translation, and more.\\n\\n2. **Task Automation**: The API can help automate various tasks, reducing the need for manual input and increasing efficiency in processes like customer support, data entry, and information retrieval.\\n\\n3. **Creative Assistance**: It can assist in creative tasks, such as writing stories, generating marketing copy, composing music, or even brainstorming ideas.\\n\\n4. **Personalization**: The API can analyze user preferences and tailor responses or recommendations to individual users, enhancing user experiences.\\n\\n5. **Research and Development**: It can be used as a tool for experimentation in AI and machine learning research, enabling developers to explore the potentials of language models.\\n\\nOverall, the OpenAI API aims to democratize access to powerful AI tools, allowing a wide range of applications across different industries and sectors.', refusal=None, role='assistant', annotations=[], audio=None, function_call=None, tool_calls=None))], created=1750130225, model='gpt-4o-mini-2024-07-18', object='chat.completion', service_tier='default', system_fingerprint='fp_34a54ae93c', usage=CompletionUsage(completion_tokens=232, prompt_tokens=35, total_tokens=267, completion_tokens_details=CompletionTokensDetails(accepted_prediction_tokens=0, audio_tokens=0, reasoning_tokens=0, rejected_prediction_tokens=0), prompt_tokens_details=PromptTokensDetails(audio_tokens=0, cached_tokens=0)))"
      ]
     },
     "execution_count": 3,
     "metadata": {},
     "output_type": "execute_result"
    }
   ],
   "source": [
    "response"
   ]
  },
  {
   "cell_type": "code",
   "execution_count": null,
   "id": "802ccb41",
   "metadata": {},
   "outputs": [],
   "source": []
  }
 ],
 "metadata": {
  "kernelspec": {
   "display_name": ".venv",
   "language": "python",
   "name": "python3"
  },
  "language_info": {
   "codemirror_mode": {
    "name": "ipython",
    "version": 3
   },
   "file_extension": ".py",
   "mimetype": "text/x-python",
   "name": "python",
   "nbconvert_exporter": "python",
   "pygments_lexer": "ipython3",
   "version": "3.13.5"
  }
 },
 "nbformat": 4,
 "nbformat_minor": 5
}
