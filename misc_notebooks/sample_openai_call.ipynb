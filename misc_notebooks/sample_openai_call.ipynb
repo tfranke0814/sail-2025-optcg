{
 "cells": [
  {
   "cell_type": "markdown",
   "id": "4151c001",
   "metadata": {},
   "source": [
    "To call the api, you need an API Key. https://platform.openai.com/api-keys\n",
    "Create a `.env` file and put `OPENAI_API_KEY=YOUR_API_KEY_HERE`, i.e. `OPENAI_API_KEY=sk-.....`."
   ]
  },
  {
   "cell_type": "code",
   "execution_count": 1,
   "id": "75730efe",
   "metadata": {},
   "outputs": [],
   "source": [
    "import os\n",
    "from openai import OpenAI\n",
    "from dotenv import load_dotenv\n",
    "\n",
    "# Load environment variables from .env file\n",
    "load_dotenv()\n",
    "\n",
    "# Initialize OpenAI client\n",
    "client = OpenAI(api_key=os.getenv(\"OPENAI_API_KEY\"))\n",
    "model = \"gpt-4o-mini\" # See https://platform.openai.com/docs/models for available models"
   ]
  },
  {
   "cell_type": "markdown",
   "id": "434b420c",
   "metadata": {},
   "source": [
    "This is a simple chat call to the `OpenAI API`"
   ]
  },
  {
   "cell_type": "code",
   "execution_count": 2,
   "id": "dca4b07e",
   "metadata": {},
   "outputs": [
    {
     "name": "stdout",
     "output_type": "stream",
     "text": [
      "Response from gpt-4o-mini:\n",
      "The OpenAI API provides access to powerful language models developed by OpenAI, enabling developers and organizations to integrate advanced natural language processing (NLP) capabilities into their applications. The main purposes of the OpenAI API include:\n",
      "\n",
      "1. **Text Generation**: Generate coherent and contextually relevant text based on prompts, which can be used for content creation, storytelling, and more.\n",
      "\n",
      "2. **Conversational Agents**: Build chatbots and conversational interfaces that can interact with users in a natural and human-like manner.\n",
      "\n",
      "3. **Semantic Understanding**: Perform tasks involving text understanding, such as summarization, question answering, and text classification.\n",
      "\n",
      "4. **Translation and Localization**: Translate text between different languages and adapt content for various cultural contexts.\n",
      "\n",
      "5. **Code Assistance**: Help developers with code generation, debugging, and explanations of programming concepts through models like Codex.\n",
      "\n",
      "6. **Creative Applications**: Support creative endeavors in writing, music composition, and art generation.\n",
      "\n",
      "7. **Research and Development**: Facilitate research in AI and machine learning by providing access to state-of-the-art models.\n",
      "\n",
      "8. **Automation of Tasks**: Automate repetitive writing tasks, generate reports, and streamline workflows.\n",
      "\n",
      "The API is designed to be flexible and can be used for a wide range of applications, from simple projects to complex enterprise solutions, enhancing productivity and enabling innovative use cases.\n"
     ]
    }
   ],
   "source": [
    "# Sample request to the OpenAI API\n",
    "\n",
    "response = client.chat.completions.create(\n",
    "    model=model,\n",
    "    messages=[\n",
    "        {\n",
    "            \"role\": \"system\",\n",
    "            \"content\": \"You are a helpful assistant that provides information about the OpenAI API.\",\n",
    "        },\n",
    "        {\n",
    "            \"role\": \"user\",\n",
    "            \"content\": \"What is the purpose of the OpenAI API?\",\n",
    "        },\n",
    "    ],\n",
    ")\n",
    "response_text = response.choices[0].message.content\n",
    "print(f\"Response from {model}:\\n{response_text}\")"
   ]
  },
  {
   "cell_type": "code",
   "execution_count": 3,
   "id": "b69d9e80",
   "metadata": {},
   "outputs": [
    {
     "data": {
      "text/plain": [
       "ChatCompletion(id='chatcmpl-Bl4thmvGcSXOPDs0UnEWkVoL21fu9', choices=[Choice(finish_reason='stop', index=0, logprobs=None, message=ChatCompletionMessage(content='The OpenAI API provides access to powerful language models developed by OpenAI, enabling developers and organizations to integrate advanced natural language processing (NLP) capabilities into their applications. The main purposes of the OpenAI API include:\\n\\n1. **Text Generation**: Generate coherent and contextually relevant text based on prompts, which can be used for content creation, storytelling, and more.\\n\\n2. **Conversational Agents**: Build chatbots and conversational interfaces that can interact with users in a natural and human-like manner.\\n\\n3. **Semantic Understanding**: Perform tasks involving text understanding, such as summarization, question answering, and text classification.\\n\\n4. **Translation and Localization**: Translate text between different languages and adapt content for various cultural contexts.\\n\\n5. **Code Assistance**: Help developers with code generation, debugging, and explanations of programming concepts through models like Codex.\\n\\n6. **Creative Applications**: Support creative endeavors in writing, music composition, and art generation.\\n\\n7. **Research and Development**: Facilitate research in AI and machine learning by providing access to state-of-the-art models.\\n\\n8. **Automation of Tasks**: Automate repetitive writing tasks, generate reports, and streamline workflows.\\n\\nThe API is designed to be flexible and can be used for a wide range of applications, from simple projects to complex enterprise solutions, enhancing productivity and enabling innovative use cases.', refusal=None, role='assistant', annotations=[], audio=None, function_call=None, tool_calls=None))], created=1750559941, model='gpt-4o-mini-2024-07-18', object='chat.completion', service_tier='default', system_fingerprint='fp_34a54ae93c', usage=CompletionUsage(completion_tokens=275, prompt_tokens=35, total_tokens=310, completion_tokens_details=CompletionTokensDetails(accepted_prediction_tokens=0, audio_tokens=0, reasoning_tokens=0, rejected_prediction_tokens=0), prompt_tokens_details=PromptTokensDetails(audio_tokens=0, cached_tokens=0)))"
      ]
     },
     "execution_count": 3,
     "metadata": {},
     "output_type": "execute_result"
    }
   ],
   "source": [
    "response"
   ]
  },
  {
   "cell_type": "code",
   "execution_count": null,
   "id": "802ccb41",
   "metadata": {},
   "outputs": [],
   "source": []
  }
 ],
 "metadata": {
  "kernelspec": {
   "display_name": ".venv",
   "language": "python",
   "name": "python3"
  },
  "language_info": {
   "codemirror_mode": {
    "name": "ipython",
    "version": 3
   },
   "file_extension": ".py",
   "mimetype": "text/x-python",
   "name": "python",
   "nbconvert_exporter": "python",
   "pygments_lexer": "ipython3",
   "version": "3.13.5"
  }
 },
 "nbformat": 4,
 "nbformat_minor": 5
}
