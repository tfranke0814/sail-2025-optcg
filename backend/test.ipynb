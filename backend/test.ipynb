{
 "cells": [
  {
   "cell_type": "code",
   "execution_count": 1,
   "id": "e4a064d3",
   "metadata": {},
   "outputs": [],
   "source": [
    "import os\n",
    "from dotenv import load_dotenv\n",
    "from IPython.display import display, Image\n",
    "\n",
    "from langchain_openai import ChatOpenAI\n",
    "from langgraph.prebuilt import create_react_agent\n",
    "from langchain_core.tools import tool\n",
    "from langchain_core.tools.retriever import create_retriever_tool\n",
    "from langgraph.checkpoint.memory import InMemorySaver\n",
    "\n",
    "from typing import List\n",
    "import logging\n",
    "from langchain_community.tools import BraveSearch\n",
    "from langchain_tavily import TavilyExtract\n",
    "import json\n",
    "\n",
    "# For QA-Retriever\n",
    "from langchain_core.prompts import PromptTemplate\n",
    "from langchain.chains.combine_documents import create_stuff_documents_chain\n",
    "from langchain.chains import create_retrieval_chain\n",
    "\n",
    "# Custom Import\n",
    "from optcg.vectorstore_logic import check_for_updates_to_rules, create_or_load_vectorstore_optcg_rulebooks\n",
    "from optcg.tools import web_search_tool, youtube_search_tool, create_rulebook_retriever_tool, card_search_tool, get_board_tool\n",
    "from optcg.agents import BaseAgent, RulebookAgent, ToollessAgent_4_1, ToollessAgent_o4_mini, SearchAgent_web_youtube, SearchAgent_web, SearchAgent_youtube, SearchAgent_web_youtube_rulebook, SearchAgent_web_rulebook, SearchAgent_youtube_rulebook\n",
    "from optcg.routes import agent_routes, card_routes, board_routes\n",
    "\n",
    "\n",
    "from langsmith import traceable\n",
    "from langsmith.wrappers import wrap_openai\n",
    "from openai import OpenAI\n",
    "#openai_client = wrap_openai(OpenAI())\n",
    "\n",
    "_ = load_dotenv() # Loads the .env file - e.g. the OPENAI_API_KEY\n",
    "\n",
    "logging.basicConfig(level=logging.INFO, format=\"%(asctime)s - %(levelname)s - %(message)s\")\n",
    "logger = logging.getLogger(__name__)\n"
   ]
  },
  {
   "cell_type": "code",
   "execution_count": 7,
   "id": "600140a5",
   "metadata": {},
   "outputs": [
    {
     "name": "stdout",
     "output_type": "stream",
     "text": [
      "Loading existing vector store...\n"
     ]
    },
    {
     "name": "stderr",
     "output_type": "stream",
     "text": [
      "2025-07-28 19:21:59,098 - INFO - HTTP Request: POST https://api.openai.com/v1/chat/completions \"HTTP/1.1 200 OK\"\n",
      "2025-07-28 19:22:03,185 - INFO - HTTP Request: POST https://api.openai.com/v1/chat/completions \"HTTP/1.1 200 OK\"\n"
     ]
    },
    {
     "data": {
      "text/plain": [
       "{'messages': [HumanMessage(content='what is the current board state?', additional_kwargs={}, response_metadata={}, id='2e83b428-8715-486b-a00c-6479eb3ea2f7'),\n",
       "  AIMessage(content='', additional_kwargs={'tool_calls': [{'id': 'call_1vh4hEzjtObV3Bws2Cw0djKV', 'function': {'arguments': '{}', 'name': 'get_board_tool'}, 'type': 'function'}], 'refusal': None}, response_metadata={'token_usage': {'completion_tokens': 11, 'prompt_tokens': 270, 'total_tokens': 281, 'completion_tokens_details': {'accepted_prediction_tokens': 0, 'audio_tokens': 0, 'reasoning_tokens': 0, 'rejected_prediction_tokens': 0}, 'prompt_tokens_details': {'audio_tokens': 0, 'cached_tokens': 0}}, 'model_name': 'gpt-4.1-2025-04-14', 'system_fingerprint': 'fp_51e1070cf2', 'id': 'chatcmpl-BySOM0KMqYUdNT67yszspbxzf19CP', 'service_tier': 'default', 'finish_reason': 'tool_calls', 'logprobs': None}, name='RulebookAgent', id='run--a6518656-d04e-46db-a712-d6c0e41c342a-0', tool_calls=[{'name': 'get_board_tool', 'args': {}, 'id': 'call_1vh4hEzjtObV3Bws2Cw0djKV', 'type': 'tool_call'}], usage_metadata={'input_tokens': 270, 'output_tokens': 11, 'total_tokens': 281, 'input_token_details': {'audio': 0, 'cache_read': 0}, 'output_token_details': {'audio': 0, 'reasoning': 0}}),\n",
       "  ToolMessage(content='{\"UserState\": {\"life\": 0, \"don\": 0, \"leader\": {\"id\": \"ST13-003_p1\", \"code\": \"ST13-003\", \"rarity\": \"L\", \"type\": \"LEADER\", \"name\": \"Monkey.D.Luffy\", \"images\": {\"small\": \"https://en.onepiece-cardgame.com/images/cardlist/card/ST13-003_p1.png?241220\", \"large\": \"https://en.onepiece-cardgame.com/images/cardlist/card/ST13-003_p1.png?241220\"}, \"cost\": 4, \"attribute\": {\"name\": \"Strike\", \"image\": \"https://en.onepiece-cardgame.com/images/cardlist/attribute/ico_type01.png\"}, \"power\": 5000, \"counter\": \"-\", \"color\": \"Black/Yellow\", \"family\": \"Supernovas/Straw Hat Crew\", \"ability\": \"Your face-up Life cards are placed at the bottom of your deck instead of being added to your hand, according to the rules.<br>[DON!! x2] [Activate: Main] [Once Per Turn] You may trash 1 card from your hand: If you have 0 Life cards, add up to 2 Character cards with a cost of 5 from your hand or trash to the top of your Life cards face-up.\", \"trigger\": \"\", \"set\": {\"name\": \"-The Three Brothers-[ST13]\"}, \"notes\": []}, \"event\": null, \"stage\": null, \"character\": []}, \"OpponentState\": {\"life\": 0, \"don\": 0, \"leader\": null, \"event\": null, \"stage\": null, \"character\": []}}', name='get_board_tool', id='61d2ca99-460f-47b2-8e1c-308901730926', tool_call_id='call_1vh4hEzjtObV3Bws2Cw0djKV'),\n",
       "  AIMessage(content=\"The current board state is as follows:\\n\\nYour Side:\\n- Life: 0\\n- DON!!: 0\\n- Leader: Monkey.D.Luffy (Black/Yellow, 5000 Power, ST13-003)\\n- No characters, events, or stages on the field.\\n\\nOpponent's Side:\\n- Life: 0\\n- DON!!: 0\\n- No leader, characters, events, or stages on the field.\\n\\nIf you need more details or want to update the board state, let me know!\", additional_kwargs={'refusal': None}, response_metadata={'token_usage': {'completion_tokens': 107, 'prompt_tokens': 651, 'total_tokens': 758, 'completion_tokens_details': {'accepted_prediction_tokens': 0, 'audio_tokens': 0, 'reasoning_tokens': 0, 'rejected_prediction_tokens': 0}, 'prompt_tokens_details': {'audio_tokens': 0, 'cached_tokens': 0}}, 'model_name': 'gpt-4.1-2025-04-14', 'system_fingerprint': 'fp_51e1070cf2', 'id': 'chatcmpl-BySOQLQqNr57ittMkw09GeuKjdaXB', 'service_tier': 'default', 'finish_reason': 'stop', 'logprobs': None}, name='RulebookAgent', id='run--25605d7b-5a66-450e-b0ed-e63f9a07c13a-0', usage_metadata={'input_tokens': 651, 'output_tokens': 107, 'total_tokens': 758, 'input_token_details': {'audio': 0, 'cache_read': 0}, 'output_token_details': {'audio': 0, 'reasoning': 0}})]}"
      ]
     },
     "execution_count": 7,
     "metadata": {},
     "output_type": "execute_result"
    }
   ],
   "source": [
    "agent = RulebookAgent()\n",
    "agent.chat(\"what is the current board state?\", verbose=True)"
   ]
  },
  {
   "cell_type": "code",
   "execution_count": 6,
   "id": "094ef792",
   "metadata": {},
   "outputs": [
    {
     "data": {
      "text/plain": [
       "{'UserState': {'life': 0,\n",
       "  'don': 0,\n",
       "  'leader': {'id': 'ST13-003_p1',\n",
       "   'code': 'ST13-003',\n",
       "   'rarity': 'L',\n",
       "   'type': 'LEADER',\n",
       "   'name': 'Monkey.D.Luffy',\n",
       "   'images': {'small': 'https://en.onepiece-cardgame.com/images/cardlist/card/ST13-003_p1.png?241220',\n",
       "    'large': 'https://en.onepiece-cardgame.com/images/cardlist/card/ST13-003_p1.png?241220'},\n",
       "   'cost': 4,\n",
       "   'attribute': {'name': 'Strike',\n",
       "    'image': 'https://en.onepiece-cardgame.com/images/cardlist/attribute/ico_type01.png'},\n",
       "   'power': 5000,\n",
       "   'counter': '-',\n",
       "   'color': 'Black/Yellow',\n",
       "   'family': 'Supernovas/Straw Hat Crew',\n",
       "   'ability': 'Your face-up Life cards are placed at the bottom of your deck instead of being added to your hand, according to the rules.<br>[DON!! x2] [Activate: Main] [Once Per Turn] You may trash 1 card from your hand: If you have 0 Life cards, add up to 2 Character cards with a cost of 5 from your hand or trash to the top of your Life cards face-up.',\n",
       "   'trigger': '',\n",
       "   'set': {'name': '-The Three Brothers-[ST13]'},\n",
       "   'notes': []},\n",
       "  'event': None,\n",
       "  'stage': None,\n",
       "  'character': []},\n",
       " 'OpponentState': {'life': 0,\n",
       "  'don': 0,\n",
       "  'leader': None,\n",
       "  'event': None,\n",
       "  'stage': None,\n",
       "  'character': []}}"
      ]
     },
     "execution_count": 6,
     "metadata": {},
     "output_type": "execute_result"
    }
   ],
   "source": [
    "get_board_tool.invoke(\"what is on the board?\")"
   ]
  },
  {
   "cell_type": "code",
   "execution_count": 18,
   "id": "7980edbc",
   "metadata": {},
   "outputs": [
    {
     "name": "stdout",
     "output_type": "stream",
     "text": [
      "Using API base URL: http://localhost:8000\n",
      "http://localhost:8000/board/\n"
     ]
    },
    {
     "data": {
      "text/plain": [
       "{'UserState': {'life': 0,\n",
       "  'don': 0,\n",
       "  'leader': {'id': 'ST13-015_p1',\n",
       "   'code': 'ST13-015',\n",
       "   'rarity': 'SR',\n",
       "   'type': 'CHARACTER',\n",
       "   'name': 'Monkey.D.Luffy',\n",
       "   'images': {'small': 'https://en.onepiece-cardgame.com/images/cardlist/card/ST13-015_p1.png?241220',\n",
       "    'large': 'https://en.onepiece-cardgame.com/images/cardlist/card/ST13-015_p1.png?241220'},\n",
       "   'cost': 5,\n",
       "   'attribute': {'name': 'Strike',\n",
       "    'image': 'https://en.onepiece-cardgame.com/images/cardlist/attribute/ico_type01.png'},\n",
       "   'power': 6000,\n",
       "   'counter': '1000',\n",
       "   'color': 'Yellow',\n",
       "   'family': 'Supernovas/Straw Hat Crew',\n",
       "   'ability': '[Activate: Main] [Once Per Turn] This Character gains +2000 power until the start of your next turn. Then, if you have 1 or more Life cards, draw 1 card and trash 1 card from the top of your Life cards.',\n",
       "   'trigger': '',\n",
       "   'set': {'name': '-The Three Brothers-[ST13]'},\n",
       "   'notes': []},\n",
       "  'event': None,\n",
       "  'stage': None,\n",
       "  'character': []},\n",
       " 'OpponentState': {'life': 0,\n",
       "  'don': 0,\n",
       "  'leader': None,\n",
       "  'event': {'id': 'ST13-014',\n",
       "   'code': 'ST13-014',\n",
       "   'rarity': 'C',\n",
       "   'type': 'CHARACTER',\n",
       "   'name': 'Monkey.D.Luffy',\n",
       "   'images': {'small': 'https://en.onepiece-cardgame.com/images/cardlist/card/ST13-014.png?241220',\n",
       "    'large': 'https://en.onepiece-cardgame.com/images/cardlist/card/ST13-014.png?241220'},\n",
       "   'cost': 2,\n",
       "   'attribute': {'name': 'Strike',\n",
       "    'image': 'https://en.onepiece-cardgame.com/images/cardlist/attribute/ico_type01.png'},\n",
       "   'power': 2000,\n",
       "   'counter': '1000',\n",
       "   'color': 'Yellow',\n",
       "   'family': 'Goa Kingdom',\n",
       "   'ability': \"[Activate: Main] You may trash this Character: Reveal 1 card from the top of your Life cards. If that card is a [Monkey.D.Luffy] with a cost of 5, you may play that card. If you do, up to 1 of your Leader gains +2000 power until the end of your opponent's next turn.\",\n",
       "   'trigger': '',\n",
       "   'set': {'name': '-The Three Brothers-[ST13]'},\n",
       "   'notes': []},\n",
       "  'stage': None,\n",
       "  'character': [{'id': 'ST13-014',\n",
       "    'code': 'ST13-014',\n",
       "    'rarity': 'C',\n",
       "    'type': 'CHARACTER',\n",
       "    'name': 'Monkey.D.Luffy',\n",
       "    'images': {'small': 'https://en.onepiece-cardgame.com/images/cardlist/card/ST13-014.png?241220',\n",
       "     'large': 'https://en.onepiece-cardgame.com/images/cardlist/card/ST13-014.png?241220'},\n",
       "    'cost': 2,\n",
       "    'attribute': {'name': 'Strike',\n",
       "     'image': 'https://en.onepiece-cardgame.com/images/cardlist/attribute/ico_type01.png'},\n",
       "    'power': 2000,\n",
       "    'counter': '1000',\n",
       "    'color': 'Yellow',\n",
       "    'family': 'Goa Kingdom',\n",
       "    'ability': \"[Activate: Main] You may trash this Character: Reveal 1 card from the top of your Life cards. If that card is a [Monkey.D.Luffy] with a cost of 5, you may play that card. If you do, up to 1 of your Leader gains +2000 power until the end of your opponent's next turn.\",\n",
       "    'trigger': '',\n",
       "    'set': {'name': '-The Three Brothers-[ST13]'},\n",
       "    'notes': []}]}}"
      ]
     },
     "execution_count": 18,
     "metadata": {},
     "output_type": "execute_result"
    }
   ],
   "source": [
    "import requests\n",
    "api_base_url = os.getenv(\"API_BASE_URL\", \"http://localhost:8000\")\n",
    "print(f\"Using API base URL: {api_base_url}\")\n",
    "print(\"{}/board/\".format(api_base_url))\n",
    "response = requests.get(\n",
    "            f\"{api_base_url}/board/\"\n",
    "        )\n",
    "response.json()"
   ]
  },
  {
   "cell_type": "code",
   "execution_count": null,
   "id": "24d7a7d4",
   "metadata": {},
   "outputs": [
    {
     "name": "stderr",
     "output_type": "stream",
     "text": [
      "2025-07-24 16:35:11,572 - INFO - HTTP Request: POST https://api.openai.com/v1/chat/completions \"HTTP/1.1 200 OK\"\n"
     ]
    },
    {
     "data": {
      "text/plain": [
       "'Here are the key things you should be wary of in the current game state:\\n\\n1. Opponent’s Leader Ability (Eustass \"Captain\" Kid):  \\nKid can restand himself once per turn by resting 3 DON!! and trashing a card. This means your opponent can attack twice with their Leader, potentially putting more pressure on your Life or Characters.\\n\\n2. Opponent’s Board (Triple Nami):  \\nYour opponent has three Nami (OP02-036), each with 5000 power. While their ability is mainly for searching {FILM} cards, they can still attack and pressure your Life or Characters. Be cautious if your Life is low or if you have vulnerable Characters.\\n\\n3. Opponent’s DON!! Advantage:  \\nYour opponent has 8 DON!! available, giving them flexibility to power up attacks, use abilities, or play Events. Watch for potential power boosts or defensive Events during your attacks.\\n\\n4. Your Board State:  \\nYou have strong attackers (Zoro Leader, Zoro Character with Rush, Nico Robin, Marco). However, be mindful of overextending, as green decks can have removal or counterplay.\\n\\n5. Nico Robin’s Ability:  \\nIf you attack with Nico Robin and use her ability, you can potentially KO one of the opponent’s Namis (if they have 3000 power or less, but currently they are at 5000). Consider if you can reduce their power or if you should focus on attacking Life.\\n\\nSummary:  \\nBe wary of Kid’s double attack, the potential for multiple Nami attacks, and the opponent’s high DON!! count for counterplay. Plan your attacks carefully and consider holding back a blocker or counter if you expect a strong counterattack next turn.'"
      ]
     },
     "execution_count": 9,
     "metadata": {},
     "output_type": "execute_result"
    },
    {
     "ename": "",
     "evalue": "",
     "output_type": "error",
     "traceback": [
      "\u001b[1;31mThe Kernel crashed while executing code in the current cell or a previous cell. \n",
      "\u001b[1;31mPlease review the code in the cell(s) to identify a possible cause of the failure. \n",
      "\u001b[1;31mClick <a href='https://aka.ms/vscodeJupyterKernelCrash'>here</a> for more info. \n",
      "\u001b[1;31mView Jupyter <a href='command:jupyter.viewOutput'>log</a> for further details."
     ]
    }
   ],
   "source": [
    "with open(\"test_state.json\", \"r\") as f:\n",
    "    game_state = json.load(f)\n",
    "query = \"What is the current game state? What are the next possible moves for each player?\"\n",
    "query = \"What characters are on the board, and what are their abilities? What is the current life total for each player?\"\n",
    "query = \"What should should I be wary of in the current game state?\"\n",
    "\n",
    "query_prompt_template = PromptTemplate.from_template(\"\"\"\n",
    "Here is the Current Game State:\n",
    "{game_state} \\n\n",
    "You are an expert in the game of One Piece TCG. Based on the current game state, please address the following query. Try to keep the response concise and focused on the most relevant information for the query.:\n",
    "{query}\n",
    "\"\"\")\n",
    "query_prompt = query_prompt_template.invoke({\n",
    "    \"game_state\": game_state,\n",
    "    \"query\": query\n",
    "}).text\n",
    "\n",
    "agent.chat(query_prompt, thread_id=\"test1234\")"
   ]
  },
  {
   "cell_type": "markdown",
   "id": "fdfd0995",
   "metadata": {},
   "source": [
    "'Here are the main things you should be wary of in the current game state:\\n\\n1. **Eustass \"Captain\" Kid Leader Ability**: Your opponent\\'s leader can, once per turn, rest 3 DON!! and trash a card from their hand to set their Leader as active. This means Kid can attack twice in a turn, or attack and then be ready to block or threaten another attack. Be careful not to leave yourself open to multiple attacks, especially if you are low on life.\\n\\n2. **Multiple Nami (OP02-036) Characters**: Your opponent has three Nami (OP02-036) on the field. Each Nami can, when attacking (by resting 1 DON!!), look at the top 3 cards of their deck and add a {FILM} card (other than Nami) to their hand. This can quickly refill their hand and give them access to powerful {FILM} cards, including events or characters that could swing the game.\\n\\n3. **Potential for Multiple Attacks**: With three Nami and Kid, your opponent can attack multiple times in a turn. Even though Nami\\'s power is only 5000, if you are not careful, you could lose several life in one turn, especially if you cannot block or counter enough attacks.\\n\\n4. **Trigger Effects**: When you take damage, remember that your opponent may be trying to push you into activating a [Trigger] effect from your life cards. Be aware of what triggers you have in your deck and how they might affect the game state.\\n\\n5. **Hand Size and Resources**: With Nami\\'s effect, your opponent can increase their hand size and find key cards. If you let them keep all three Nami on the field, they will have a significant resource advantage over time.\\n\\n**Strategic Advice:**\\n- Try to remove at least one or more Nami if possible, to slow down your opponent\\'s card advantage.\\n- Be cautious about overextending, as Kid\\'s double attack can quickly deplete your life.\\n- Plan your counters and blockers carefully, especially if you expect a big turn from your opponent.\\n- Watch your own hand size and resources, as you may need to defend against multiple attacks in a single turn.\\n\\nIf you have any removal or ways to disrupt your opponent\\'s board, now is a good time to use them!'\n"
   ]
  },
  {
   "cell_type": "code",
   "execution_count": 4,
   "id": "1c33147f",
   "metadata": {},
   "outputs": [
    {
     "name": "stdout",
     "output_type": "stream",
     "text": [
      "Loading existing vector store...\n"
     ]
    },
    {
     "name": "stderr",
     "output_type": "stream",
     "text": [
      "2025-07-24 16:13:46,721 - INFO - HTTP Request: POST https://api.openai.com/v1/chat/completions \"HTTP/1.1 200 OK\"\n",
      "2025-07-24 16:13:47,972 - INFO - HTTP Request: POST https://api.openai.com/v1/chat/completions \"HTTP/1.1 200 OK\"\n",
      "2025-07-24 16:13:49,098 - INFO - HTTP Request: POST https://api.openai.com/v1/embeddings \"HTTP/1.1 200 OK\"\n",
      "2025-07-24 16:14:03,002 - INFO - HTTP Request: POST https://api.openai.com/v1/chat/completions \"HTTP/1.1 200 OK\"\n"
     ]
    },
    {
     "data": {
      "text/plain": [
       "{'messages': [HumanMessage(content='\\nHere is the Current Game State:\\n{\\'UserState\\': {\\'life\\': 4, \\'don\\': 7, \\'leader\\': {\\'id\\': \\'OP01-001\\', \\'code\\': \\'OP01-001\\', \\'rarity\\': \\'L\\', \\'type\\': \\'LEADER\\', \\'name\\': \\'Roronoa Zoro\\', \\'images\\': {\\'small\\': \\'https://en.onepiece-cardgame.com/images/cardlist/card/OP01-001.png\\', \\'large\\': \\'https://en.onepiece-cardgame.com/images/cardlist/card/OP01-001.png\\'}, \\'cost\\': 5, \\'attribute\\': {\\'name\\': \\'Slash\\', \\'image\\': \\'https://en.onepiece-cardgame.com/images/cardlist/attribute/ico_type02.png\\'}, \\'power\\': 5000, \\'counter\\': \\'-\\', \\'color\\': \\'Red\\', \\'family\\': \\'Supernovas/Straw Hat Crew\\', \\'ability\\': \\'[DON!! x1] [Your Turn] All of your Characters gain +1000 power.\\', \\'trigger\\': \\'\\', \\'set\\': {\\'name\\': \\'-ROMANCE DAWN- [OP01]\\'}, \\'notes\\': []}, \\'event\\': None, \\'stage\\': None, \\'character\\': [{\\'id\\': \\'OP01-025\\', \\'code\\': \\'OP01-025\\', \\'rarity\\': \\'SR\\', \\'type\\': \\'CHARACTER\\', \\'name\\': \\'Roronoa Zoro\\', \\'images\\': {\\'small\\': \\'https://en.onepiece-cardgame.com/images/cardlist/card/OP01-025.png\\', \\'large\\': \\'https://en.onepiece-cardgame.com/images/cardlist/card/OP01-025.png\\'}, \\'cost\\': 3, \\'attribute\\': {\\'name\\': \\'Slash\\', \\'image\\': \\'https://en.onepiece-cardgame.com/images/cardlist/attribute/ico_type02.png\\'}, \\'power\\': 5000, \\'counter\\': \\'-\\', \\'color\\': \\'Red\\', \\'family\\': \\'Supernovas/Straw Hat Crew\\', \\'ability\\': \\'[Rush] (This card can attack on the turn in which it is played.)\\', \\'trigger\\': \\'\\', \\'set\\': {\\'name\\': \\'-ROMANCE DAWN- [OP01]\\'}, \\'notes\\': []}, {\\'id\\': \\'OP01-017\\', \\'code\\': \\'OP01-017\\', \\'rarity\\': \\'R\\', \\'type\\': \\'CHARACTER\\', \\'name\\': \\'Nico Robin\\', \\'images\\': {\\'small\\': \\'https://en.onepiece-cardgame.com/images/cardlist/card/OP01-017.png\\', \\'large\\': \\'https://en.onepiece-cardgame.com/images/cardlist/card/OP01-017.png\\'}, \\'cost\\': 3, \\'attribute\\': {\\'name\\': \\'Strike\\', \\'image\\': \\'https://en.onepiece-cardgame.com/images/cardlist/attribute/ico_type01.png\\'}, \\'power\\': 4000, \\'counter\\': \\'1000\\', \\'color\\': \\'Red\\', \\'family\\': \\'Straw Hat Crew\\', \\'ability\\': \"[DON!! x1] [When Attacking] K.O. up to 1 of your opponent\\'s Characters with 3000 power or less.\", \\'trigger\\': \\'\\', \\'set\\': {\\'name\\': \\'-ROMANCE DAWN- [OP01]\\'}, \\'notes\\': [{\\'name\\': \\'Errata Card\\', \\'url\\': \\'https://en.onepiece-cardgame.com//rules/errata_card/#errata_05\\'}]}, {\\'id\\': \\'OP01-023\\', \\'code\\': \\'OP01-023\\', \\'rarity\\': \\'C\\', \\'type\\': \\'CHARACTER\\', \\'name\\': \\'Marco\\', \\'images\\': {\\'small\\': \\'https://en.onepiece-cardgame.com/images/cardlist/card/OP01-023.png\\', \\'large\\': \\'https://en.onepiece-cardgame.com/images/cardlist/card/OP01-023.png\\'}, \\'cost\\': 3, \\'attribute\\': {\\'name\\': \\'Special\\', \\'image\\': \\'https://en.onepiece-cardgame.com/images/cardlist/attribute/ico_type03.png\\'}, \\'power\\': 5000, \\'counter\\': \\'1000\\', \\'color\\': \\'Red\\', \\'family\\': \\'Former Whitebeard Pirates\\', \\'ability\\': \\'-\\', \\'trigger\\': \\'\\', \\'set\\': {\\'name\\': \\'-ROMANCE DAWN- [OP01]\\'}, \\'notes\\': []}]}, \\'OpponentState\\': {\\'life\\': 3, \\'don\\': 8, \\'leader\\': {\\'id\\': \\'ST02-001\\', \\'code\\': \\'ST02-001\\', \\'rarity\\': \\'L\\', \\'type\\': \\'LEADER\\', \\'name\\': \\'Eustass\"Captain\"Kid\\', \\'images\\': {\\'small\\': \\'https://en.onepiece-cardgame.com/images/cardlist/card/ST02-001.png\\', \\'large\\': \\'https://en.onepiece-cardgame.com/images/cardlist/card/ST02-001.png\\'}, \\'cost\\': 5, \\'attribute\\': {\\'name\\': \\'Special\\', \\'image\\': \\'https://en.onepiece-cardgame.com/images/cardlist/attribute/ico_type03.png\\'}, \\'power\\': 5000, \\'counter\\': \\'-\\', \\'color\\': \\'Green\\', \\'family\\': \\'Supernovas/Kid Pirates\\', \\'ability\\': \\'[Activate: Main] [Once Per Turn]  â‘¢ (You may rest the specified number of DON!! cards in your cost area.) You may trash 1 card from your hand: Set this Leader as active.\\', \\'trigger\\': \\'\\', \\'set\\': {\\'name\\': \\'-Worst Generation-[ST-02]\\'}, \\'notes\\': []}, \\'event\\': None, \\'stage\\': None, \\'character\\': [{\\'id\\': \\'OP02-036\\', \\'code\\': \\'OP02-036\\', \\'rarity\\': \\'SR\\', \\'type\\': \\'CHARACTER\\', \\'name\\': \\'Nami\\', \\'images\\': {\\'small\\': \\'https://en.onepiece-cardgame.com/images/cardlist/card/OP02-036.png\\', \\'large\\': \\'https://en.onepiece-cardgame.com/images/cardlist/card/OP02-036.png\\'}, \\'cost\\': 3, \\'attribute\\': {\\'name\\': \\'Special\\', \\'image\\': \\'https://en.onepiece-cardgame.com/images/cardlist/attribute/ico_type03.png\\'}, \\'power\\': 5000, \\'counter\\': \\'-\\', \\'color\\': \\'Green\\', \\'family\\': \\'FILM/Straw Hat Crew\\', \\'ability\\': \\'[On Play]/[When Attacking] âž€ (You may rest the specified number of DON!! cards in your cost area.): Look at 3 cards from the top of your deck; reveal up to 1 {FILM} type card other than [Nami] and add it to your hand. Then, place the rest at the bottom of your deck in any order.\\', \\'trigger\\': \\'\\', \\'set\\': {\\'name\\': \\'-PARAMOUNT WAR- [OP02]\\'}, \\'notes\\': []}, {\\'id\\': \\'OP02-036\\', \\'code\\': \\'OP02-036\\', \\'rarity\\': \\'SR\\', \\'type\\': \\'CHARACTER\\', \\'name\\': \\'Nami\\', \\'images\\': {\\'small\\': \\'https://en.onepiece-cardgame.com/images/cardlist/card/OP02-036.png\\', \\'large\\': \\'https://en.onepiece-cardgame.com/images/cardlist/card/OP02-036.png\\'}, \\'cost\\': 3, \\'attribute\\': {\\'name\\': \\'Special\\', \\'image\\': \\'https://en.onepiece-cardgame.com/images/cardlist/attribute/ico_type03.png\\'}, \\'power\\': 5000, \\'counter\\': \\'-\\', \\'color\\': \\'Green\\', \\'family\\': \\'FILM/Straw Hat Crew\\', \\'ability\\': \\'[On Play]/[When Attacking] âž€ (You may rest the specified number of DON!! cards in your cost area.): Look at 3 cards from the top of your deck; reveal up to 1 {FILM} type card other than [Nami] and add it to your hand. Then, place the rest at the bottom of your deck in any order.\\', \\'trigger\\': \\'\\', \\'set\\': {\\'name\\': \\'-PARAMOUNT WAR- [OP02]\\'}, \\'notes\\': []}, {\\'id\\': \\'OP02-036\\', \\'code\\': \\'OP02-036\\', \\'rarity\\': \\'SR\\', \\'type\\': \\'CHARACTER\\', \\'name\\': \\'Nami\\', \\'images\\': {\\'small\\': \\'https://en.onepiece-cardgame.com/images/cardlist/card/OP02-036.png\\', \\'large\\': \\'https://en.onepiece-cardgame.com/images/cardlist/card/OP02-036.png\\'}, \\'cost\\': 3, \\'attribute\\': {\\'name\\': \\'Special\\', \\'image\\': \\'https://en.onepiece-cardgame.com/images/cardlist/attribute/ico_type03.png\\'}, \\'power\\': 5000, \\'counter\\': \\'-\\', \\'color\\': \\'Green\\', \\'family\\': \\'FILM/Straw Hat Crew\\', \\'ability\\': \\'[On Play]/[When Attacking] âž€ (You may rest the specified number of DON!! cards in your cost area.): Look at 3 cards from the top of your deck; reveal up to 1 {FILM} type card other than [Nami] and add it to your hand. Then, place the rest at the bottom of your deck in any order.\\', \\'trigger\\': \\'\\', \\'set\\': {\\'name\\': \\'-PARAMOUNT WAR- [OP02]\\'}, \\'notes\\': []}]}} \\n\\nYou are an expert in the game of One Piece TCG. Based on the current game state, please address the following query:\\nWhat is the current game state? What are the next possible moves for each player?\\n', additional_kwargs={}, response_metadata={}, id='c936249d-bc45-44f8-861f-f08c276089e7'),\n",
       "  AIMessage(content='Here is a summary of the current game state and the next possible moves for each player, based on the information provided:\\n\\nCurrent Game State\\n\\nUser (You):\\n\\n- Life: 4\\n- DON!!: 7 available\\n- Leader: Roronoa Zoro (OP01-001)\\n  - Ability: [DON!! x1] [Your Turn] All of your Characters gain +1000 power.\\n- Characters on Field:\\n  - Roronoa Zoro (OP01-025) [Rush, 5000 Power]\\n  - Nico Robin (OP01-017) [4000 Power, [DON!! x1] [When Attacking] K.O. up to 1 of your opponent\\'s Characters with 3000 power or less.]\\n  - Marco (OP01-023) [5000 Power]\\n- No Event or Stage cards in play.\\n\\nOpponent:\\n\\n- Life: 3\\n- DON!!: 8 available\\n- Leader: Eustass \"Captain\" Kid (ST02-001)\\n  - Ability: [Activate: Main] [Once Per Turn] Rest 3 DON!!, trash 1 card from hand: Set this Leader as active.\\n- Characters on Field:\\n  - 3x Nami (OP02-036) [Each 5000 Power, [On Play]/[When Attacking] Rest 1 DON!!: Look at top 3 cards, add 1 {FILM} card (not Nami) to hand.]\\n- No Event or Stage cards in play.\\n\\nNext Possible Moves\\n\\nUser (You):\\n\\n- Attach DON!! to your Leader or Characters to boost their power or activate abilities (e.g., Zoro Leader\\'s ability, Nico Robin\\'s effect).\\n- Attack with any of your Characters (all are active and can attack, including Roronoa Zoro [Rush]).\\n- Use Nico Robin\\'s effect by attaching 1 DON!! and attacking, potentially K.O.-ing an opponent\\'s Character with 3000 power or less (currently, all opponent\\'s Characters have 5000 power, so this effect cannot be used right now).\\n- Attack the opponent\\'s Leader or Characters with your Characters.\\n- Play additional cards from your hand (not shown in the state, but possible if you have cards in hand and enough DON!!).\\n- Use the Leader\\'s ability by attaching 1 DON!! to Zoro, giving all your Characters +1000 power for the turn.\\n\\nOpponent:\\n\\n- Attach DON!! to their Leader or Characters to boost power or activate abilities.\\n- Attack with their Leader or any of the three Nami Characters.\\n- Use Nami\\'s [When Attacking] effect by resting 1 DON!! to search the top 3 cards for a {FILM} card (other than Nami).\\n- Use Eustass \"Captain\" Kid\\'s Leader ability during their Main Phase: Rest 3 DON!! and trash a card from hand to re-stand their Leader (allowing a second attack with the Leader).\\n- Play additional cards from their hand (not shown in the state, but possible if they have cards in hand and enough DON!!).\\n\\nSummary\\n\\nBoth players have several active Characters and Leaders, with DON!! available to attach for attacks or abilities. The User can make aggressive plays using Zoro\\'s Leader ability and the Rush Zoro Character, while the Opponent can leverage multiple Nami searches and Kid\\'s re-stand ability for pressure or card advantage.\\n\\nIf you want to know the specific rules for any action (e.g., attacking, attaching DON!!, using abilities), let me know!', additional_kwargs={'refusal': None}, response_metadata={'token_usage': {'completion_tokens': 735, 'prompt_tokens': 2196, 'total_tokens': 2931, 'completion_tokens_details': {'accepted_prediction_tokens': 0, 'audio_tokens': 0, 'reasoning_tokens': 0, 'rejected_prediction_tokens': 0}, 'prompt_tokens_details': {'audio_tokens': 0, 'cached_tokens': 0}}, 'model_name': 'gpt-4.1-2025-04-14', 'system_fingerprint': 'fp_799e4ca3f1', 'id': 'chatcmpl-BwxXp0t5afT1aC30JAjUING4MwzFt', 'service_tier': 'default', 'finish_reason': 'stop', 'logprobs': None}, name='RulebookAgent', id='run--358f649c-eb24-4078-9508-38e5006eaad6-0', usage_metadata={'input_tokens': 2196, 'output_tokens': 735, 'total_tokens': 2931, 'input_token_details': {'audio': 0, 'cache_read': 0}, 'output_token_details': {'audio': 0, 'reasoning': 0}}),\n",
       "  HumanMessage(content='How do you recommend that I attack the opponet?', additional_kwargs={}, response_metadata={}, id='dc6588ae-0360-4627-8587-261dfdfa4be3'),\n",
       "  AIMessage(content='', additional_kwargs={'tool_calls': [{'id': 'call_Pkypz3LGzEawHN1Ar9Y1BZ6X', 'function': {'arguments': '{\"query\":\"attack sequence strategy One Piece TCG\"}', 'name': 'rulebooks_retriever'}, 'type': 'function'}], 'refusal': None}, response_metadata={'token_usage': {'completion_tokens': 23, 'prompt_tokens': 2953, 'total_tokens': 2976, 'completion_tokens_details': {'accepted_prediction_tokens': 0, 'audio_tokens': 0, 'reasoning_tokens': 0, 'rejected_prediction_tokens': 0}, 'prompt_tokens_details': {'audio_tokens': 0, 'cached_tokens': 2176}}, 'model_name': 'gpt-4.1-2025-04-14', 'system_fingerprint': 'fp_799e4ca3f1', 'id': 'chatcmpl-BwxY0iZRVqBf5EE9BOGiqZHrFRBho', 'service_tier': 'default', 'finish_reason': 'tool_calls', 'logprobs': None}, name='RulebookAgent', id='run--fecb7901-cb8f-4927-a538-25d7168901d2-0', tool_calls=[{'name': 'rulebooks_retriever', 'args': {'query': 'attack sequence strategy One Piece TCG'}, 'id': 'call_Pkypz3LGzEawHN1Ar9Y1BZ6X', 'type': 'tool_call'}], usage_metadata={'input_tokens': 2953, 'output_tokens': 23, 'total_tokens': 2976, 'input_token_details': {'audio': 0, 'cache_read': 2176}, 'output_token_details': {'audio': 0, 'reasoning': 0}}),\n",
       "  ToolMessage(content=\"1 \\n \\nONE PIECE CARD GAME Comprehensive Rules \\nVersion 1.1.8 \\n \\nLast updated: 2/21/2025\\n\\n7. Card Attacks and Battles  \\n7-1. During the Main Phase, the turn player can rest an active Leader card in their Leader \\narea, or an active Character card in their Character area, to attack an opponent’s Leader \\ncard in their Leader area, or rested Character card in their Character area. When an \\nattack is made, the game proceeds to Battle (see 6-5-6.) and is processed in order from \\nthe Attack Step (see 7-1-1.) to the Damage Step (see 7-1-4.). \\n7-1-1. Attack Step \\n7-1-1-1. Attacks are carried out by the Leader card, or a Character card in the \\nCharacter area. First,  the turn player  declares their attack by resting their  \\nactive Leader card or 1 active Character card. \\n7-1-1-2. The turn player then selects the target of their attack. The target can be either \\nthe opponent’s Leader card or 1 of their rested Character cards in their \\nCharacter area. \\n7-1-1-3. Effects that read [When Attacking] , “when you attack ”, or [On Your \\nOpponent's Attack] activate. \\n7-1-1-4. If, at the end of the Attack Step, the attacking card or the target card for the \\nattack has moved areas due to some method, proceed not to the Block Step \\n(see 7-1-2.), but to the End of the Battle (see 7-1-5.). \\n7-1-2. Block Step \\n7-1-2-1. The player being attacked can activate the [Blocker] effect of their card only \\nonce during that battle. \\n7-1-2-2. When a [Blocker] is activated, effects that read [On Block] or “when you block” \\nactivate.\\n\\nevent occurs, follow the procedure below. \\n11-1-1-1. If neither player can stop an infinite loop, the game ends in a draw. \\n11-1-1-2. If only one player has the choice to stop the infinite loop during the loop \\naction, that player declares how many times they wish to carry out the loop \\naction. Carry out the loop action that many times and finish it at a timing \\nwhen that player can choose to stop the infinite loop. The player cannot \\nchoose to restart the loop even if the game is in exactly the same state (all \\ncards in all areas are the same) as before the loop unless they are forced to \\ndo so. \\n11-1-1-3. If both players have the choice to stop the infinite loop during the loop action, \\nthe turn player first decides how many times they wish to carry out the loop \\naction. Next, the non-turn player decides how many times they wish to carry \\nout the loop action. Carry out the loop action the fewer of these two times \\nand finish it at a timing when the player  who chose the fewer of these two \\ntimes can choose to stop the infinite loop. The player s cannot  choose to \\nrestart the loop even if the game is in exa ctly the same state (all cards in all \\nareas are the same) as before the loop unless they are forced to do so. \\n11-2. Revealing Cards \\n11-2-1. When a card is required to be moved from one secret area to another secret area, \\nsuch as “Add Monkey.D.Luffy from your deck to your hand”, the card being\\n\\n(see 7-1-3.), but to the End of the Battle (see 7-1-5.). \\n7-1-3. Counter Step \\n7-1-3-1. Effects of the player being attacked that read “when attacked” activate. \\n7-1-3-2. The player being attacked may perform the following actions in any order and \\nas many times as they wish: \\n7-1-3-2-1. Activate [(Symbol) Counter ]: The player being attacked may trash a \\nCharacter card with  [(Symbol) Counter] from their hand to activate an \\neffect that increases the power of their Leader or 1 Character card by the \\nvalue of the [(Symbol) Counter] during that battle. \\n7-1-3-2-2. Activate an Event card: The player being attacked may pay the cost of an \\nEvent card with [Counter] in their hand, and then trash it to activate the \\n[Counter] effect. \\n7-1-2-3. If, at the end of the Counter Step, the attacking card or the target card for \\nthe attack has moved areas due to some method, proceed not to the Damage \\nStep (see 7-1-4.), but to the End of the Battle (see 7-1-5.).  \\n7-1-4. Damage Step \\n7-1-4-1. Compare the power of the attacking card and the card being attacked. If the \\npower of the attacking card is greater than or equal to the power of the card \\nbeing attacked, the battle is won, and the result is either 7-1-4-1-1. or 7-1-4-\\n1-2., depending on the category of the card being attacked. \\n7-1-4-1-1. If a Leader card: 1 damage is dealt to that Leader. \\n7-1-4-1-1-1. If the opponent has 0 Life at the point when it is determined that \\ndamage will be dealt, the attacking player wins the game.\", name='rulebooks_retriever', id='737ea512-33e8-4961-9911-04bbe1ee966f', tool_call_id='call_Pkypz3LGzEawHN1Ar9Y1BZ6X'),\n",
       "  AIMessage(content='Here’s how you should approach attacking your opponent, based on the rules and your current board:\\n\\n1. **Assess Your Board and Opponent’s Board:**\\n   - You have three Characters (Roronoa Zoro [Rush], Nico Robin, Marco) and your Leader (Roronoa Zoro).\\n   - Your opponent has three Nami (all 5000 power) and their Leader (Eustass \"Captain\" Kid).\\n   - None of your opponent’s Characters have [Blocker], so you can attack their Leader directly or attack their rested Characters (if any).\\n\\n2. **Maximize Your Power:**\\n   - Attach 1 DON!! to your Leader to activate Roronoa Zoro’s ability: all your Characters gain +1000 power this turn.\\n   - You can also attach additional DON!! to your Characters to further boost their power for attacks.\\n\\n3. **Attack Sequence Recommendation:**\\n   - **Attack with Characters first:** Use your Characters to attack the opponent’s Leader. Since all your Characters will have at least 6000 power (with Zoro’s ability and 1 DON!! each), they will be strong enough to pressure the opponent’s hand or life.\\n   - **Use Roronoa Zoro [Rush]:** This card can attack the turn it is played. Use it to attack the Leader for immediate pressure.\\n   - **Nico Robin’s effect:** Her [When Attacking] effect only works on Characters with 3000 power or less, but all opponent’s Characters are 5000, so this effect won’t be useful right now.\\n   - **Attack with your Leader:** After attacking with your Characters, attack with your Leader as well.\\n\\n4. **Target Selection:**\\n   - Since your opponent’s Nami are all 5000 power and not rested (unless they attacked last turn), you can only attack their Leader directly.\\n   - If your opponent rests a Nami to attack or use its effect, you could attack and potentially KO it on your next turn.\\n\\n5. **DON!! Management:**\\n   - You have 7 DON!! available. Distribute them to maximize your attacks:\\n     - 1 DON!! to your Leader (to activate the ability).\\n     - 1 DON!! each to your Characters to boost their power.\\n     - Any remaining DON!! can be used to further boost attacks or play cards from your hand.\\n\\n6. **Goal:**\\n   - Try to deal as much damage to the opponent’s Leader as possible, reducing their life and forcing them to use cards from their hand to defend.\\n\\n**Summary of Attack Steps:**\\n- Attach 1 DON!! to your Leader to activate the ability.\\n- Attach DON!! to your Characters to boost their power.\\n- Attack the opponent’s Leader with your Characters and Leader in any order.\\n- If you have cards in hand to play, consider playing more Characters to increase your board presence.\\n\\nIf you want a more detailed, card-by-card attack plan, let me know how many cards you have in hand and if you want to play any new cards this turn!', additional_kwargs={'refusal': None}, response_metadata={'token_usage': {'completion_tokens': 633, 'prompt_tokens': 4210, 'total_tokens': 4843, 'completion_tokens_details': {'accepted_prediction_tokens': 0, 'audio_tokens': 0, 'reasoning_tokens': 0, 'rejected_prediction_tokens': 0}, 'prompt_tokens_details': {'audio_tokens': 0, 'cached_tokens': 2944}}, 'model_name': 'gpt-4.1-2025-04-14', 'system_fingerprint': 'fp_799e4ca3f1', 'id': 'chatcmpl-BwxY4NxVAWmPRKQaK4H5MlHITRsJA', 'service_tier': 'default', 'finish_reason': 'stop', 'logprobs': None}, name='RulebookAgent', id='run--4d8316a6-a3f5-4efe-b630-7e3def98247f-0', usage_metadata={'input_tokens': 4210, 'output_tokens': 633, 'total_tokens': 4843, 'input_token_details': {'audio': 0, 'cache_read': 2944}, 'output_token_details': {'audio': 0, 'reasoning': 0}})]}"
      ]
     },
     "execution_count": 4,
     "metadata": {},
     "output_type": "execute_result"
    }
   ],
   "source": [
    "agent = RulebookAgent()\n",
    "agent.chat(query_prompt, thread_id=\"test\")\n",
    "agent.chat(\"How do you recommend that I attack the opponet?\", verbose=True, thread_id=\"test\")"
   ]
  },
  {
   "cell_type": "code",
   "execution_count": null,
   "id": "0f9cdac8",
   "metadata": {},
   "outputs": [],
   "source": []
  },
  {
   "cell_type": "code",
   "execution_count": 4,
   "id": "8ca3c1f4",
   "metadata": {},
   "outputs": [
    {
     "name": "stderr",
     "output_type": "stream",
     "text": [
      "2025-07-08 10:48:14,168 - INFO - HTTP Request: POST https://api.openai.com/v1/chat/completions \"HTTP/1.1 200 OK\"\n",
      "2025-07-08 10:48:23,571 - INFO - HTTP Request: POST https://api.openai.com/v1/chat/completions \"HTTP/1.1 200 OK\"\n"
     ]
    },
    {
     "data": {
      "text/plain": [
       "{'messages': [HumanMessage(content='What is a luffy card with power 2000?', additional_kwargs={}, response_metadata={}, id='f0634f71-2b2f-4773-9a26-2f5360ba79ef'),\n",
       "  AIMessage(content='', additional_kwargs={'tool_calls': [{'id': 'call_qql4dwe1156hSAxtHpxKVV0k', 'function': {'arguments': '{\"input\":{\"query\":\"Luffy\",\"power\":2000}}', 'name': 'card_search_tool'}, 'type': 'function'}], 'refusal': None}, response_metadata={'token_usage': {'completion_tokens': 23, 'prompt_tokens': 227, 'total_tokens': 250, 'completion_tokens_details': {'accepted_prediction_tokens': 0, 'audio_tokens': 0, 'reasoning_tokens': 0, 'rejected_prediction_tokens': 0}, 'prompt_tokens_details': {'audio_tokens': 0, 'cached_tokens': 0}}, 'model_name': 'gpt-4.1-2025-04-14', 'system_fingerprint': 'fp_51e1070cf2', 'id': 'chatcmpl-Br4qDTNS62PBFT25NEzWWTErLsRvw', 'service_tier': 'default', 'finish_reason': 'tool_calls', 'logprobs': None}, name='CardDBToolAgent', id='run--4c53ad13-a875-43d3-87f3-243e226e6315-0', tool_calls=[{'name': 'card_search_tool', 'args': {'input': {'query': 'Luffy', 'power': 2000}}, 'id': 'call_qql4dwe1156hSAxtHpxKVV0k', 'type': 'tool_call'}], usage_metadata={'input_tokens': 227, 'output_tokens': 23, 'total_tokens': 250, 'input_token_details': {'audio': 0, 'cache_read': 0}, 'output_token_details': {'audio': 0, 'reasoning': 0}}),\n",
       "  ToolMessage(content='[{\"id\": \"P-041_p2\", \"code\": \"P-041\", \"rarity\": \"P\", \"type\": \"CHARACTER\", \"name\": \"Monkey.D.Luffy\", \"images\": {\"small\": \"https://en.onepiece-cardgame.com/images/cardlist/card/P-041_p2.png?241220\", \"large\": \"https://en.onepiece-cardgame.com/images/cardlist/card/P-041_p2.png?241220\"}, \"cost\": 10, \"attribute\": {\"name\": \"Strike\", \"image\": \"https://en.onepiece-cardgame.com/images/cardlist/attribute/ico_type01.png\"}, \"power\": 12000, \"counter\": \"1000\", \"color\": \"Purple\", \"family\": \"The Four Emperors/Straw Hat Crew\", \"ability\": \"-\", \"trigger\": \"\", \"set\": {\"name\": \"-Purple Monkey.D.Luffy- [ST-18]\"}, \"notes\": []}, {\"id\": \"ST13-014\", \"code\": \"ST13-014\", \"rarity\": \"C\", \"type\": \"CHARACTER\", \"name\": \"Monkey.D.Luffy\", \"images\": {\"small\": \"https://en.onepiece-cardgame.com/images/cardlist/card/ST13-014.png?241220\", \"large\": \"https://en.onepiece-cardgame.com/images/cardlist/card/ST13-014.png?241220\"}, \"cost\": 2, \"attribute\": {\"name\": \"Strike\", \"image\": \"https://en.onepiece-cardgame.com/images/cardlist/attribute/ico_type01.png\"}, \"power\": 2000, \"counter\": \"1000\", \"color\": \"Yellow\", \"family\": \"Goa Kingdom\", \"ability\": \"[Activate: Main] You may trash this Character: Reveal 1 card from the top of your Life cards. If that card is a [Monkey.D.Luffy] with a cost of 5, you may play that card. If you do, up to 1 of your Leader gains +2000 power until the end of your opponent\\'s next turn.\", \"trigger\": \"\", \"set\": {\"name\": \"-The Three Brothers-[ST13]\"}, \"notes\": []}, {\"id\": \"ST13-014_p1\", \"code\": \"ST13-014\", \"rarity\": \"C\", \"type\": \"CHARACTER\", \"name\": \"Monkey.D.Luffy\", \"images\": {\"small\": \"https://en.onepiece-cardgame.com/images/cardlist/card/ST13-014_p1.png?241220\", \"large\": \"https://en.onepiece-cardgame.com/images/cardlist/card/ST13-014_p1.png?241220\"}, \"cost\": 2, \"attribute\": {\"name\": \"Strike\", \"image\": \"https://en.onepiece-cardgame.com/images/cardlist/attribute/ico_type01.png\"}, \"power\": 2000, \"counter\": \"1000\", \"color\": \"Yellow\", \"family\": \"Goa Kingdom\", \"ability\": \"[Activate: Main] You may trash this Character: Reveal 1 card from the top of your Life cards. If that card is a [Monkey.D.Luffy] with a cost of 5, you may play that card. If you do, up to 1 of your Leader gains +2000 power until the end of your opponent\\'s next turn.\", \"trigger\": \"\", \"set\": {\"name\": \"-The Three Brothers-[ST13]\"}, \"notes\": []}, {\"id\": \"ST23-004\", \"code\": \"ST23-004\", \"rarity\": \"C\", \"type\": \"CHARACTER\", \"name\": \"Monkey.D.Luffy\", \"images\": {\"small\": \"https://en.onepiece-cardgame.com/images/cardlist/card/ST23-004.png?250530\", \"large\": \"https://en.onepiece-cardgame.com/images/cardlist/card/ST23-004.png?250530\"}, \"cost\": 1, \"attribute\": {\"name\": \"Strike\", \"image\": \"https://en.onepiece-cardgame.com/images/cardlist/attribute/ico_type01.png\"}, \"power\": 2000, \"counter\": \"1000\", \"color\": \"Red\", \"family\": \"FILM/Supernovas/Straw Hat Crew\", \"ability\": \"[Activate: Main] You may rest 1 of your DON!! cards and this Character: Give up to 1 of your opponent\\'s Characters −1000 power during this turn.\", \"trigger\": \"\", \"set\": {\"name\": \"-RED Shanks- [ST-23]\"}, \"notes\": []}, {\"id\": \"OP05-119\", \"code\": \"OP05-119\", \"rarity\": \"SEC\", \"type\": \"CHARACTER\", \"name\": \"Monkey.D.Luffy\", \"images\": {\"small\": \"https://en.onepiece-cardgame.com/images/cardlist/card/OP05-119.png\", \"large\": \"https://en.onepiece-cardgame.com/images/cardlist/card/OP05-119.png\"}, \"cost\": 10, \"attribute\": {\"name\": \"Strike\", \"image\": \"https://en.onepiece-cardgame.com/images/cardlist/attribute/ico_type01.png\"}, \"power\": 12000, \"counter\": \"-\", \"color\": \"Purple\", \"family\": \"The Four Emperors/Straw Hat Crew\", \"ability\": \"[On Play] DON!! −10: Place all of your Characters except this Character at the bottom of your deck in any order. Then, take an extra turn after this one.<br>[Activate: Main] [Once Per Turn] ➀: Add up to 1 DON!! card from your DON!! deck and set it as active.\", \"trigger\": \"\", \"set\": {\"name\": \"OP-05\"}, \"notes\": []}, {\"id\": \"OP05-119_p1\", \"code\": \"OP05-119\", \"rarity\": \"SEC\", \"type\": \"CHARACTER\", \"name\": \"Monkey.D.Luffy\", \"images\": {\"small\": \"https://en.onepiece-cardgame.com/images/cardlist/card/OP05-119_p1.png\", \"large\": \"https://en.onepiece-cardgame.com/images/cardlist/card/OP05-119_p1.png\"}, \"cost\": 10, \"attribute\": {\"name\": \"Strike\", \"image\": \"https://en.onepiece-cardgame.com/images/cardlist/attribute/ico_type01.png\"}, \"power\": 12000, \"counter\": \"-\", \"color\": \"Purple\", \"family\": \"The Four Emperors/Straw Hat Crew\", \"ability\": \"[On Play] DON!! −10: Place all of your Characters except this Character at the bottom of your deck in any order. Then, take an extra turn after this one.<br>[Activate: Main] [Once Per Turn] ➀: Add up to 1 DON!! card from your DON!! deck and set it as active.\", \"trigger\": \"\", \"set\": {\"name\": \"OP-05\"}, \"notes\": []}, {\"id\": \"OP05-119_p2\", \"code\": \"OP05-119\", \"rarity\": \"SEC\", \"type\": \"CHARACTER\", \"name\": \"Monkey.D.Luffy\", \"images\": {\"small\": \"https://en.onepiece-cardgame.com/images/cardlist/card/OP05-119_p2.png\", \"large\": \"https://en.onepiece-cardgame.com/images/cardlist/card/OP05-119_p2.png\"}, \"cost\": 10, \"attribute\": {\"name\": \"Strike\", \"image\": \"https://en.onepiece-cardgame.com/images/cardlist/attribute/ico_type01.png\"}, \"power\": 12000, \"counter\": \"-\", \"color\": \"Purple\", \"family\": \"The Four Emperors/Straw Hat Crew\", \"ability\": \"[On Play] DON!! −10: Place all of your Characters except this Character at the bottom of your deck in any order. Then, take an extra turn after this one.<br>[Activate: Main] [Once Per Turn] ➀: Add up to 1 DON!! card from your DON!! deck and set it as active.\", \"trigger\": \"\", \"set\": {\"name\": \"OP-05\"}, \"notes\": []}, {\"id\": \"OP10-111\", \"code\": \"OP10-111\", \"rarity\": \"R\", \"type\": \"CHARACTER\", \"name\": \"Monkey.D.Luffy\", \"images\": {\"small\": \"https://en.onepiece-cardgame.com/images/cardlist/card/OP10-111.png?250530\", \"large\": \"https://en.onepiece-cardgame.com/images/cardlist/card/OP10-111.png?250530\"}, \"cost\": 1, \"attribute\": {\"name\": \"Strike\", \"image\": \"https://en.onepiece-cardgame.com/images/cardlist/attribute/ico_type01.png\"}, \"power\": 2000, \"counter\": \"1000\", \"color\": \"Yellow\", \"family\": \"Supernovas/Straw Hat Crew\", \"ability\": \"[On Play] Look at 5 cards from the top of your deck; reveal up to 1 {Supernovas} type card other than [Monkey.D.Luffy] and add it to your hand. Then, place the rest at the bottom of your deck in any order.\", \"trigger\": \"\", \"set\": {\"name\": \"-ROYAL BLOOD- [OP-10]\"}, \"notes\": []}, {\"id\": \"OP10-111_p1\", \"code\": \"OP10-111\", \"rarity\": \"R\", \"type\": \"CHARACTER\", \"name\": \"Monkey.D.Luffy\", \"images\": {\"small\": \"https://en.onepiece-cardgame.com/images/cardlist/card/OP10-111_p1.png?250530\", \"large\": \"https://en.onepiece-cardgame.com/images/cardlist/card/OP10-111_p1.png?250530\"}, \"cost\": 1, \"attribute\": {\"name\": \"Strike\", \"image\": \"https://en.onepiece-cardgame.com/images/cardlist/attribute/ico_type01.png\"}, \"power\": 2000, \"counter\": \"1000\", \"color\": \"Yellow\", \"family\": \"Supernovas/Straw Hat Crew\", \"ability\": \"[On Play] Look at 5 cards from the top of your deck; reveal up to 1 {Supernovas} type card other than [Monkey.D.Luffy] and add it to your hand. Then, place the rest at the bottom of your deck in any order.\", \"trigger\": \"\", \"set\": {\"name\": \"-ROYAL BLOOD- [OP-10]\"}, \"notes\": []}, {\"id\": \"OP05-119_p7\", \"code\": \"OP05-119\", \"rarity\": \"SP CARD\", \"type\": \"CHARACTER\", \"name\": \"Monkey.D.Luffy\", \"images\": {\"small\": \"https://en.onepiece-cardgame.com/images/cardlist/card/OP05-119_p7.png?250530\", \"large\": \"https://en.onepiece-cardgame.com/images/cardlist/card/OP05-119_p7.png?250530\"}, \"cost\": 10, \"attribute\": {\"name\": \"Strike\", \"image\": \"https://en.onepiece-cardgame.com/images/cardlist/attribute/ico_type01.png\"}, \"power\": 12000, \"counter\": \"-\", \"color\": \"Purple\", \"family\": \"The Four Emperors/Straw Hat Crew\", \"ability\": \"[On Play] DON!! −10: Place all of your Characters except this Character at the bottom of your deck in any order. Then, take an extra turn after this one.<br>[Activate: Main] [Once Per Turn] You may rest 1 of your DON!! cards: Add up to 1 DON!! card from your DON!! deck and set it as active.\", \"trigger\": \"\", \"set\": {\"name\": \"-A FIST OF DIVINE SPEED- [OP-11]\"}, \"notes\": []}, {\"id\": \"OP05-119_p8\", \"code\": \"OP05-119\", \"rarity\": \"SP CARD\", \"type\": \"CHARACTER\", \"name\": \"Monkey.D.Luffy\", \"images\": {\"small\": \"https://en.onepiece-cardgame.com/images/cardlist/card/OP05-119_p8.png?250530\", \"large\": \"https://en.onepiece-cardgame.com/images/cardlist/card/OP05-119_p8.png?250530\"}, \"cost\": 10, \"attribute\": {\"name\": \"Strike\", \"image\": \"https://en.onepiece-cardgame.com/images/cardlist/attribute/ico_type01.png\"}, \"power\": 12000, \"counter\": \"-\", \"color\": \"Purple\", \"family\": \"The Four Emperors/Straw Hat Crew\", \"ability\": \"[On Play] DON!! −10: Place all of your Characters except this Character at the bottom of your deck in any order. Then, take an extra turn after this one.<br>[Activate: Main] [Once Per Turn] You may rest 1 of your DON!! cards: Add up to 1 DON!! card from your DON!! deck and set it as active.\", \"trigger\": \"\", \"set\": {\"name\": \"-A FIST OF DIVINE SPEED- [OP-11]\"}, \"notes\": []}, {\"id\": \"OP05-119_p6\", \"code\": \"OP05-119\", \"rarity\": \"SP CARD\", \"type\": \"CHARACTER\", \"name\": \"Monkey.D.Luffy\", \"images\": {\"small\": \"https://en.onepiece-cardgame.com/images/cardlist/card/OP05-119_p6.png?241220\", \"large\": \"https://en.onepiece-cardgame.com/images/cardlist/card/OP05-119_p6.png?241220\"}, \"cost\": 10, \"attribute\": {\"name\": \"Strike\", \"image\": \"https://en.onepiece-cardgame.com/images/cardlist/attribute/ico_type01.png\"}, \"power\": 12000, \"counter\": \"-\", \"color\": \"Purple\", \"family\": \"The Four Emperors/Straw Hat Crew\", \"ability\": \"[On Play] DON!! −10: Place all of your Characters except\\\\n                    this Character at the bottom of your deck in any order.\\\\n                    Then, take an extra turn after this one.<br>[Activate:\\\\n                    Main] [Once Per Turn] You may rest 1 of your DON!! cards:\\\\n                    Add up to 1 DON!! card from your DON!! deck and set it as\\\\n                    active.\", \"trigger\": \"\", \"set\": {\"name\": \"-EMPERORS IN THE NEW WORLD- [OP-09]\"}, \"notes\": []}, {\"id\": \"P-041\", \"code\": \"P-041\", \"rarity\": \"P\", \"type\": \"CHARACTER\", \"name\": \"Monkey.D.Luffy\", \"images\": {\"small\": \"https://en.onepiece-cardgame.com/images/cardlist/card/P-041.png?250530\", \"large\": \"https://en.onepiece-cardgame.com/images/cardlist/card/P-041.png?250530\"}, \"cost\": 10, \"attribute\": {\"name\": \"Strike\", \"image\": \"https://en.onepiece-cardgame.com/images/cardlist/attribute/ico_type01.png\"}, \"power\": 12000, \"counter\": \"1000\", \"color\": \"Purple\", \"family\": \"The Four Emperors/Straw Hat Crew\", \"ability\": \"-\", \"trigger\": \"\", \"set\": {\"name\": \"Pirates Party Vol.5\"}, \"notes\": []}, {\"id\": \"P-041_p1\", \"code\": \"P-041\", \"rarity\": \"P\", \"type\": \"CHARACTER\", \"name\": \"Monkey.D.Luffy\", \"images\": {\"small\": \"https://en.onepiece-cardgame.com/images/cardlist/card/P-041_p1.png?250530\", \"large\": \"https://en.onepiece-cardgame.com/images/cardlist/card/P-041_p1.png?250530\"}, \"cost\": 10, \"attribute\": {\"name\": \"Strike\", \"image\": \"https://en.onepiece-cardgame.com/images/cardlist/attribute/ico_type01.png\"}, \"power\": 12000, \"counter\": \"1000\", \"color\": \"Purple\", \"family\": \"The Four Emperors/Straw Hat Crew\", \"ability\": \"-\", \"trigger\": \"\", \"set\": {\"name\": \"Offline Regional Participation Pack 2024 Vol. 2\"}, \"notes\": []}, {\"id\": \"OP05-119_p3\", \"code\": \"OP05-119\", \"rarity\": \"SEC\", \"type\": \"CHARACTER\", \"name\": \"Monkey.D.Luffy\", \"images\": {\"small\": \"https://en.onepiece-cardgame.com/images/cardlist/card/OP05-119_p3.png?241220\", \"large\": \"https://en.onepiece-cardgame.com/images/cardlist/card/OP05-119_p3.png?241220\"}, \"cost\": 10, \"attribute\": {\"name\": \"Strike\", \"image\": \"https://en.onepiece-cardgame.com/images/cardlist/attribute/ico_type01.png\"}, \"power\": 12000, \"counter\": \"-\", \"color\": \"Purple\", \"family\": \"The Four Emperors/Straw Hat Crew\", \"ability\": \"[On Play] DON!! −10: Place all of your Characters except\\\\n                    this Character at the bottom of your deck in any order.\\\\n                    Then, take an extra turn after this one.<br>[Activate:\\\\n                    Main] [Once Per Turn] ➀ (You may rest the specified number\\\\n                    of DON!! cards in your cost area.): Add up to 1 DON!! card\\\\n                    from your DON!! deck and set it as active.\", \"trigger\": \"\", \"set\": {\"name\": \"-ONE PIECE CARD THE BEST- [PRB-01]\"}, \"notes\": []}, {\"id\": \"OP05-119_p4\", \"code\": \"OP05-119\", \"rarity\": \"SEC\", \"type\": \"CHARACTER\", \"name\": \"Monkey.D.Luffy\", \"images\": {\"small\": \"https://en.onepiece-cardgame.com/images/cardlist/card/OP05-119_p4.png?241220\", \"large\": \"https://en.onepiece-cardgame.com/images/cardlist/card/OP05-119_p4.png?241220\"}, \"cost\": 10, \"attribute\": {\"name\": \"Strike\", \"image\": \"https://en.onepiece-cardgame.com/images/cardlist/attribute/ico_type01.png\"}, \"power\": 12000, \"counter\": \"-\", \"color\": \"Purple\", \"family\": \"The Four Emperors/Straw Hat Crew\", \"ability\": \"[On Play] DON!! −10: Place all of your Characters except\\\\n                    this Character at the bottom of your deck in any order.\\\\n                    Then, take an extra turn after this one.<br>[Activate:\\\\n                    Main] [Once Per Turn] ➀ (You may rest the specified number\\\\n                    of DON!! cards in your cost area.): Add up to 1 DON!! card\\\\n                    from your DON!! deck and set it as active.\", \"trigger\": \"\", \"set\": {\"name\": \"-ONE PIECE CARD THE BEST- [PRB-01]\"}, \"notes\": []}, {\"id\": \"OP05-119_p5\", \"code\": \"OP05-119\", \"rarity\": \"SEC\", \"type\": \"CHARACTER\", \"name\": \"Monkey.D.Luffy\", \"images\": {\"small\": \"https://en.onepiece-cardgame.com/images/cardlist/card/OP05-119_p5.png?241220\", \"large\": \"https://en.onepiece-cardgame.com/images/cardlist/card/OP05-119_p5.png?241220\"}, \"cost\": 10, \"attribute\": {\"name\": \"Strike\", \"image\": \"https://en.onepiece-cardgame.com/images/cardlist/attribute/ico_type01.png\"}, \"power\": 12000, \"counter\": \"-\", \"color\": \"Purple\", \"family\": \"The Four Emperors/Straw Hat Crew\", \"ability\": \"[On Play] DON!! −10: Place all of your Characters except\\\\n                    this Character at the bottom of your deck in any order.\\\\n                    Then, take an extra turn after this one.<br>[Activate:\\\\n                    Main] [Once Per Turn] ➀ (You may rest the specified number\\\\n                    of DON!! cards in your cost area.): Add up to 1 DON!! card\\\\n                    from your DON!! deck and set it as active.\", \"trigger\": \"\", \"set\": {\"name\": \"-ONE PIECE CARD THE BEST- [PRB-01]\"}, \"notes\": []}, {\"id\": \"P-041\", \"code\": \"P-041\", \"rarity\": \"P\", \"type\": \"CHARACTER\", \"name\": \"Monkey.D.Luffy\", \"images\": {\"small\": \"https://en.onepiece-cardgame.com/images/cardlist/card/P-041.png?240419\", \"large\": \"https://en.onepiece-cardgame.com/images/cardlist/card/P-041.png?240419\"}, \"cost\": 10, \"attribute\": {\"name\": \"Strike\", \"image\": \"https://en.onepiece-cardgame.com/images/cardlist/attribute/ico_type01.png\"}, \"power\": 12000, \"counter\": \"1000\", \"color\": \"Purple\", \"family\": \"The Four Emperors/Straw Hat Crew\", \"ability\": \"-\", \"trigger\": \"\", \"set\": {\"name\": \"Pirates Party Vol.5\"}, \"notes\": []}]', name='card_search_tool', id='4a6e6fd8-05a0-4d2d-a012-1a220f55b583', tool_call_id='call_qql4dwe1156hSAxtHpxKVV0k'),\n",
       "  AIMessage(content=\"Here are some Monkey.D.Luffy cards with 2000 power:\\n\\n1. Monkey.D.Luffy (ST13-014) - Yellow, Cost 2, Goa Kingdom\\n   - Ability: [Activate: Main] You may trash this Character: Reveal 1 card from the top of your Life cards. If that card is a [Monkey.D.Luffy] with a cost of 5, you may play that card. If you do, up to 1 of your Leader gains +2000 power until the end of your opponent's next turn.\\n   - ![ST13-014](https://en.onepiece-cardgame.com/images/cardlist/card/ST13-014.png?241220)\\n\\n2. Monkey.D.Luffy (ST23-004) - Red, Cost 1, FILM/Supernovas/Straw Hat Crew\\n   - Ability: [Activate: Main] You may rest 1 of your DON!! cards and this Character: Give up to 1 of your opponent's Characters −1000 power during this turn.\\n   - ![ST23-004](https://en.onepiece-cardgame.com/images/cardlist/card/ST23-004.png?250530)\\n\\n3. Monkey.D.Luffy (OP10-111) - Yellow, Cost 1, Supernovas/Straw Hat Crew\\n   - Ability: [On Play] Look at 5 cards from the top of your deck; reveal up to 1 {Supernovas} type card other than [Monkey.D.Luffy] and add it to your hand. Then, place the rest at the bottom of your deck in any order.\\n   - ![OP10-111](https://en.onepiece-cardgame.com/images/cardlist/card/OP10-111.png?250530)\\n\\nLet me know if you want more details about any of these cards!\", additional_kwargs={'refusal': None}, response_metadata={'token_usage': {'completion_tokens': 381, 'prompt_tokens': 4862, 'total_tokens': 5243, 'completion_tokens_details': {'accepted_prediction_tokens': 0, 'audio_tokens': 0, 'reasoning_tokens': 0, 'rejected_prediction_tokens': 0}, 'prompt_tokens_details': {'audio_tokens': 0, 'cached_tokens': 4736}}, 'model_name': 'gpt-4.1-2025-04-14', 'system_fingerprint': 'fp_51e1070cf2', 'id': 'chatcmpl-Br4qKKlX6zyzurqFk2wBsCYx15RLB', 'service_tier': 'default', 'finish_reason': 'stop', 'logprobs': None}, name='CardDBToolAgent', id='run--93fb036b-c7ac-41f2-80f7-3275ce25d1a8-0', usage_metadata={'input_tokens': 4862, 'output_tokens': 381, 'total_tokens': 5243, 'input_token_details': {'audio': 0, 'cache_read': 4736}, 'output_token_details': {'audio': 0, 'reasoning': 0}})]}"
      ]
     },
     "execution_count": 4,
     "metadata": {},
     "output_type": "execute_result"
    }
   ],
   "source": [
    "class CardDBToolAgent(BaseAgent):\n",
    "    # If model and temperature are not specified, defaults will be used, defined in BaseAgent.\n",
    "    def __init__(self, model_name=\"gpt-4.1\"):\n",
    "        self.name = \"CardDBToolAgent\"\n",
    "        super().__init__(model_name=model_name, temperature=0)\n",
    "    \n",
    "    def _create_prompt(self):\n",
    "        \"\"\"Create a system prompt for the agent. This should be tailored to the specific agent's purpose.\"\"\"\n",
    "        return \"You are a helpful assistant that helps people answer information about the One Piece TCG. If you don't know the answer, just say you don't know. Do not try to make up an answer.\"\n",
    "\n",
    "    def _setup_tools(self):\n",
    "        \"\"\"Setup tools for this agent. This can include any tools you want to use, or be an empty list if no tools are needed.\"\"\"\n",
    "        return [\n",
    "            card_search_tool\n",
    "        ]\n",
    "agent = CardDBToolAgent(model_name=\"gpt-4.1\")\n",
    "agent.chat(\"What is a luffy card with power 2000?\", verbose=True)"
   ]
  }
 ],
 "metadata": {
  "kernelspec": {
   "display_name": ".venv (3.13.5)",
   "language": "python",
   "name": "python3"
  },
  "language_info": {
   "codemirror_mode": {
    "name": "ipython",
    "version": 3
   },
   "file_extension": ".py",
   "mimetype": "text/x-python",
   "name": "python",
   "nbconvert_exporter": "python",
   "pygments_lexer": "ipython3",
   "version": "3.13.5"
  }
 },
 "nbformat": 4,
 "nbformat_minor": 5
}
