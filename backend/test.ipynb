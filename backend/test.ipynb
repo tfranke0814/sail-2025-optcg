{
 "cells": [
  {
   "cell_type": "code",
   "execution_count": 2,
   "id": "e4a064d3",
   "metadata": {},
   "outputs": [],
   "source": [
    "import os\n",
    "from dotenv import load_dotenv\n",
    "from IPython.display import display, Image\n",
    "\n",
    "from langchain_openai import ChatOpenAI\n",
    "from langgraph.prebuilt import create_react_agent\n",
    "from langchain_core.tools import tool\n",
    "from langchain_core.tools.retriever import create_retriever_tool\n",
    "from langgraph.checkpoint.memory import InMemorySaver\n",
    "\n",
    "# For QA-Retriever\n",
    "from langchain_core.prompts import PromptTemplate\n",
    "from langchain.chains.combine_documents import create_stuff_documents_chain\n",
    "from langchain.chains import create_retrieval_chain\n",
    "\n",
    "# Custom Import\n",
    "from optcg.vectorstore_logic import check_for_updates_to_rules, create_or_load_vectorstore_optcg_rulebooks\n",
    "from optcg.agents import RulebookAgent\n",
    "\n",
    "from langsmith import traceable\n",
    "from langsmith.wrappers import wrap_openai\n",
    "from openai import OpenAI\n",
    "#openai_client = wrap_openai(OpenAI())\n",
    "\n",
    "_ = load_dotenv() # Loads the .env file - e.g. the OPENAI_API_KEY\n"
   ]
  },
  {
   "cell_type": "code",
   "execution_count": null,
   "id": "d60aed27",
   "metadata": {},
   "outputs": [],
   "source": [
    "import requests\n",
    "response = requests.post(\n",
    "    \"http://localhost:8000/chat\",\n",
    "    json={\n",
    "        \"message\": \"What are the One Piece TCG rules?\",\n",
    "        \"agent_type\": \"rulebook\",\n",
    "        \"thread_id\": \"sample-thread-id\"\n",
    "    }\n",
    ")\n",
    "print(response.json())"
   ]
  },
  {
   "cell_type": "code",
   "execution_count": 2,
   "id": "61b04cf5",
   "metadata": {},
   "outputs": [
    {
     "name": "stdout",
     "output_type": "stream",
     "text": [
      "Loading existing vector store...\n"
     ]
    },
    {
     "data": {
      "text/plain": [
       "{'messages': [HumanMessage(content='hi', additional_kwargs={}, response_metadata={}, id='3cc47002-9142-489d-aa82-5395636de166'),\n",
       "  AIMessage(content='Hello! How can I help you with the One Piece TCG rulebook today? If you have any questions about the rules or need clarification on a specific situation, just let me know!', additional_kwargs={'refusal': None}, response_metadata={'token_usage': {'completion_tokens': 39, 'prompt_tokens': 217, 'total_tokens': 256, 'completion_tokens_details': {'accepted_prediction_tokens': 0, 'audio_tokens': 0, 'reasoning_tokens': 0, 'rejected_prediction_tokens': 0}, 'prompt_tokens_details': {'audio_tokens': 0, 'cached_tokens': 0}}, 'model_name': 'gpt-4.1-2025-04-14', 'system_fingerprint': 'fp_51e1070cf2', 'id': 'chatcmpl-BmTy04hZmXuNY2VvaElXvnRfZYDoj', 'service_tier': 'default', 'finish_reason': 'stop', 'logprobs': None}, name='BaseAgent', id='run--8a54fb02-7bce-43b4-ad96-adf09a94ea52-0', usage_metadata={'input_tokens': 217, 'output_tokens': 39, 'total_tokens': 256, 'input_token_details': {'audio': 0, 'cache_read': 0}, 'output_token_details': {'audio': 0, 'reasoning': 0}}),\n",
       "  HumanMessage(content='repeat what I just said', additional_kwargs={}, response_metadata={}, id='1fa15a50-81e0-4440-b631-0e5e13b8d228'),\n",
       "  AIMessage(content='You said: \"hi\"', additional_kwargs={'refusal': None}, response_metadata={'token_usage': {'completion_tokens': 7, 'prompt_tokens': 271, 'total_tokens': 278, 'completion_tokens_details': {'accepted_prediction_tokens': 0, 'audio_tokens': 0, 'reasoning_tokens': 0, 'rejected_prediction_tokens': 0}, 'prompt_tokens_details': {'audio_tokens': 0, 'cached_tokens': 0}}, 'model_name': 'gpt-4.1-2025-04-14', 'system_fingerprint': 'fp_51e1070cf2', 'id': 'chatcmpl-BmTy1kITUmLzztBgpE9ZD8h8vmkGW', 'service_tier': 'default', 'finish_reason': 'stop', 'logprobs': None}, name='BaseAgent', id='run--65c29b65-9fde-47fd-9c62-65864e166b2a-0', usage_metadata={'input_tokens': 271, 'output_tokens': 7, 'total_tokens': 278, 'input_token_details': {'audio': 0, 'cache_read': 0}, 'output_token_details': {'audio': 0, 'reasoning': 0}})]}"
      ]
     },
     "execution_count": 2,
     "metadata": {},
     "output_type": "execute_result"
    }
   ],
   "source": [
    "from optcg.agents import RulebookAgent\n",
    "agent = RulebookAgent()\n",
    "agent.chat(\"hi\", thread_id=\"user1\", verbose=True)\n",
    "agent.chat(\"repeat what I just said\", thread_id=\"user1\", verbose=True)"
   ]
  },
  {
   "cell_type": "code",
   "execution_count": 7,
   "id": "c58807c7",
   "metadata": {},
   "outputs": [
    {
     "name": "stdout",
     "output_type": "stream",
     "text": [
      "Loading existing vector store...\n"
     ]
    },
    {
     "data": {
      "text/plain": [
       "{'messages': [HumanMessage(content='hi', additional_kwargs={}, response_metadata={}, id='0000b1d8-c2f8-4d02-9736-1e9f686d785f'),\n",
       "  AIMessage(content='Hello! How can I help you with the One Piece TCG rulebook today? If you have any questions about the rules or need clarification on a specific situation, just let me know!', additional_kwargs={'refusal': None}, response_metadata={'token_usage': {'completion_tokens': 39, 'prompt_tokens': 217, 'total_tokens': 256, 'completion_tokens_details': {'accepted_prediction_tokens': 0, 'audio_tokens': 0, 'reasoning_tokens': 0, 'rejected_prediction_tokens': 0}, 'prompt_tokens_details': {'audio_tokens': 0, 'cached_tokens': 0}}, 'model_name': 'gpt-4.1-2025-04-14', 'system_fingerprint': 'fp_799e4ca3f1', 'id': 'chatcmpl-BmvrtnedvgFZ9Yd8tjqjX16OcVaRS', 'service_tier': 'default', 'finish_reason': 'stop', 'logprobs': None}, name='BaseAgent', id='run--36b9ed1f-ffe8-4b96-98cc-e2b26c288ddd-0', usage_metadata={'input_tokens': 217, 'output_tokens': 39, 'total_tokens': 256, 'input_token_details': {'audio': 0, 'cache_read': 0}, 'output_token_details': {'audio': 0, 'reasoning': 0}})]}"
      ]
     },
     "execution_count": 7,
     "metadata": {},
     "output_type": "execute_result"
    }
   ],
   "source": [
    "from optcg.agents import RulebookAgent\n",
    "agent = RulebookAgent()\n",
    "agent.chat(\"hi\", thread_id=\"yo\", verbose=True)"
   ]
  },
  {
   "cell_type": "code",
   "execution_count": 10,
   "id": "ba70b3f2",
   "metadata": {},
   "outputs": [
    {
     "data": {
      "text/plain": [
       "'You said: \"repeat what I just said\"'"
      ]
     },
     "execution_count": 10,
     "metadata": {},
     "output_type": "execute_result"
    }
   ],
   "source": [
    "agent.chat(\"repeat what I just said\", thread_id=\"yo\")"
   ]
  },
  {
   "cell_type": "code",
   "execution_count": null,
   "id": "6d218106",
   "metadata": {},
   "outputs": [
    {
     "name": "stdout",
     "output_type": "stream",
     "text": [
      "Loading existing vector store...\n"
     ]
    },
    {
     "data": {
      "text/plain": [
       "{'messages': [HumanMessage(content='What is the rule for attacking with a creature?', additional_kwargs={}, response_metadata={}, id='ee2892e5-7e5e-4387-b25e-b3b1bbe99032'),\n",
       "  AIMessage(content='', additional_kwargs={'tool_calls': [{'id': 'call_EuiK87k5hgH9x7VWOzVSSnds', 'function': {'arguments': '{\"query\":\"rule for attacking with a creature\"}', 'name': 'rulebooks_retriever'}, 'type': 'function'}], 'refusal': None}, response_metadata={'token_usage': {'completion_tokens': 22, 'prompt_tokens': 226, 'total_tokens': 248, 'completion_tokens_details': {'accepted_prediction_tokens': 0, 'audio_tokens': 0, 'reasoning_tokens': 0, 'rejected_prediction_tokens': 0}, 'prompt_tokens_details': {'audio_tokens': 0, 'cached_tokens': 0}}, 'model_name': 'gpt-4.1-2025-04-14', 'system_fingerprint': 'fp_51e1070cf2', 'id': 'chatcmpl-BmTc9vGXcCmDi733etauSWE0iCCad', 'service_tier': 'default', 'finish_reason': 'tool_calls', 'logprobs': None}, name='BaseAgent', id='run--1e2f599e-eb21-4dad-a79e-e27a65b5ee35-0', tool_calls=[{'name': 'rulebooks_retriever', 'args': {'query': 'rule for attacking with a creature'}, 'id': 'call_EuiK87k5hgH9x7VWOzVSSnds', 'type': 'tool_call'}], usage_metadata={'input_tokens': 226, 'output_tokens': 22, 'total_tokens': 248, 'input_token_details': {'audio': 0, 'cache_read': 0}, 'output_token_details': {'audio': 0, 'reasoning': 0}}),\n",
       "  ToolMessage(content=\"1-2., depending on the category of the card being attacked. \\n7-1-4-1-1. If a Leader card: 1 damage is dealt to that Leader. \\n7-1-4-1-1-1. If the opponent has 0 Life at the point when it is determined that \\ndamage will be dealt, the attacking player wins the game. \\n7-1-4-1-1-2. If the opponent has 1 or more Life at the point when it is determined \\nthat damage will be dealt, the opponent adds the card at the top of \\ntheir Life cards to their hand. At this time, if a card with [Trigger] is \\nadded to the opponent’s hand from their Life area, the opponent may \\nchoose to reveal the card and activate its [Trigger] instead of adding \\nit to their hand (see 10-1-5.). \\n7-1-4-1-1-3. If the damage taken is 2 or more due to an effect such as [Double \\nAttack], repeat 7-1-4-1-1-2. a number of times equal to the amount \\nof damage.  \\n7-1-4-1-2. If a Character card : That Character card is K.O.’d (see 10-2-1.). Then, \\nproceed to End of the Battle (see 7-1-5.). \\n7-1-4-2. If the power of the attacking card is less than the power of the card being \\nattacked, the attacking card will lose the battle, and nothing will happen during\\n\\n7. Card Attacks and Battles  \\n7-1. During the Main Phase, the turn player can rest an active Leader card in their Leader \\narea, or an active Character card in their Character area, to attack an opponent’s Leader \\ncard in their Leader area, or rested Character card in their Character area. When an \\nattack is made, the game proceeds to Battle (see 6-5-6.) and is processed in order from \\nthe Attack Step (see 7-1-1.) to the Damage Step (see 7-1-4.). \\n7-1-1. Attack Step \\n7-1-1-1. Attacks are carried out by the Leader card, or a Character card in the \\nCharacter area. First,  the turn player  declares their attack by resting their  \\nactive Leader card or 1 active Character card. \\n7-1-1-2. The turn player then selects the target of their attack. The target can be either \\nthe opponent’s Leader card or 1 of their rested Character cards in their \\nCharacter area. \\n7-1-1-3. Effects that read [When Attacking] , “when you attack ”, or [On Your \\nOpponent's Attack] activate. \\n7-1-1-4. If, at the end of the Attack Step, the attacking card or the target card for the \\nattack has moved areas due to some method, proceed not to the Block Step \\n(see 7-1-2.), but to the End of the Battle (see 7-1-5.). \\n7-1-2. Block Step \\n7-1-2-1. The player being attacked can activate the [Blocker] effect of their card only \\nonce during that battle. \\n7-1-2-2. When a [Blocker] is activated, effects that read [On Block] or “when you block” \\nactivate.\\n\\nIf time expires during extra turns and the active player has a card attacking, complete the attack\\n\\n(see 7-1-3.), but to the End of the Battle (see 7-1-5.). \\n7-1-3. Counter Step \\n7-1-3-1. Effects of the player being attacked that read “when attacked” activate. \\n7-1-3-2. The player being attacked may perform the following actions in any order and \\nas many times as they wish: \\n7-1-3-2-1. Activate [(Symbol) Counter ]: The player being attacked may trash a \\nCharacter card with  [(Symbol) Counter] from their hand to activate an \\neffect that increases the power of their Leader or 1 Character card by the \\nvalue of the [(Symbol) Counter] during that battle. \\n7-1-3-2-2. Activate an Event card: The player being attacked may pay the cost of an \\nEvent card with [Counter] in their hand, and then trash it to activate the \\n[Counter] effect. \\n7-1-2-3. If, at the end of the Counter Step, the attacking card or the target card for \\nthe attack has moved areas due to some method, proceed not to the Damage \\nStep (see 7-1-4.), but to the End of the Battle (see 7-1-5.).  \\n7-1-4. Damage Step \\n7-1-4-1. Compare the power of the attacking card and the card being attacked. If the \\npower of the attacking card is greater than or equal to the power of the card \\nbeing attacked, the battle is won, and the result is either 7-1-4-1-1. or 7-1-4-\\n1-2., depending on the category of the card being attacked. \\n7-1-4-1-1. If a Leader card: 1 damage is dealt to that Leader. \\n7-1-4-1-1-1. If the opponent has 0 Life at the point when it is determined that \\ndamage will be dealt, the attacking player wins the game.\", name='rulebooks_retriever', id='a36ed9ad-fb46-47b1-bba5-81833ff1a1fd', tool_call_id='call_EuiK87k5hgH9x7VWOzVSSnds'),\n",
       "  AIMessage(content=\"Here is the rule for attacking with a creature (Character card) in the One Piece TCG:\\n\\n- During your Main Phase, you may rest (turn sideways) an active Leader or Character card to attack your opponent's Leader or one of their rested Character cards.\\n- To attack, declare your attack by resting your active Leader or Character card, then select the target (opponent's Leader or a rested Character).\\n- The attack proceeds through several steps: Attack Step, Block Step, Counter Step, and Damage Step.\\n- In the Block Step, the defending player may activate a [Blocker] effect once per battle.\\n- In the Counter Step, the defending player may use cards with Counter or Event cards with [Counter] to increase their power.\\n- In the Damage Step, compare the power of the attacking card and the card being attacked:\\n    - If the attacker's power is greater than or equal to the defender's, the attacker wins the battle.\\n        - If the target is a Leader, they take 1 damage (lose 1 Life). If they have 0 Life, they lose the game.\\n        - If the target is a Character, that Character is K.O.'d (removed from the field).\\n    - If the attacker's power is less, nothing happens.\\n\\nLet me know if you need more details about any step!\", additional_kwargs={'refusal': None}, response_metadata={'token_usage': {'completion_tokens': 273, 'prompt_tokens': 1467, 'total_tokens': 1740, 'completion_tokens_details': {'accepted_prediction_tokens': 0, 'audio_tokens': 0, 'reasoning_tokens': 0, 'rejected_prediction_tokens': 0}, 'prompt_tokens_details': {'audio_tokens': 0, 'cached_tokens': 1408}}, 'model_name': 'gpt-4.1-2025-04-14', 'system_fingerprint': 'fp_51e1070cf2', 'id': 'chatcmpl-BmTcA1iU9iDYTbc3PMsT8EKZnpjYm', 'service_tier': 'default', 'finish_reason': 'stop', 'logprobs': None}, name='BaseAgent', id='run--a0949b55-dbba-40c7-9603-dd4c71b0085b-0', usage_metadata={'input_tokens': 1467, 'output_tokens': 273, 'total_tokens': 1740, 'input_token_details': {'audio': 0, 'cache_read': 1408}, 'output_token_details': {'audio': 0, 'reasoning': 0}})]}"
      ]
     },
     "execution_count": 2,
     "metadata": {},
     "output_type": "execute_result"
    }
   ],
   "source": [
    "from optcg.agents import RulebookAgent\n",
    "\n",
    "agent = RulebookAgent()\n",
    "agent.chat(\"What is the rule for attacking with a creature?\", verbose=True)"
   ]
  },
  {
   "cell_type": "code",
   "execution_count": 8,
   "id": "a588a58d",
   "metadata": {},
   "outputs": [
    {
     "data": {
      "text/plain": [
       "{'messages': [HumanMessage(content='What are the rules for the game of chess?', additional_kwargs={}, response_metadata={}, id='2096d8ff-c78f-49b3-8a85-1a184488cded'),\n",
       "  AIMessage(content='I’m sorry, but I can only provide information about the rules for the One Piece TCG (Trading Card Game). If you have any questions about the One Piece TCG, feel free to ask!', additional_kwargs={'refusal': None}, response_metadata={'token_usage': {'completion_tokens': 42, 'prompt_tokens': 226, 'total_tokens': 268, 'completion_tokens_details': {'accepted_prediction_tokens': 0, 'audio_tokens': 0, 'reasoning_tokens': 0, 'rejected_prediction_tokens': 0}, 'prompt_tokens_details': {'audio_tokens': 0, 'cached_tokens': 0}}, 'model_name': 'gpt-4.1-2025-04-14', 'system_fingerprint': 'fp_51e1070cf2', 'id': 'chatcmpl-BmSb6cUKTQUZypBm2F8exv0Dvx5kr', 'service_tier': 'default', 'finish_reason': 'stop', 'logprobs': None}, name='BaseAgent', id='run--aafcbcd6-3e7e-4128-84af-309f981022f5-0', usage_metadata={'input_tokens': 226, 'output_tokens': 42, 'total_tokens': 268, 'input_token_details': {'audio': 0, 'cache_read': 0}, 'output_token_details': {'audio': 0, 'reasoning': 0}})]}"
      ]
     },
     "execution_count": 8,
     "metadata": {},
     "output_type": "execute_result"
    }
   ],
   "source": [
    "message = \"What are the rules for the game of chess?\"\n",
    "thread_id = \"optcg-rulebook-agent\"\n",
    "agent.invoke(\n",
    "            {\"messages\": [{\"role\": \"user\", \"content\": message}]},\n",
    "            config={\"configurable\": {\"thread_id\": thread_id}}\n",
    "        )"
   ]
  },
  {
   "cell_type": "code",
   "execution_count": 3,
   "id": "e1a53833",
   "metadata": {},
   "outputs": [
    {
     "name": "stdout",
     "output_type": "stream",
     "text": [
      "Loading existing vector store...\n"
     ]
    },
    {
     "data": {
      "image/png": "[encoded data removed]",
      "text/plain": [
       "<IPython.core.display.Image object>"
      ]
     },
     "execution_count": 3,
     "metadata": {},
     "output_type": "execute_result"
    }
   ],
   "source": [
    "agent = RulebookAgent()\n",
    "agent.display_graph()"
   ]
  },
  {
   "cell_type": "code",
   "execution_count": 9,
   "id": "722bb224",
   "metadata": {},
   "outputs": [
    {
     "data": {
      "text/plain": [
       "{'messages': [HumanMessage(content='What about the power of a card?', additional_kwargs={}, response_metadata={}, id='5988d8a2-b41f-4ac4-b47a-00d24ef3ae68'),\n",
       "  AIMessage(content='', additional_kwargs={'tool_calls': [{'id': 'call_cJelvyzpjTg7PlN622pkA3in', 'function': {'arguments': '{\"query\":\"power of a card\"}', 'name': 'rulebooks_retriever'}, 'type': 'function'}], 'refusal': None}, response_metadata={'token_usage': {'completion_tokens': 20, 'prompt_tokens': 224, 'total_tokens': 244, 'completion_tokens_details': {'accepted_prediction_tokens': 0, 'audio_tokens': 0, 'reasoning_tokens': 0, 'rejected_prediction_tokens': 0}, 'prompt_tokens_details': {'audio_tokens': 0, 'cached_tokens': 0}}, 'model_name': 'gpt-4.1-2025-04-14', 'system_fingerprint': 'fp_51e1070cf2', 'id': 'chatcmpl-BljrbB5BUGvb5MbqM2G33d49nxFLo', 'service_tier': 'default', 'finish_reason': 'tool_calls', 'logprobs': None}, name='BaseAgent', id='run--32355e21-a108-456e-a9e0-8022720d33eb-0', tool_calls=[{'name': 'rulebooks_retriever', 'args': {'query': 'power of a card'}, 'id': 'call_cJelvyzpjTg7PlN622pkA3in', 'type': 'tool_call'}], usage_metadata={'input_tokens': 224, 'output_tokens': 20, 'total_tokens': 244, 'input_token_details': {'audio': 0, 'cache_read': 0}, 'output_token_details': {'audio': 0, 'reasoning': 0}}),\n",
       "  ToolMessage(content='for any reason, that action is not carried out. A request to perform a certain \\naction negative times does not imply performing its opposite action. \\n1-3-3. If a card ’s effect requires a player to carry out an action while a currently active \\neffect prohibits that action, the prohibiting effect always takes precedence. \\n1-3-4. If both players are required to make choice s simultaneously for any reason, the \\nplayer whose turn it is  makes the choice s first. After that player has made their \\nchoices, the other player makes their choices. \\n1-3-5. If a card or rule requires a player to choose a number, unless otherwise specified, \\nthe player must choose a whole number of 0 or greater. Players cannot choose \\nnumbers containing fractions less than 1, or negative numbers. \\n1-3-5-1. If a card or rule specifies a maximum value for a number, such as “up to ...”, \\nas long as no minimum number is specified, the player can choose 0. \\n1-3-6. If a card effect changes information on a card, unless otherwise specified or defined \\nby the rules, numbers on a card cannot contain fractions less than 1. If non-power \\nnumbers would become negative, they are treated as 0, except in cases where the \\ninformation is added to or subtracted from. \\n1-3-7. Power can become a negative value. \\n1-3-7-1. Even if a card’s power becomes a negative value, unless otherwise specified,\\n\\n2-5-3. Some cards have multiple attributes, such as Slash and Strike, or Ranged and \\nSpecial. \\n2-5-4. If a card has multiple attributes, such as Slash and Strike, it is treated as a card \\nwith all the attributes it possesses. \\n2-5-5. Only Leader cards and Character cards have attributes. \\n2-5-6. Some text will include text in < > brackets. This refers to cards with the attribute \\nspecified in the < > brackets. \\n2-5-7. As an exception, some cards get attributes from their text. Treat these cards as if \\nthey have this attribute by default, including during deck construction and when \\nin secret areas. \\n2-6. Power \\n2-6-1. This specifies the card’s strength in battles. (See 7. Card Attacks and Battles) \\n2-6-2. Only Leader cards and Character cards have power. \\n2-6-3. An effect may make a power value greater or less than the written value. \\n2-7. Cost \\n2-7-1. This specifies the cost needed to play the card from your hand. (See 6-5-3-1.) \\n2-7-2. When playing a Character card from your hand, you should first reveal the card \\nyou wish to play, select a number of active DON!! cards in your cost area equal to \\nthe card’s cost, rest those DON!! cards, and then play the revealed card. \\n2-7-3. When activating an Event card from your hand, you should first reveal the card \\nyou wish to activate, select a number of active DON!! cards in your cost area equal \\nto the card’s cost, rest those DON!! cards, and then trash the revealed card to \\nactivate it.\\n\\n3 \\n \\nthat card will not be trashed or otherwise moved to an area. \\n1-3-8. Unless otherwise specified, card effects are  carried out in the order described on \\nthe card. \\n1-3-9. If card effects require a player to rest a card and set it as active simultaneously, the \\neffect requiring the player to rest the card always takes precedence. \\n1-3-10. Cost and Activation Cost \\n1-3-10-1. Cost refers to a payment that must be made to play a card. A card’s cost is \\nthe number written in its upper left corner. (See 6-5-3-1.) \\n1-3-10-2. Activation cost refers to a payment required to activate a card’s effect. (See \\n8-3.) \\n1-3-11. If both players are instructed to perform some action at the same time according \\nto a card ’s effect, the turn player is to perform the action first, followed by the \\nnon-turn player.\\n\\n2-3-4. Some cards have multiple colors, such as red and blue, or green and purple. \\n2-3-5. Cards with multiple colors, such as red and green,  are treated as a card of every \\ncolor they possess. \\n2-3-6. Cards with multiple colors are sometimes referred to as “multicolor” in card text. \\n2-4. Type \\n2-4-1. This specifies the card’s types. It may be referenced in card text. \\n2-4-2. Some cards may have multiple types. Where a card has multiple types, each type \\nwill be separated by a slash (/). \\n2-4-3. Some text will include text in {  } brackets. This refers to cards with the type \\nspecified in the { } brackets. \\n2-4-3-1. Some text will include part of a type in \" \" quotation marks. This text refers to \\ncards with a type containing the text in the quotation marks. \\n2-4-4. As an exception, some cards get types from their text. Treat these cards as if they \\nhave this type by default, including during deck construction and when in secret \\nareas. \\n2-5. Attribute \\n2-5-1. This specifies the card’s attribute. It may be referenced in card text. \\n2-5-2. There are five attributes: Slash, Strike, Ranged, Special, and Wisdom.', name='rulebooks_retriever', id='57fbc377-fd4d-43c4-9dff-fdebed320040', tool_call_id='call_cJelvyzpjTg7PlN622pkA3in'),\n",
       "  AIMessage(content='Here is what the rulebook says about the power of a card in the One Piece TCG:\\n\\n- Power specifies a card’s strength in battles.\\n- Only Leader cards and Character cards have power.\\n- An effect may make a power value greater or less than the written value.\\n- Power can become a negative value. Even if a card’s power becomes negative, unless otherwise specified, that card will not be trashed or otherwise moved to an area.\\n\\nSo, power is a key stat for Leaders and Characters, used to determine the outcome of battles. Effects can modify this value, and it can even go below zero. If you need more details about how power is used in battles, let me know!', additional_kwargs={'refusal': None}, response_metadata={'token_usage': {'completion_tokens': 143, 'prompt_tokens': 1492, 'total_tokens': 1635, 'completion_tokens_details': {'accepted_prediction_tokens': 0, 'audio_tokens': 0, 'reasoning_tokens': 0, 'rejected_prediction_tokens': 0}, 'prompt_tokens_details': {'audio_tokens': 0, 'cached_tokens': 1408}}, 'model_name': 'gpt-4.1-2025-04-14', 'system_fingerprint': 'fp_51e1070cf2', 'id': 'chatcmpl-BljrdrwBZWq7jR1RG8dSt8ZNdxMbK', 'service_tier': 'default', 'finish_reason': 'stop', 'logprobs': None}, name='BaseAgent', id='run--db76715f-83ed-4005-8834-6a508063d94e-0', usage_metadata={'input_tokens': 1492, 'output_tokens': 143, 'total_tokens': 1635, 'input_token_details': {'audio': 0, 'cache_read': 1408}, 'output_token_details': {'audio': 0, 'reasoning': 0}})]}"
      ]
     },
     "execution_count": 9,
     "metadata": {},
     "output_type": "execute_result"
    }
   ],
   "source": [
    "# Default thread_id = None, i.e. no short-term memory\n",
    "# To use short-term memory, you can specify a thread_id\n",
    "result = agent.chat(\"What about the power of a card?\")\n",
    "result"
   ]
  },
  {
   "cell_type": "code",
   "execution_count": null,
   "id": "4c7cca7a",
   "metadata": {},
   "outputs": [],
   "source": []
  },
  {
   "cell_type": "code",
   "execution_count": 5,
   "id": "43d5fc20",
   "metadata": {},
   "outputs": [
    {
     "data": {
      "text/plain": [
       "'Here is what the rulebook says about the power of a card in the One Piece TCG:\\n\\n- Power specifies the card’s strength in battles.\\n- Only Leader cards and Character cards have power.\\n- An effect may make a power value greater or less than the written value.\\n- Power can become a negative value. Even if a card’s power becomes negative, unless otherwise specified, that card will not be trashed or otherwise moved to an area.\\n\\nSo, power is a key stat for Leaders and Characters, used to determine outcomes in battles. Effects can modify power, and it can even go below zero, but this does not automatically remove the card from play. If you want more details about how power is used in battles, let me know!'"
      ]
     },
     "execution_count": 5,
     "metadata": {},
     "output_type": "execute_result"
    }
   ],
   "source": [
    "result[\"messages\"][-1].content"
   ]
  }
 ],
 "metadata": {
  "kernelspec": {
   "display_name": ".venv",
   "language": "python",
   "name": "python3"
  },
  "language_info": {
   "codemirror_mode": {
    "name": "ipython",
    "version": 3
   },
   "file_extension": ".py",
   "mimetype": "text/x-python",
   "name": "python",
   "nbconvert_exporter": "python",
   "pygments_lexer": "ipython3",
   "version": "3.13.5"
  }
 },
 "nbformat": 4,
 "nbformat_minor": 5
}
