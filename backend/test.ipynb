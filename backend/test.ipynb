{
 "cells": [
  {
   "cell_type": "code",
   "execution_count": 1,
   "id": "e4a064d3",
   "metadata": {},
   "outputs": [],
   "source": [
    "import os\n",
    "from dotenv import load_dotenv\n",
    "from IPython.display import display, Image\n",
    "\n",
    "from langchain_openai import ChatOpenAI\n",
    "from langgraph.prebuilt import create_react_agent\n",
    "from langchain_core.tools import tool\n",
    "from langchain_core.tools.retriever import create_retriever_tool\n",
    "from langgraph.checkpoint.memory import InMemorySaver\n",
    "\n",
    "from typing import List\n",
    "import logging\n",
    "from langchain_community.tools import BraveSearch\n",
    "from langchain_tavily import TavilyExtract\n",
    "import json\n",
    "\n",
    "# For QA-Retriever\n",
    "from langchain_core.prompts import PromptTemplate\n",
    "from langchain.chains.combine_documents import create_stuff_documents_chain\n",
    "from langchain.chains import create_retrieval_chain\n",
    "\n",
    "# Custom Import\n",
    "from optcg.vectorstore_logic import check_for_updates_to_rules, create_or_load_vectorstore_optcg_rulebooks\n",
    "from optcg.tools import web_search_tool, youtube_search_tool, create_rulebook_retriever_tool\n",
    "from optcg.agents import RulebookAgent, ToollessAgent_4_1, ToollessAgent_o4_mini, SearchAgent_web_youtube, SearchAgent_web, SearchAgent_youtube, SearchAgent_web_youtube_rulebook, SearchAgent_web_rulebook, SearchAgent_youtube_rulebook\n",
    "\n",
    "\n",
    "from langsmith import traceable\n",
    "from langsmith.wrappers import wrap_openai\n",
    "from openai import OpenAI\n",
    "#openai_client = wrap_openai(OpenAI())\n",
    "\n",
    "_ = load_dotenv() # Loads the .env file - e.g. the OPENAI_API_KEY\n",
    "\n",
    "logging.basicConfig(level=logging.INFO, format=\"%(asctime)s - %(levelname)s - %(message)s\")\n"
   ]
  },
  {
   "cell_type": "code",
   "execution_count": 2,
   "id": "895f9b44",
   "metadata": {},
   "outputs": [
    {
     "name": "stderr",
     "output_type": "stream",
     "text": [
      "2025-07-03 09:37:59,564 - INFO - Anonymized telemetry enabled. See                     https://docs.trychroma.com/telemetry for more information.\n"
     ]
    },
    {
     "name": "stdout",
     "output_type": "stream",
     "text": [
      "Loading existing vector store...\n"
     ]
    },
    {
     "name": "stderr",
     "output_type": "stream",
     "text": [
      "2025-07-03 09:38:02,847 - INFO - HTTP Request: POST https://api.openai.com/v1/chat/completions \"HTTP/1.1 200 OK\"\n",
      "2025-07-03 09:38:03,548 - INFO - HTTP Request: POST https://api.openai.com/v1/embeddings \"HTTP/1.1 200 OK\"\n",
      "2025-07-03 09:38:07,416 - INFO - HTTP Request: POST https://api.openai.com/v1/chat/completions \"HTTP/1.1 200 OK\"\n"
     ]
    },
    {
     "data": {
      "text/plain": [
       "{'messages': [HumanMessage(content='what is private information?', additional_kwargs={}, response_metadata={}, id='b8f06912-0d7c-43f5-b629-9e3c9a6b9740'),\n",
       "  AIMessage(content='', additional_kwargs={'tool_calls': [{'id': 'call_CBMU3Jl5wqowTkZgkyjvrq9C', 'function': {'arguments': '{\"query\":\"private information\"}', 'name': 'rulebooks_retriever'}, 'type': 'function'}], 'refusal': None}, response_metadata={'token_usage': {'completion_tokens': 18, 'prompt_tokens': 263, 'total_tokens': 281, 'completion_tokens_details': {'accepted_prediction_tokens': 0, 'audio_tokens': 0, 'reasoning_tokens': 0, 'rejected_prediction_tokens': 0}, 'prompt_tokens_details': {'audio_tokens': 0, 'cached_tokens': 0}}, 'model_name': 'gpt-4.1-2025-04-14', 'system_fingerprint': 'fp_b3f1157249', 'id': 'chatcmpl-BpFMYNu3p80RcQZrmH6zhf8Y4wrsk', 'service_tier': 'default', 'finish_reason': 'tool_calls', 'logprobs': None}, name='SearchAgent_web_youtube_rulebook', id='run--e4c1d2c3-f922-4cbc-83a3-72e417d49ed2-0', tool_calls=[{'name': 'rulebooks_retriever', 'args': {'query': 'private information'}, 'id': 'call_CBMU3Jl5wqowTkZgkyjvrq9C', 'type': 'tool_call'}], usage_metadata={'input_tokens': 263, 'output_tokens': 18, 'total_tokens': 281, 'input_token_details': {'audio': 0, 'cache_read': 0}, 'output_token_details': {'audio': 0, 'reasoning': 0}}),\n",
       "  ToolMessage(content='opponent should receive a Warning. \\n• Irreparable game states should not result in restarting a game or match. \\n• If a player has damaged the game state due to an illegal action or missed auto, and \\ngameplay can be rewound to the point of that illegal action, it will be rewound even if the \\nopponent would gain an advantage from information that was previously Private \\nKnowledge. \\n4.11 Public Knowledge \\nThe following information is considered to be public knowledge, unless a card effect states \\notherwise: \\n• The number of cards in a player’s hand; \\n• The number of cards in a player’s deck (this includes main and DON!! deck); \\n• The number and names of cards in a player’s trash area; \\n• The number of Life cards remaining; \\n• Information printed on a specific card mentioned by name or otherwise clearly described; \\n• Which cards have been played during the current turn. \\nPlayers must answer questions involving the above topics truthfully. Players may not refuse to \\nanswer questions about information that is public. Lying about or refusing to answer questions \\nabout public knowledge may result in disqualification. \\n4.12 Private Knowledge \\nThe following information is considered private information, unless a card effect states otherwise: \\n• The cards in the main deck; \\n• What cards are in the Life area; \\n• Which cards are in a player’s hand; \\n• Which cards are in an opponent’s hand; \\n• Which cards were played or activated during the previous turn, unless there is an active\\n\\n• Some severe infractions may also be explained in private to the person committing the \\ninfraction. \\n• Not every situation that occurs is appropriate for public knowledge. A judge’s decision to \\naddress a situation in private must be respected by other players, spectators, uninvolved \\njudges and tournament officials. \\n• The Head Judge’s decision is final.\\n\\n18  \\nPlayer deck lists may be published by the Tournament Organizer at any time once the event has \\nbegun, provided that this information is publicly accessible, that all player data is published at the \\nsame time, and that publication of this data provides additional value to those attending or watching \\nthe event. Otherwise, this information should be kept confidential throughout the duration of the \\ntournament. \\nTournament Organizers must provide deck lists to the Bandai global organized play team as part of \\ntheir event reporting. \\nBandai reserves the right to publish tournament information, including but not limited to deck lists, \\nplayer reports, transcripts, audio and / or video recordings, awards, penalties or any other \\ninformation related to the tournament. \\nAttending a Bandai organized play event may lead to an attendee’s image and likeness being \\nphotographed or recorded by or on behalf of Bandai. By entering or remaining at Bandai organized \\nplay events, attendees grant Bandai, its premier tournament organizers, and approved media bodies \\nto publish their name, image, likeness, deck list, methods of play, and written or oral statements in \\nconnection with any still photograph, live or recorded video display, or other transmission or \\nreproduction of the event, in whole or in any part. \\n3.8 Stream Broadcasts of Match Play \\nWhile attending Bandai organized play events, players may be instructed to play a feature match\\n\\n23  \\nPlayers may not answer questions about any game state information considered private knowledge. \\nGiving false or misleading information about private knowledge, or intentionally revealing \\ninformation considered private knowledge, may result in a disqualification penalty. \\n4.13 Life Area / Hand / Deck Verification \\nWith the exception of areas targeted by a search effect, you may not search any of your opponent’s \\nprivate knowledge areas, such as hand, deck, or life area, unless you are directed to do so by a card \\neffect. \\nJudges may not be asked to search or verify your opponent’s hand, deck or life area unless there is \\nevidence your opponent may be cheating or that there may be a valid deck-related issue. \\n4.14 Appeals \\nPlayers have the right to appeal rulings to the Head Judge of the tournament if they disagree with a \\nfloor judge’s ruling. \\nPlayers may not appeal a floor judge’s ruling until after the floor judge has issued the ruling. \\nPlayers must respectfully inform the floor judge that they wish to appeal the ruling issued. If you \\naccept the floor judge’s ruling, you cannot ask to appeal that ruling later. \\nThe Head Judge’s ruling is final, and cannot be appealed. \\n4.15 Conceding a Game or Match \\nPlayers may concede a game or match at any time up until the point that the game or match has \\nconcluded. Once a game or match has concluded, you may not concede or ‘give the win’ to an', name='rulebooks_retriever', id='30bf7d74-4e40-45e3-a672-44b724ce87e6', tool_call_id='call_CBMU3Jl5wqowTkZgkyjvrq9C'),\n",
       "  AIMessage(content='In the One Piece TCG, \"private information\" (also called \"private knowledge\") refers to certain aspects of the game state that are not openly available to both players. According to the official rulebook, private information includes:\\n\\n- The cards in the main deck.\\n- The cards in the Life area.\\n- Which cards are in a player’s hand.\\n- Which cards are in an opponent’s hand.\\n- Which cards were played or activated during the previous turn (unless there is an active effect that makes this public).\\n\\nPlayers are not allowed to answer questions about private information, give false or misleading information about it, or intentionally reveal it unless a card effect specifically allows it. Doing so may result in penalties, including disqualification.\\n\\nIn summary: Private information is anything about the game state that is not openly visible or trackable by both players, unless a card effect says otherwise.', additional_kwargs={'refusal': None}, response_metadata={'token_usage': {'completion_tokens': 178, 'prompt_tokens': 1281, 'total_tokens': 1459, 'completion_tokens_details': {'accepted_prediction_tokens': 0, 'audio_tokens': 0, 'reasoning_tokens': 0, 'rejected_prediction_tokens': 0}, 'prompt_tokens_details': {'audio_tokens': 0, 'cached_tokens': 0}}, 'model_name': 'gpt-4.1-2025-04-14', 'system_fingerprint': 'fp_b3f1157249', 'id': 'chatcmpl-BpFMaaVTvnhPzTfi1KiygGDKDpl15', 'service_tier': 'default', 'finish_reason': 'stop', 'logprobs': None}, name='SearchAgent_web_youtube_rulebook', id='run--f1cbdf04-c508-45a7-878b-c6b5f659d495-0', usage_metadata={'input_tokens': 1281, 'output_tokens': 178, 'total_tokens': 1459, 'input_token_details': {'audio': 0, 'cache_read': 0}, 'output_token_details': {'audio': 0, 'reasoning': 0}})]}"
      ]
     },
     "execution_count": 2,
     "metadata": {},
     "output_type": "execute_result"
    }
   ],
   "source": [
    "agent = SearchAgent_web_youtube_rulebook()\n",
    "agent.chat(\"what is private information?\", verbose=True)"
   ]
  },
  {
   "cell_type": "code",
   "execution_count": null,
   "id": "8ca3c1f4",
   "metadata": {},
   "outputs": [],
   "source": []
  }
 ],
 "metadata": {
  "kernelspec": {
   "display_name": ".venv (3.13.5)",
   "language": "python",
   "name": "python3"
  },
  "language_info": {
   "codemirror_mode": {
    "name": "ipython",
    "version": 3
   },
   "file_extension": ".py",
   "mimetype": "text/x-python",
   "name": "python",
   "nbconvert_exporter": "python",
   "pygments_lexer": "ipython3",
   "version": "3.13.5"
  }
 },
 "nbformat": 4,
 "nbformat_minor": 5
}
