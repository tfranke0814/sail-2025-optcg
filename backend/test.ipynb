{
 "cells": [
  {
   "cell_type": "code",
   "execution_count": 3,
   "id": "e4a064d3",
   "metadata": {},
   "outputs": [],
   "source": [
    "import os\n",
    "from dotenv import load_dotenv\n",
    "from IPython.display import display, Image\n",
    "\n",
    "from langchain_openai import ChatOpenAI\n",
    "from langgraph.prebuilt import create_react_agent\n",
    "from langchain_core.tools import tool\n",
    "from langchain_core.tools.retriever import create_retriever_tool\n",
    "from langgraph.checkpoint.memory import InMemorySaver\n",
    "\n",
    "from typing import List\n",
    "import logging\n",
    "from langchain_community.tools import BraveSearch\n",
    "from langchain_tavily import TavilyExtract\n",
    "import json\n",
    "\n",
    "# For QA-Retriever\n",
    "from langchain_core.prompts import PromptTemplate\n",
    "from langchain.chains.combine_documents import create_stuff_documents_chain\n",
    "from langchain.chains import create_retrieval_chain\n",
    "\n",
    "# Custom Import\n",
    "from optcg.vectorstore_logic import check_for_updates_to_rules, create_or_load_vectorstore_optcg_rulebooks\n",
    "from optcg.tools import web_search_tool, youtube_search_tool, create_rulebook_retriever_tool, card_search_tool\n",
    "from optcg.agents import BaseAgent, RulebookAgent, ToollessAgent_4_1, ToollessAgent_o4_mini, SearchAgent_web_youtube, SearchAgent_web, SearchAgent_youtube, SearchAgent_web_youtube_rulebook, SearchAgent_web_rulebook, SearchAgent_youtube_rulebook\n",
    "\n",
    "\n",
    "from langsmith import traceable\n",
    "from langsmith.wrappers import wrap_openai\n",
    "from openai import OpenAI\n",
    "#openai_client = wrap_openai(OpenAI())\n",
    "\n",
    "_ = load_dotenv() # Loads the .env file - e.g. the OPENAI_API_KEY\n",
    "\n",
    "logging.basicConfig(level=logging.DEBUG, format=\"%(asctime)s - %(levelname)s - %(message)s\")\n"
   ]
  },
  {
   "cell_type": "code",
   "execution_count": 2,
   "id": "895f9b44",
   "metadata": {},
   "outputs": [
    {
     "name": "stderr",
     "output_type": "stream",
     "text": [
      "2025-07-03 09:37:59,564 - INFO - Anonymized telemetry enabled. See                     https://docs.trychroma.com/telemetry for more information.\n"
     ]
    },
    {
     "name": "stdout",
     "output_type": "stream",
     "text": [
      "Loading existing vector store...\n"
     ]
    },
    {
     "name": "stderr",
     "output_type": "stream",
     "text": [
      "2025-07-03 09:38:02,847 - INFO - HTTP Request: POST https://api.openai.com/v1/chat/completions \"HTTP/1.1 200 OK\"\n",
      "2025-07-03 09:38:03,548 - INFO - HTTP Request: POST https://api.openai.com/v1/embeddings \"HTTP/1.1 200 OK\"\n",
      "2025-07-03 09:38:07,416 - INFO - HTTP Request: POST https://api.openai.com/v1/chat/completions \"HTTP/1.1 200 OK\"\n"
     ]
    },
    {
     "data": {
      "text/plain": [
       "{'messages': [HumanMessage(content='what is private information?', additional_kwargs={}, response_metadata={}, id='b8f06912-0d7c-43f5-b629-9e3c9a6b9740'),\n",
       "  AIMessage(content='', additional_kwargs={'tool_calls': [{'id': 'call_CBMU3Jl5wqowTkZgkyjvrq9C', 'function': {'arguments': '{\"query\":\"private information\"}', 'name': 'rulebooks_retriever'}, 'type': 'function'}], 'refusal': None}, response_metadata={'token_usage': {'completion_tokens': 18, 'prompt_tokens': 263, 'total_tokens': 281, 'completion_tokens_details': {'accepted_prediction_tokens': 0, 'audio_tokens': 0, 'reasoning_tokens': 0, 'rejected_prediction_tokens': 0}, 'prompt_tokens_details': {'audio_tokens': 0, 'cached_tokens': 0}}, 'model_name': 'gpt-4.1-2025-04-14', 'system_fingerprint': 'fp_b3f1157249', 'id': 'chatcmpl-BpFMYNu3p80RcQZrmH6zhf8Y4wrsk', 'service_tier': 'default', 'finish_reason': 'tool_calls', 'logprobs': None}, name='SearchAgent_web_youtube_rulebook', id='run--e4c1d2c3-f922-4cbc-83a3-72e417d49ed2-0', tool_calls=[{'name': 'rulebooks_retriever', 'args': {'query': 'private information'}, 'id': 'call_CBMU3Jl5wqowTkZgkyjvrq9C', 'type': 'tool_call'}], usage_metadata={'input_tokens': 263, 'output_tokens': 18, 'total_tokens': 281, 'input_token_details': {'audio': 0, 'cache_read': 0}, 'output_token_details': {'audio': 0, 'reasoning': 0}}),\n",
       "  ToolMessage(content='opponent should receive a Warning. \\n• Irreparable game states should not result in restarting a game or match. \\n• If a player has damaged the game state due to an illegal action or missed auto, and \\ngameplay can be rewound to the point of that illegal action, it will be rewound even if the \\nopponent would gain an advantage from information that was previously Private \\nKnowledge. \\n4.11 Public Knowledge \\nThe following information is considered to be public knowledge, unless a card effect states \\notherwise: \\n• The number of cards in a player’s hand; \\n• The number of cards in a player’s deck (this includes main and DON!! deck); \\n• The number and names of cards in a player’s trash area; \\n• The number of Life cards remaining; \\n• Information printed on a specific card mentioned by name or otherwise clearly described; \\n• Which cards have been played during the current turn. \\nPlayers must answer questions involving the above topics truthfully. Players may not refuse to \\nanswer questions about information that is public. Lying about or refusing to answer questions \\nabout public knowledge may result in disqualification. \\n4.12 Private Knowledge \\nThe following information is considered private information, unless a card effect states otherwise: \\n• The cards in the main deck; \\n• What cards are in the Life area; \\n• Which cards are in a player’s hand; \\n• Which cards are in an opponent’s hand; \\n• Which cards were played or activated during the previous turn, unless there is an active\\n\\n• Some severe infractions may also be explained in private to the person committing the \\ninfraction. \\n• Not every situation that occurs is appropriate for public knowledge. A judge’s decision to \\naddress a situation in private must be respected by other players, spectators, uninvolved \\njudges and tournament officials. \\n• The Head Judge’s decision is final.\\n\\n18  \\nPlayer deck lists may be published by the Tournament Organizer at any time once the event has \\nbegun, provided that this information is publicly accessible, that all player data is published at the \\nsame time, and that publication of this data provides additional value to those attending or watching \\nthe event. Otherwise, this information should be kept confidential throughout the duration of the \\ntournament. \\nTournament Organizers must provide deck lists to the Bandai global organized play team as part of \\ntheir event reporting. \\nBandai reserves the right to publish tournament information, including but not limited to deck lists, \\nplayer reports, transcripts, audio and / or video recordings, awards, penalties or any other \\ninformation related to the tournament. \\nAttending a Bandai organized play event may lead to an attendee’s image and likeness being \\nphotographed or recorded by or on behalf of Bandai. By entering or remaining at Bandai organized \\nplay events, attendees grant Bandai, its premier tournament organizers, and approved media bodies \\nto publish their name, image, likeness, deck list, methods of play, and written or oral statements in \\nconnection with any still photograph, live or recorded video display, or other transmission or \\nreproduction of the event, in whole or in any part. \\n3.8 Stream Broadcasts of Match Play \\nWhile attending Bandai organized play events, players may be instructed to play a feature match\\n\\n23  \\nPlayers may not answer questions about any game state information considered private knowledge. \\nGiving false or misleading information about private knowledge, or intentionally revealing \\ninformation considered private knowledge, may result in a disqualification penalty. \\n4.13 Life Area / Hand / Deck Verification \\nWith the exception of areas targeted by a search effect, you may not search any of your opponent’s \\nprivate knowledge areas, such as hand, deck, or life area, unless you are directed to do so by a card \\neffect. \\nJudges may not be asked to search or verify your opponent’s hand, deck or life area unless there is \\nevidence your opponent may be cheating or that there may be a valid deck-related issue. \\n4.14 Appeals \\nPlayers have the right to appeal rulings to the Head Judge of the tournament if they disagree with a \\nfloor judge’s ruling. \\nPlayers may not appeal a floor judge’s ruling until after the floor judge has issued the ruling. \\nPlayers must respectfully inform the floor judge that they wish to appeal the ruling issued. If you \\naccept the floor judge’s ruling, you cannot ask to appeal that ruling later. \\nThe Head Judge’s ruling is final, and cannot be appealed. \\n4.15 Conceding a Game or Match \\nPlayers may concede a game or match at any time up until the point that the game or match has \\nconcluded. Once a game or match has concluded, you may not concede or ‘give the win’ to an', name='rulebooks_retriever', id='30bf7d74-4e40-45e3-a672-44b724ce87e6', tool_call_id='call_CBMU3Jl5wqowTkZgkyjvrq9C'),\n",
       "  AIMessage(content='In the One Piece TCG, \"private information\" (also called \"private knowledge\") refers to certain aspects of the game state that are not openly available to both players. According to the official rulebook, private information includes:\\n\\n- The cards in the main deck.\\n- The cards in the Life area.\\n- Which cards are in a player’s hand.\\n- Which cards are in an opponent’s hand.\\n- Which cards were played or activated during the previous turn (unless there is an active effect that makes this public).\\n\\nPlayers are not allowed to answer questions about private information, give false or misleading information about it, or intentionally reveal it unless a card effect specifically allows it. Doing so may result in penalties, including disqualification.\\n\\nIn summary: Private information is anything about the game state that is not openly visible or trackable by both players, unless a card effect says otherwise.', additional_kwargs={'refusal': None}, response_metadata={'token_usage': {'completion_tokens': 178, 'prompt_tokens': 1281, 'total_tokens': 1459, 'completion_tokens_details': {'accepted_prediction_tokens': 0, 'audio_tokens': 0, 'reasoning_tokens': 0, 'rejected_prediction_tokens': 0}, 'prompt_tokens_details': {'audio_tokens': 0, 'cached_tokens': 0}}, 'model_name': 'gpt-4.1-2025-04-14', 'system_fingerprint': 'fp_b3f1157249', 'id': 'chatcmpl-BpFMaaVTvnhPzTfi1KiygGDKDpl15', 'service_tier': 'default', 'finish_reason': 'stop', 'logprobs': None}, name='SearchAgent_web_youtube_rulebook', id='run--f1cbdf04-c508-45a7-878b-c6b5f659d495-0', usage_metadata={'input_tokens': 1281, 'output_tokens': 178, 'total_tokens': 1459, 'input_token_details': {'audio': 0, 'cache_read': 0}, 'output_token_details': {'audio': 0, 'reasoning': 0}})]}"
      ]
     },
     "execution_count": 2,
     "metadata": {},
     "output_type": "execute_result"
    }
   ],
   "source": [
    "agent = SearchAgent_web_youtube_rulebook()\n",
    "agent.chat(\"what is private information?\", verbose=True)"
   ]
  },
  {
   "cell_type": "code",
   "execution_count": 4,
   "id": "8ca3c1f4",
   "metadata": {},
   "outputs": [
    {
     "name": "stderr",
     "output_type": "stream",
     "text": [
      "2025-07-08 10:48:14,168 - INFO - HTTP Request: POST https://api.openai.com/v1/chat/completions \"HTTP/1.1 200 OK\"\n",
      "2025-07-08 10:48:23,571 - INFO - HTTP Request: POST https://api.openai.com/v1/chat/completions \"HTTP/1.1 200 OK\"\n"
     ]
    },
    {
     "data": {
      "text/plain": [
       "{'messages': [HumanMessage(content='What is a luffy card with power 2000?', additional_kwargs={}, response_metadata={}, id='f0634f71-2b2f-4773-9a26-2f5360ba79ef'),\n",
       "  AIMessage(content='', additional_kwargs={'tool_calls': [{'id': 'call_qql4dwe1156hSAxtHpxKVV0k', 'function': {'arguments': '{\"input\":{\"query\":\"Luffy\",\"power\":2000}}', 'name': 'card_search_tool'}, 'type': 'function'}], 'refusal': None}, response_metadata={'token_usage': {'completion_tokens': 23, 'prompt_tokens': 227, 'total_tokens': 250, 'completion_tokens_details': {'accepted_prediction_tokens': 0, 'audio_tokens': 0, 'reasoning_tokens': 0, 'rejected_prediction_tokens': 0}, 'prompt_tokens_details': {'audio_tokens': 0, 'cached_tokens': 0}}, 'model_name': 'gpt-4.1-2025-04-14', 'system_fingerprint': 'fp_51e1070cf2', 'id': 'chatcmpl-Br4qDTNS62PBFT25NEzWWTErLsRvw', 'service_tier': 'default', 'finish_reason': 'tool_calls', 'logprobs': None}, name='CardDBToolAgent', id='run--4c53ad13-a875-43d3-87f3-243e226e6315-0', tool_calls=[{'name': 'card_search_tool', 'args': {'input': {'query': 'Luffy', 'power': 2000}}, 'id': 'call_qql4dwe1156hSAxtHpxKVV0k', 'type': 'tool_call'}], usage_metadata={'input_tokens': 227, 'output_tokens': 23, 'total_tokens': 250, 'input_token_details': {'audio': 0, 'cache_read': 0}, 'output_token_details': {'audio': 0, 'reasoning': 0}}),\n",
       "  ToolMessage(content='[{\"id\": \"P-041_p2\", \"code\": \"P-041\", \"rarity\": \"P\", \"type\": \"CHARACTER\", \"name\": \"Monkey.D.Luffy\", \"images\": {\"small\": \"https://en.onepiece-cardgame.com/images/cardlist/card/P-041_p2.png?241220\", \"large\": \"https://en.onepiece-cardgame.com/images/cardlist/card/P-041_p2.png?241220\"}, \"cost\": 10, \"attribute\": {\"name\": \"Strike\", \"image\": \"https://en.onepiece-cardgame.com/images/cardlist/attribute/ico_type01.png\"}, \"power\": 12000, \"counter\": \"1000\", \"color\": \"Purple\", \"family\": \"The Four Emperors/Straw Hat Crew\", \"ability\": \"-\", \"trigger\": \"\", \"set\": {\"name\": \"-Purple Monkey.D.Luffy- [ST-18]\"}, \"notes\": []}, {\"id\": \"ST13-014\", \"code\": \"ST13-014\", \"rarity\": \"C\", \"type\": \"CHARACTER\", \"name\": \"Monkey.D.Luffy\", \"images\": {\"small\": \"https://en.onepiece-cardgame.com/images/cardlist/card/ST13-014.png?241220\", \"large\": \"https://en.onepiece-cardgame.com/images/cardlist/card/ST13-014.png?241220\"}, \"cost\": 2, \"attribute\": {\"name\": \"Strike\", \"image\": \"https://en.onepiece-cardgame.com/images/cardlist/attribute/ico_type01.png\"}, \"power\": 2000, \"counter\": \"1000\", \"color\": \"Yellow\", \"family\": \"Goa Kingdom\", \"ability\": \"[Activate: Main] You may trash this Character: Reveal 1 card from the top of your Life cards. If that card is a [Monkey.D.Luffy] with a cost of 5, you may play that card. If you do, up to 1 of your Leader gains +2000 power until the end of your opponent\\'s next turn.\", \"trigger\": \"\", \"set\": {\"name\": \"-The Three Brothers-[ST13]\"}, \"notes\": []}, {\"id\": \"ST13-014_p1\", \"code\": \"ST13-014\", \"rarity\": \"C\", \"type\": \"CHARACTER\", \"name\": \"Monkey.D.Luffy\", \"images\": {\"small\": \"https://en.onepiece-cardgame.com/images/cardlist/card/ST13-014_p1.png?241220\", \"large\": \"https://en.onepiece-cardgame.com/images/cardlist/card/ST13-014_p1.png?241220\"}, \"cost\": 2, \"attribute\": {\"name\": \"Strike\", \"image\": \"https://en.onepiece-cardgame.com/images/cardlist/attribute/ico_type01.png\"}, \"power\": 2000, \"counter\": \"1000\", \"color\": \"Yellow\", \"family\": \"Goa Kingdom\", \"ability\": \"[Activate: Main] You may trash this Character: Reveal 1 card from the top of your Life cards. If that card is a [Monkey.D.Luffy] with a cost of 5, you may play that card. If you do, up to 1 of your Leader gains +2000 power until the end of your opponent\\'s next turn.\", \"trigger\": \"\", \"set\": {\"name\": \"-The Three Brothers-[ST13]\"}, \"notes\": []}, {\"id\": \"ST23-004\", \"code\": \"ST23-004\", \"rarity\": \"C\", \"type\": \"CHARACTER\", \"name\": \"Monkey.D.Luffy\", \"images\": {\"small\": \"https://en.onepiece-cardgame.com/images/cardlist/card/ST23-004.png?250530\", \"large\": \"https://en.onepiece-cardgame.com/images/cardlist/card/ST23-004.png?250530\"}, \"cost\": 1, \"attribute\": {\"name\": \"Strike\", \"image\": \"https://en.onepiece-cardgame.com/images/cardlist/attribute/ico_type01.png\"}, \"power\": 2000, \"counter\": \"1000\", \"color\": \"Red\", \"family\": \"FILM/Supernovas/Straw Hat Crew\", \"ability\": \"[Activate: Main] You may rest 1 of your DON!! cards and this Character: Give up to 1 of your opponent\\'s Characters −1000 power during this turn.\", \"trigger\": \"\", \"set\": {\"name\": \"-RED Shanks- [ST-23]\"}, \"notes\": []}, {\"id\": \"OP05-119\", \"code\": \"OP05-119\", \"rarity\": \"SEC\", \"type\": \"CHARACTER\", \"name\": \"Monkey.D.Luffy\", \"images\": {\"small\": \"https://en.onepiece-cardgame.com/images/cardlist/card/OP05-119.png\", \"large\": \"https://en.onepiece-cardgame.com/images/cardlist/card/OP05-119.png\"}, \"cost\": 10, \"attribute\": {\"name\": \"Strike\", \"image\": \"https://en.onepiece-cardgame.com/images/cardlist/attribute/ico_type01.png\"}, \"power\": 12000, \"counter\": \"-\", \"color\": \"Purple\", \"family\": \"The Four Emperors/Straw Hat Crew\", \"ability\": \"[On Play] DON!! −10: Place all of your Characters except this Character at the bottom of your deck in any order. Then, take an extra turn after this one.<br>[Activate: Main] [Once Per Turn] ➀: Add up to 1 DON!! card from your DON!! deck and set it as active.\", \"trigger\": \"\", \"set\": {\"name\": \"OP-05\"}, \"notes\": []}, {\"id\": \"OP05-119_p1\", \"code\": \"OP05-119\", \"rarity\": \"SEC\", \"type\": \"CHARACTER\", \"name\": \"Monkey.D.Luffy\", \"images\": {\"small\": \"https://en.onepiece-cardgame.com/images/cardlist/card/OP05-119_p1.png\", \"large\": \"https://en.onepiece-cardgame.com/images/cardlist/card/OP05-119_p1.png\"}, \"cost\": 10, \"attribute\": {\"name\": \"Strike\", \"image\": \"https://en.onepiece-cardgame.com/images/cardlist/attribute/ico_type01.png\"}, \"power\": 12000, \"counter\": \"-\", \"color\": \"Purple\", \"family\": \"The Four Emperors/Straw Hat Crew\", \"ability\": \"[On Play] DON!! −10: Place all of your Characters except this Character at the bottom of your deck in any order. Then, take an extra turn after this one.<br>[Activate: Main] [Once Per Turn] ➀: Add up to 1 DON!! card from your DON!! deck and set it as active.\", \"trigger\": \"\", \"set\": {\"name\": \"OP-05\"}, \"notes\": []}, {\"id\": \"OP05-119_p2\", \"code\": \"OP05-119\", \"rarity\": \"SEC\", \"type\": \"CHARACTER\", \"name\": \"Monkey.D.Luffy\", \"images\": {\"small\": \"https://en.onepiece-cardgame.com/images/cardlist/card/OP05-119_p2.png\", \"large\": \"https://en.onepiece-cardgame.com/images/cardlist/card/OP05-119_p2.png\"}, \"cost\": 10, \"attribute\": {\"name\": \"Strike\", \"image\": \"https://en.onepiece-cardgame.com/images/cardlist/attribute/ico_type01.png\"}, \"power\": 12000, \"counter\": \"-\", \"color\": \"Purple\", \"family\": \"The Four Emperors/Straw Hat Crew\", \"ability\": \"[On Play] DON!! −10: Place all of your Characters except this Character at the bottom of your deck in any order. Then, take an extra turn after this one.<br>[Activate: Main] [Once Per Turn] ➀: Add up to 1 DON!! card from your DON!! deck and set it as active.\", \"trigger\": \"\", \"set\": {\"name\": \"OP-05\"}, \"notes\": []}, {\"id\": \"OP10-111\", \"code\": \"OP10-111\", \"rarity\": \"R\", \"type\": \"CHARACTER\", \"name\": \"Monkey.D.Luffy\", \"images\": {\"small\": \"https://en.onepiece-cardgame.com/images/cardlist/card/OP10-111.png?250530\", \"large\": \"https://en.onepiece-cardgame.com/images/cardlist/card/OP10-111.png?250530\"}, \"cost\": 1, \"attribute\": {\"name\": \"Strike\", \"image\": \"https://en.onepiece-cardgame.com/images/cardlist/attribute/ico_type01.png\"}, \"power\": 2000, \"counter\": \"1000\", \"color\": \"Yellow\", \"family\": \"Supernovas/Straw Hat Crew\", \"ability\": \"[On Play] Look at 5 cards from the top of your deck; reveal up to 1 {Supernovas} type card other than [Monkey.D.Luffy] and add it to your hand. Then, place the rest at the bottom of your deck in any order.\", \"trigger\": \"\", \"set\": {\"name\": \"-ROYAL BLOOD- [OP-10]\"}, \"notes\": []}, {\"id\": \"OP10-111_p1\", \"code\": \"OP10-111\", \"rarity\": \"R\", \"type\": \"CHARACTER\", \"name\": \"Monkey.D.Luffy\", \"images\": {\"small\": \"https://en.onepiece-cardgame.com/images/cardlist/card/OP10-111_p1.png?250530\", \"large\": \"https://en.onepiece-cardgame.com/images/cardlist/card/OP10-111_p1.png?250530\"}, \"cost\": 1, \"attribute\": {\"name\": \"Strike\", \"image\": \"https://en.onepiece-cardgame.com/images/cardlist/attribute/ico_type01.png\"}, \"power\": 2000, \"counter\": \"1000\", \"color\": \"Yellow\", \"family\": \"Supernovas/Straw Hat Crew\", \"ability\": \"[On Play] Look at 5 cards from the top of your deck; reveal up to 1 {Supernovas} type card other than [Monkey.D.Luffy] and add it to your hand. Then, place the rest at the bottom of your deck in any order.\", \"trigger\": \"\", \"set\": {\"name\": \"-ROYAL BLOOD- [OP-10]\"}, \"notes\": []}, {\"id\": \"OP05-119_p7\", \"code\": \"OP05-119\", \"rarity\": \"SP CARD\", \"type\": \"CHARACTER\", \"name\": \"Monkey.D.Luffy\", \"images\": {\"small\": \"https://en.onepiece-cardgame.com/images/cardlist/card/OP05-119_p7.png?250530\", \"large\": \"https://en.onepiece-cardgame.com/images/cardlist/card/OP05-119_p7.png?250530\"}, \"cost\": 10, \"attribute\": {\"name\": \"Strike\", \"image\": \"https://en.onepiece-cardgame.com/images/cardlist/attribute/ico_type01.png\"}, \"power\": 12000, \"counter\": \"-\", \"color\": \"Purple\", \"family\": \"The Four Emperors/Straw Hat Crew\", \"ability\": \"[On Play] DON!! −10: Place all of your Characters except this Character at the bottom of your deck in any order. Then, take an extra turn after this one.<br>[Activate: Main] [Once Per Turn] You may rest 1 of your DON!! cards: Add up to 1 DON!! card from your DON!! deck and set it as active.\", \"trigger\": \"\", \"set\": {\"name\": \"-A FIST OF DIVINE SPEED- [OP-11]\"}, \"notes\": []}, {\"id\": \"OP05-119_p8\", \"code\": \"OP05-119\", \"rarity\": \"SP CARD\", \"type\": \"CHARACTER\", \"name\": \"Monkey.D.Luffy\", \"images\": {\"small\": \"https://en.onepiece-cardgame.com/images/cardlist/card/OP05-119_p8.png?250530\", \"large\": \"https://en.onepiece-cardgame.com/images/cardlist/card/OP05-119_p8.png?250530\"}, \"cost\": 10, \"attribute\": {\"name\": \"Strike\", \"image\": \"https://en.onepiece-cardgame.com/images/cardlist/attribute/ico_type01.png\"}, \"power\": 12000, \"counter\": \"-\", \"color\": \"Purple\", \"family\": \"The Four Emperors/Straw Hat Crew\", \"ability\": \"[On Play] DON!! −10: Place all of your Characters except this Character at the bottom of your deck in any order. Then, take an extra turn after this one.<br>[Activate: Main] [Once Per Turn] You may rest 1 of your DON!! cards: Add up to 1 DON!! card from your DON!! deck and set it as active.\", \"trigger\": \"\", \"set\": {\"name\": \"-A FIST OF DIVINE SPEED- [OP-11]\"}, \"notes\": []}, {\"id\": \"OP05-119_p6\", \"code\": \"OP05-119\", \"rarity\": \"SP CARD\", \"type\": \"CHARACTER\", \"name\": \"Monkey.D.Luffy\", \"images\": {\"small\": \"https://en.onepiece-cardgame.com/images/cardlist/card/OP05-119_p6.png?241220\", \"large\": \"https://en.onepiece-cardgame.com/images/cardlist/card/OP05-119_p6.png?241220\"}, \"cost\": 10, \"attribute\": {\"name\": \"Strike\", \"image\": \"https://en.onepiece-cardgame.com/images/cardlist/attribute/ico_type01.png\"}, \"power\": 12000, \"counter\": \"-\", \"color\": \"Purple\", \"family\": \"The Four Emperors/Straw Hat Crew\", \"ability\": \"[On Play] DON!! −10: Place all of your Characters except\\\\n                    this Character at the bottom of your deck in any order.\\\\n                    Then, take an extra turn after this one.<br>[Activate:\\\\n                    Main] [Once Per Turn] You may rest 1 of your DON!! cards:\\\\n                    Add up to 1 DON!! card from your DON!! deck and set it as\\\\n                    active.\", \"trigger\": \"\", \"set\": {\"name\": \"-EMPERORS IN THE NEW WORLD- [OP-09]\"}, \"notes\": []}, {\"id\": \"P-041\", \"code\": \"P-041\", \"rarity\": \"P\", \"type\": \"CHARACTER\", \"name\": \"Monkey.D.Luffy\", \"images\": {\"small\": \"https://en.onepiece-cardgame.com/images/cardlist/card/P-041.png?250530\", \"large\": \"https://en.onepiece-cardgame.com/images/cardlist/card/P-041.png?250530\"}, \"cost\": 10, \"attribute\": {\"name\": \"Strike\", \"image\": \"https://en.onepiece-cardgame.com/images/cardlist/attribute/ico_type01.png\"}, \"power\": 12000, \"counter\": \"1000\", \"color\": \"Purple\", \"family\": \"The Four Emperors/Straw Hat Crew\", \"ability\": \"-\", \"trigger\": \"\", \"set\": {\"name\": \"Pirates Party Vol.5\"}, \"notes\": []}, {\"id\": \"P-041_p1\", \"code\": \"P-041\", \"rarity\": \"P\", \"type\": \"CHARACTER\", \"name\": \"Monkey.D.Luffy\", \"images\": {\"small\": \"https://en.onepiece-cardgame.com/images/cardlist/card/P-041_p1.png?250530\", \"large\": \"https://en.onepiece-cardgame.com/images/cardlist/card/P-041_p1.png?250530\"}, \"cost\": 10, \"attribute\": {\"name\": \"Strike\", \"image\": \"https://en.onepiece-cardgame.com/images/cardlist/attribute/ico_type01.png\"}, \"power\": 12000, \"counter\": \"1000\", \"color\": \"Purple\", \"family\": \"The Four Emperors/Straw Hat Crew\", \"ability\": \"-\", \"trigger\": \"\", \"set\": {\"name\": \"Offline Regional Participation Pack 2024 Vol. 2\"}, \"notes\": []}, {\"id\": \"OP05-119_p3\", \"code\": \"OP05-119\", \"rarity\": \"SEC\", \"type\": \"CHARACTER\", \"name\": \"Monkey.D.Luffy\", \"images\": {\"small\": \"https://en.onepiece-cardgame.com/images/cardlist/card/OP05-119_p3.png?241220\", \"large\": \"https://en.onepiece-cardgame.com/images/cardlist/card/OP05-119_p3.png?241220\"}, \"cost\": 10, \"attribute\": {\"name\": \"Strike\", \"image\": \"https://en.onepiece-cardgame.com/images/cardlist/attribute/ico_type01.png\"}, \"power\": 12000, \"counter\": \"-\", \"color\": \"Purple\", \"family\": \"The Four Emperors/Straw Hat Crew\", \"ability\": \"[On Play] DON!! −10: Place all of your Characters except\\\\n                    this Character at the bottom of your deck in any order.\\\\n                    Then, take an extra turn after this one.<br>[Activate:\\\\n                    Main] [Once Per Turn] ➀ (You may rest the specified number\\\\n                    of DON!! cards in your cost area.): Add up to 1 DON!! card\\\\n                    from your DON!! deck and set it as active.\", \"trigger\": \"\", \"set\": {\"name\": \"-ONE PIECE CARD THE BEST- [PRB-01]\"}, \"notes\": []}, {\"id\": \"OP05-119_p4\", \"code\": \"OP05-119\", \"rarity\": \"SEC\", \"type\": \"CHARACTER\", \"name\": \"Monkey.D.Luffy\", \"images\": {\"small\": \"https://en.onepiece-cardgame.com/images/cardlist/card/OP05-119_p4.png?241220\", \"large\": \"https://en.onepiece-cardgame.com/images/cardlist/card/OP05-119_p4.png?241220\"}, \"cost\": 10, \"attribute\": {\"name\": \"Strike\", \"image\": \"https://en.onepiece-cardgame.com/images/cardlist/attribute/ico_type01.png\"}, \"power\": 12000, \"counter\": \"-\", \"color\": \"Purple\", \"family\": \"The Four Emperors/Straw Hat Crew\", \"ability\": \"[On Play] DON!! −10: Place all of your Characters except\\\\n                    this Character at the bottom of your deck in any order.\\\\n                    Then, take an extra turn after this one.<br>[Activate:\\\\n                    Main] [Once Per Turn] ➀ (You may rest the specified number\\\\n                    of DON!! cards in your cost area.): Add up to 1 DON!! card\\\\n                    from your DON!! deck and set it as active.\", \"trigger\": \"\", \"set\": {\"name\": \"-ONE PIECE CARD THE BEST- [PRB-01]\"}, \"notes\": []}, {\"id\": \"OP05-119_p5\", \"code\": \"OP05-119\", \"rarity\": \"SEC\", \"type\": \"CHARACTER\", \"name\": \"Monkey.D.Luffy\", \"images\": {\"small\": \"https://en.onepiece-cardgame.com/images/cardlist/card/OP05-119_p5.png?241220\", \"large\": \"https://en.onepiece-cardgame.com/images/cardlist/card/OP05-119_p5.png?241220\"}, \"cost\": 10, \"attribute\": {\"name\": \"Strike\", \"image\": \"https://en.onepiece-cardgame.com/images/cardlist/attribute/ico_type01.png\"}, \"power\": 12000, \"counter\": \"-\", \"color\": \"Purple\", \"family\": \"The Four Emperors/Straw Hat Crew\", \"ability\": \"[On Play] DON!! −10: Place all of your Characters except\\\\n                    this Character at the bottom of your deck in any order.\\\\n                    Then, take an extra turn after this one.<br>[Activate:\\\\n                    Main] [Once Per Turn] ➀ (You may rest the specified number\\\\n                    of DON!! cards in your cost area.): Add up to 1 DON!! card\\\\n                    from your DON!! deck and set it as active.\", \"trigger\": \"\", \"set\": {\"name\": \"-ONE PIECE CARD THE BEST- [PRB-01]\"}, \"notes\": []}, {\"id\": \"P-041\", \"code\": \"P-041\", \"rarity\": \"P\", \"type\": \"CHARACTER\", \"name\": \"Monkey.D.Luffy\", \"images\": {\"small\": \"https://en.onepiece-cardgame.com/images/cardlist/card/P-041.png?240419\", \"large\": \"https://en.onepiece-cardgame.com/images/cardlist/card/P-041.png?240419\"}, \"cost\": 10, \"attribute\": {\"name\": \"Strike\", \"image\": \"https://en.onepiece-cardgame.com/images/cardlist/attribute/ico_type01.png\"}, \"power\": 12000, \"counter\": \"1000\", \"color\": \"Purple\", \"family\": \"The Four Emperors/Straw Hat Crew\", \"ability\": \"-\", \"trigger\": \"\", \"set\": {\"name\": \"Pirates Party Vol.5\"}, \"notes\": []}]', name='card_search_tool', id='4a6e6fd8-05a0-4d2d-a012-1a220f55b583', tool_call_id='call_qql4dwe1156hSAxtHpxKVV0k'),\n",
       "  AIMessage(content=\"Here are some Monkey.D.Luffy cards with 2000 power:\\n\\n1. Monkey.D.Luffy (ST13-014) - Yellow, Cost 2, Goa Kingdom\\n   - Ability: [Activate: Main] You may trash this Character: Reveal 1 card from the top of your Life cards. If that card is a [Monkey.D.Luffy] with a cost of 5, you may play that card. If you do, up to 1 of your Leader gains +2000 power until the end of your opponent's next turn.\\n   - ![ST13-014](https://en.onepiece-cardgame.com/images/cardlist/card/ST13-014.png?241220)\\n\\n2. Monkey.D.Luffy (ST23-004) - Red, Cost 1, FILM/Supernovas/Straw Hat Crew\\n   - Ability: [Activate: Main] You may rest 1 of your DON!! cards and this Character: Give up to 1 of your opponent's Characters −1000 power during this turn.\\n   - ![ST23-004](https://en.onepiece-cardgame.com/images/cardlist/card/ST23-004.png?250530)\\n\\n3. Monkey.D.Luffy (OP10-111) - Yellow, Cost 1, Supernovas/Straw Hat Crew\\n   - Ability: [On Play] Look at 5 cards from the top of your deck; reveal up to 1 {Supernovas} type card other than [Monkey.D.Luffy] and add it to your hand. Then, place the rest at the bottom of your deck in any order.\\n   - ![OP10-111](https://en.onepiece-cardgame.com/images/cardlist/card/OP10-111.png?250530)\\n\\nLet me know if you want more details about any of these cards!\", additional_kwargs={'refusal': None}, response_metadata={'token_usage': {'completion_tokens': 381, 'prompt_tokens': 4862, 'total_tokens': 5243, 'completion_tokens_details': {'accepted_prediction_tokens': 0, 'audio_tokens': 0, 'reasoning_tokens': 0, 'rejected_prediction_tokens': 0}, 'prompt_tokens_details': {'audio_tokens': 0, 'cached_tokens': 4736}}, 'model_name': 'gpt-4.1-2025-04-14', 'system_fingerprint': 'fp_51e1070cf2', 'id': 'chatcmpl-Br4qKKlX6zyzurqFk2wBsCYx15RLB', 'service_tier': 'default', 'finish_reason': 'stop', 'logprobs': None}, name='CardDBToolAgent', id='run--93fb036b-c7ac-41f2-80f7-3275ce25d1a8-0', usage_metadata={'input_tokens': 4862, 'output_tokens': 381, 'total_tokens': 5243, 'input_token_details': {'audio': 0, 'cache_read': 4736}, 'output_token_details': {'audio': 0, 'reasoning': 0}})]}"
      ]
     },
     "execution_count": 4,
     "metadata": {},
     "output_type": "execute_result"
    }
   ],
   "source": [
    "class CardDBToolAgent(BaseAgent):\n",
    "    # If model and temperature are not specified, defaults will be used, defined in BaseAgent.\n",
    "    def __init__(self, model_name=\"gpt-4.1\"):\n",
    "        self.name = \"CardDBToolAgent\"\n",
    "        super().__init__(model_name=model_name, temperature=0)\n",
    "    \n",
    "    def _create_prompt(self):\n",
    "        \"\"\"Create a system prompt for the agent. This should be tailored to the specific agent's purpose.\"\"\"\n",
    "        return \"You are a helpful assistant that helps people answer information about the One Piece TCG. If you don't know the answer, just say you don't know. Do not try to make up an answer.\"\n",
    "\n",
    "    def _setup_tools(self):\n",
    "        \"\"\"Setup tools for this agent. This can include any tools you want to use, or be an empty list if no tools are needed.\"\"\"\n",
    "        return [\n",
    "            card_search_tool\n",
    "        ]\n",
    "agent = CardDBToolAgent(model_name=\"gpt-4.1\")\n",
    "agent.chat(\"What is a luffy card with power 2000?\", verbose=True)"
   ]
  },
  {
   "cell_type": "code",
   "execution_count": 3,
   "id": "26479313",
   "metadata": {},
   "outputs": [],
   "source": [
    "from optcg.api import CardSearchRequest"
   ]
  }
 ],
 "metadata": {
  "kernelspec": {
   "display_name": ".venv (3.13.5)",
   "language": "python",
   "name": "python3"
  },
  "language_info": {
   "codemirror_mode": {
    "name": "ipython",
    "version": 3
   },
   "file_extension": ".py",
   "mimetype": "text/x-python",
   "name": "python",
   "nbconvert_exporter": "python",
   "pygments_lexer": "ipython3",
   "version": "3.13.5"
  }
 },
 "nbformat": 4,
 "nbformat_minor": 5
}
