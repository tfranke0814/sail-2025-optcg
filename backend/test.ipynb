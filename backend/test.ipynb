{
 "cells": [
  {
   "cell_type": "code",
   "execution_count": 2,
   "id": "e4a064d3",
   "metadata": {},
   "outputs": [],
   "source": [
    "import os\n",
    "from dotenv import load_dotenv\n",
    "from IPython.display import display, Image\n",
    "\n",
    "from langchain_openai import ChatOpenAI\n",
    "from langgraph.prebuilt import create_react_agent\n",
    "from langchain_core.tools import tool\n",
    "from langchain_core.tools.retriever import create_retriever_tool\n",
    "from langgraph.checkpoint.memory import InMemorySaver\n",
    "\n",
    "from typing import List\n",
    "import logging\n",
    "from langchain_community.tools import BraveSearch\n",
    "from langchain_tavily import TavilyExtract\n",
    "import json\n",
    "\n",
    "# For QA-Retriever\n",
    "from langchain_core.prompts import PromptTemplate\n",
    "from langchain.chains.combine_documents import create_stuff_documents_chain\n",
    "from langchain.chains import create_retrieval_chain\n",
    "\n",
    "# Custom Import\n",
    "from optcg.vectorstore_logic import check_for_updates_to_rules, create_or_load_vectorstore_optcg_rulebooks\n",
    "from optcg.tools import web_search_tool, youtube_search_tool, create_rulebook_retriever_tool, card_search_tool, get_board_tool\n",
    "from optcg.agents.react import BaseAgent, RulebookAgent\n",
    "from optcg.routes import agent_routes, card_routes, board_routes\n",
    "\n",
    "\n",
    "from langsmith import traceable\n",
    "from langsmith.wrappers import wrap_openai\n",
    "from openai import OpenAI\n",
    "#openai_client = wrap_openai(OpenAI())\n",
    "\n",
    "_ = load_dotenv() # Loads the .env file - e.g. the OPENAI_API_KEY\n",
    "\n",
    "logging.basicConfig(level=logging.INFO, format=\"%(asctime)s - %(levelname)s - %(message)s\")\n",
    "logger = logging.getLogger(__name__)\n"
   ]
  },
  {
   "cell_type": "code",
   "execution_count": null,
   "id": "cca3fcb2",
   "metadata": {},
   "outputs": [
    {
     "name": "stderr",
     "output_type": "stream",
     "text": [
      "2025-08-27 13:31:58,958 - INFO - Anonymized telemetry enabled. See                     https://docs.trychroma.com/telemetry for more information.\n"
     ]
    },
    {
     "name": "stdout",
     "output_type": "stream",
     "text": [
      "Loading existing vector store...\n"
     ]
    },
    {
     "data": {
      "image/png": "[encoded data removed]",
      "text/plain": [
       "<IPython.core.display.Image object>"
      ]
     },
     "execution_count": 3,
     "metadata": {},
     "output_type": "execute_result"
    }
   ],
   "source": [
    "from optcg.agents.analysis_agent import agent as board_agent\n",
    "from IPython.display import display, Image\n",
    "\n",
    "Image(board_agent.get_graph(xray=1).draw_mermaid_png())"
   ]
  },
  {
   "cell_type": "code",
   "execution_count": 9,
   "id": "1f9a653c",
   "metadata": {},
   "outputs": [
    {
     "name": "stdout",
     "output_type": "stream",
     "text": [
      "Getting board state via HTTP...\n"
     ]
    },
    {
     "name": "stderr",
     "output_type": "stream",
     "text": [
      "2025-08-27 13:35:00,217 - ERROR - Exception in get_board_tool: 404 Client Error: Not Found for url: http://localhost:8000/board/\n",
      "Traceback (most recent call last):\n",
      "  File \"C:\\Users\\tyson\\repos\\sail-2025-optcg\\backend\\src\\optcg\\tools.py\", line 75, in get_board_tool_http\n",
      "    response.raise_for_status()\n",
      "    ~~~~~~~~~~~~~~~~~~~~~~~~~^^\n",
      "  File \"c:\\Users\\tyson\\repos\\sail-2025-optcg\\backend\\.venv\\Lib\\site-packages\\requests\\models.py\", line 1026, in raise_for_status\n",
      "    raise HTTPError(http_error_msg, response=self)\n",
      "requests.exceptions.HTTPError: 404 Client Error: Not Found for url: http://localhost:8000/board/\n"
     ]
    },
    {
     "data": {
      "text/plain": [
       "[AIMessage(content='No board state was found. Please update the board state.', additional_kwargs={'thread_id': '4f3c3730-a3eb-4576-9b3a-626748ec925e'}, response_metadata={}, id='344d6053-99c9-4ad7-88d3-e75d7b8c10cf'),\n",
       " AIMessage(content='No board state was found. Please update the board state.', additional_kwargs={'thread_id': '4f3c3730-a3eb-4576-9b3a-626748ec925e'}, response_metadata={}, id='441c6c53-cf7e-4573-8e63-8acc60cca074')]"
      ]
     },
     "execution_count": 9,
     "metadata": {},
     "output_type": "execute_result"
    }
   ],
   "source": [
    "res = board_agent.invoke({\n",
    "    \"user_message\": \"What is the board?\"\n",
    "}, config={\"configurable\": {\"thread_id\": \"1234o5\"}})\n",
    "res[\"messages\"]"
   ]
  },
  {
   "cell_type": "code",
   "execution_count": 6,
   "id": "5b44e598",
   "metadata": {},
   "outputs": [
    {
     "name": "stderr",
     "output_type": "stream",
     "text": [
      "2025-08-27 13:23:14,045 - INFO - HTTP Request: POST https://api.openai.com/v1/chat/completions \"HTTP/1.1 200 OK\"\n"
     ]
    },
    {
     "data": {
      "text/plain": [
       "{'messages': [HumanMessage(content='Hello, how can I assist you today?', additional_kwargs={}, response_metadata={}, id='8bd7680a-955e-49ba-9bdd-e7d4f92ddb28'),\n",
       "  AIMessage(content='Hello! I’m here to help you with anything related to the One Piece Trading Card Game (TCG). You can ask me about:\\n\\n- Game rules and how to play\\n- Card information and effects\\n- Strategies and deck building tips\\n- Gameplay scenarios and turn advice\\n\\nHow can I assist you with the One Piece TCG today?', additional_kwargs={'refusal': None}, response_metadata={'token_usage': {'completion_tokens': 70, 'prompt_tokens': 433, 'total_tokens': 503, 'completion_tokens_details': {'accepted_prediction_tokens': 0, 'audio_tokens': 0, 'reasoning_tokens': 0, 'rejected_prediction_tokens': 0}, 'prompt_tokens_details': {'audio_tokens': 0, 'cached_tokens': 0}}, 'model_name': 'gpt-4.1-2025-04-14', 'system_fingerprint': 'fp_3502f4eb73', 'id': 'chatcmpl-C9F4IQjc7UI67AjtYVCFW10EkkMmD', 'service_tier': 'default', 'finish_reason': 'stop', 'logprobs': None}, name='ChatAgent', id='run--248338af-5523-4af9-8199-3d9269b4f095-0', usage_metadata={'input_tokens': 433, 'output_tokens': 70, 'total_tokens': 503, 'input_token_details': {'audio': 0, 'cache_read': 0}, 'output_token_details': {'audio': 0, 'reasoning': 0}}),\n",
       "  HumanMessage(content='Hello, how can I assist you today?', additional_kwargs={}, response_metadata={}, id='4c5ac82d-4769-4067-a254-554d9eee6401'),\n",
       "  AIMessage(content='Thank you for your offer! I’m actually here to assist you with any questions or needs you have regarding the One Piece Trading Card Game. If you have a question about the rules, need card information, or want help with strategies or gameplay, just let me know how I can help!', additional_kwargs={'refusal': None}, response_metadata={'token_usage': {'completion_tokens': 59, 'prompt_tokens': 522, 'total_tokens': 581, 'completion_tokens_details': {'accepted_prediction_tokens': 0, 'audio_tokens': 0, 'reasoning_tokens': 0, 'rejected_prediction_tokens': 0}, 'prompt_tokens_details': {'audio_tokens': 0, 'cached_tokens': 0}}, 'model_name': 'gpt-4.1-2025-04-14', 'system_fingerprint': 'fp_3502f4eb73', 'id': 'chatcmpl-C9F5cTWvCF27PfHHD6i2RJ6lhdTvm', 'service_tier': 'default', 'finish_reason': 'stop', 'logprobs': None}, name='ChatAgent', id='run--1b5c7424-4034-4143-a0ba-3c2df8395309-0', usage_metadata={'input_tokens': 522, 'output_tokens': 59, 'total_tokens': 581, 'input_token_details': {'audio': 0, 'cache_read': 0}, 'output_token_details': {'audio': 0, 'reasoning': 0}})]}"
      ]
     },
     "execution_count": 6,
     "metadata": {},
     "output_type": "execute_result"
    }
   ],
   "source": [
    "# from optcg.agents.react import ChatAgent\n",
    "# chat = ChatAgent()\n",
    "chat.chat(\"Hello, how can I assist you today?\", verbose=True, thread_id=\"12345\")"
   ]
  },
  {
   "cell_type": "code",
   "execution_count": null,
   "id": "943662f6",
   "metadata": {},
   "outputs": [
    {
     "name": "stdout",
     "output_type": "stream",
     "text": [
      "Loading existing vector store...\n"
     ]
    }
   ],
   "source": [
    "from optcg.agents.analysis_agent import extract_board_state\n",
    "import json\n",
    "\n",
    "with open(\"test_state_hand.json\", \"r\") as f:\n",
    "    game_state = json.load(f)\n",
    "\n",
    "res = extract_board_state({\n",
    "    \"user_message\": \"What should I do this turn?\",\n",
    "    \"thread_id\": \"thread_123\",\n",
    "    \"board\": game_state})"
   ]
  },
  {
   "cell_type": "code",
   "execution_count": null,
   "id": "074b4698",
   "metadata": {},
   "outputs": [
    {
     "data": {
      "text/plain": [
       "\"7. Card Attacks and Battles  \\n7-1. During the Main Phase, the turn player can rest an active Leader card in their Leader \\narea, or an active Character card in their Character area, to attack an opponent’s Leader \\ncard in their Leader area, or rested Character card in their Character area. When an \\nattack is made, the game proceeds to Battle (see 6-5-6.) and is processed in order from \\nthe Attack Step (see 7-1-1.) to the Damage Step (see 7-1-4.). \\n7-1-1. Attack Step \\n7-1-1-1. Attacks are carried out by the Leader card, or a Character card in the \\nCharacter area. First,  the turn player  declares their attack by resting their  \\nactive Leader card or 1 active Character card. \\n7-1-1-2. The turn player then selects the target of their attack. The target can be either \\nthe opponent’s Leader card or 1 of their rested Character cards in their \\nCharacter area. \\n7-1-1-3. Effects that read [When Attacking] , “when you attack ”, or [On Your \\nOpponent's Attack] activate. \\n7-1-1-4. If, at the end of the Attack Step, the attacking card or the target card for the \\nattack has moved areas due to some method, proceed not to the Block Step \\n(see 7-1-2.), but to the End of the Battle (see 7-1-5.). \\n7-1-2. Block Step \\n7-1-2-1. The player being attacked can activate the [Blocker] effect of their card only \\nonce during that battle. \\n7-1-2-2. When a [Blocker] is activated, effects that read [On Block] or “when you block” \\nactivate.\\n\\n1-2., depending on the category of the card being attacked. \\n7-1-4-1-1. If a Leader card: 1 damage is dealt to that Leader. \\n7-1-4-1-1-1. If the opponent has 0 Life at the point when it is determined that \\ndamage will be dealt, the attacking player wins the game. \\n7-1-4-1-1-2. If the opponent has 1 or more Life at the point when it is determined \\nthat damage will be dealt, the opponent adds the card at the top of \\ntheir Life cards to their hand. At this time, if a card with [Trigger] is \\nadded to the opponent’s hand from their Life area, the opponent may \\nchoose to reveal the card and activate its [Trigger] instead of adding \\nit to their hand (see 10-1-5.). \\n7-1-4-1-1-3. If the damage taken is 2 or more due to an effect such as [Double \\nAttack], repeat 7-1-4-1-1-2. a number of times equal to the amount \\nof damage.  \\n7-1-4-1-2. If a Character card : That Character card is K.O.’d (see 10-2-1.). Then, \\nproceed to End of the Battle (see 7-1-5.). \\n7-1-4-2. If the power of the attacking card is less than the power of the card being \\nattacked, the attacking card will lose the battle, and nothing will happen during\\n\\n(see 7-1-3.), but to the End of the Battle (see 7-1-5.). \\n7-1-3. Counter Step \\n7-1-3-1. Effects of the player being attacked that read “when attacked” activate. \\n7-1-3-2. The player being attacked may perform the following actions in any order and \\nas many times as they wish: \\n7-1-3-2-1. Activate [(Symbol) Counter ]: The player being attacked may trash a \\nCharacter card with  [(Symbol) Counter] from their hand to activate an \\neffect that increases the power of their Leader or 1 Character card by the \\nvalue of the [(Symbol) Counter] during that battle. \\n7-1-3-2-2. Activate an Event card: The player being attacked may pay the cost of an \\nEvent card with [Counter] in their hand, and then trash it to activate the \\n[Counter] effect. \\n7-1-2-3. If, at the end of the Counter Step, the attacking card or the target card for \\nthe attack has moved areas due to some method, proceed not to the Damage \\nStep (see 7-1-4.), but to the End of the Battle (see 7-1-5.).  \\n7-1-4. Damage Step \\n7-1-4-1. Compare the power of the attacking card and the card being attacked. If the \\npower of the attacking card is greater than or equal to the power of the card \\nbeing attacked, the battle is won, and the result is either 7-1-4-1-1. or 7-1-4-\\n1-2., depending on the category of the card being attacked. \\n7-1-4-1-1. If a Leader card: 1 damage is dealt to that Leader. \\n7-1-4-1-1-1. If the opponent has 0 Life at the point when it is determined that \\ndamage will be dealt, the attacking player wins the game.\\n\\nhigher, carry out the following actions: \\n4-5-4-1. You can end this action. \\n4-5-4-2. Draw 1 card. \\n4-5-4-3. If you have carried out 4-5-4-2 X times, end this action. If not, return to 4-5-\\n4-1. \\n4-6. Damage Processing \\n4-6-1. The act of dealing damage is referred to as “damage processing”. \\n4-6-2. If any action deals damage to a Leader, the player whose Leader has taken damage \\nwill perform the following procedure: \\n4-6-2-1. If the damage taken is 1, the player whose Leader has taken damage moves 1 \\ncard from the top of their Life cards to their hand. \\n4-6-2-2. If the damage received is X, nothing happens if X is 0. If X is 1 or higher, the \\nplayer repeats the “ If the damage taken is 1 ” process (4-6-2-1) that many \\ntimes. \\n4-6-3. If a card with [Trigger] is added to the  player’s hand from their Life area during \\nthis procedure, the player can choose to activate that [Trigger]. (See 10-1-5.)\\n\\nCharacter card in the cost area such that it remains visible . This is called \\n“giving”.  \\n6-5-5-2. Leader cards and Character cards gain 1000 power during your turn for each \\nDON!! card given to them. \\n6-5-5-3. Giving can be performed as many times as you wish to the extent possible. \\n6-5-5-4. When a card that has been given a DON!! card is moved to another area, all \\nDON!! cards given to that card are placed in the cost area and rested. \\n6-5-6. Battle \\n6-5-6-1. Neither player can battle on their first turn. \\n6-5-6-2. For more information on battles, please refer to “7. Card Attacks and Battles” \\nbelow. \\n6-6. End Phase \\n6-6-1. This is the phase in which various end-of-turn processes are carried out. \\n6-6-1-1. Auto effects that read “[End of Your Turn]” (Keyword) and “[End of Your \\nOpponent’s Turn]” (Keyword) are activated. \\n6-6-1-1-1. Auto effects that read “[End of Your Turn]” (Keyword) and “[End of \\nYour Opponent’s Turn]” (Keyword) can only be activated and resolved once. \\n6-6-1-1-2. After all “[End of Your Turn]” (Keyword) effects have been activated \\nand resolved, all “[End of Your Opponent’s Turn]”  (Keyword) effects are \\nactivated and resolved. \\n6-6-1-1-3. If there are multiple “[End of Your Turn]” (Keyword) effects to be \\nresolved, the turn player may activate and resolve them in any order. \\n6-6-1-1-4. If there are multiple “[End of Your Opponent’s Turn]”  (Keyword) \\neffects to be resolved, the non-turn player may activate and resolve them in \\nany order.\\n\\n6-1-2. The game is progressed by one of the players serving as the turn player. The turn \\nplayer performs the phases following the procedures below. \\n6-2. Refresh Phase \\n6-2-1. Currently applied effects that last “until the start of your next turn” end. \\n6-2-2. Your own and your opponent’s e ffects that read  “at the start of your/your \\nopponent’s turn” activate. \\n6-2-3. Return all DON!! cards given to cards in your Leader area and Character area (see \\n6-5-5-1.) to your cost area. \\n6-2-4. Set all rested cards placed in your Leader area, Character area, Stage area, and cost \\narea as active. \\n6-3. Draw Phase \\n6-3-1. The turn player draws 1 card from their deck. Note that the player going first does \\nnot draw a card on their first turn. \\n6-4. DON!! Phase \\n6-4-1. Place 2 DON!! cards from the DON!! deck face-up in the cost area. Note that the \\nplayer going first places only 1 DON!! card face-up in their cost area on their first \\nturn. \\n6-4-2. If there is only 1 card in the DON!! deck, place 1 DON!! card face-up in the cost \\narea. \\n6-4-3. If there are 0 cards in the DON!! deck, do not place a DON!! card in the cost area. \\n6-5. Main Phase \\n6-5-1. Your own and your opponent’s effects that read “at the start of the Main Phase ” \\nactivate. \\n6-5-2. In the Main Phase, you may perform the following Main Phase actions : “6-5-3. \\nPlay a Card ”, “6-5-4. Activate a Card ’s Effect”, “6-5-5. Give DON!! Cards”, and\\n\\nDON!! cards such that the number of DON!! cards given to it is X or higher. \\n10-2-10. DON!! −X \\n10-2-10-1. “DON!! −X” is a keyword indicating a condition requiring you to select \\na total number of DON!! cards equal to the value of X from your Leader \\narea, Character area, and cost area, and return them to your DON!! deck. \\n10-2-11. [Your Turn] \\n10-2-11-1. [Your Turn] is a keyword  indicating a condition that is satisfied during \\nyour turn.  \\n10-2-12. [Opponent’s Turn] \\n10-2-12-1. [Opponent’s Turn] is a keyword indicating a condition that is satisfied \\nduring your opponent’s turn. \\n10-2-13. [Once Per Turn] \\n10-2-13-1. [Once Per Turn] is a keyword indicating an effect can only be activated \\nand resolved once during that turn. \\n10-2-13-2. Where there are multiple cards with the same effect, [Once Per Turn]\\n\\n2-7-3. When activating an Event card from your hand, you should first reveal the card \\nyou wish to activate, select a number of active DON!! cards in your cost area equal \\nto the card’s cost, rest those DON!! cards, and then trash the revealed card to \\nactivate it. \\n2-7-4. When playing a Stage card from your hand, you should first reveal the card you \\nwish to play, select a number of active DON!! cards in your cost area equal to the \\ncard’s cost, rest those DON!! cards, and then play the revealed card. \\n2-7-5. Only Character cards, Event cards and Stage cards have costs. \\n2-7-6. An effect may make a cost greater or less than the written value. \\n2-8. Card Text \\n2-8-1. This describes the card’s effects. \\n2-8-2. Unless otherwise specified, card text on Leader cards, Character cards, and Stage \\ncards is valid only in the Leader area, Character area, and Stage area, respectively. \\n2-8-3. Text is resolved in order starting from the text closest to the top. \\n2-8-4. Some text has detailed explanations of keyword effects or other card effects inside \\n( ) parentheses. These are called explanatory notes and their purpose is to provide \\nfurther explanation of effects.\\n\\n(see 7-1-2.), but to the End of the Battle (see 7-1-5.). \\n7-1-2. Block Step \\n7-1-2-1. The player being attacked can activate the [Blocker] effect of their card only \\nonce during that battle. \\n7-1-2-2. When a [Blocker] is activated, effects that read [On Block] or “when you block” \\nactivate. \\n7-1-2-3. If, at the end of the Block Step , the attacking card or the target card for the \\nattack has moved areas due to some method, proceed not the Counter Step\\n\\n(see 7-1-3.), but to the End of the Battle (see 7-1-5.). \\n7-1-3. Counter Step \\n7-1-3-1. Effects of the player being attacked that read “when attacked” activate. \\n7-1-3-2. The player being attacked may perform the following actions in any order and \\nas many times as they wish: \\n7-1-3-2-1. Activate [(Symbol) Counter ]: The player being attacked may trash a \\nCharacter card with  [(Symbol) Counter] from their hand to activate an \\neffect that increases the power of their Leader or 1 Character card by the \\nvalue of the [(Symbol) Counter] during that battle. \\n7-1-3-2-2. Activate an Event card: The player being attacked may pay the cost of an \\nEvent card with [Counter] in their hand, and then trash it to activate the \\n[Counter] effect. \\n7-1-2-3. If, at the end of the Counter Step, the attacking card or the target card for \\nthe attack has moved areas due to some method, proceed not to the Damage \\nStep (see 7-1-4.), but to the End of the Battle (see 7-1-5.).  \\n7-1-4. Damage Step \\n7-1-4-1. Compare the power of the attacking card and the card being attacked. If the \\npower of the attacking card is greater than or equal to the power of the card \\nbeing attacked, the battle is won, and the result is either 7-1-4-1-1. or 7-1-4-\\n1-2., depending on the category of the card being attacked. \\n7-1-4-1-1. If a Leader card: 1 damage is dealt to that Leader. \\n7-1-4-1-1-1. If the opponent has 0 Life at the point when it is determined that \\ndamage will be dealt, the attacking player wins the game.\\n\\n7. Card Attacks and Battles  \\n7-1. During the Main Phase, the turn player can rest an active Leader card in their Leader \\narea, or an active Character card in their Character area, to attack an opponent’s Leader \\ncard in their Leader area, or rested Character card in their Character area. When an \\nattack is made, the game proceeds to Battle (see 6-5-6.) and is processed in order from \\nthe Attack Step (see 7-1-1.) to the Damage Step (see 7-1-4.). \\n7-1-1. Attack Step \\n7-1-1-1. Attacks are carried out by the Leader card, or a Character card in the \\nCharacter area. First,  the turn player  declares their attack by resting their  \\nactive Leader card or 1 active Character card. \\n7-1-1-2. The turn player then selects the target of their attack. The target can be either \\nthe opponent’s Leader card or 1 of their rested Character cards in their \\nCharacter area. \\n7-1-1-3. Effects that read [When Attacking] , “when you attack ”, or [On Your \\nOpponent's Attack] activate. \\n7-1-1-4. If, at the end of the Attack Step, the attacking card or the target card for the \\nattack has moved areas due to some method, proceed not to the Block Step \\n(see 7-1-2.), but to the End of the Battle (see 7-1-5.). \\n7-1-2. Block Step \\n7-1-2-1. The player being attacked can activate the [Blocker] effect of their card only \\nonce during that battle. \\n7-1-2-2. When a [Blocker] is activated, effects that read [On Block] or “when you block” \\nactivate.\\n\\na battle, or a Character card being trashed due to a card’s effect. \\n10-2-1-2. As an instruction , “K.O.” means to place a Character card from the \\nCharacter area into the owner of that card’s trash. \\n10-2-1-3. [On K.O.] and  effects that read  “cannot be K.O. ’d” or similar are only \\nvalid when the card is K.O.’d by an effect or due to the result of a battle. If \\na Character card is trashed due to some other method, it is not treated as \\n“K.O.’d”.  \\n10-2-2. [Activate: Main] \\n10-2-2-1. [Activate: Main] is a keyword indicating an effect can be activated during \\nthe Main Phase, except when in battle. \\n10-2-3. [Main]  \\n10-2-3-1. [Main] is a keyword exclusively found on Event cards that can only be used \\nduring the Main Phase, except in battle. It indicates that an effect can be \\nactivated by using an Event card during the Main Phase, except in battle. \\n10-2-4. [Counter]\\n\\n10-2-4-1. [Counter] is a keyword exclusively found on Event cards that can only be \\nused during your opponent’s Counter Step. It indicates that an effect can \\nbe activated by using an Event card during the Counter Step.   \\n10-2-5. [When Attacking] \\n10-2-5-1. [When Attacking] is a keyword indicating that the activation timing is \\nfulfilled and an effect activates  when you declare an attack during your \\nAttack Step (see 7-1-1.). \\n10-2-6. [On Play] \\n10-2-6-1. [On Play] is a keyword indicating that the activation timing is fulfilled and \\nan effect activates when the card is played. \\n10-2-7. [End of Your Turn] \\n10-2-7-1. [End of Your Turn] is a keyword indicating that the activation timing is \\nfulfilled and an effect activates at the End Phase of your turn (see 6 -6-1-\\n1.). \\n10-2-8. [End of Your Opponent’s Turn] \\n10-2-8-1. [End of Your Opponent’s Turn] is a keyword indicating that the activation \\ntiming is fulfilled and an effect activates at the End Phase of your \\nopponent’s turn. \\n10-2-9. [DON!! xX] \\n10-2-9-1. [DON!! xX] is a keyword indicating a condition that is satisfied when this \\ncard originally has no or less than X number of DON!! cards and is given \\nDON!! cards such that the number of DON!! cards given to it is X or higher. \\n10-2-10. DON!! −X \\n10-2-10-1. “DON!! −X” is a keyword indicating a condition requiring you to select \\na total number of DON!! cards equal to the value of X from your Leader\\n\\nCharacter card in the cost area such that it remains visible . This is called \\n“giving”.  \\n6-5-5-2. Leader cards and Character cards gain 1000 power during your turn for each \\nDON!! card given to them. \\n6-5-5-3. Giving can be performed as many times as you wish to the extent possible. \\n6-5-5-4. When a card that has been given a DON!! card is moved to another area, all \\nDON!! cards given to that card are placed in the cost area and rested. \\n6-5-6. Battle \\n6-5-6-1. Neither player can battle on their first turn. \\n6-5-6-2. For more information on battles, please refer to “7. Card Attacks and Battles” \\nbelow. \\n6-6. End Phase \\n6-6-1. This is the phase in which various end-of-turn processes are carried out. \\n6-6-1-1. Auto effects that read “[End of Your Turn]” (Keyword) and “[End of Your \\nOpponent’s Turn]” (Keyword) are activated. \\n6-6-1-1-1. Auto effects that read “[End of Your Turn]” (Keyword) and “[End of \\nYour Opponent’s Turn]” (Keyword) can only be activated and resolved once. \\n6-6-1-1-2. After all “[End of Your Turn]” (Keyword) effects have been activated \\nand resolved, all “[End of Your Opponent’s Turn]”  (Keyword) effects are \\nactivated and resolved. \\n6-6-1-1-3. If there are multiple “[End of Your Turn]” (Keyword) effects to be \\nresolved, the turn player may activate and resolve them in any order. \\n6-6-1-1-4. If there are multiple “[End of Your Opponent’s Turn]”  (Keyword) \\neffects to be resolved, the non-turn player may activate and resolve them in \\nany order.\\n\\nDON!! cards such that the number of DON!! cards given to it is X or higher. \\n10-2-10. DON!! −X \\n10-2-10-1. “DON!! −X” is a keyword indicating a condition requiring you to select \\na total number of DON!! cards equal to the value of X from your Leader \\narea, Character area, and cost area, and return them to your DON!! deck. \\n10-2-11. [Your Turn] \\n10-2-11-1. [Your Turn] is a keyword  indicating a condition that is satisfied during \\nyour turn.  \\n10-2-12. [Opponent’s Turn] \\n10-2-12-1. [Opponent’s Turn] is a keyword indicating a condition that is satisfied \\nduring your opponent’s turn. \\n10-2-13. [Once Per Turn] \\n10-2-13-1. [Once Per Turn] is a keyword indicating an effect can only be activated \\nand resolved once during that turn. \\n10-2-13-2. Where there are multiple cards with the same effect, [Once Per Turn]\\n\\nthe number of DON!! cards given to this card is equal to or greater than the \\nvalue of X. \\n8-3-2-4. Conditions may be specified using [Your Turn]. This condition is met during \\nyour turn. \\n8-3-2-5. Conditions may be specified using [Opponent’s Turn]. This condition is met \\nduring your opponent’s turn. \\n8-3-3. Effect text may include “if...”. So long as that clause is not fulfilled, effects after \\nthe “if” clause will not be resolved. \\n8.4. Activation and Resolution \\n8-4-1. To activate an effect, follow the procedure below: \\n8-4-1-1. If there are conditions for activation, those conditions must be met. The effect \\ncannot be activated if the conditions are not met. \\n8-4-1-2. Specify the effect to be activated. If it is an effect of a card in your hand, reveal \\nthat card. \\n8-4-1-3. If there are activation costs required to activate that effect, determine the \\nactivation costs and pay all activation costs. \\n8-4-1-4. Activate the effect. \\n8-4-1-5. Resolve the effect.\\n\\n11 \\n \\n4-6-3-1. If a Life card cannot be added to the hand due to an effect or replacement \\neffect, the [Trigger] cannot be activated. \\n4-7. Play a Card \\n4-7-1. Playing a card refers to a player paying its cost and activating it or playing it from \\ntheir hand. \\n4-8. Up to X Card(s) \\n4-8-1. If a direction states “up to X card(s)”, when the effect is activated, choose between \\n0 and X cards immediately before the effect is processed. Then, resolve the effect. \\n4-8-2. “Draw up to X card(s)” is an exception processed according to 4-5-4. \\n4-9. “Base” \\n4-9-1. The term “base” appears in some card text. \\n4-9-2. “Base” refers to the number or card text as it appears on that card. \\n4-10. “If” and “Then” \\n4-10-1. If a preceding “if” clause in the text cannot be resolved, the following clause in \\nthat text also cannot be resolved. \\n4-10-2. If a preceding “then” clause in the text cannot be resolved, the following clause \\nin that text can still be resolved. \\n4-11. “Remove” \\n4-11-1. The term “remove” appears in some card text. \\n4-11-2. “Remove” refers to moving a card from the area it is placed in to another area.\\n\\ntheir order.  \\n3-3-3. When multiple DON!! cards in a DON!! deck are moved simultaneously, they \\nshould be moved one by one. \\n3-4. Hand \\n3-4-1. This is where each player places the cards they draw from their deck. \\n3-4-2. The hand is a secret area, but a player can freely view the contents and change the \\norder of cards in their hand. \\n3-4-3. Players cannot view the contents of cards in the other player’s hand unless \\notherwise specified. \\n3-5. Trash \\n3-5-1. Character cards that have been K.O. ’d and Event cards that have been activated \\nare placed in this area. \\n3-5-2. The trash is a n open area. Cards in this area are placed face -up in a stack,  and \\neither player can freely view the contents and order of these cards . Players may \\nfreely change the order of cards in their own trash. When placing new cards in \\nthis area, they are normally placed on top of the cards that are already there.  \\n3-6. Leader Area \\n3-6-1. Each player places their Leader card face-up in this area at the start of the game. \\n3-6-2. The Leader area is an open area. \\n3-6-3. A card placed in the Leader area which is treated as a Leader card cannot be moved \\nfrom the Leader area by card effects or rules and will remain in the Leader area. \\n3-7. Character Area \\n3-7-1. This is where each player places their Character cards. \\n3-7-2. The Character area is an open area. Cards in this area are placed face-up. \\n3-7-3. Placing a Character card in the Character area is called “play[ing]” that card.\\n\\ntheir effects first, in any order, followed by the player who did not choose \\nto go first or second, who then processes their effects in any order. \\n5-2-1-5-2. If changes are made to a deck as the result of an effect that reads “At the \\nstart of the game”, it is then shuffled by the owner of that deck. \\n5-2-1-6. Each player draws 5 cards from their deck  as their opening hand. Then, \\nbeginning with the player going first, each player may redraw their hand once \\naccording to the procedure below.  \\n5-2-1-6-1. The player returns all of the cards in their hand to their deck, reshuffles, \\nand then redraws 5 cards. \\n5-2-1-7. Each player places a number of cards from the top of their deck equal to the \\nLife value of their Leader face-down in their Life area such that the card at the \\ntop of their deck is at the bottom in their Life area. \\n5-2-1-8. The first player begins the game and starts their turn.\\n\\n3-7. Character Area \\n3-7-1. This is where each player places their Character cards. \\n3-7-2. The Character area is an open area. Cards in this area are placed face-up. \\n3-7-3. Placing a Character card in the Character area is called “play[ing]” that card. \\n3-7-4. Played cards cannot attack on the turn in which they are played unless otherwise \\nspecified. \\n3-7-5. When placing cards in the Character area,  they should be set as active unless \\notherwise specified. \\n3-7-6. Up to 5 Character cards can be placed in the Character area. \\n3-7-6-1. If there are 5 Character cards in the Character area and a player wants to play \\na new Character card, that player should reveal the card they want to play, trash \\n1 of the Character cards already in their Character area, and then play the new \\nCharacter card in the Character area. \\n3-8. Stage Area \\n3-8-1. This is where each player places their Stage cards.\\n\\n9. Rule Processing  \\n9-1. Fundamental Rule Processing \\n9-1-1. Rule processing refers to processing that is automatically carried out according to \\nthe rules when specific events have occurred or are occurring during the game. \\n9-1-2. Rule processing is immediately resolved when the corresponding event occurs , \\neven if other actions are in the process of being carried out. \\n9-2. Defeat Judgment Processing \\n9-2-1. At the point when rule processing begins, if any player fulfil ls any of the defeat \\nconditions below, all of those players lose the game. \\n9-2-1-1. If either player’s Leader takes damage when that player has 0 Life cards, that \\nplayer has fulfilled the defeat conditions for the game. \\n9-2-1-2. If either player has 0 cards in their deck, that player  has fulfilled the defeat \\nconditions for the game. \\n \\n10. Keyword Effects and Keywords  \\n10-1. Keyword Effects \\n10-1-1. [Rush] \\n10-1-1-1. [Rush] is a keyword effect that allows a Character card to attack during the \\nsame turn in which it is played.\\n\\nIf time expires during extra turns and the active player has a card attacking, complete the attack\\n\\n7. Card Attacks and Battles  \\n7-1. During the Main Phase, the turn player can rest an active Leader card in their Leader \\narea, or an active Character card in their Character area, to attack an opponent’s Leader \\ncard in their Leader area, or rested Character card in their Character area. When an \\nattack is made, the game proceeds to Battle (see 6-5-6.) and is processed in order from \\nthe Attack Step (see 7-1-1.) to the Damage Step (see 7-1-4.). \\n7-1-1. Attack Step \\n7-1-1-1. Attacks are carried out by the Leader card, or a Character card in the \\nCharacter area. First,  the turn player  declares their attack by resting their  \\nactive Leader card or 1 active Character card. \\n7-1-1-2. The turn player then selects the target of their attack. The target can be either \\nthe opponent’s Leader card or 1 of their rested Character cards in their \\nCharacter area. \\n7-1-1-3. Effects that read [When Attacking] , “when you attack ”, or [On Your \\nOpponent's Attack] activate. \\n7-1-1-4. If, at the end of the Attack Step, the attacking card or the target card for the \\nattack has moved areas due to some method, proceed not to the Block Step \\n(see 7-1-2.), but to the End of the Battle (see 7-1-5.). \\n7-1-2. Block Step \\n7-1-2-1. The player being attacked can activate the [Blocker] effect of their card only \\nonce during that battle. \\n7-1-2-2. When a [Blocker] is activated, effects that read [On Block] or “when you block” \\nactivate.\\n\\n3 \\n \\nthat card will not be trashed or otherwise moved to an area. \\n1-3-8. Unless otherwise specified, card effects are  carried out in the order described on \\nthe card. \\n1-3-9. If card effects require a player to rest a card and set it as active simultaneously, the \\neffect requiring the player to rest the card always takes precedence. \\n1-3-10. Cost and Activation Cost \\n1-3-10-1. Cost refers to a payment that must be made to play a card. A card’s cost is \\nthe number written in its upper left corner. (See 6-5-3-1.) \\n1-3-10-2. Activation cost refers to a payment required to activate a card’s effect. (See \\n8-3.) \\n1-3-11. If both players are instructed to perform some action at the same time according \\nto a card ’s effect, the turn player is to perform the action first, followed by the \\nnon-turn player.\\n\\n5. Game Setup \\n5-1. Preparing Leader Cards, Decks, and DON!! Decks \\n5-1-1. Each player prepares a Leader card, deck, and DON!! deck from their cards before \\nthe game begins. \\n5-1-2. Each player needs  exactly 1 Leader card, a 50 -card deck, and a 10-card DON!! \\ndeck to play. \\n5-1-2-1. A deck is a bundle of cards made up of Character cards, Event cards, and Stage \\ncards. \\n5-1-2-2. Only cards of a color included on the Leader card can be included in a deck. \\nCards of a color not included on the Leader card cannot be added to the deck.  \\n5-1-2-3. A deck can contain no more than 4 cards with the same card number. \\n5-1-2-4. Effects related to deck construction rules are treated as permanent effects (see \\n8-1-3-4-3.) which replace the deck construction rules above. \\n5-1-2-4-1. Effects related to deck construction are those specifying that the deck can \\ncontain a specified number of cards of a certain category, or that the deck\\n\\nDON!! cards such that the number of DON!! cards given to it is X or higher. \\n10-2-10. DON!! −X \\n10-2-10-1. “DON!! −X” is a keyword indicating a condition requiring you to select \\na total number of DON!! cards equal to the value of X from your Leader \\narea, Character area, and cost area, and return them to your DON!! deck. \\n10-2-11. [Your Turn] \\n10-2-11-1. [Your Turn] is a keyword  indicating a condition that is satisfied during \\nyour turn.  \\n10-2-12. [Opponent’s Turn] \\n10-2-12-1. [Opponent’s Turn] is a keyword indicating a condition that is satisfied \\nduring your opponent’s turn. \\n10-2-13. [Once Per Turn] \\n10-2-13-1. [Once Per Turn] is a keyword indicating an effect can only be activated \\nand resolved once during that turn. \\n10-2-13-2. Where there are multiple cards with the same effect, [Once Per Turn]\\n\\nCharacter card in the cost area such that it remains visible . This is called \\n“giving”.  \\n6-5-5-2. Leader cards and Character cards gain 1000 power during your turn for each \\nDON!! card given to them. \\n6-5-5-3. Giving can be performed as many times as you wish to the extent possible. \\n6-5-5-4. When a card that has been given a DON!! card is moved to another area, all \\nDON!! cards given to that card are placed in the cost area and rested. \\n6-5-6. Battle \\n6-5-6-1. Neither player can battle on their first turn. \\n6-5-6-2. For more information on battles, please refer to “7. Card Attacks and Battles” \\nbelow. \\n6-6. End Phase \\n6-6-1. This is the phase in which various end-of-turn processes are carried out. \\n6-6-1-1. Auto effects that read “[End of Your Turn]” (Keyword) and “[End of Your \\nOpponent’s Turn]” (Keyword) are activated. \\n6-6-1-1-1. Auto effects that read “[End of Your Turn]” (Keyword) and “[End of \\nYour Opponent’s Turn]” (Keyword) can only be activated and resolved once. \\n6-6-1-1-2. After all “[End of Your Turn]” (Keyword) effects have been activated \\nand resolved, all “[End of Your Opponent’s Turn]”  (Keyword) effects are \\nactivated and resolved. \\n6-6-1-1-3. If there are multiple “[End of Your Turn]” (Keyword) effects to be \\nresolved, the turn player may activate and resolve them in any order. \\n6-6-1-1-4. If there are multiple “[End of Your Opponent’s Turn]”  (Keyword) \\neffects to be resolved, the non-turn player may activate and resolve them in \\nany order.\\n\\n2-7-3. When activating an Event card from your hand, you should first reveal the card \\nyou wish to activate, select a number of active DON!! cards in your cost area equal \\nto the card’s cost, rest those DON!! cards, and then trash the revealed card to \\nactivate it. \\n2-7-4. When playing a Stage card from your hand, you should first reveal the card you \\nwish to play, select a number of active DON!! cards in your cost area equal to the \\ncard’s cost, rest those DON!! cards, and then play the revealed card. \\n2-7-5. Only Character cards, Event cards and Stage cards have costs. \\n2-7-6. An effect may make a cost greater or less than the written value. \\n2-8. Card Text \\n2-8-1. This describes the card’s effects. \\n2-8-2. Unless otherwise specified, card text on Leader cards, Character cards, and Stage \\ncards is valid only in the Leader area, Character area, and Stage area, respectively. \\n2-8-3. Text is resolved in order starting from the text closest to the top. \\n2-8-4. Some text has detailed explanations of keyword effects or other card effects inside \\n( ) parentheses. These are called explanatory notes and their purpose is to provide \\nfurther explanation of effects.\""
      ]
     },
     "execution_count": 2,
     "metadata": {},
     "output_type": "execute_result"
    }
   ],
   "source": [
    "from optcg.agents.analysis_agent import rulebook_retriever, retriever\n",
    "\n",
    "res1 = rulebook_retriever({\n",
    "    \"user_message\": \"What should I do this turn?\",\n",
    "    \"extraction\": res,\n",
    "    \"thread_id\": \"thread_123\",\n",
    "    \"board\": game_state})\n",
    "res1\n"
   ]
  },
  {
   "cell_type": "code",
   "execution_count": null,
   "id": "4bc37455",
   "metadata": {},
   "outputs": [
    {
     "data": {
      "text/plain": [
       "Command(update={'messages': [{'role': 'user', 'content': 'What should I do this turn?'}, {'role': 'assistant', 'content': 'Given your current board state and hand, here’s a strategic breakdown and suggested play for your turn:\\n\\n## Your Board\\n- Leader: Roronoa Zoro (OP01-001) — [DON!! x1] [Your Turn] All of your Characters gain +1000 power.\\n- Characters: Roronoa Zoro (OP01-025, 5000, Rush), Nico Robin (OP01-017, 4000, [DON!! x1] [When Attacking] K.O. up to 1 of your opponent\\'s Characters with 3000 power or less), Marco (OP01-023, 5000)\\n- DON!!: 7 available, all active\\n- Life: 4\\n- Hand: 3x Otama (OP01-006, 2000 counter), 2x Marco (OP01-023, 1000 counter)\\n\\n## Opponent’s Board\\n- Leader: Eustass \"Captain\" Kid (ST02-001, 5000, [Activate: Main] [Once Per Turn] 3 DON!!, trash 1 card: Set this Leader as active)\\n- Characters: 3x Nami (OP02-036, 5000 each)\\n- DON!!: 8 available, all active\\n- Life: 3\\n- Hand: 5 cards\\n\\n## Key Considerations\\n- All of your opponent’s Namis are 5000 power, so Nico Robin’s [When Attacking] effect (K.O. 3000 or less) will not work unless you reduce their power.\\n- You have three Otama in hand, each can reduce a Character’s power by 2000 for the turn.\\n- Your Zoro Leader can give all your Characters +1000 power with 1 DON!! attached.\\n- Your opponent has no visible blockers, but may have counter cards in hand.\\n\\n---\\n\\n## Suggested Play\\n\\n### 1. Use Otama to Weaken a Nami\\n- Play Otama (cost 1 DON!!), target one of your opponent’s Namis, reducing it to 3000 power for the turn.\\n\\n### 2. Activate Nico Robin’s Effect\\n- Attach 1 DON!! to Nico Robin (to enable her [When Attacking] effect and boost her to 5000 power if Zoro Leader’s effect is active).\\n- Attack with Nico Robin, targeting the weakened Nami. When you attack, activate her effect to K.O. that Nami (since it is now 3000 power).\\n- Your opponent may use counter cards to save Nami, but if not, you remove one Nami from the board.\\n\\n### 3. Power Up Your Board\\n- Attach 1 DON!! to your Leader Zoro to activate his effect ([DON!! x1] [Your Turn] All of your Characters gain +1000 power).\\n- Now, all your Characters (including the new Otama) get +1000 power for the turn.\\n\\n### 4. Attack with Roronoa Zoro (OP01-025, Rush)\\n- Attach 1 or more DON!! to Zoro (OP01-025) to increase his power. With Leader’s effect, he is at 6000 with 1 DON!!, 7000 with 2, etc.\\n- Attack your opponent’s Leader or another Nami, depending on your goal (apply pressure to life or clear board).\\n- If you want to clear another Nami, you can play a second Otama (cost 1 DON!!), target another Nami, and attack it with Zoro (OP01-025) or Marco.\\n\\n### 5. Attack with Marco\\n- Attach 1 or more DON!! to Marco to boost his power (with Leader’s effect).\\n- Attack the opponent’s Leader or a weakened Nami.\\n\\n### 6. Consider Playing a Second Marco\\n- If you want more board presence, you can play another Marco from hand (cost 3 DON!!), but this will use up more DON!! and may limit your attacks this turn.\\n\\n### 7. Reserve Otama for Defense\\n- You may want to keep at least one Otama in hand for its 2000 counter value, especially since your opponent may attack back strongly next turn.\\n\\n---\\n\\n## Example Turn Sequence\\n\\n1. Play Otama (1 DON!!, 6 left), target Nami #1 (now 3000 power).\\n2. Attach 1 DON!! to Nico Robin (5 left), attack Nami #1, K.O. it with her effect.\\n3. Attach 1 DON!! to Leader Zoro (4 left), all Characters get +1000 power.\\n4. Attach 1 DON!! to Roronoa Zoro (OP01-025) (3 left), attack Nami #2 (if you want to clear board) or the opponent’s Leader (now 7000 power with Leader effect).\\n   - If attacking Nami #2, play a second Otama (1 DON!!, 2 left), target Nami #2 (now 3000 power), attack and K.O. it.\\n5. Attach 1 DON!! to Marco (1 left), attack with Marco (now 7000 power with Leader effect).\\n6. Use remaining DON!! as needed for more attacks or to play another Character.\\n\\n---\\n\\n## Summary\\n\\n- Use Otama + Nico Robin to remove a Nami.\\n- Use Leader’s effect to boost your board.\\n- Attack with your Characters, prioritizing board control or pressuring the opponent’s life.\\n- Consider keeping Otama in hand for defense.\\n\\nLet me know if you want a more aggressive or defensive plan, or if you want to focus on attacking the opponent’s Leader instead of clearing their board!'}]}, goto='END')"
      ]
     },
     "execution_count": 4,
     "metadata": {},
     "output_type": "execute_result"
    }
   ],
   "source": [
    "from optcg.agents.analysis_agent import llm_interpretation\n",
    "\n",
    "res2 = llm_interpretation({\n",
    "    \"user_message\": \"What should I do this turn?\",\n",
    "    \"retrieval\": res1,\n",
    "    \"extraction\": res,\n",
    "    \"thread_id\": \"thread_123\",\n",
    "    \"board\": game_state})\n",
    "res2"
   ]
  },
  {
   "cell_type": "code",
   "execution_count": 4,
   "id": "3637cdbb",
   "metadata": {},
   "outputs": [
    {
     "data": {
      "text/plain": [
       "[HumanMessage(content='What should I do this turn?', additional_kwargs={}, response_metadata={}),\n",
       " AIMessage(content='Given your current board state and hand, here’s a strategic breakdown and suggested play for your turn:\\n\\n### Your Board\\n- Leader: Roronoa Zoro (OP01-001) — [DON!! x1] [Your Turn] All of your Characters gain +1000 power.\\n- Characters: \\n  - Roronoa Zoro (OP01-025) [Rush], 5000 power\\n  - Nico Robin (OP01-017), 4000 power, [DON!! x1] [When Attacking] K.O. up to 1 of your opponent\\'s Characters with 3000 power or less.\\n  - Marco (OP01-023), 5000 power\\n- DON!!: 7 available\\n- Hand: 3x Otama (each with 2000 counter), 2x Marco\\n\\n### Opponent’s Board\\n- Leader: Eustass \"Captain\" Kid (ST02-001)\\n- Characters: 3x Nami (OP02-036), each 5000 power\\n- DON!!: 8 available\\n- Life: 3\\n\\n---\\n\\n## Strategic Considerations\\n\\n- Your opponent has three 5000 power Nami characters, which are not easily removed by Nico Robin’s effect alone.\\n- You have a strong board presence and a hand full of high-counter cards (Otama).\\n- Your Leader’s ability can boost all your Characters’ power with just 1 DON!! attached to him.\\n- You have [Rush] Zoro, so you can attack with him immediately.\\n- Your opponent’s Leader can re-stand once per turn by trashing a card and resting 3 DON!!, so be aware of possible counterattacks.\\n\\n---\\n\\n## Suggested Play Sequence\\n\\n### 1. Activate Leader Ability\\n- Attach 1 DON!! to your Leader (Roronoa Zoro OP01-001).\\n- All your Characters gain +1000 power this turn (Zoro: 6000, Nico Robin: 5000, Marco: 6000, [Rush] Zoro: 6000).\\n\\n### 2. Plan Your Attacks\\n- All your Characters are now at least 5000/6000 power, which matches or exceeds the opponent’s Namis and Leader.\\n- You can attack the opponent’s Leader or try to clear their board. However, since all Namis are 5000 power, Nico Robin’s effect alone cannot K.O. them unless you reduce their power.\\n\\n#### Option: Use Otama + Nico Robin\\n- Play Otama from hand (cost 1 DON!!), target one Nami, reducing her to 3000 power.\\n- Attack with Nico Robin, attach 1 DON!! to her (to activate her effect and boost her to 6000 power with Leader’s ability).\\n- On attack, use Nico Robin’s effect to K.O. the weakened Nami (now 3000 power).\\n- You can then choose to attack the opponent’s Leader or other Namis with your remaining Characters.\\n\\n### 3. Attack Sequence Example\\n\\n#### a) Play Otama (cost 1 DON!!)\\n- 6 DON!! left.\\n- Target one Nami, reduce her to 3000 power.\\n\\n#### b) Attack with Nico Robin\\n- Attach 1 DON!! to Nico Robin (5 DON!! left).\\n- Nico Robin is now 5000 base + 1000 (Leader) + 1000 (DON!!) = 7000 power.\\n- Attack the Nami you weakened with Otama.\\n- Use Nico Robin’s effect to K.O. that Nami.\\n\\n#### c) Attack with [Rush] Zoro\\n- Attach 1 DON!! to [Rush] Zoro (4 DON!! left).\\n- [Rush] Zoro is now 5000 base + 1000 (Leader) + 1000 (DON!!) = 7000 power.\\n- Attack the opponent’s Leader for 1 damage (they may counter, but you force them to use resources).\\n\\n#### d) Attack with Marco\\n- Attach 1 DON!! to Marco (3 DON!! left).\\n- Marco is now 5000 base + 1000 (Leader) + 1000 (DON!!) = 7000 power.\\n- Attack the opponent’s Leader for 1 damage.\\n\\n#### e) Attack with Leader\\n- Attach 1 more DON!! to Leader (2 DON!! left).\\n- Leader is now 5000 base + 1000 (DON!!) = 6000 power.\\n- Attack the opponent’s Leader for 1 damage.\\n\\n#### f) Remaining DON!!\\n- You have 2 DON!! left. You can:\\n  - Play another Otama (if you want to set up for next turn or block with counter).\\n  - Hold for countering during your opponent’s turn.\\n\\n---\\n\\n## Summary of Actions\\n\\n1. Play Otama, reduce a Nami to 3000 power.\\n2. Attack that Nami with Nico Robin (with 1 DON!!), K.O. it.\\n3. Attack with [Rush] Zoro (with 1 DON!!) at the opponent’s Leader.\\n4. Attack with Marco (with 1 DON!!) at the opponent’s Leader.\\n5. Attack with your Leader (with 1 DON!!) at the opponent’s Leader.\\n6. Use remaining DON!! as you see fit (play another Otama, or keep for counter).\\n\\n---\\n\\n## Why This Is Strong\\n\\n- You remove one of their Namis, reducing their board pressure.\\n- You apply significant pressure to their Leader, possibly forcing them to use counter cards from hand.\\n- You maintain a strong board and keep Otama and counter cards in hand for defense.\\n\\nIf you want to be more aggressive, you can use more DON!! to boost attacks, but always consider keeping some for countering on your opponent’s turn.\\n\\nLet me know if you want a more defensive or aggressive plan, or if you want to focus on clearing the board instead of attacking the Leader!', additional_kwargs={'refusal': None}, response_metadata={'token_usage': {'completion_tokens': 1227, 'prompt_tokens': 13389, 'total_tokens': 14616, 'completion_tokens_details': {'accepted_prediction_tokens': 0, 'audio_tokens': 0, 'reasoning_tokens': 0, 'rejected_prediction_tokens': 0}, 'prompt_tokens_details': {'audio_tokens': 0, 'cached_tokens': 2688}}, 'model_name': 'gpt-4.1-2025-04-14', 'system_fingerprint': 'fp_51e1070cf2', 'id': 'chatcmpl-C2168JXXDaqgVC6ce3SSw13Kv8rFN', 'service_tier': 'default', 'finish_reason': 'stop', 'logprobs': None}, id='run--8a440eae-d640-4496-851e-82478b68242e-0', usage_metadata={'input_tokens': 13389, 'output_tokens': 1227, 'total_tokens': 14616, 'input_token_details': {'audio': 0, 'cache_read': 2688}, 'output_token_details': {'audio': 0, 'reasoning': 0}})]"
      ]
     },
     "execution_count": 4,
     "metadata": {},
     "output_type": "execute_result"
    }
   ],
   "source": [
    "res2.update[\"messages\"]"
   ]
  },
  {
   "cell_type": "code",
   "execution_count": null,
   "id": "479972fe",
   "metadata": {},
   "outputs": [
    {
     "name": "stdout",
     "output_type": "stream",
     "text": [
      "Extraction Result: queries=['What are the rules for attacking with a character or leader?', 'How does the DON!! system work for powering up attacks?', 'How do counter abilities work during the attack phase?', 'How does the [Rush] ability allow a character to attack the turn it is played?', \"How does the [When Attacking] ability on a character work, specifically for K.O.-ing opponent's characters?\", \"How does the [DON!! x1] ability on the leader affect all characters' power?\", \"What are the rules for attacking opponent's characters versus attacking the leader?\", \"How does the opponent's leader ability to re-stand work during your attack phase?\"]\n"
     ]
    }
   ],
   "source": [
    "from optcg.agents.analysis_agent import extract_board_state\n",
    "import json\n",
    "\n",
    "with open(\"test_state_hand.json\", \"r\") as f:\n",
    "    game_state = json.load(f)\n",
    "\n",
    "res = extract_board_state({\n",
    "    \"message\": \"How should I attack this turn?\",\n",
    "    \"thread_id\": \"thread_123\",\n",
    "    \"board\": game_state})"
   ]
  },
  {
   "cell_type": "code",
   "execution_count": null,
   "id": "8760cb4a",
   "metadata": {},
   "outputs": [],
   "source": [
    "res.queries"
   ]
  },
  {
   "cell_type": "code",
   "execution_count": null,
   "id": "0ec683ea",
   "metadata": {},
   "outputs": [
    {
     "name": "stdout",
     "output_type": "stream",
     "text": [
      "Loading existing vector store...\n",
      "Loading existing vector store...\n",
      "Loading existing vector store...\n",
      "Extraction Result: queries=['What are the rules for playing character cards from hand?', 'How does the DON!! system work for paying costs and powering up attacks?', 'How do [On Play] abilities resolve when playing a character?', 'What are the rules for attacking with a character or leader?', 'How do counter abilities work during the attack phase?', 'How do abilities that trigger using DON!! work?', 'How does the [Rush] ability work for attacking the turn a character is played?', 'How do [When Attacking] abilities resolve?']\n",
      "Extraction Result: queries=['What are the rules for playing character cards from hand?', 'How does the DON!! system work for paying costs and powering up attacks?', 'How do [On Play] abilities resolve when playing a character?', 'What are the rules for attacking with a character or leader?', 'How do counter abilities work during the attack phase?', 'How do abilities that trigger using DON!! work?', 'How does the [Rush] ability work for attacking the turn a character is played?', 'How do [When Attacking] abilities resolve?']\n"
     ]
    }
   ],
   "source": [
    "from optcg.agents.analysis_agent import extract_board_state\n",
    "import json\n",
    "\n",
    "with open(\"test_state_hand.json\", \"r\") as f:\n",
    "    game_state = json.load(f)\n",
    "\n",
    "res = extract_board_state({\n",
    "    \"message\": \"How should I play my hand this turn?\",\n",
    "    \"thread_id\": \"thread_123\",\n",
    "    \"board\": game_state})"
   ]
  },
  {
   "cell_type": "code",
   "execution_count": 5,
   "id": "f1a8c850",
   "metadata": {},
   "outputs": [
    {
     "data": {
      "text/plain": [
       "['What are the rules for attacking with a character or leader?',\n",
       " 'How does the DON!! system work for powering up attacks?',\n",
       " 'How do counter abilities work during the attack phase?',\n",
       " 'How does the [Rush] ability allow a character to attack the turn it is played?',\n",
       " \"How does the [When Attacking] ability on a character work, specifically for K.O.-ing opponent's characters?\",\n",
       " \"How does the [DON!! x1] ability on the leader affect all characters' power?\",\n",
       " \"What are the rules for attacking opponent's characters versus attacking the leader?\",\n",
       " \"How does the opponent's leader ability to re-stand work during your attack phase?\"]"
      ]
     },
     "execution_count": 5,
     "metadata": {},
     "output_type": "execute_result"
    }
   ],
   "source": [
    "res.queries"
   ]
  },
  {
   "cell_type": "code",
   "execution_count": 4,
   "id": "d52e5119",
   "metadata": {},
   "outputs": [
    {
     "name": "stdout",
     "output_type": "stream",
     "text": [
      "Status: 200\n",
      "Response: {'status': 'Board state saved successfully'}\n",
      "Status: 200\n",
      "Response: {'UserState': {'life': 4, 'don': 7, 'leader': {'id': 'OP01-001', 'code': 'OP01-001', 'rarity': 'L', 'type': 'LEADER', 'name': 'Roronoa Zoro', 'images': {'small': 'https://en.onepiece-cardgame.com/images/cardlist/card/OP01-001.png', 'large': 'https://en.onepiece-cardgame.com/images/cardlist/card/OP01-001.png'}, 'cost': 5, 'attribute': {'name': 'Slash', 'image': 'https://en.onepiece-cardgame.com/images/cardlist/attribute/ico_type02.png'}, 'power': 5000, 'counter': '-', 'color': 'Red', 'family': 'Supernovas/Straw Hat Crew', 'ability': '[DON!! x1] [Your Turn] All of your Characters gain +1000 power.', 'trigger': '', 'set': {'name': '-ROMANCE DAWN- [OP01]'}, 'notes': []}, 'event': None, 'stage': None, 'character': [{'id': 'OP01-025', 'code': 'OP01-025', 'rarity': 'SR', 'type': 'CHARACTER', 'name': 'Roronoa Zoro', 'images': {'small': 'https://en.onepiece-cardgame.com/images/cardlist/card/OP01-025.png', 'large': 'https://en.onepiece-cardgame.com/images/cardlist/card/OP01-025.png'}, 'cost': 3, 'attribute': {'name': 'Slash', 'image': 'https://en.onepiece-cardgame.com/images/cardlist/attribute/ico_type02.png'}, 'power': 5000, 'counter': '-', 'color': 'Red', 'family': 'Supernovas/Straw Hat Crew', 'ability': '[Rush] (This card can attack on the turn in which it is played.)', 'trigger': '', 'set': {'name': '-ROMANCE DAWN- [OP01]'}, 'notes': []}, {'id': 'OP01-017', 'code': 'OP01-017', 'rarity': 'R', 'type': 'CHARACTER', 'name': 'Nico Robin', 'images': {'small': 'https://en.onepiece-cardgame.com/images/cardlist/card/OP01-017.png', 'large': 'https://en.onepiece-cardgame.com/images/cardlist/card/OP01-017.png'}, 'cost': 3, 'attribute': {'name': 'Strike', 'image': 'https://en.onepiece-cardgame.com/images/cardlist/attribute/ico_type01.png'}, 'power': 4000, 'counter': '1000', 'color': 'Red', 'family': 'Straw Hat Crew', 'ability': \"[DON!! x1] [When Attacking] K.O. up to 1 of your opponent's Characters with 3000 power or less.\", 'trigger': '', 'set': {'name': '-ROMANCE DAWN- [OP01]'}, 'notes': [{'name': 'Errata Card', 'url': 'https://en.onepiece-cardgame.com//rules/errata_card/#errata_05'}]}, {'id': 'OP01-023', 'code': 'OP01-023', 'rarity': 'C', 'type': 'CHARACTER', 'name': 'Marco', 'images': {'small': 'https://en.onepiece-cardgame.com/images/cardlist/card/OP01-023.png', 'large': 'https://en.onepiece-cardgame.com/images/cardlist/card/OP01-023.png'}, 'cost': 3, 'attribute': {'name': 'Special', 'image': 'https://en.onepiece-cardgame.com/images/cardlist/attribute/ico_type03.png'}, 'power': 5000, 'counter': '1000', 'color': 'Red', 'family': 'Former Whitebeard Pirates', 'ability': '-', 'trigger': '', 'set': {'name': '-ROMANCE DAWN- [OP01]'}, 'notes': []}]}, 'OpponentState': {'life': 3, 'don': 8, 'leader': {'id': 'ST02-001', 'code': 'ST02-001', 'rarity': 'L', 'type': 'LEADER', 'name': 'Eustass\"Captain\"Kid', 'images': {'small': 'https://en.onepiece-cardgame.com/images/cardlist/card/ST02-001.png', 'large': 'https://en.onepiece-cardgame.com/images/cardlist/card/ST02-001.png'}, 'cost': 5, 'attribute': {'name': 'Special', 'image': 'https://en.onepiece-cardgame.com/images/cardlist/attribute/ico_type03.png'}, 'power': 5000, 'counter': '-', 'color': 'Green', 'family': 'Supernovas/Kid Pirates', 'ability': '[Activate: Main] [Once Per Turn]  â‘¢ (You may rest the specified number of DON!! cards in your cost area.) You may trash 1 card from your hand: Set this Leader as active.', 'trigger': '', 'set': {'name': '-Worst Generation-[ST-02]'}, 'notes': []}, 'event': None, 'stage': None, 'character': [{'id': 'OP02-036', 'code': 'OP02-036', 'rarity': 'SR', 'type': 'CHARACTER', 'name': 'Nami', 'images': {'small': 'https://en.onepiece-cardgame.com/images/cardlist/card/OP02-036.png', 'large': 'https://en.onepiece-cardgame.com/images/cardlist/card/OP02-036.png'}, 'cost': 3, 'attribute': {'name': 'Special', 'image': 'https://en.onepiece-cardgame.com/images/cardlist/attribute/ico_type03.png'}, 'power': 5000, 'counter': '-', 'color': 'Green', 'family': 'FILM/Straw Hat Crew', 'ability': '[On Play]/[When Attacking] âž€ (You may rest the specified number of DON!! cards in your cost area.): Look at 3 cards from the top of your deck; reveal up to 1 {FILM} type card other than [Nami] and add it to your hand. Then, place the rest at the bottom of your deck in any order.', 'trigger': '', 'set': {'name': '-PARAMOUNT WAR- [OP02]'}, 'notes': []}, {'id': 'OP02-036', 'code': 'OP02-036', 'rarity': 'SR', 'type': 'CHARACTER', 'name': 'Nami', 'images': {'small': 'https://en.onepiece-cardgame.com/images/cardlist/card/OP02-036.png', 'large': 'https://en.onepiece-cardgame.com/images/cardlist/card/OP02-036.png'}, 'cost': 3, 'attribute': {'name': 'Special', 'image': 'https://en.onepiece-cardgame.com/images/cardlist/attribute/ico_type03.png'}, 'power': 5000, 'counter': '-', 'color': 'Green', 'family': 'FILM/Straw Hat Crew', 'ability': '[On Play]/[When Attacking] âž€ (You may rest the specified number of DON!! cards in your cost area.): Look at 3 cards from the top of your deck; reveal up to 1 {FILM} type card other than [Nami] and add it to your hand. Then, place the rest at the bottom of your deck in any order.', 'trigger': '', 'set': {'name': '-PARAMOUNT WAR- [OP02]'}, 'notes': []}, {'id': 'OP02-036', 'code': 'OP02-036', 'rarity': 'SR', 'type': 'CHARACTER', 'name': 'Nami', 'images': {'small': 'https://en.onepiece-cardgame.com/images/cardlist/card/OP02-036.png', 'large': 'https://en.onepiece-cardgame.com/images/cardlist/card/OP02-036.png'}, 'cost': 3, 'attribute': {'name': 'Special', 'image': 'https://en.onepiece-cardgame.com/images/cardlist/attribute/ico_type03.png'}, 'power': 5000, 'counter': '-', 'color': 'Green', 'family': 'FILM/Straw Hat Crew', 'ability': '[On Play]/[When Attacking] âž€ (You may rest the specified number of DON!! cards in your cost area.): Look at 3 cards from the top of your deck; reveal up to 1 {FILM} type card other than [Nami] and add it to your hand. Then, place the rest at the bottom of your deck in any order.', 'trigger': '', 'set': {'name': '-PARAMOUNT WAR- [OP02]'}, 'notes': []}]}}\n"
     ]
    }
   ],
   "source": [
    "import os\n",
    "import json\n",
    "import requests\n",
    "from dotenv import load_dotenv\n",
    "\n",
    "# filepath: c:\\Users\\Tyson Franke\\repos\\sail-2025-optcg\\backend\\post_board_state.py\n",
    "\n",
    "# Load env vars (OPENAI_API_KEY, API_BASE_URL, etc.)\n",
    "load_dotenv()\n",
    "\n",
    "api_base = os.getenv(\"API_BASE_URL\", \"http://localhost:8000\")\n",
    "url = f\"{api_base}/board/\"\n",
    "\n",
    "# Load your test state from disk\n",
    "with open(\"test_state.json\", \"r\") as f:\n",
    "    payload = json.load(f)\n",
    "\n",
    "# Send POST request\n",
    "resp = requests.post(url, json=payload)\n",
    "resp.raise_for_status()\n",
    "\n",
    "print(\"Status:\", resp.status_code)\n",
    "print(\"Response:\", resp.json())\n",
    "\n",
    "res = requests.get(url)\n",
    "print(\"Status:\", res.status_code)\n",
    "print(\"Response:\", res.json())"
   ]
  },
  {
   "cell_type": "code",
   "execution_count": 11,
   "id": "cdea1674",
   "metadata": {},
   "outputs": [
    {
     "name": "stdout",
     "output_type": "stream",
     "text": [
      "None\n"
     ]
    }
   ],
   "source": [
    "from optcg import state\n",
    "print(state.current_board_state)"
   ]
  },
  {
   "cell_type": "code",
   "execution_count": 9,
   "id": "b8eb4553",
   "metadata": {},
   "outputs": [
    {
     "data": {
      "text/plain": [
       "{'error': 'No board state found. Please tell user to update the board state first.'}"
      ]
     },
     "execution_count": 9,
     "metadata": {},
     "output_type": "execute_result"
    }
   ],
   "source": [
    "from optcg.tools import get_board_tool\n",
    "get_board_tool.invoke(\"\")"
   ]
  },
  {
   "cell_type": "code",
   "execution_count": null,
   "id": "2ad03c82",
   "metadata": {},
   "outputs": [
    {
     "name": "stdout",
     "output_type": "stream",
     "text": [
      "Board State Retrieved: {'error': 'No board state found. Please tell user to update the board state first.'}\n"
     ]
    },
    {
     "data": {
      "text/plain": [
       "Command(update={'board': {'error': 'No board state found. Please tell user to update the board state first.'}}, goto='chat_agent')"
      ]
     },
     "execution_count": 5,
     "metadata": {},
     "output_type": "execute_result"
    }
   ],
   "source": [
    "from optcg.agents.analysis_agent import boardstate_retrieval\n",
    "boardstate_retrieval({\"board\": {\"turn\": 1, \"phase\": \"main\", \"hand\": [], \"deck\": [], \"graveyard\": [], \"exile\": [], \"battlefield\": []}})"
   ]
  },
  {
   "cell_type": "code",
   "execution_count": null,
   "id": "6984ccee",
   "metadata": {},
   "outputs": [],
   "source": []
  },
  {
   "cell_type": "code",
   "execution_count": 5,
   "id": "600140a5",
   "metadata": {},
   "outputs": [
    {
     "name": "stderr",
     "output_type": "stream",
     "text": [
      "2025-07-29 13:56:11,903 - INFO - Anonymized telemetry enabled. See                     https://docs.trychroma.com/telemetry for more information.\n"
     ]
    },
    {
     "name": "stdout",
     "output_type": "stream",
     "text": [
      "Loading existing vector store...\n"
     ]
    },
    {
     "name": "stderr",
     "output_type": "stream",
     "text": [
      "2025-07-29 13:56:13,190 - INFO - HTTP Request: POST https://api.openai.com/v1/chat/completions \"HTTP/1.1 200 OK\"\n",
      "2025-07-29 13:56:14,218 - INFO - HTTP Request: POST https://api.openai.com/v1/chat/completions \"HTTP/1.1 200 OK\"\n"
     ]
    },
    {
     "data": {
      "text/plain": [
       "{'messages': [HumanMessage(content='what is the current board state?', additional_kwargs={}, response_metadata={}, id='a7bf0bb1-1caf-4bef-b2a9-99918b24a150'),\n",
       "  AIMessage(content='', additional_kwargs={'tool_calls': [{'id': 'call_KZ4nYilyVa91cMuK9pnz3577', 'function': {'arguments': '{}', 'name': 'get_board_tool'}, 'type': 'function'}], 'refusal': None}, response_metadata={'token_usage': {'completion_tokens': 11, 'prompt_tokens': 267, 'total_tokens': 278, 'completion_tokens_details': {'accepted_prediction_tokens': 0, 'audio_tokens': 0, 'reasoning_tokens': 0, 'rejected_prediction_tokens': 0}, 'prompt_tokens_details': {'audio_tokens': 0, 'cached_tokens': 0}}, 'model_name': 'gpt-4.1-2025-04-14', 'system_fingerprint': 'fp_b3f1157249', 'id': 'chatcmpl-ByjmemAdJ92zJirybRq5ndl8RdsSJ', 'service_tier': 'default', 'finish_reason': 'tool_calls', 'logprobs': None}, name='RulebookAgent', id='run--50d3be73-fec6-4243-9692-0e1099fef6f7-0', tool_calls=[{'name': 'get_board_tool', 'args': {}, 'id': 'call_KZ4nYilyVa91cMuK9pnz3577', 'type': 'tool_call'}], usage_metadata={'input_tokens': 267, 'output_tokens': 11, 'total_tokens': 278, 'input_token_details': {'audio': 0, 'cache_read': 0}, 'output_token_details': {'audio': 0, 'reasoning': 0}}),\n",
       "  ToolMessage(content='{\"error\": \"No board state found. Please tell user to update the board state first.\"}', name='get_board_tool', id='b08bb790-9fd3-4d0c-9ed4-5c357ce92c4e', tool_call_id='call_KZ4nYilyVa91cMuK9pnz3577'),\n",
       "  AIMessage(content='There is currently no board state set. Please update or provide the current board state if you would like me to retrieve or analyze it for you.', additional_kwargs={'refusal': None}, response_metadata={'token_usage': {'completion_tokens': 30, 'prompt_tokens': 311, 'total_tokens': 341, 'completion_tokens_details': {'accepted_prediction_tokens': 0, 'audio_tokens': 0, 'reasoning_tokens': 0, 'rejected_prediction_tokens': 0}, 'prompt_tokens_details': {'audio_tokens': 0, 'cached_tokens': 0}}, 'model_name': 'gpt-4.1-2025-04-14', 'system_fingerprint': 'fp_b3f1157249', 'id': 'chatcmpl-ByjmfY3yYPTxww5b4nGVZe4aIQ1bn', 'service_tier': 'default', 'finish_reason': 'stop', 'logprobs': None}, name='RulebookAgent', id='run--28adabfb-98f4-43ce-aa8d-d8ba5254682a-0', usage_metadata={'input_tokens': 311, 'output_tokens': 30, 'total_tokens': 341, 'input_token_details': {'audio': 0, 'cache_read': 0}, 'output_token_details': {'audio': 0, 'reasoning': 0}})]}"
      ]
     },
     "execution_count": 5,
     "metadata": {},
     "output_type": "execute_result"
    }
   ],
   "source": [
    "agent = RulebookAgent()\n",
    "agent.chat(\"what is the current board state?\", verbose=True)"
   ]
  },
  {
   "cell_type": "code",
   "execution_count": 4,
   "id": "e3580cd5",
   "metadata": {},
   "outputs": [
    {
     "name": "stdout",
     "output_type": "stream",
     "text": [
      "None\n"
     ]
    }
   ],
   "source": [
    "from optcg import state\n",
    "print(state.current_board_state)"
   ]
  },
  {
   "cell_type": "code",
   "execution_count": 2,
   "id": "094ef792",
   "metadata": {},
   "outputs": [
    {
     "data": {
      "text/plain": [
       "{'error': 'No board state found. Please tell user to update the board state first.'}"
      ]
     },
     "execution_count": 2,
     "metadata": {},
     "output_type": "execute_result"
    }
   ],
   "source": [
    "get_board_tool.invoke(\"what is on the board?\")"
   ]
  },
  {
   "cell_type": "code",
   "execution_count": 18,
   "id": "7980edbc",
   "metadata": {},
   "outputs": [
    {
     "name": "stdout",
     "output_type": "stream",
     "text": [
      "Using API base URL: http://localhost:8000\n",
      "http://localhost:8000/board/\n"
     ]
    },
    {
     "data": {
      "text/plain": [
       "{'UserState': {'life': 0,\n",
       "  'don': 0,\n",
       "  'leader': {'id': 'ST13-015_p1',\n",
       "   'code': 'ST13-015',\n",
       "   'rarity': 'SR',\n",
       "   'type': 'CHARACTER',\n",
       "   'name': 'Monkey.D.Luffy',\n",
       "   'images': {'small': 'https://en.onepiece-cardgame.com/images/cardlist/card/ST13-015_p1.png?241220',\n",
       "    'large': 'https://en.onepiece-cardgame.com/images/cardlist/card/ST13-015_p1.png?241220'},\n",
       "   'cost': 5,\n",
       "   'attribute': {'name': 'Strike',\n",
       "    'image': 'https://en.onepiece-cardgame.com/images/cardlist/attribute/ico_type01.png'},\n",
       "   'power': 6000,\n",
       "   'counter': '1000',\n",
       "   'color': 'Yellow',\n",
       "   'family': 'Supernovas/Straw Hat Crew',\n",
       "   'ability': '[Activate: Main] [Once Per Turn] This Character gains +2000 power until the start of your next turn. Then, if you have 1 or more Life cards, draw 1 card and trash 1 card from the top of your Life cards.',\n",
       "   'trigger': '',\n",
       "   'set': {'name': '-The Three Brothers-[ST13]'},\n",
       "   'notes': []},\n",
       "  'event': None,\n",
       "  'stage': None,\n",
       "  'character': []},\n",
       " 'OpponentState': {'life': 0,\n",
       "  'don': 0,\n",
       "  'leader': None,\n",
       "  'event': {'id': 'ST13-014',\n",
       "   'code': 'ST13-014',\n",
       "   'rarity': 'C',\n",
       "   'type': 'CHARACTER',\n",
       "   'name': 'Monkey.D.Luffy',\n",
       "   'images': {'small': 'https://en.onepiece-cardgame.com/images/cardlist/card/ST13-014.png?241220',\n",
       "    'large': 'https://en.onepiece-cardgame.com/images/cardlist/card/ST13-014.png?241220'},\n",
       "   'cost': 2,\n",
       "   'attribute': {'name': 'Strike',\n",
       "    'image': 'https://en.onepiece-cardgame.com/images/cardlist/attribute/ico_type01.png'},\n",
       "   'power': 2000,\n",
       "   'counter': '1000',\n",
       "   'color': 'Yellow',\n",
       "   'family': 'Goa Kingdom',\n",
       "   'ability': \"[Activate: Main] You may trash this Character: Reveal 1 card from the top of your Life cards. If that card is a [Monkey.D.Luffy] with a cost of 5, you may play that card. If you do, up to 1 of your Leader gains +2000 power until the end of your opponent's next turn.\",\n",
       "   'trigger': '',\n",
       "   'set': {'name': '-The Three Brothers-[ST13]'},\n",
       "   'notes': []},\n",
       "  'stage': None,\n",
       "  'character': [{'id': 'ST13-014',\n",
       "    'code': 'ST13-014',\n",
       "    'rarity': 'C',\n",
       "    'type': 'CHARACTER',\n",
       "    'name': 'Monkey.D.Luffy',\n",
       "    'images': {'small': 'https://en.onepiece-cardgame.com/images/cardlist/card/ST13-014.png?241220',\n",
       "     'large': 'https://en.onepiece-cardgame.com/images/cardlist/card/ST13-014.png?241220'},\n",
       "    'cost': 2,\n",
       "    'attribute': {'name': 'Strike',\n",
       "     'image': 'https://en.onepiece-cardgame.com/images/cardlist/attribute/ico_type01.png'},\n",
       "    'power': 2000,\n",
       "    'counter': '1000',\n",
       "    'color': 'Yellow',\n",
       "    'family': 'Goa Kingdom',\n",
       "    'ability': \"[Activate: Main] You may trash this Character: Reveal 1 card from the top of your Life cards. If that card is a [Monkey.D.Luffy] with a cost of 5, you may play that card. If you do, up to 1 of your Leader gains +2000 power until the end of your opponent's next turn.\",\n",
       "    'trigger': '',\n",
       "    'set': {'name': '-The Three Brothers-[ST13]'},\n",
       "    'notes': []}]}}"
      ]
     },
     "execution_count": 18,
     "metadata": {},
     "output_type": "execute_result"
    }
   ],
   "source": [
    "import requests\n",
    "api_base_url = os.getenv(\"API_BASE_URL\", \"http://localhost:8000\")\n",
    "print(f\"Using API base URL: {api_base_url}\")\n",
    "print(\"{}/board/\".format(api_base_url))\n",
    "response = requests.get(\n",
    "            f\"{api_base_url}/board/\"\n",
    "        )\n",
    "response.json()"
   ]
  },
  {
   "cell_type": "code",
   "execution_count": null,
   "id": "24d7a7d4",
   "metadata": {},
   "outputs": [
    {
     "name": "stderr",
     "output_type": "stream",
     "text": [
      "2025-07-24 16:35:11,572 - INFO - HTTP Request: POST https://api.openai.com/v1/chat/completions \"HTTP/1.1 200 OK\"\n"
     ]
    },
    {
     "data": {
      "text/plain": [
       "'Here are the key things you should be wary of in the current game state:\\n\\n1. Opponent’s Leader Ability (Eustass \"Captain\" Kid):  \\nKid can restand himself once per turn by resting 3 DON!! and trashing a card. This means your opponent can attack twice with their Leader, potentially putting more pressure on your Life or Characters.\\n\\n2. Opponent’s Board (Triple Nami):  \\nYour opponent has three Nami (OP02-036), each with 5000 power. While their ability is mainly for searching {FILM} cards, they can still attack and pressure your Life or Characters. Be cautious if your Life is low or if you have vulnerable Characters.\\n\\n3. Opponent’s DON!! Advantage:  \\nYour opponent has 8 DON!! available, giving them flexibility to power up attacks, use abilities, or play Events. Watch for potential power boosts or defensive Events during your attacks.\\n\\n4. Your Board State:  \\nYou have strong attackers (Zoro Leader, Zoro Character with Rush, Nico Robin, Marco). However, be mindful of overextending, as green decks can have removal or counterplay.\\n\\n5. Nico Robin’s Ability:  \\nIf you attack with Nico Robin and use her ability, you can potentially KO one of the opponent’s Namis (if they have 3000 power or less, but currently they are at 5000). Consider if you can reduce their power or if you should focus on attacking Life.\\n\\nSummary:  \\nBe wary of Kid’s double attack, the potential for multiple Nami attacks, and the opponent’s high DON!! count for counterplay. Plan your attacks carefully and consider holding back a blocker or counter if you expect a strong counterattack next turn.'"
      ]
     },
     "execution_count": 9,
     "metadata": {},
     "output_type": "execute_result"
    },
    {
     "ename": "",
     "evalue": "",
     "output_type": "error",
     "traceback": [
      "\u001b[1;31mThe Kernel crashed while executing code in the current cell or a previous cell. \n",
      "\u001b[1;31mPlease review the code in the cell(s) to identify a possible cause of the failure. \n",
      "\u001b[1;31mClick <a href='https://aka.ms/vscodeJupyterKernelCrash'>here</a> for more info. \n",
      "\u001b[1;31mView Jupyter <a href='command:jupyter.viewOutput'>log</a> for further details."
     ]
    }
   ],
   "source": [
    "with open(\"test_state_hand.json\", \"r\") as f:\n",
    "    game_state = json.load(f)\n",
    "query = \"What is the current game state? What are the next possible moves for each player?\"\n",
    "query = \"What characters are on the board, and what are their abilities? What is the current life total for each player?\"\n",
    "query = \"What should should I be wary of in the current game state?\"\n",
    "\n",
    "query_prompt_template = PromptTemplate.from_template(\"\"\"\n",
    "Here is the Current Game State:\n",
    "{game_state} \\n\n",
    "You are an expert in the game of One Piece TCG. Based on the current game state, please address the following query. Try to keep the response concise and focused on the most relevant information for the query.:\n",
    "{query}\n",
    "\"\"\")\n",
    "query_prompt = query_prompt_template.invoke({\n",
    "    \"game_state\": game_state,\n",
    "    \"query\": query\n",
    "}).text\n",
    "\n",
    "agent.chat(query_prompt, thread_id=\"test1234\")"
   ]
  },
  {
   "cell_type": "markdown",
   "id": "fdfd0995",
   "metadata": {},
   "source": [
    "'Here are the main things you should be wary of in the current game state:\\n\\n1. **Eustass \"Captain\" Kid Leader Ability**: Your opponent\\'s leader can, once per turn, rest 3 DON!! and trash a card from their hand to set their Leader as active. This means Kid can attack twice in a turn, or attack and then be ready to block or threaten another attack. Be careful not to leave yourself open to multiple attacks, especially if you are low on life.\\n\\n2. **Multiple Nami (OP02-036) Characters**: Your opponent has three Nami (OP02-036) on the field. Each Nami can, when attacking (by resting 1 DON!!), look at the top 3 cards of their deck and add a {FILM} card (other than Nami) to their hand. This can quickly refill their hand and give them access to powerful {FILM} cards, including events or characters that could swing the game.\\n\\n3. **Potential for Multiple Attacks**: With three Nami and Kid, your opponent can attack multiple times in a turn. Even though Nami\\'s power is only 5000, if you are not careful, you could lose several life in one turn, especially if you cannot block or counter enough attacks.\\n\\n4. **Trigger Effects**: When you take damage, remember that your opponent may be trying to push you into activating a [Trigger] effect from your life cards. Be aware of what triggers you have in your deck and how they might affect the game state.\\n\\n5. **Hand Size and Resources**: With Nami\\'s effect, your opponent can increase their hand size and find key cards. If you let them keep all three Nami on the field, they will have a significant resource advantage over time.\\n\\n**Strategic Advice:**\\n- Try to remove at least one or more Nami if possible, to slow down your opponent\\'s card advantage.\\n- Be cautious about overextending, as Kid\\'s double attack can quickly deplete your life.\\n- Plan your counters and blockers carefully, especially if you expect a big turn from your opponent.\\n- Watch your own hand size and resources, as you may need to defend against multiple attacks in a single turn.\\n\\nIf you have any removal or ways to disrupt your opponent\\'s board, now is a good time to use them!'\n"
   ]
  },
  {
   "cell_type": "code",
   "execution_count": 4,
   "id": "1c33147f",
   "metadata": {},
   "outputs": [
    {
     "name": "stdout",
     "output_type": "stream",
     "text": [
      "Loading existing vector store...\n"
     ]
    },
    {
     "name": "stderr",
     "output_type": "stream",
     "text": [
      "2025-07-24 16:13:46,721 - INFO - HTTP Request: POST https://api.openai.com/v1/chat/completions \"HTTP/1.1 200 OK\"\n",
      "2025-07-24 16:13:47,972 - INFO - HTTP Request: POST https://api.openai.com/v1/chat/completions \"HTTP/1.1 200 OK\"\n",
      "2025-07-24 16:13:49,098 - INFO - HTTP Request: POST https://api.openai.com/v1/embeddings \"HTTP/1.1 200 OK\"\n",
      "2025-07-24 16:14:03,002 - INFO - HTTP Request: POST https://api.openai.com/v1/chat/completions \"HTTP/1.1 200 OK\"\n"
     ]
    },
    {
     "data": {
      "text/plain": [
       "{'messages': [HumanMessage(content='\\nHere is the Current Game State:\\n{\\'UserState\\': {\\'life\\': 4, \\'don\\': 7, \\'leader\\': {\\'id\\': \\'OP01-001\\', \\'code\\': \\'OP01-001\\', \\'rarity\\': \\'L\\', \\'type\\': \\'LEADER\\', \\'name\\': \\'Roronoa Zoro\\', \\'images\\': {\\'small\\': \\'https://en.onepiece-cardgame.com/images/cardlist/card/OP01-001.png\\', \\'large\\': \\'https://en.onepiece-cardgame.com/images/cardlist/card/OP01-001.png\\'}, \\'cost\\': 5, \\'attribute\\': {\\'name\\': \\'Slash\\', \\'image\\': \\'https://en.onepiece-cardgame.com/images/cardlist/attribute/ico_type02.png\\'}, \\'power\\': 5000, \\'counter\\': \\'-\\', \\'color\\': \\'Red\\', \\'family\\': \\'Supernovas/Straw Hat Crew\\', \\'ability\\': \\'[DON!! x1] [Your Turn] All of your Characters gain +1000 power.\\', \\'trigger\\': \\'\\', \\'set\\': {\\'name\\': \\'-ROMANCE DAWN- [OP01]\\'}, \\'notes\\': []}, \\'event\\': None, \\'stage\\': None, \\'character\\': [{\\'id\\': \\'OP01-025\\', \\'code\\': \\'OP01-025\\', \\'rarity\\': \\'SR\\', \\'type\\': \\'CHARACTER\\', \\'name\\': \\'Roronoa Zoro\\', \\'images\\': {\\'small\\': \\'https://en.onepiece-cardgame.com/images/cardlist/card/OP01-025.png\\', \\'large\\': \\'https://en.onepiece-cardgame.com/images/cardlist/card/OP01-025.png\\'}, \\'cost\\': 3, \\'attribute\\': {\\'name\\': \\'Slash\\', \\'image\\': \\'https://en.onepiece-cardgame.com/images/cardlist/attribute/ico_type02.png\\'}, \\'power\\': 5000, \\'counter\\': \\'-\\', \\'color\\': \\'Red\\', \\'family\\': \\'Supernovas/Straw Hat Crew\\', \\'ability\\': \\'[Rush] (This card can attack on the turn in which it is played.)\\', \\'trigger\\': \\'\\', \\'set\\': {\\'name\\': \\'-ROMANCE DAWN- [OP01]\\'}, \\'notes\\': []}, {\\'id\\': \\'OP01-017\\', \\'code\\': \\'OP01-017\\', \\'rarity\\': \\'R\\', \\'type\\': \\'CHARACTER\\', \\'name\\': \\'Nico Robin\\', \\'images\\': {\\'small\\': \\'https://en.onepiece-cardgame.com/images/cardlist/card/OP01-017.png\\', \\'large\\': \\'https://en.onepiece-cardgame.com/images/cardlist/card/OP01-017.png\\'}, \\'cost\\': 3, \\'attribute\\': {\\'name\\': \\'Strike\\', \\'image\\': \\'https://en.onepiece-cardgame.com/images/cardlist/attribute/ico_type01.png\\'}, \\'power\\': 4000, \\'counter\\': \\'1000\\', \\'color\\': \\'Red\\', \\'family\\': \\'Straw Hat Crew\\', \\'ability\\': \"[DON!! x1] [When Attacking] K.O. up to 1 of your opponent\\'s Characters with 3000 power or less.\", \\'trigger\\': \\'\\', \\'set\\': {\\'name\\': \\'-ROMANCE DAWN- [OP01]\\'}, \\'notes\\': [{\\'name\\': \\'Errata Card\\', \\'url\\': \\'https://en.onepiece-cardgame.com//rules/errata_card/#errata_05\\'}]}, {\\'id\\': \\'OP01-023\\', \\'code\\': \\'OP01-023\\', \\'rarity\\': \\'C\\', \\'type\\': \\'CHARACTER\\', \\'name\\': \\'Marco\\', \\'images\\': {\\'small\\': \\'https://en.onepiece-cardgame.com/images/cardlist/card/OP01-023.png\\', \\'large\\': \\'https://en.onepiece-cardgame.com/images/cardlist/card/OP01-023.png\\'}, \\'cost\\': 3, \\'attribute\\': {\\'name\\': \\'Special\\', \\'image\\': \\'https://en.onepiece-cardgame.com/images/cardlist/attribute/ico_type03.png\\'}, \\'power\\': 5000, \\'counter\\': \\'1000\\', \\'color\\': \\'Red\\', \\'family\\': \\'Former Whitebeard Pirates\\', \\'ability\\': \\'-\\', \\'trigger\\': \\'\\', \\'set\\': {\\'name\\': \\'-ROMANCE DAWN- [OP01]\\'}, \\'notes\\': []}]}, \\'OpponentState\\': {\\'life\\': 3, \\'don\\': 8, \\'leader\\': {\\'id\\': \\'ST02-001\\', \\'code\\': \\'ST02-001\\', \\'rarity\\': \\'L\\', \\'type\\': \\'LEADER\\', \\'name\\': \\'Eustass\"Captain\"Kid\\', \\'images\\': {\\'small\\': \\'https://en.onepiece-cardgame.com/images/cardlist/card/ST02-001.png\\', \\'large\\': \\'https://en.onepiece-cardgame.com/images/cardlist/card/ST02-001.png\\'}, \\'cost\\': 5, \\'attribute\\': {\\'name\\': \\'Special\\', \\'image\\': \\'https://en.onepiece-cardgame.com/images/cardlist/attribute/ico_type03.png\\'}, \\'power\\': 5000, \\'counter\\': \\'-\\', \\'color\\': \\'Green\\', \\'family\\': \\'Supernovas/Kid Pirates\\', \\'ability\\': \\'[Activate: Main] [Once Per Turn]  â‘¢ (You may rest the specified number of DON!! cards in your cost area.) You may trash 1 card from your hand: Set this Leader as active.\\', \\'trigger\\': \\'\\', \\'set\\': {\\'name\\': \\'-Worst Generation-[ST-02]\\'}, \\'notes\\': []}, \\'event\\': None, \\'stage\\': None, \\'character\\': [{\\'id\\': \\'OP02-036\\', \\'code\\': \\'OP02-036\\', \\'rarity\\': \\'SR\\', \\'type\\': \\'CHARACTER\\', \\'name\\': \\'Nami\\', \\'images\\': {\\'small\\': \\'https://en.onepiece-cardgame.com/images/cardlist/card/OP02-036.png\\', \\'large\\': \\'https://en.onepiece-cardgame.com/images/cardlist/card/OP02-036.png\\'}, \\'cost\\': 3, \\'attribute\\': {\\'name\\': \\'Special\\', \\'image\\': \\'https://en.onepiece-cardgame.com/images/cardlist/attribute/ico_type03.png\\'}, \\'power\\': 5000, \\'counter\\': \\'-\\', \\'color\\': \\'Green\\', \\'family\\': \\'FILM/Straw Hat Crew\\', \\'ability\\': \\'[On Play]/[When Attacking] âž€ (You may rest the specified number of DON!! cards in your cost area.): Look at 3 cards from the top of your deck; reveal up to 1 {FILM} type card other than [Nami] and add it to your hand. Then, place the rest at the bottom of your deck in any order.\\', \\'trigger\\': \\'\\', \\'set\\': {\\'name\\': \\'-PARAMOUNT WAR- [OP02]\\'}, \\'notes\\': []}, {\\'id\\': \\'OP02-036\\', \\'code\\': \\'OP02-036\\', \\'rarity\\': \\'SR\\', \\'type\\': \\'CHARACTER\\', \\'name\\': \\'Nami\\', \\'images\\': {\\'small\\': \\'https://en.onepiece-cardgame.com/images/cardlist/card/OP02-036.png\\', \\'large\\': \\'https://en.onepiece-cardgame.com/images/cardlist/card/OP02-036.png\\'}, \\'cost\\': 3, \\'attribute\\': {\\'name\\': \\'Special\\', \\'image\\': \\'https://en.onepiece-cardgame.com/images/cardlist/attribute/ico_type03.png\\'}, \\'power\\': 5000, \\'counter\\': \\'-\\', \\'color\\': \\'Green\\', \\'family\\': \\'FILM/Straw Hat Crew\\', \\'ability\\': \\'[On Play]/[When Attacking] âž€ (You may rest the specified number of DON!! cards in your cost area.): Look at 3 cards from the top of your deck; reveal up to 1 {FILM} type card other than [Nami] and add it to your hand. Then, place the rest at the bottom of your deck in any order.\\', \\'trigger\\': \\'\\', \\'set\\': {\\'name\\': \\'-PARAMOUNT WAR- [OP02]\\'}, \\'notes\\': []}, {\\'id\\': \\'OP02-036\\', \\'code\\': \\'OP02-036\\', \\'rarity\\': \\'SR\\', \\'type\\': \\'CHARACTER\\', \\'name\\': \\'Nami\\', \\'images\\': {\\'small\\': \\'https://en.onepiece-cardgame.com/images/cardlist/card/OP02-036.png\\', \\'large\\': \\'https://en.onepiece-cardgame.com/images/cardlist/card/OP02-036.png\\'}, \\'cost\\': 3, \\'attribute\\': {\\'name\\': \\'Special\\', \\'image\\': \\'https://en.onepiece-cardgame.com/images/cardlist/attribute/ico_type03.png\\'}, \\'power\\': 5000, \\'counter\\': \\'-\\', \\'color\\': \\'Green\\', \\'family\\': \\'FILM/Straw Hat Crew\\', \\'ability\\': \\'[On Play]/[When Attacking] âž€ (You may rest the specified number of DON!! cards in your cost area.): Look at 3 cards from the top of your deck; reveal up to 1 {FILM} type card other than [Nami] and add it to your hand. Then, place the rest at the bottom of your deck in any order.\\', \\'trigger\\': \\'\\', \\'set\\': {\\'name\\': \\'-PARAMOUNT WAR- [OP02]\\'}, \\'notes\\': []}]}} \\n\\nYou are an expert in the game of One Piece TCG. Based on the current game state, please address the following query:\\nWhat is the current game state? What are the next possible moves for each player?\\n', additional_kwargs={}, response_metadata={}, id='c936249d-bc45-44f8-861f-f08c276089e7'),\n",
       "  AIMessage(content='Here is a summary of the current game state and the next possible moves for each player, based on the information provided:\\n\\nCurrent Game State\\n\\nUser (You):\\n\\n- Life: 4\\n- DON!!: 7 available\\n- Leader: Roronoa Zoro (OP01-001)\\n  - Ability: [DON!! x1] [Your Turn] All of your Characters gain +1000 power.\\n- Characters on Field:\\n  - Roronoa Zoro (OP01-025) [Rush, 5000 Power]\\n  - Nico Robin (OP01-017) [4000 Power, [DON!! x1] [When Attacking] K.O. up to 1 of your opponent\\'s Characters with 3000 power or less.]\\n  - Marco (OP01-023) [5000 Power]\\n- No Event or Stage cards in play.\\n\\nOpponent:\\n\\n- Life: 3\\n- DON!!: 8 available\\n- Leader: Eustass \"Captain\" Kid (ST02-001)\\n  - Ability: [Activate: Main] [Once Per Turn] Rest 3 DON!!, trash 1 card from hand: Set this Leader as active.\\n- Characters on Field:\\n  - 3x Nami (OP02-036) [Each 5000 Power, [On Play]/[When Attacking] Rest 1 DON!!: Look at top 3 cards, add 1 {FILM} card (not Nami) to hand.]\\n- No Event or Stage cards in play.\\n\\nNext Possible Moves\\n\\nUser (You):\\n\\n- Attach DON!! to your Leader or Characters to boost their power or activate abilities (e.g., Zoro Leader\\'s ability, Nico Robin\\'s effect).\\n- Attack with any of your Characters (all are active and can attack, including Roronoa Zoro [Rush]).\\n- Use Nico Robin\\'s effect by attaching 1 DON!! and attacking, potentially K.O.-ing an opponent\\'s Character with 3000 power or less (currently, all opponent\\'s Characters have 5000 power, so this effect cannot be used right now).\\n- Attack the opponent\\'s Leader or Characters with your Characters.\\n- Play additional cards from your hand (not shown in the state, but possible if you have cards in hand and enough DON!!).\\n- Use the Leader\\'s ability by attaching 1 DON!! to Zoro, giving all your Characters +1000 power for the turn.\\n\\nOpponent:\\n\\n- Attach DON!! to their Leader or Characters to boost power or activate abilities.\\n- Attack with their Leader or any of the three Nami Characters.\\n- Use Nami\\'s [When Attacking] effect by resting 1 DON!! to search the top 3 cards for a {FILM} card (other than Nami).\\n- Use Eustass \"Captain\" Kid\\'s Leader ability during their Main Phase: Rest 3 DON!! and trash a card from hand to re-stand their Leader (allowing a second attack with the Leader).\\n- Play additional cards from their hand (not shown in the state, but possible if they have cards in hand and enough DON!!).\\n\\nSummary\\n\\nBoth players have several active Characters and Leaders, with DON!! available to attach for attacks or abilities. The User can make aggressive plays using Zoro\\'s Leader ability and the Rush Zoro Character, while the Opponent can leverage multiple Nami searches and Kid\\'s re-stand ability for pressure or card advantage.\\n\\nIf you want to know the specific rules for any action (e.g., attacking, attaching DON!!, using abilities), let me know!', additional_kwargs={'refusal': None}, response_metadata={'token_usage': {'completion_tokens': 735, 'prompt_tokens': 2196, 'total_tokens': 2931, 'completion_tokens_details': {'accepted_prediction_tokens': 0, 'audio_tokens': 0, 'reasoning_tokens': 0, 'rejected_prediction_tokens': 0}, 'prompt_tokens_details': {'audio_tokens': 0, 'cached_tokens': 0}}, 'model_name': 'gpt-4.1-2025-04-14', 'system_fingerprint': 'fp_799e4ca3f1', 'id': 'chatcmpl-BwxXp0t5afT1aC30JAjUING4MwzFt', 'service_tier': 'default', 'finish_reason': 'stop', 'logprobs': None}, name='RulebookAgent', id='run--358f649c-eb24-4078-9508-38e5006eaad6-0', usage_metadata={'input_tokens': 2196, 'output_tokens': 735, 'total_tokens': 2931, 'input_token_details': {'audio': 0, 'cache_read': 0}, 'output_token_details': {'audio': 0, 'reasoning': 0}}),\n",
       "  HumanMessage(content='How do you recommend that I attack the opponet?', additional_kwargs={}, response_metadata={}, id='dc6588ae-0360-4627-8587-261dfdfa4be3'),\n",
       "  AIMessage(content='', additional_kwargs={'tool_calls': [{'id': 'call_Pkypz3LGzEawHN1Ar9Y1BZ6X', 'function': {'arguments': '{\"query\":\"attack sequence strategy One Piece TCG\"}', 'name': 'rulebooks_retriever'}, 'type': 'function'}], 'refusal': None}, response_metadata={'token_usage': {'completion_tokens': 23, 'prompt_tokens': 2953, 'total_tokens': 2976, 'completion_tokens_details': {'accepted_prediction_tokens': 0, 'audio_tokens': 0, 'reasoning_tokens': 0, 'rejected_prediction_tokens': 0}, 'prompt_tokens_details': {'audio_tokens': 0, 'cached_tokens': 2176}}, 'model_name': 'gpt-4.1-2025-04-14', 'system_fingerprint': 'fp_799e4ca3f1', 'id': 'chatcmpl-BwxY0iZRVqBf5EE9BOGiqZHrFRBho', 'service_tier': 'default', 'finish_reason': 'tool_calls', 'logprobs': None}, name='RulebookAgent', id='run--fecb7901-cb8f-4927-a538-25d7168901d2-0', tool_calls=[{'name': 'rulebooks_retriever', 'args': {'query': 'attack sequence strategy One Piece TCG'}, 'id': 'call_Pkypz3LGzEawHN1Ar9Y1BZ6X', 'type': 'tool_call'}], usage_metadata={'input_tokens': 2953, 'output_tokens': 23, 'total_tokens': 2976, 'input_token_details': {'audio': 0, 'cache_read': 2176}, 'output_token_details': {'audio': 0, 'reasoning': 0}}),\n",
       "  ToolMessage(content=\"1 \\n \\nONE PIECE CARD GAME Comprehensive Rules \\nVersion 1.1.8 \\n \\nLast updated: 2/21/2025\\n\\n7. Card Attacks and Battles  \\n7-1. During the Main Phase, the turn player can rest an active Leader card in their Leader \\narea, or an active Character card in their Character area, to attack an opponent’s Leader \\ncard in their Leader area, or rested Character card in their Character area. When an \\nattack is made, the game proceeds to Battle (see 6-5-6.) and is processed in order from \\nthe Attack Step (see 7-1-1.) to the Damage Step (see 7-1-4.). \\n7-1-1. Attack Step \\n7-1-1-1. Attacks are carried out by the Leader card, or a Character card in the \\nCharacter area. First,  the turn player  declares their attack by resting their  \\nactive Leader card or 1 active Character card. \\n7-1-1-2. The turn player then selects the target of their attack. The target can be either \\nthe opponent’s Leader card or 1 of their rested Character cards in their \\nCharacter area. \\n7-1-1-3. Effects that read [When Attacking] , “when you attack ”, or [On Your \\nOpponent's Attack] activate. \\n7-1-1-4. If, at the end of the Attack Step, the attacking card or the target card for the \\nattack has moved areas due to some method, proceed not to the Block Step \\n(see 7-1-2.), but to the End of the Battle (see 7-1-5.). \\n7-1-2. Block Step \\n7-1-2-1. The player being attacked can activate the [Blocker] effect of their card only \\nonce during that battle. \\n7-1-2-2. When a [Blocker] is activated, effects that read [On Block] or “when you block” \\nactivate.\\n\\nevent occurs, follow the procedure below. \\n11-1-1-1. If neither player can stop an infinite loop, the game ends in a draw. \\n11-1-1-2. If only one player has the choice to stop the infinite loop during the loop \\naction, that player declares how many times they wish to carry out the loop \\naction. Carry out the loop action that many times and finish it at a timing \\nwhen that player can choose to stop the infinite loop. The player cannot \\nchoose to restart the loop even if the game is in exactly the same state (all \\ncards in all areas are the same) as before the loop unless they are forced to \\ndo so. \\n11-1-1-3. If both players have the choice to stop the infinite loop during the loop action, \\nthe turn player first decides how many times they wish to carry out the loop \\naction. Next, the non-turn player decides how many times they wish to carry \\nout the loop action. Carry out the loop action the fewer of these two times \\nand finish it at a timing when the player  who chose the fewer of these two \\ntimes can choose to stop the infinite loop. The player s cannot  choose to \\nrestart the loop even if the game is in exa ctly the same state (all cards in all \\nareas are the same) as before the loop unless they are forced to do so. \\n11-2. Revealing Cards \\n11-2-1. When a card is required to be moved from one secret area to another secret area, \\nsuch as “Add Monkey.D.Luffy from your deck to your hand”, the card being\\n\\n(see 7-1-3.), but to the End of the Battle (see 7-1-5.). \\n7-1-3. Counter Step \\n7-1-3-1. Effects of the player being attacked that read “when attacked” activate. \\n7-1-3-2. The player being attacked may perform the following actions in any order and \\nas many times as they wish: \\n7-1-3-2-1. Activate [(Symbol) Counter ]: The player being attacked may trash a \\nCharacter card with  [(Symbol) Counter] from their hand to activate an \\neffect that increases the power of their Leader or 1 Character card by the \\nvalue of the [(Symbol) Counter] during that battle. \\n7-1-3-2-2. Activate an Event card: The player being attacked may pay the cost of an \\nEvent card with [Counter] in their hand, and then trash it to activate the \\n[Counter] effect. \\n7-1-2-3. If, at the end of the Counter Step, the attacking card or the target card for \\nthe attack has moved areas due to some method, proceed not to the Damage \\nStep (see 7-1-4.), but to the End of the Battle (see 7-1-5.).  \\n7-1-4. Damage Step \\n7-1-4-1. Compare the power of the attacking card and the card being attacked. If the \\npower of the attacking card is greater than or equal to the power of the card \\nbeing attacked, the battle is won, and the result is either 7-1-4-1-1. or 7-1-4-\\n1-2., depending on the category of the card being attacked. \\n7-1-4-1-1. If a Leader card: 1 damage is dealt to that Leader. \\n7-1-4-1-1-1. If the opponent has 0 Life at the point when it is determined that \\ndamage will be dealt, the attacking player wins the game.\", name='rulebooks_retriever', id='737ea512-33e8-4961-9911-04bbe1ee966f', tool_call_id='call_Pkypz3LGzEawHN1Ar9Y1BZ6X'),\n",
       "  AIMessage(content='Here’s how you should approach attacking your opponent, based on the rules and your current board:\\n\\n1. **Assess Your Board and Opponent’s Board:**\\n   - You have three Characters (Roronoa Zoro [Rush], Nico Robin, Marco) and your Leader (Roronoa Zoro).\\n   - Your opponent has three Nami (all 5000 power) and their Leader (Eustass \"Captain\" Kid).\\n   - None of your opponent’s Characters have [Blocker], so you can attack their Leader directly or attack their rested Characters (if any).\\n\\n2. **Maximize Your Power:**\\n   - Attach 1 DON!! to your Leader to activate Roronoa Zoro’s ability: all your Characters gain +1000 power this turn.\\n   - You can also attach additional DON!! to your Characters to further boost their power for attacks.\\n\\n3. **Attack Sequence Recommendation:**\\n   - **Attack with Characters first:** Use your Characters to attack the opponent’s Leader. Since all your Characters will have at least 6000 power (with Zoro’s ability and 1 DON!! each), they will be strong enough to pressure the opponent’s hand or life.\\n   - **Use Roronoa Zoro [Rush]:** This card can attack the turn it is played. Use it to attack the Leader for immediate pressure.\\n   - **Nico Robin’s effect:** Her [When Attacking] effect only works on Characters with 3000 power or less, but all opponent’s Characters are 5000, so this effect won’t be useful right now.\\n   - **Attack with your Leader:** After attacking with your Characters, attack with your Leader as well.\\n\\n4. **Target Selection:**\\n   - Since your opponent’s Nami are all 5000 power and not rested (unless they attacked last turn), you can only attack their Leader directly.\\n   - If your opponent rests a Nami to attack or use its effect, you could attack and potentially KO it on your next turn.\\n\\n5. **DON!! Management:**\\n   - You have 7 DON!! available. Distribute them to maximize your attacks:\\n     - 1 DON!! to your Leader (to activate the ability).\\n     - 1 DON!! each to your Characters to boost their power.\\n     - Any remaining DON!! can be used to further boost attacks or play cards from your hand.\\n\\n6. **Goal:**\\n   - Try to deal as much damage to the opponent’s Leader as possible, reducing their life and forcing them to use cards from their hand to defend.\\n\\n**Summary of Attack Steps:**\\n- Attach 1 DON!! to your Leader to activate the ability.\\n- Attach DON!! to your Characters to boost their power.\\n- Attack the opponent’s Leader with your Characters and Leader in any order.\\n- If you have cards in hand to play, consider playing more Characters to increase your board presence.\\n\\nIf you want a more detailed, card-by-card attack plan, let me know how many cards you have in hand and if you want to play any new cards this turn!', additional_kwargs={'refusal': None}, response_metadata={'token_usage': {'completion_tokens': 633, 'prompt_tokens': 4210, 'total_tokens': 4843, 'completion_tokens_details': {'accepted_prediction_tokens': 0, 'audio_tokens': 0, 'reasoning_tokens': 0, 'rejected_prediction_tokens': 0}, 'prompt_tokens_details': {'audio_tokens': 0, 'cached_tokens': 2944}}, 'model_name': 'gpt-4.1-2025-04-14', 'system_fingerprint': 'fp_799e4ca3f1', 'id': 'chatcmpl-BwxY4NxVAWmPRKQaK4H5MlHITRsJA', 'service_tier': 'default', 'finish_reason': 'stop', 'logprobs': None}, name='RulebookAgent', id='run--4d8316a6-a3f5-4efe-b630-7e3def98247f-0', usage_metadata={'input_tokens': 4210, 'output_tokens': 633, 'total_tokens': 4843, 'input_token_details': {'audio': 0, 'cache_read': 2944}, 'output_token_details': {'audio': 0, 'reasoning': 0}})]}"
      ]
     },
     "execution_count": 4,
     "metadata": {},
     "output_type": "execute_result"
    }
   ],
   "source": [
    "agent = RulebookAgent()\n",
    "agent.chat(query_prompt, thread_id=\"test\")\n",
    "agent.chat(\"How do you recommend that I attack the opponet?\", verbose=True, thread_id=\"test\")"
   ]
  },
  {
   "cell_type": "code",
   "execution_count": null,
   "id": "0f9cdac8",
   "metadata": {},
   "outputs": [],
   "source": []
  },
  {
   "cell_type": "code",
   "execution_count": 4,
   "id": "8ca3c1f4",
   "metadata": {},
   "outputs": [
    {
     "name": "stderr",
     "output_type": "stream",
     "text": [
      "2025-07-08 10:48:14,168 - INFO - HTTP Request: POST https://api.openai.com/v1/chat/completions \"HTTP/1.1 200 OK\"\n",
      "2025-07-08 10:48:23,571 - INFO - HTTP Request: POST https://api.openai.com/v1/chat/completions \"HTTP/1.1 200 OK\"\n"
     ]
    },
    {
     "data": {
      "text/plain": [
       "{'messages': [HumanMessage(content='What is a luffy card with power 2000?', additional_kwargs={}, response_metadata={}, id='f0634f71-2b2f-4773-9a26-2f5360ba79ef'),\n",
       "  AIMessage(content='', additional_kwargs={'tool_calls': [{'id': 'call_qql4dwe1156hSAxtHpxKVV0k', 'function': {'arguments': '{\"input\":{\"query\":\"Luffy\",\"power\":2000}}', 'name': 'card_search_tool'}, 'type': 'function'}], 'refusal': None}, response_metadata={'token_usage': {'completion_tokens': 23, 'prompt_tokens': 227, 'total_tokens': 250, 'completion_tokens_details': {'accepted_prediction_tokens': 0, 'audio_tokens': 0, 'reasoning_tokens': 0, 'rejected_prediction_tokens': 0}, 'prompt_tokens_details': {'audio_tokens': 0, 'cached_tokens': 0}}, 'model_name': 'gpt-4.1-2025-04-14', 'system_fingerprint': 'fp_51e1070cf2', 'id': 'chatcmpl-Br4qDTNS62PBFT25NEzWWTErLsRvw', 'service_tier': 'default', 'finish_reason': 'tool_calls', 'logprobs': None}, name='CardDBToolAgent', id='run--4c53ad13-a875-43d3-87f3-243e226e6315-0', tool_calls=[{'name': 'card_search_tool', 'args': {'input': {'query': 'Luffy', 'power': 2000}}, 'id': 'call_qql4dwe1156hSAxtHpxKVV0k', 'type': 'tool_call'}], usage_metadata={'input_tokens': 227, 'output_tokens': 23, 'total_tokens': 250, 'input_token_details': {'audio': 0, 'cache_read': 0}, 'output_token_details': {'audio': 0, 'reasoning': 0}}),\n",
       "  ToolMessage(content='[{\"id\": \"P-041_p2\", \"code\": \"P-041\", \"rarity\": \"P\", \"type\": \"CHARACTER\", \"name\": \"Monkey.D.Luffy\", \"images\": {\"small\": \"https://en.onepiece-cardgame.com/images/cardlist/card/P-041_p2.png?241220\", \"large\": \"https://en.onepiece-cardgame.com/images/cardlist/card/P-041_p2.png?241220\"}, \"cost\": 10, \"attribute\": {\"name\": \"Strike\", \"image\": \"https://en.onepiece-cardgame.com/images/cardlist/attribute/ico_type01.png\"}, \"power\": 12000, \"counter\": \"1000\", \"color\": \"Purple\", \"family\": \"The Four Emperors/Straw Hat Crew\", \"ability\": \"-\", \"trigger\": \"\", \"set\": {\"name\": \"-Purple Monkey.D.Luffy- [ST-18]\"}, \"notes\": []}, {\"id\": \"ST13-014\", \"code\": \"ST13-014\", \"rarity\": \"C\", \"type\": \"CHARACTER\", \"name\": \"Monkey.D.Luffy\", \"images\": {\"small\": \"https://en.onepiece-cardgame.com/images/cardlist/card/ST13-014.png?241220\", \"large\": \"https://en.onepiece-cardgame.com/images/cardlist/card/ST13-014.png?241220\"}, \"cost\": 2, \"attribute\": {\"name\": \"Strike\", \"image\": \"https://en.onepiece-cardgame.com/images/cardlist/attribute/ico_type01.png\"}, \"power\": 2000, \"counter\": \"1000\", \"color\": \"Yellow\", \"family\": \"Goa Kingdom\", \"ability\": \"[Activate: Main] You may trash this Character: Reveal 1 card from the top of your Life cards. If that card is a [Monkey.D.Luffy] with a cost of 5, you may play that card. If you do, up to 1 of your Leader gains +2000 power until the end of your opponent\\'s next turn.\", \"trigger\": \"\", \"set\": {\"name\": \"-The Three Brothers-[ST13]\"}, \"notes\": []}, {\"id\": \"ST13-014_p1\", \"code\": \"ST13-014\", \"rarity\": \"C\", \"type\": \"CHARACTER\", \"name\": \"Monkey.D.Luffy\", \"images\": {\"small\": \"https://en.onepiece-cardgame.com/images/cardlist/card/ST13-014_p1.png?241220\", \"large\": \"https://en.onepiece-cardgame.com/images/cardlist/card/ST13-014_p1.png?241220\"}, \"cost\": 2, \"attribute\": {\"name\": \"Strike\", \"image\": \"https://en.onepiece-cardgame.com/images/cardlist/attribute/ico_type01.png\"}, \"power\": 2000, \"counter\": \"1000\", \"color\": \"Yellow\", \"family\": \"Goa Kingdom\", \"ability\": \"[Activate: Main] You may trash this Character: Reveal 1 card from the top of your Life cards. If that card is a [Monkey.D.Luffy] with a cost of 5, you may play that card. If you do, up to 1 of your Leader gains +2000 power until the end of your opponent\\'s next turn.\", \"trigger\": \"\", \"set\": {\"name\": \"-The Three Brothers-[ST13]\"}, \"notes\": []}, {\"id\": \"ST23-004\", \"code\": \"ST23-004\", \"rarity\": \"C\", \"type\": \"CHARACTER\", \"name\": \"Monkey.D.Luffy\", \"images\": {\"small\": \"https://en.onepiece-cardgame.com/images/cardlist/card/ST23-004.png?250530\", \"large\": \"https://en.onepiece-cardgame.com/images/cardlist/card/ST23-004.png?250530\"}, \"cost\": 1, \"attribute\": {\"name\": \"Strike\", \"image\": \"https://en.onepiece-cardgame.com/images/cardlist/attribute/ico_type01.png\"}, \"power\": 2000, \"counter\": \"1000\", \"color\": \"Red\", \"family\": \"FILM/Supernovas/Straw Hat Crew\", \"ability\": \"[Activate: Main] You may rest 1 of your DON!! cards and this Character: Give up to 1 of your opponent\\'s Characters −1000 power during this turn.\", \"trigger\": \"\", \"set\": {\"name\": \"-RED Shanks- [ST-23]\"}, \"notes\": []}, {\"id\": \"OP05-119\", \"code\": \"OP05-119\", \"rarity\": \"SEC\", \"type\": \"CHARACTER\", \"name\": \"Monkey.D.Luffy\", \"images\": {\"small\": \"https://en.onepiece-cardgame.com/images/cardlist/card/OP05-119.png\", \"large\": \"https://en.onepiece-cardgame.com/images/cardlist/card/OP05-119.png\"}, \"cost\": 10, \"attribute\": {\"name\": \"Strike\", \"image\": \"https://en.onepiece-cardgame.com/images/cardlist/attribute/ico_type01.png\"}, \"power\": 12000, \"counter\": \"-\", \"color\": \"Purple\", \"family\": \"The Four Emperors/Straw Hat Crew\", \"ability\": \"[On Play] DON!! −10: Place all of your Characters except this Character at the bottom of your deck in any order. Then, take an extra turn after this one.<br>[Activate: Main] [Once Per Turn] ➀: Add up to 1 DON!! card from your DON!! deck and set it as active.\", \"trigger\": \"\", \"set\": {\"name\": \"OP-05\"}, \"notes\": []}, {\"id\": \"OP05-119_p1\", \"code\": \"OP05-119\", \"rarity\": \"SEC\", \"type\": \"CHARACTER\", \"name\": \"Monkey.D.Luffy\", \"images\": {\"small\": \"https://en.onepiece-cardgame.com/images/cardlist/card/OP05-119_p1.png\", \"large\": \"https://en.onepiece-cardgame.com/images/cardlist/card/OP05-119_p1.png\"}, \"cost\": 10, \"attribute\": {\"name\": \"Strike\", \"image\": \"https://en.onepiece-cardgame.com/images/cardlist/attribute/ico_type01.png\"}, \"power\": 12000, \"counter\": \"-\", \"color\": \"Purple\", \"family\": \"The Four Emperors/Straw Hat Crew\", \"ability\": \"[On Play] DON!! −10: Place all of your Characters except this Character at the bottom of your deck in any order. Then, take an extra turn after this one.<br>[Activate: Main] [Once Per Turn] ➀: Add up to 1 DON!! card from your DON!! deck and set it as active.\", \"trigger\": \"\", \"set\": {\"name\": \"OP-05\"}, \"notes\": []}, {\"id\": \"OP05-119_p2\", \"code\": \"OP05-119\", \"rarity\": \"SEC\", \"type\": \"CHARACTER\", \"name\": \"Monkey.D.Luffy\", \"images\": {\"small\": \"https://en.onepiece-cardgame.com/images/cardlist/card/OP05-119_p2.png\", \"large\": \"https://en.onepiece-cardgame.com/images/cardlist/card/OP05-119_p2.png\"}, \"cost\": 10, \"attribute\": {\"name\": \"Strike\", \"image\": \"https://en.onepiece-cardgame.com/images/cardlist/attribute/ico_type01.png\"}, \"power\": 12000, \"counter\": \"-\", \"color\": \"Purple\", \"family\": \"The Four Emperors/Straw Hat Crew\", \"ability\": \"[On Play] DON!! −10: Place all of your Characters except this Character at the bottom of your deck in any order. Then, take an extra turn after this one.<br>[Activate: Main] [Once Per Turn] ➀: Add up to 1 DON!! card from your DON!! deck and set it as active.\", \"trigger\": \"\", \"set\": {\"name\": \"OP-05\"}, \"notes\": []}, {\"id\": \"OP10-111\", \"code\": \"OP10-111\", \"rarity\": \"R\", \"type\": \"CHARACTER\", \"name\": \"Monkey.D.Luffy\", \"images\": {\"small\": \"https://en.onepiece-cardgame.com/images/cardlist/card/OP10-111.png?250530\", \"large\": \"https://en.onepiece-cardgame.com/images/cardlist/card/OP10-111.png?250530\"}, \"cost\": 1, \"attribute\": {\"name\": \"Strike\", \"image\": \"https://en.onepiece-cardgame.com/images/cardlist/attribute/ico_type01.png\"}, \"power\": 2000, \"counter\": \"1000\", \"color\": \"Yellow\", \"family\": \"Supernovas/Straw Hat Crew\", \"ability\": \"[On Play] Look at 5 cards from the top of your deck; reveal up to 1 {Supernovas} type card other than [Monkey.D.Luffy] and add it to your hand. Then, place the rest at the bottom of your deck in any order.\", \"trigger\": \"\", \"set\": {\"name\": \"-ROYAL BLOOD- [OP-10]\"}, \"notes\": []}, {\"id\": \"OP10-111_p1\", \"code\": \"OP10-111\", \"rarity\": \"R\", \"type\": \"CHARACTER\", \"name\": \"Monkey.D.Luffy\", \"images\": {\"small\": \"https://en.onepiece-cardgame.com/images/cardlist/card/OP10-111_p1.png?250530\", \"large\": \"https://en.onepiece-cardgame.com/images/cardlist/card/OP10-111_p1.png?250530\"}, \"cost\": 1, \"attribute\": {\"name\": \"Strike\", \"image\": \"https://en.onepiece-cardgame.com/images/cardlist/attribute/ico_type01.png\"}, \"power\": 2000, \"counter\": \"1000\", \"color\": \"Yellow\", \"family\": \"Supernovas/Straw Hat Crew\", \"ability\": \"[On Play] Look at 5 cards from the top of your deck; reveal up to 1 {Supernovas} type card other than [Monkey.D.Luffy] and add it to your hand. Then, place the rest at the bottom of your deck in any order.\", \"trigger\": \"\", \"set\": {\"name\": \"-ROYAL BLOOD- [OP-10]\"}, \"notes\": []}, {\"id\": \"OP05-119_p7\", \"code\": \"OP05-119\", \"rarity\": \"SP CARD\", \"type\": \"CHARACTER\", \"name\": \"Monkey.D.Luffy\", \"images\": {\"small\": \"https://en.onepiece-cardgame.com/images/cardlist/card/OP05-119_p7.png?250530\", \"large\": \"https://en.onepiece-cardgame.com/images/cardlist/card/OP05-119_p7.png?250530\"}, \"cost\": 10, \"attribute\": {\"name\": \"Strike\", \"image\": \"https://en.onepiece-cardgame.com/images/cardlist/attribute/ico_type01.png\"}, \"power\": 12000, \"counter\": \"-\", \"color\": \"Purple\", \"family\": \"The Four Emperors/Straw Hat Crew\", \"ability\": \"[On Play] DON!! −10: Place all of your Characters except this Character at the bottom of your deck in any order. Then, take an extra turn after this one.<br>[Activate: Main] [Once Per Turn] You may rest 1 of your DON!! cards: Add up to 1 DON!! card from your DON!! deck and set it as active.\", \"trigger\": \"\", \"set\": {\"name\": \"-A FIST OF DIVINE SPEED- [OP-11]\"}, \"notes\": []}, {\"id\": \"OP05-119_p8\", \"code\": \"OP05-119\", \"rarity\": \"SP CARD\", \"type\": \"CHARACTER\", \"name\": \"Monkey.D.Luffy\", \"images\": {\"small\": \"https://en.onepiece-cardgame.com/images/cardlist/card/OP05-119_p8.png?250530\", \"large\": \"https://en.onepiece-cardgame.com/images/cardlist/card/OP05-119_p8.png?250530\"}, \"cost\": 10, \"attribute\": {\"name\": \"Strike\", \"image\": \"https://en.onepiece-cardgame.com/images/cardlist/attribute/ico_type01.png\"}, \"power\": 12000, \"counter\": \"-\", \"color\": \"Purple\", \"family\": \"The Four Emperors/Straw Hat Crew\", \"ability\": \"[On Play] DON!! −10: Place all of your Characters except this Character at the bottom of your deck in any order. Then, take an extra turn after this one.<br>[Activate: Main] [Once Per Turn] You may rest 1 of your DON!! cards: Add up to 1 DON!! card from your DON!! deck and set it as active.\", \"trigger\": \"\", \"set\": {\"name\": \"-A FIST OF DIVINE SPEED- [OP-11]\"}, \"notes\": []}, {\"id\": \"OP05-119_p6\", \"code\": \"OP05-119\", \"rarity\": \"SP CARD\", \"type\": \"CHARACTER\", \"name\": \"Monkey.D.Luffy\", \"images\": {\"small\": \"https://en.onepiece-cardgame.com/images/cardlist/card/OP05-119_p6.png?241220\", \"large\": \"https://en.onepiece-cardgame.com/images/cardlist/card/OP05-119_p6.png?241220\"}, \"cost\": 10, \"attribute\": {\"name\": \"Strike\", \"image\": \"https://en.onepiece-cardgame.com/images/cardlist/attribute/ico_type01.png\"}, \"power\": 12000, \"counter\": \"-\", \"color\": \"Purple\", \"family\": \"The Four Emperors/Straw Hat Crew\", \"ability\": \"[On Play] DON!! −10: Place all of your Characters except\\\\n                    this Character at the bottom of your deck in any order.\\\\n                    Then, take an extra turn after this one.<br>[Activate:\\\\n                    Main] [Once Per Turn] You may rest 1 of your DON!! cards:\\\\n                    Add up to 1 DON!! card from your DON!! deck and set it as\\\\n                    active.\", \"trigger\": \"\", \"set\": {\"name\": \"-EMPERORS IN THE NEW WORLD- [OP-09]\"}, \"notes\": []}, {\"id\": \"P-041\", \"code\": \"P-041\", \"rarity\": \"P\", \"type\": \"CHARACTER\", \"name\": \"Monkey.D.Luffy\", \"images\": {\"small\": \"https://en.onepiece-cardgame.com/images/cardlist/card/P-041.png?250530\", \"large\": \"https://en.onepiece-cardgame.com/images/cardlist/card/P-041.png?250530\"}, \"cost\": 10, \"attribute\": {\"name\": \"Strike\", \"image\": \"https://en.onepiece-cardgame.com/images/cardlist/attribute/ico_type01.png\"}, \"power\": 12000, \"counter\": \"1000\", \"color\": \"Purple\", \"family\": \"The Four Emperors/Straw Hat Crew\", \"ability\": \"-\", \"trigger\": \"\", \"set\": {\"name\": \"Pirates Party Vol.5\"}, \"notes\": []}, {\"id\": \"P-041_p1\", \"code\": \"P-041\", \"rarity\": \"P\", \"type\": \"CHARACTER\", \"name\": \"Monkey.D.Luffy\", \"images\": {\"small\": \"https://en.onepiece-cardgame.com/images/cardlist/card/P-041_p1.png?250530\", \"large\": \"https://en.onepiece-cardgame.com/images/cardlist/card/P-041_p1.png?250530\"}, \"cost\": 10, \"attribute\": {\"name\": \"Strike\", \"image\": \"https://en.onepiece-cardgame.com/images/cardlist/attribute/ico_type01.png\"}, \"power\": 12000, \"counter\": \"1000\", \"color\": \"Purple\", \"family\": \"The Four Emperors/Straw Hat Crew\", \"ability\": \"-\", \"trigger\": \"\", \"set\": {\"name\": \"Offline Regional Participation Pack 2024 Vol. 2\"}, \"notes\": []}, {\"id\": \"OP05-119_p3\", \"code\": \"OP05-119\", \"rarity\": \"SEC\", \"type\": \"CHARACTER\", \"name\": \"Monkey.D.Luffy\", \"images\": {\"small\": \"https://en.onepiece-cardgame.com/images/cardlist/card/OP05-119_p3.png?241220\", \"large\": \"https://en.onepiece-cardgame.com/images/cardlist/card/OP05-119_p3.png?241220\"}, \"cost\": 10, \"attribute\": {\"name\": \"Strike\", \"image\": \"https://en.onepiece-cardgame.com/images/cardlist/attribute/ico_type01.png\"}, \"power\": 12000, \"counter\": \"-\", \"color\": \"Purple\", \"family\": \"The Four Emperors/Straw Hat Crew\", \"ability\": \"[On Play] DON!! −10: Place all of your Characters except\\\\n                    this Character at the bottom of your deck in any order.\\\\n                    Then, take an extra turn after this one.<br>[Activate:\\\\n                    Main] [Once Per Turn] ➀ (You may rest the specified number\\\\n                    of DON!! cards in your cost area.): Add up to 1 DON!! card\\\\n                    from your DON!! deck and set it as active.\", \"trigger\": \"\", \"set\": {\"name\": \"-ONE PIECE CARD THE BEST- [PRB-01]\"}, \"notes\": []}, {\"id\": \"OP05-119_p4\", \"code\": \"OP05-119\", \"rarity\": \"SEC\", \"type\": \"CHARACTER\", \"name\": \"Monkey.D.Luffy\", \"images\": {\"small\": \"https://en.onepiece-cardgame.com/images/cardlist/card/OP05-119_p4.png?241220\", \"large\": \"https://en.onepiece-cardgame.com/images/cardlist/card/OP05-119_p4.png?241220\"}, \"cost\": 10, \"attribute\": {\"name\": \"Strike\", \"image\": \"https://en.onepiece-cardgame.com/images/cardlist/attribute/ico_type01.png\"}, \"power\": 12000, \"counter\": \"-\", \"color\": \"Purple\", \"family\": \"The Four Emperors/Straw Hat Crew\", \"ability\": \"[On Play] DON!! −10: Place all of your Characters except\\\\n                    this Character at the bottom of your deck in any order.\\\\n                    Then, take an extra turn after this one.<br>[Activate:\\\\n                    Main] [Once Per Turn] ➀ (You may rest the specified number\\\\n                    of DON!! cards in your cost area.): Add up to 1 DON!! card\\\\n                    from your DON!! deck and set it as active.\", \"trigger\": \"\", \"set\": {\"name\": \"-ONE PIECE CARD THE BEST- [PRB-01]\"}, \"notes\": []}, {\"id\": \"OP05-119_p5\", \"code\": \"OP05-119\", \"rarity\": \"SEC\", \"type\": \"CHARACTER\", \"name\": \"Monkey.D.Luffy\", \"images\": {\"small\": \"https://en.onepiece-cardgame.com/images/cardlist/card/OP05-119_p5.png?241220\", \"large\": \"https://en.onepiece-cardgame.com/images/cardlist/card/OP05-119_p5.png?241220\"}, \"cost\": 10, \"attribute\": {\"name\": \"Strike\", \"image\": \"https://en.onepiece-cardgame.com/images/cardlist/attribute/ico_type01.png\"}, \"power\": 12000, \"counter\": \"-\", \"color\": \"Purple\", \"family\": \"The Four Emperors/Straw Hat Crew\", \"ability\": \"[On Play] DON!! −10: Place all of your Characters except\\\\n                    this Character at the bottom of your deck in any order.\\\\n                    Then, take an extra turn after this one.<br>[Activate:\\\\n                    Main] [Once Per Turn] ➀ (You may rest the specified number\\\\n                    of DON!! cards in your cost area.): Add up to 1 DON!! card\\\\n                    from your DON!! deck and set it as active.\", \"trigger\": \"\", \"set\": {\"name\": \"-ONE PIECE CARD THE BEST- [PRB-01]\"}, \"notes\": []}, {\"id\": \"P-041\", \"code\": \"P-041\", \"rarity\": \"P\", \"type\": \"CHARACTER\", \"name\": \"Monkey.D.Luffy\", \"images\": {\"small\": \"https://en.onepiece-cardgame.com/images/cardlist/card/P-041.png?240419\", \"large\": \"https://en.onepiece-cardgame.com/images/cardlist/card/P-041.png?240419\"}, \"cost\": 10, \"attribute\": {\"name\": \"Strike\", \"image\": \"https://en.onepiece-cardgame.com/images/cardlist/attribute/ico_type01.png\"}, \"power\": 12000, \"counter\": \"1000\", \"color\": \"Purple\", \"family\": \"The Four Emperors/Straw Hat Crew\", \"ability\": \"-\", \"trigger\": \"\", \"set\": {\"name\": \"Pirates Party Vol.5\"}, \"notes\": []}]', name='card_search_tool', id='4a6e6fd8-05a0-4d2d-a012-1a220f55b583', tool_call_id='call_qql4dwe1156hSAxtHpxKVV0k'),\n",
       "  AIMessage(content=\"Here are some Monkey.D.Luffy cards with 2000 power:\\n\\n1. Monkey.D.Luffy (ST13-014) - Yellow, Cost 2, Goa Kingdom\\n   - Ability: [Activate: Main] You may trash this Character: Reveal 1 card from the top of your Life cards. If that card is a [Monkey.D.Luffy] with a cost of 5, you may play that card. If you do, up to 1 of your Leader gains +2000 power until the end of your opponent's next turn.\\n   - ![ST13-014](https://en.onepiece-cardgame.com/images/cardlist/card/ST13-014.png?241220)\\n\\n2. Monkey.D.Luffy (ST23-004) - Red, Cost 1, FILM/Supernovas/Straw Hat Crew\\n   - Ability: [Activate: Main] You may rest 1 of your DON!! cards and this Character: Give up to 1 of your opponent's Characters −1000 power during this turn.\\n   - ![ST23-004](https://en.onepiece-cardgame.com/images/cardlist/card/ST23-004.png?250530)\\n\\n3. Monkey.D.Luffy (OP10-111) - Yellow, Cost 1, Supernovas/Straw Hat Crew\\n   - Ability: [On Play] Look at 5 cards from the top of your deck; reveal up to 1 {Supernovas} type card other than [Monkey.D.Luffy] and add it to your hand. Then, place the rest at the bottom of your deck in any order.\\n   - ![OP10-111](https://en.onepiece-cardgame.com/images/cardlist/card/OP10-111.png?250530)\\n\\nLet me know if you want more details about any of these cards!\", additional_kwargs={'refusal': None}, response_metadata={'token_usage': {'completion_tokens': 381, 'prompt_tokens': 4862, 'total_tokens': 5243, 'completion_tokens_details': {'accepted_prediction_tokens': 0, 'audio_tokens': 0, 'reasoning_tokens': 0, 'rejected_prediction_tokens': 0}, 'prompt_tokens_details': {'audio_tokens': 0, 'cached_tokens': 4736}}, 'model_name': 'gpt-4.1-2025-04-14', 'system_fingerprint': 'fp_51e1070cf2', 'id': 'chatcmpl-Br4qKKlX6zyzurqFk2wBsCYx15RLB', 'service_tier': 'default', 'finish_reason': 'stop', 'logprobs': None}, name='CardDBToolAgent', id='run--93fb036b-c7ac-41f2-80f7-3275ce25d1a8-0', usage_metadata={'input_tokens': 4862, 'output_tokens': 381, 'total_tokens': 5243, 'input_token_details': {'audio': 0, 'cache_read': 4736}, 'output_token_details': {'audio': 0, 'reasoning': 0}})]}"
      ]
     },
     "execution_count": 4,
     "metadata": {},
     "output_type": "execute_result"
    }
   ],
   "source": [
    "class CardDBToolAgent(BaseAgent):\n",
    "    # If model and temperature are not specified, defaults will be used, defined in BaseAgent.\n",
    "    def __init__(self, model_name=\"gpt-4.1\"):\n",
    "        self.name = \"CardDBToolAgent\"\n",
    "        super().__init__(model_name=model_name, temperature=0)\n",
    "    \n",
    "    def _create_prompt(self):\n",
    "        \"\"\"Create a system prompt for the agent. This should be tailored to the specific agent's purpose.\"\"\"\n",
    "        return \"You are a helpful assistant that helps people answer information about the One Piece TCG. If you don't know the answer, just say you don't know. Do not try to make up an answer.\"\n",
    "\n",
    "    def _setup_tools(self):\n",
    "        \"\"\"Setup tools for this agent. This can include any tools you want to use, or be an empty list if no tools are needed.\"\"\"\n",
    "        return [\n",
    "            card_search_tool\n",
    "        ]\n",
    "agent = CardDBToolAgent(model_name=\"gpt-4.1\")\n",
    "agent.chat(\"What is a luffy card with power 2000?\", verbose=True)"
   ]
  }
 ],
 "metadata": {
  "kernelspec": {
   "display_name": "optcg-sail (3.13.5)",
   "language": "python",
   "name": "python3"
  },
  "language_info": {
   "codemirror_mode": {
    "name": "ipython",
    "version": 3
   },
   "file_extension": ".py",
   "mimetype": "text/x-python",
   "name": "python",
   "nbconvert_exporter": "python",
   "pygments_lexer": "ipython3",
   "version": "3.13.5"
  }
 },
 "nbformat": 4,
 "nbformat_minor": 5
}
