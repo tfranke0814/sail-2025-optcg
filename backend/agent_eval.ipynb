{
 "cells": [
  {
   "cell_type": "code",
   "execution_count": 3,
   "id": "5664f255",
   "metadata": {},
   "outputs": [],
   "source": [
    "import sys\n",
    "import os\n",
    "sys.path.insert(0, os.path.abspath(\"src\"))\n",
    "from dotenv import load_dotenv\n",
    "from IPython.display import display, Image\n",
    "\n",
    "from langchain_openai import ChatOpenAI\n",
    "from langgraph.prebuilt import create_react_agent\n",
    "from langchain_core.tools import tool\n",
    "from langchain_core.tools.retriever import create_retriever_tool\n",
    "from langgraph.checkpoint.memory import InMemorySaver\n",
    "\n",
    "from typing import List\n",
    "import logging\n",
    "from langchain_community.tools import BraveSearch\n",
    "from langchain_tavily import TavilyExtract\n",
    "import json\n",
    "\n",
    "# For QA-Retriever\n",
    "from langchain_core.prompts import PromptTemplate\n",
    "from langchain.chains.combine_documents import create_stuff_documents_chain\n",
    "from langchain.chains import create_retrieval_chain\n",
    "\n",
    "# Custom Import\n",
    "from optcg.vectorstore_logic import check_for_updates_to_rules, create_or_load_vectorstore_optcg_rulebooks\n",
    "from optcg.tools import web_search_tool, youtube_search_tool, create_rulebook_retriever_tool\n",
    "from optcg.agents import RulebookAgent, ToollessAgent_4_1, ToollessAgent_o4_mini, SearchAgent_web_youtube, SearchAgent_web, SearchAgent_youtube, SearchAgent_web_youtube_rulebook, SearchAgent_web_rulebook, SearchAgent_youtube_rulebook\n",
    "\n",
    "\n",
    "from langsmith import traceable\n",
    "from langsmith.wrappers import wrap_openai\n",
    "from openai import OpenAI\n",
    "#openai_client = wrap_openai(OpenAI())\n",
    "\n",
    "_ = load_dotenv() # Loads the .env file - e.g. the OPENAI_API_KEY\n",
    "\n",
    "logging.basicConfig(level=logging.INFO, format=\"%(asctime)s - %(levelname)s - %(message)s\")\n"
   ]
  },
  {
   "cell_type": "code",
   "execution_count": null,
   "id": "94e6d46b",
   "metadata": {},
   "outputs": [
    {
     "name": "stdout",
     "output_type": "stream",
     "text": [
      "Loading existing vector store...\n",
      "Loading existing vector store...\n",
      "Loading existing vector store...\n",
      "Loading existing vector store...\n"
     ]
    },
    {
     "name": "stderr",
     "output_type": "stream",
     "text": [
      "2025-07-11 13:10:58,276 - WARNING - Failed to multipart ingest runs: langsmith.utils.LangSmithError: Failed to POST https://api.smith.langchain.com/runs/multipart in LangSmith API. HTTPError('403 Client Error: Forbidden for url: https://api.smith.langchain.com/runs/multipart', '{\"error\":\"Forbidden\"}\\n')\n",
      "2025-07-11 13:10:58,301 - INFO - HTTP Request: POST https://api.openai.com/v1/chat/completions \"HTTP/1.1 401 Unauthorized\"\n",
      "2025-07-11 13:10:58,450 - INFO - HTTP Request: POST https://api.openai.com/v1/chat/completions \"HTTP/1.1 401 Unauthorized\"\n",
      "2025-07-11 13:10:58,567 - INFO - HTTP Request: POST https://api.openai.com/v1/chat/completions \"HTTP/1.1 401 Unauthorized\"\n",
      "2025-07-11 13:10:58,709 - INFO - HTTP Request: POST https://api.openai.com/v1/chat/completions \"HTTP/1.1 401 Unauthorized\"\n",
      "2025-07-11 13:10:58,923 - INFO - HTTP Request: POST https://api.openai.com/v1/chat/completions \"HTTP/1.1 401 Unauthorized\"\n",
      "2025-07-11 13:10:59,043 - INFO - HTTP Request: POST https://api.openai.com/v1/chat/completions \"HTTP/1.1 401 Unauthorized\"\n",
      "2025-07-11 13:10:59,130 - INFO - HTTP Request: POST https://api.openai.com/v1/chat/completions \"HTTP/1.1 401 Unauthorized\"\n",
      "2025-07-11 13:10:59,378 - INFO - HTTP Request: POST https://api.openai.com/v1/chat/completions \"HTTP/1.1 401 Unauthorized\"\n",
      "2025-07-11 13:10:59,495 - INFO - HTTP Request: POST https://api.openai.com/v1/chat/completions \"HTTP/1.1 401 Unauthorized\"\n"
     ]
    },
    {
     "name": "stdout",
     "output_type": "stream",
     "text": [
      "Agent: RulebookAgent\n",
      "Output: Error: Error code: 401 - {'error': {'message': 'Incorrect API key provided: <your-op*********key>. You can find your API key at https://platform.openai.com/account/api-keys.', 'type': 'invalid_request_error', 'param': None, 'code': 'invalid_api_key'}}\n",
      "------------------------------------------------------------\n",
      "Agent: ToollessAgent_4_1\n",
      "Output: Error: Error code: 401 - {'error': {'message': 'Incorrect API key provided: <your-op*********key>. You can find your API key at https://platform.openai.com/account/api-keys.', 'type': 'invalid_request_error', 'param': None, 'code': 'invalid_api_key'}}\n",
      "------------------------------------------------------------\n",
      "Agent: ToollessAgent_o4\n",
      "Output: Error: Error code: 401 - {'error': {'message': 'Incorrect API key provided: <your-op*********key>. You can find your API key at https://platform.openai.com/account/api-keys.', 'type': 'invalid_request_error', 'param': None, 'code': 'invalid_api_key'}}\n",
      "------------------------------------------------------------\n",
      "Agent: SearchAgent_web_youtube\n",
      "Output: Error: Error code: 401 - {'error': {'message': 'Incorrect API key provided: <your-op*********key>. You can find your API key at https://platform.openai.com/account/api-keys.', 'type': 'invalid_request_error', 'param': None, 'code': 'invalid_api_key'}}\n",
      "------------------------------------------------------------\n",
      "Agent: SearchAgent_web\n",
      "Output: Error: Error code: 401 - {'error': {'message': 'Incorrect API key provided: <your-op*********key>. You can find your API key at https://platform.openai.com/account/api-keys.', 'type': 'invalid_request_error', 'param': None, 'code': 'invalid_api_key'}}\n",
      "------------------------------------------------------------\n",
      "Agent: SearchAgent_web_youtube_rulebook\n",
      "Output: Error: Error code: 401 - {'error': {'message': 'Incorrect API key provided: <your-op*********key>. You can find your API key at https://platform.openai.com/account/api-keys.', 'type': 'invalid_request_error', 'param': None, 'code': 'invalid_api_key'}}\n",
      "------------------------------------------------------------\n"
     ]
    },
    {
     "name": "stderr",
     "output_type": "stream",
     "text": [
      "2025-07-11 13:10:59,550 - WARNING - Failed to send compressed multipart ingest: langsmith.utils.LangSmithError: Failed to POST https://api.smith.langchain.com/runs/multipart in LangSmith API. HTTPError('403 Client Error: Forbidden for url: https://api.smith.langchain.com/runs/multipart', '{\"error\":\"Forbidden\"}\\n')\n",
      "2025-07-11 13:11:00,087 - WARNING - Failed to send compressed multipart ingest: langsmith.utils.LangSmithError: Failed to POST https://api.smith.langchain.com/runs/multipart in LangSmith API. HTTPError('403 Client Error: Forbidden for url: https://api.smith.langchain.com/runs/multipart', '{\"error\":\"Forbidden\"}\\n')\n"
     ]
    }
   ],
   "source": [
    "from optcg.agents import (\n",
    "    RulebookAgent, ToollessAgent_4_1, ToollessAgent_o4_mini,\n",
    "    SearchAgent_web_youtube, SearchAgent_web, SearchAgent_youtube,\n",
    "    SearchAgent_web_youtube_rulebook, SearchAgent_web_rulebook, SearchAgent_youtube_rulebook\n",
    ")\n",
    "\n",
    "agents = [\n",
    "    RulebookAgent(),\n",
    "    ToollessAgent_4_1(),\n",
    "    ToollessAgent_o4_mini(),\n",
    "    SearchAgent_web_youtube(),\n",
    "    SearchAgent_web(),\n",
    "    SearchAgent_youtube(),\n",
    "    SearchAgent_web_youtube_rulebook(),\n",
    "    SearchAgent_web_rulebook(),\n",
    "    SearchAgent_youtube_rulebook(),\n",
    "]\n",
    "\n",
    "query = \"How do I play the One Piece Trading Card Game? Answer this concisely and only include the basics using bullet points\"\n",
    "\n",
    "results = {}\n",
    "for agent in agents:\n",
    "    try:\n",
    "        output = agent.chat(query)\n",
    "    except Exception as e:\n",
    "        output = f\"Error: {e}\"\n",
    "    results[agent.name] = output\n",
    "\n",
    "for name, output in results.items():\n",
    "    print(f\"Agent: {name}\\nOutput: {output}\\n{'-'*60}\")"
   ]
  }
 ],
 "metadata": {
  "kernelspec": {
   "display_name": "Python 3",
   "language": "python",
   "name": "python3"
  },
  "language_info": {
   "codemirror_mode": {
    "name": "ipython",
    "version": 3
   },
   "file_extension": ".py",
   "mimetype": "text/x-python",
   "name": "python",
   "nbconvert_exporter": "python",
   "pygments_lexer": "ipython3",
   "version": "3.11.9"
  }
 },
 "nbformat": 4,
 "nbformat_minor": 5
}
